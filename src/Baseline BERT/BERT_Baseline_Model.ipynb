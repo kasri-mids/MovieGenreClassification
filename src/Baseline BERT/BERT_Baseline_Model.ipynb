{
  "nbformat": 4,
  "nbformat_minor": 0,
  "metadata": {
    "kernelspec": {
      "name": "python3",
      "display_name": "Python 3"
    },
    "language_info": {
      "codemirror_mode": {
        "name": "ipython",
        "version": 3
      },
      "file_extension": ".py",
      "mimetype": "text/x-python",
      "name": "python",
      "nbconvert_exporter": "python",
      "pygments_lexer": "ipython3",
      "version": "3.7.5"
    },
    "colab": {
      "name": "BERT Baseline Model",
      "provenance": [],
      "collapsed_sections": [],
      "machine_shape": "hm",
      "include_colab_link": true
    },
    "accelerator": "TPU"
  },
  "cells": [
    {
      "cell_type": "markdown",
      "metadata": {
        "id": "view-in-github",
        "colab_type": "text"
      },
      "source": [
        "<a href=\"https://colab.research.google.com/github/kasri-mids/MovieGenreClassification/blob/master/src/Baseline%20BERT/BERT_Baseline_Model.ipynb\" target=\"_parent\"><img src=\"https://colab.research.google.com/assets/colab-badge.svg\" alt=\"Open In Colab\"/></a>"
      ]
    },
    {
      "cell_type": "markdown",
      "metadata": {
        "id": "jSXklvdI2Gbx",
        "colab_type": "text"
      },
      "source": [
        "# Baseline Model\n",
        "\n",
        "In this notebook, we load the relevant BERT tokens generated using a pre-trained 12-layer,768-dimensional  hidden  vector,  uncased BERT model and then create a baseline model using the train, dev and val data that we generated previously. The max length of the tokens is 128 in this case.\n",
        "\n",
        "Within the notebook, there is also code to oversample the data and we test our model, both on the no-oversampled and oversampled dataset.\n",
        "\n",
        "Further, we use custom loss and accuracy functions which are defined below in the notebook."
      ]
    },
    {
      "cell_type": "markdown",
      "metadata": {
        "id": "fVbYo3DO2q_X",
        "colab_type": "text"
      },
      "source": [
        "### Load Modules <a id=\"load\" />\n"
      ]
    },
    {
      "cell_type": "code",
      "metadata": {
        "id": "zrC_r0FtvfAF",
        "colab_type": "code",
        "outputId": "200fbd1b-a4f0-4748-d905-01e2a2a92e4a",
        "colab": {
          "base_uri": "https://localhost:8080/",
          "height": 612
        }
      },
      "source": [
        "#%tensorflow_version 2.1\n",
        "!pip install tensorflow==2.1.0"
      ],
      "execution_count": 0,
      "outputs": [
        {
          "output_type": "stream",
          "text": [
            "Requirement already satisfied: tensorflow==2.1.0 in /usr/local/lib/python3.6/dist-packages (2.1.0)\n",
            "Requirement already satisfied: six>=1.12.0 in /usr/local/lib/python3.6/dist-packages (from tensorflow==2.1.0) (1.12.0)\n",
            "Requirement already satisfied: numpy<2.0,>=1.16.0 in /usr/local/lib/python3.6/dist-packages (from tensorflow==2.1.0) (1.18.2)\n",
            "Requirement already satisfied: keras-preprocessing>=1.1.0 in /usr/local/lib/python3.6/dist-packages (from tensorflow==2.1.0) (1.1.0)\n",
            "Requirement already satisfied: google-pasta>=0.1.6 in /usr/local/lib/python3.6/dist-packages (from tensorflow==2.1.0) (0.2.0)\n",
            "Requirement already satisfied: absl-py>=0.7.0 in /usr/local/lib/python3.6/dist-packages (from tensorflow==2.1.0) (0.9.0)\n",
            "Requirement already satisfied: keras-applications>=1.0.8 in /usr/local/lib/python3.6/dist-packages (from tensorflow==2.1.0) (1.0.8)\n",
            "Requirement already satisfied: astor>=0.6.0 in /usr/local/lib/python3.6/dist-packages (from tensorflow==2.1.0) (0.8.1)\n",
            "Requirement already satisfied: opt-einsum>=2.3.2 in /usr/local/lib/python3.6/dist-packages (from tensorflow==2.1.0) (3.2.0)\n",
            "Requirement already satisfied: protobuf>=3.8.0 in /usr/local/lib/python3.6/dist-packages (from tensorflow==2.1.0) (3.10.0)\n",
            "Requirement already satisfied: gast==0.2.2 in /usr/local/lib/python3.6/dist-packages (from tensorflow==2.1.0) (0.2.2)\n",
            "Requirement already satisfied: termcolor>=1.1.0 in /usr/local/lib/python3.6/dist-packages (from tensorflow==2.1.0) (1.1.0)\n",
            "Requirement already satisfied: wheel>=0.26; python_version >= \"3\" in /usr/local/lib/python3.6/dist-packages (from tensorflow==2.1.0) (0.34.2)\n",
            "Requirement already satisfied: grpcio>=1.8.6 in /usr/local/lib/python3.6/dist-packages (from tensorflow==2.1.0) (1.27.2)\n",
            "Requirement already satisfied: scipy==1.4.1; python_version >= \"3\" in /usr/local/lib/python3.6/dist-packages (from tensorflow==2.1.0) (1.4.1)\n",
            "Requirement already satisfied: tensorboard<2.2.0,>=2.1.0 in /usr/local/lib/python3.6/dist-packages (from tensorflow==2.1.0) (2.1.1)\n",
            "Requirement already satisfied: wrapt>=1.11.1 in /usr/local/lib/python3.6/dist-packages (from tensorflow==2.1.0) (1.12.1)\n",
            "Requirement already satisfied: tensorflow-estimator<2.2.0,>=2.1.0rc0 in /usr/local/lib/python3.6/dist-packages (from tensorflow==2.1.0) (2.1.0)\n",
            "Requirement already satisfied: h5py in /usr/local/lib/python3.6/dist-packages (from keras-applications>=1.0.8->tensorflow==2.1.0) (2.10.0)\n",
            "Requirement already satisfied: setuptools in /usr/local/lib/python3.6/dist-packages (from protobuf>=3.8.0->tensorflow==2.1.0) (46.1.3)\n",
            "Requirement already satisfied: requests<3,>=2.21.0 in /usr/local/lib/python3.6/dist-packages (from tensorboard<2.2.0,>=2.1.0->tensorflow==2.1.0) (2.21.0)\n",
            "Requirement already satisfied: google-auth-oauthlib<0.5,>=0.4.1 in /usr/local/lib/python3.6/dist-packages (from tensorboard<2.2.0,>=2.1.0->tensorflow==2.1.0) (0.4.1)\n",
            "Requirement already satisfied: google-auth<2,>=1.6.3 in /usr/local/lib/python3.6/dist-packages (from tensorboard<2.2.0,>=2.1.0->tensorflow==2.1.0) (1.7.2)\n",
            "Requirement already satisfied: markdown>=2.6.8 in /usr/local/lib/python3.6/dist-packages (from tensorboard<2.2.0,>=2.1.0->tensorflow==2.1.0) (3.2.1)\n",
            "Requirement already satisfied: werkzeug>=0.11.15 in /usr/local/lib/python3.6/dist-packages (from tensorboard<2.2.0,>=2.1.0->tensorflow==2.1.0) (1.0.1)\n",
            "Requirement already satisfied: urllib3<1.25,>=1.21.1 in /usr/local/lib/python3.6/dist-packages (from requests<3,>=2.21.0->tensorboard<2.2.0,>=2.1.0->tensorflow==2.1.0) (1.24.3)\n",
            "Requirement already satisfied: chardet<3.1.0,>=3.0.2 in /usr/local/lib/python3.6/dist-packages (from requests<3,>=2.21.0->tensorboard<2.2.0,>=2.1.0->tensorflow==2.1.0) (3.0.4)\n",
            "Requirement already satisfied: certifi>=2017.4.17 in /usr/local/lib/python3.6/dist-packages (from requests<3,>=2.21.0->tensorboard<2.2.0,>=2.1.0->tensorflow==2.1.0) (2019.11.28)\n",
            "Requirement already satisfied: idna<2.9,>=2.5 in /usr/local/lib/python3.6/dist-packages (from requests<3,>=2.21.0->tensorboard<2.2.0,>=2.1.0->tensorflow==2.1.0) (2.8)\n",
            "Requirement already satisfied: requests-oauthlib>=0.7.0 in /usr/local/lib/python3.6/dist-packages (from google-auth-oauthlib<0.5,>=0.4.1->tensorboard<2.2.0,>=2.1.0->tensorflow==2.1.0) (1.3.0)\n",
            "Requirement already satisfied: cachetools<3.2,>=2.0.0 in /usr/local/lib/python3.6/dist-packages (from google-auth<2,>=1.6.3->tensorboard<2.2.0,>=2.1.0->tensorflow==2.1.0) (3.1.1)\n",
            "Requirement already satisfied: rsa<4.1,>=3.1.4 in /usr/local/lib/python3.6/dist-packages (from google-auth<2,>=1.6.3->tensorboard<2.2.0,>=2.1.0->tensorflow==2.1.0) (4.0)\n",
            "Requirement already satisfied: pyasn1-modules>=0.2.1 in /usr/local/lib/python3.6/dist-packages (from google-auth<2,>=1.6.3->tensorboard<2.2.0,>=2.1.0->tensorflow==2.1.0) (0.2.8)\n",
            "Requirement already satisfied: oauthlib>=3.0.0 in /usr/local/lib/python3.6/dist-packages (from requests-oauthlib>=0.7.0->google-auth-oauthlib<0.5,>=0.4.1->tensorboard<2.2.0,>=2.1.0->tensorflow==2.1.0) (3.1.0)\n",
            "Requirement already satisfied: pyasn1>=0.1.3 in /usr/local/lib/python3.6/dist-packages (from rsa<4.1,>=3.1.4->google-auth<2,>=1.6.3->tensorboard<2.2.0,>=2.1.0->tensorflow==2.1.0) (0.4.8)\n"
          ],
          "name": "stdout"
        }
      ]
    },
    {
      "cell_type": "code",
      "metadata": {
        "id": "3w7L5zbovgiW",
        "colab_type": "code",
        "outputId": "984df6f9-c19f-45df-c94a-2a383415d4e5",
        "colab": {
          "base_uri": "https://localhost:8080/",
          "height": 34
        }
      },
      "source": [
        "import tensorflow as tf\n",
        "print(tf.__version__)"
      ],
      "execution_count": 0,
      "outputs": [
        {
          "output_type": "stream",
          "text": [
            "2.1.0\n"
          ],
          "name": "stdout"
        }
      ]
    },
    {
      "cell_type": "code",
      "metadata": {
        "id": "7fj6qsyA4LcT",
        "colab_type": "code",
        "colab": {}
      },
      "source": [
        "# Imports\n",
        "\n",
        "import json\n",
        "import pandas as pd\n",
        "import numpy as np\n",
        "import os\n",
        "import sys\n",
        "import tensorflow as tf\n",
        "import tensorflow_hub as hub\n",
        "from time import time\n",
        "import io\n",
        "import re\n",
        "from csv import reader\n",
        "from datetime import datetime\n",
        "import matplotlib.pyplot as plt\n",
        "\n",
        "import matplotlib.pyplot as plt\n",
        "from matplotlib import colors\n",
        "from matplotlib.ticker import PercentFormatter\n",
        "\n",
        "from tensorflow.keras import backend as K\n",
        "from tensorflow.keras import layers\n",
        "from tensorflow.python.keras.layers import Lambda\n",
        "from tensorflow.keras.callbacks import TensorBoard\n",
        "from tensorflow.keras.backend import sparse_categorical_crossentropy\n",
        "from tensorflow.keras.layers import Dense, TimeDistributed\n",
        "\n",
        "from sklearn.model_selection import train_test_split\n",
        "from sklearn.preprocessing import MultiLabelBinarizer\n",
        "from sklearn.model_selection import train_test_split\n",
        "\n",
        "from tensorflow.keras.mixed_precision import experimental as mixed_precision\n",
        "from keras import initializers"
      ],
      "execution_count": 0,
      "outputs": []
    },
    {
      "cell_type": "code",
      "metadata": {
        "id": "7IXX1AjPakpU",
        "colab_type": "code",
        "outputId": "808ca730-d8c4-4d9a-945e-95a3826a143c",
        "colab": {
          "base_uri": "https://localhost:8080/",
          "height": 34
        }
      },
      "source": [
        "from google.colab import drive\n",
        "drive.mount('/content/drive', force_remount=True)"
      ],
      "execution_count": 0,
      "outputs": [
        {
          "output_type": "stream",
          "text": [
            "Mounted at /content/drive\n"
          ],
          "name": "stdout"
        }
      ]
    },
    {
      "cell_type": "markdown",
      "metadata": {
        "id": "w6y3tkjk2waW",
        "colab_type": "text"
      },
      "source": [
        "### Load Dataset <a id=\"loadData\" />\n"
      ]
    },
    {
      "cell_type": "code",
      "metadata": {
        "id": "cjoiAK-jHKhs",
        "colab_type": "code",
        "colab": {}
      },
      "source": [
        "max_length = 128"
      ],
      "execution_count": 0,
      "outputs": []
    },
    {
      "cell_type": "code",
      "metadata": {
        "id": "FzrTwRtjkc4q",
        "colab_type": "code",
        "colab": {}
      },
      "source": [
        "ERROR_TEST = 0\n",
        "OVERSAMPLING = False\n",
        "if (ERROR_TEST):\n",
        "    NUM_LABELS = 1\n",
        "    OVERSAMPLING = False\n",
        "\n",
        "    data_save_prefix = '/content/drive/My Drive/w266-FinalProject/MoviePlots/data/baseline_test/'\n",
        "    model_save_prefix = '/content/drive/My Drive/w266-FinalProject/MoviePlots/model/baseline_test/'\n",
        "    plot_save_prefix = '/content/drive/My Drive/w266-FinalProject/MoviePlots/plots/baseline_test/'\n",
        "    data_load_prefix = '/content/drive/My Drive/w266-FinalProject/MoviePlotsAndPosters/data/'\n",
        "\n",
        "else:\n",
        "    NUM_LABELS = 10\n",
        "    \n",
        "    data_save_prefix = '/content/drive/My Drive/w266-FinalProject/MoviePlots/data/baseline/'\n",
        "    model_save_prefix = '/content/drive/My Drive/w266-FinalProject/MoviePlots/model/baseline/'\n",
        "    plot_save_prefix = '/content/drive/My Drive/w266-FinalProject/MoviePlots/plots/baseline/'\n",
        "    data_load_prefix = '/content/drive/My Drive/w266-FinalProject/MoviePlotsAndPosters/data/'"
      ],
      "execution_count": 0,
      "outputs": []
    },
    {
      "cell_type": "markdown",
      "metadata": {
        "id": "xiy6b2JLvmOs",
        "colab_type": "text"
      },
      "source": [
        "# Baseline Model (One Label)"
      ]
    },
    {
      "cell_type": "markdown",
      "metadata": {
        "id": "hj99_mwCgxJs",
        "colab_type": "text"
      },
      "source": [
        "### Loading the data"
      ]
    },
    {
      "cell_type": "code",
      "metadata": {
        "id": "_FMXLYIO8Khg",
        "colab_type": "code",
        "colab": {}
      },
      "source": [
        "X_train = np.load(data_load_prefix + 'clean_train_bert_tokens_' + str(max_length) + '.data.npy')\n",
        "X_dev = np.load(data_load_prefix + 'clean_dev_bert_tokens_'  + str(max_length) + '.data.npy')\n",
        "X_val = np.load(data_load_prefix + 'clean_val_bert_tokens_'  + str(max_length) + '.data.npy')\n",
        "\n",
        "y_train = np.load(data_load_prefix + 'clean_train_poster_labels_' + str(NUM_LABELS) + '.data.npy', allow_pickle=True)\n",
        "y_dev = np.load(data_load_prefix + 'clean_dev_poster_labels_' + str(NUM_LABELS) + '.data.npy', allow_pickle=True)\n",
        "y_val = np.load(data_load_prefix + 'clean_val_poster_labels_' + str(NUM_LABELS) + '.data.npy', allow_pickle=True)"
      ],
      "execution_count": 0,
      "outputs": []
    },
    {
      "cell_type": "code",
      "metadata": {
        "id": "vmTv0Wsr0O54",
        "colab_type": "code",
        "outputId": "a75ed8d1-08fb-463a-8241-619fc75c3bfe",
        "colab": {
          "base_uri": "https://localhost:8080/",
          "height": 68
        }
      },
      "source": [
        "print(X_train.shape)\n",
        "print(X_dev.shape)\n",
        "print(X_val.shape)"
      ],
      "execution_count": 0,
      "outputs": [
        {
          "output_type": "stream",
          "text": [
            "(3, 46970, 128)\n",
            "(3, 15438, 128)\n",
            "(3, 15600, 128)\n"
          ],
          "name": "stdout"
        }
      ]
    },
    {
      "cell_type": "code",
      "metadata": {
        "id": "TgTmL3us0SD-",
        "colab_type": "code",
        "outputId": "37966e26-c4f2-4ec3-f4dc-3db204343527",
        "colab": {
          "base_uri": "https://localhost:8080/",
          "height": 68
        }
      },
      "source": [
        "print(y_train.shape)\n",
        "print(y_dev.shape)\n",
        "print(y_val.shape)"
      ],
      "execution_count": 0,
      "outputs": [
        {
          "output_type": "stream",
          "text": [
            "(46970, 10)\n",
            "(15438, 10)\n",
            "(15600, 10)\n"
          ],
          "name": "stdout"
        }
      ]
    },
    {
      "cell_type": "code",
      "metadata": {
        "colab_type": "code",
        "outputId": "6d229511-8679-4c25-c0c3-6d90d6b45531",
        "id": "zMafAMua1hc1",
        "colab": {
          "base_uri": "https://localhost:8080/",
          "height": 204
        }
      },
      "source": [
        "df = pd.read_csv('/content/drive/My Drive/w266-FinalProject/MoviePlotsAndPosters/data/clean_poster_data_' + str(NUM_LABELS) + '.csv')\n",
        "df.head()"
      ],
      "execution_count": 0,
      "outputs": [
        {
          "output_type": "execute_result",
          "data": {
            "text/html": [
              "<div>\n",
              "<style scoped>\n",
              "    .dataframe tbody tr th:only-of-type {\n",
              "        vertical-align: middle;\n",
              "    }\n",
              "\n",
              "    .dataframe tbody tr th {\n",
              "        vertical-align: top;\n",
              "    }\n",
              "\n",
              "    .dataframe thead th {\n",
              "        text-align: right;\n",
              "    }\n",
              "</style>\n",
              "<table border=\"1\" class=\"dataframe\">\n",
              "  <thead>\n",
              "    <tr style=\"text-align: right;\">\n",
              "      <th></th>\n",
              "      <th>movieid</th>\n",
              "      <th>movieplot</th>\n",
              "      <th>feature_vector</th>\n",
              "      <th>labels</th>\n",
              "    </tr>\n",
              "  </thead>\n",
              "  <tbody>\n",
              "    <tr>\n",
              "      <th>0</th>\n",
              "      <td>tt0007610</td>\n",
              "      <td>A judge who had taken part in the gold rush of...</td>\n",
              "      <td>[0.7366994023323059, 0.9941093921661377, 1.076...</td>\n",
              "      <td>[1, 0, 0, 0, 0, 0, 0, 0, 0, 0]</td>\n",
              "    </tr>\n",
              "    <tr>\n",
              "      <th>1</th>\n",
              "      <td>tt0005078</td>\n",
              "      <td>Richard Hardy, a hardworking stockbroker, labo...</td>\n",
              "      <td>[0.002950882539153099, 0.10090522468090057, 1....</td>\n",
              "      <td>[1, 0, 0, 0, 0, 0, 1, 0, 0, 0]</td>\n",
              "    </tr>\n",
              "    <tr>\n",
              "      <th>2</th>\n",
              "      <td>tt0007257</td>\n",
              "      <td>Reggie, a wealthy young man about town, is eag...</td>\n",
              "      <td>[0.03462240472435951, 0.500708818435669, 1.862...</td>\n",
              "      <td>[1, 0, 1, 1, 0, 0, 0, 0, 0, 0]</td>\n",
              "    </tr>\n",
              "    <tr>\n",
              "      <th>3</th>\n",
              "      <td>tt0008011</td>\n",
              "      <td>Living in the country with her widowed mother,...</td>\n",
              "      <td>[0.0, 0.06257307529449463, 0.8574206233024597,...</td>\n",
              "      <td>[0, 0, 1, 0, 0, 0, 0, 0, 0, 0]</td>\n",
              "    </tr>\n",
              "    <tr>\n",
              "      <th>4</th>\n",
              "      <td>tt0003772</td>\n",
              "      <td>Based on the fairy tale: Cinderella is mistrea...</td>\n",
              "      <td>[0.2867472171783447, 0.0, 0.9653348922729492, ...</td>\n",
              "      <td>[1, 0, 0, 0, 0, 0, 0, 0, 0, 0]</td>\n",
              "    </tr>\n",
              "  </tbody>\n",
              "</table>\n",
              "</div>"
            ],
            "text/plain": [
              "     movieid  ...                          labels\n",
              "0  tt0007610  ...  [1, 0, 0, 0, 0, 0, 0, 0, 0, 0]\n",
              "1  tt0005078  ...  [1, 0, 0, 0, 0, 0, 1, 0, 0, 0]\n",
              "2  tt0007257  ...  [1, 0, 1, 1, 0, 0, 0, 0, 0, 0]\n",
              "3  tt0008011  ...  [0, 0, 1, 0, 0, 0, 0, 0, 0, 0]\n",
              "4  tt0003772  ...  [1, 0, 0, 0, 0, 0, 0, 0, 0, 0]\n",
              "\n",
              "[5 rows x 4 columns]"
            ]
          },
          "metadata": {
            "tags": []
          },
          "execution_count": 29
        }
      ]
    },
    {
      "cell_type": "code",
      "metadata": {
        "id": "axmQjmMm0g66",
        "colab_type": "code",
        "colab": {}
      },
      "source": [
        "df_train = pd.read_csv(data_load_prefix + 'clean_df_train_labels_' + str(NUM_LABELS) + '.csv')\n",
        "df_dev = pd.read_csv(data_load_prefix + 'clean_df_dev_labels_' + str(NUM_LABELS) + '.csv')\n",
        "df_val = pd.read_csv(data_load_prefix + 'clean_df_val_labels_' + str(NUM_LABELS) + '.csv')"
      ],
      "execution_count": 0,
      "outputs": []
    },
    {
      "cell_type": "code",
      "metadata": {
        "id": "nX2ubGWZ0y0t",
        "colab_type": "code",
        "outputId": "0f8f6526-1867-46cc-8251-7927204accc9",
        "colab": {
          "base_uri": "https://localhost:8080/",
          "height": 68
        }
      },
      "source": [
        "print(df_train.shape)\n",
        "print(df_dev.shape)\n",
        "print(df_val.shape)"
      ],
      "execution_count": 0,
      "outputs": [
        {
          "output_type": "stream",
          "text": [
            "(46970, 5)\n",
            "(15438, 5)\n",
            "(15600, 5)\n"
          ],
          "name": "stdout"
        }
      ]
    },
    {
      "cell_type": "code",
      "metadata": {
        "id": "-U1KF7E1kSvj",
        "colab_type": "code",
        "colab": {}
      },
      "source": [
        "# Oversampling Train Dataset"
      ],
      "execution_count": 0,
      "outputs": []
    },
    {
      "cell_type": "code",
      "metadata": {
        "id": "xLGtALiNtm0A",
        "colab_type": "code",
        "colab": {}
      },
      "source": [
        "def oversample_keeping_original(X, y, bottom_n = 6, count_per_category = 5000):\n",
        "    genre_counts = np.sum(y,axis = 0)\n",
        "    genre_sorted_index = np.argsort(genre_counts)[:bottom_n]\n",
        "    np.random.seed(0)\n",
        "    \n",
        "    new_y = np.array([])\n",
        "    new_X = np.array([])\n",
        "    list_samples = np.array([])\n",
        "    for index,i in enumerate(genre_sorted_index):\n",
        "        indices = np.where(y[:,i]>0)\n",
        "        samples = np.random.choice(indices[0],count_per_category)\n",
        "        # print(i,samples[-20:])\n",
        "        if index==0:\n",
        "            new_y = np.concatenate((y, y[samples,:]), axis = 0)\n",
        "            new_X = np.concatenate((X, X[:,samples,:]), axis = 1)\n",
        "            print(\"index 0 \", np.arange(X.shape[1]))\n",
        "            list_samples = np.concatenate((np.arange(X.shape[1]) ,samples), axis = 0)\n",
        "        else:\n",
        "            new_y = np.concatenate((new_y, y[samples,:]), axis=0)\n",
        "            new_X = np.concatenate((new_X, X[:,samples,:]),axis=1)\n",
        "            list_samples = np.concatenate((list_samples, samples), axis=0)\n",
        "\n",
        "    indexArray = np.arange(0, new_y.shape[0], 1, dtype=np.int32)\n",
        "    print(\"Len of index array is \", len(indexArray))\n",
        "\n",
        "    np.random.seed(0)\n",
        "    np.random.shuffle(indexArray)\n",
        "\n",
        "    return (new_X[:,indexArray,:], new_y[indexArray], list_samples[indexArray])"
      ],
      "execution_count": 0,
      "outputs": []
    },
    {
      "cell_type": "code",
      "metadata": {
        "id": "QMOXHf7NxVUm",
        "colab_type": "code",
        "colab": {}
      },
      "source": [
        "if (OVERSAMPLING):\n",
        "    new_X_train, new_y_train, list_samples = oversample_keeping_original(X_train, y_train, bottom_n = 6, count_per_category = 5000)\n",
        "    new_df_train = df_train.iloc[list_samples]\n",
        "    \n",
        "    print(np.sum(y_train,axis = 0)/y_train.shape[0])\n",
        "    print(np.sum(new_y_train,axis = 0)/new_y_train.shape[0])\n",
        "    \n",
        "    print(new_X_train.shape)\n",
        "    print(new_y_train.shape)\n",
        "    print(len(list_samples))"
      ],
      "execution_count": 0,
      "outputs": []
    },
    {
      "cell_type": "markdown",
      "metadata": {
        "id": "mumlYFVJg243",
        "colab_type": "text"
      },
      "source": [
        "### Custom Loss and Accuracy Functions"
      ]
    },
    {
      "cell_type": "code",
      "metadata": {
        "id": "BfmtB4-E4dkC",
        "colab_type": "code",
        "colab": {}
      },
      "source": [
        "import keras.backend.tensorflow_backend as tfb\n",
        "\n",
        "#@tf.function\n",
        "def macro_f1(y, y_hat, thresh=0.5):\n",
        "    \"\"\"Compute the macro F1-score on a batch of observations (average F1 across labels)\n",
        "    \n",
        "    Args:\n",
        "        y (int32 Tensor): labels array of shape (BATCH_SIZE, N_LABELS)\n",
        "        y_hat (float32 Tensor): probability matrix from forward propagation of shape (BATCH_SIZE, N_LABELS)\n",
        "        thresh: probability value above which we predict positive\n",
        "        \n",
        "    Returns:\n",
        "        macro_f1 (scalar Tensor): value of macro F1 for the batch\n",
        "    \"\"\"\n",
        "    y_pred = tf.cast(tf.greater(y_hat, thresh), tf.float32)\n",
        "    tp = tf.cast(tf.math.count_nonzero(y_pred * y, axis=0), tf.float32)\n",
        "    fp = tf.cast(tf.math.count_nonzero(y_pred * (1 - y), axis=0), tf.float32)\n",
        "    fn = tf.cast(tf.math.count_nonzero((1 - y_pred) * y, axis=0), tf.float32)\n",
        "    f1 = 2*tp / (2*tp + fn + fp + 1e-16)\n",
        "    macro_f1 = tf.reduce_mean(f1)\n",
        "    return macro_f1\n",
        "\n",
        "#@tf.function\n",
        "def micro_f1(y, y_hat, thresh=0.5):\n",
        "    \"\"\"Compute the macro F1-score on a batch of observations (average F1 across labels)\n",
        "    \n",
        "    Args:\n",
        "        y (int32 Tensor): labels array of shape (BATCH_SIZE, N_LABELS)\n",
        "        y_hat (float32 Tensor): probability matrix from forward propagation of shape (BATCH_SIZE, N_LABELS)\n",
        "        thresh: probability value above which we predict positive\n",
        "        \n",
        "    Returns:\n",
        "        macro_f1 (scalar Tensor): value of macro F1 for the batch\n",
        "    \"\"\"\n",
        "    y_pred = tf.cast(tf.greater(y_hat, thresh), tf.float32)\n",
        "    tp = tf.cast(tf.math.count_nonzero(y_pred * y), tf.float32)\n",
        "    fp = tf.cast(tf.math.count_nonzero(y_pred * (1 - y)), tf.float32)\n",
        "    fn = tf.cast(tf.math.count_nonzero((1 - y_pred) * y), tf.float32)\n",
        "    f1 = 2*tp / (2*tp + fn + fp + 1e-16)\n",
        "    micro_f1 = f1 #tf.reduce_mean(f1)\n",
        "    return micro_f1\n",
        "\n",
        "#@tf.function\n",
        "def macro_soft_f1(y, y_hat):\n",
        "    \"\"\"Compute the macro soft F1-score as a cost (average 1 - soft-F1 across all labels).\n",
        "    Use probability values instead of binary predictions.\n",
        "    \n",
        "    Args:\n",
        "        y (int32 Tensor): targets array of shape (BATCH_SIZE, N_LABELS)\n",
        "        y_hat (float32 Tensor): probability matrix from forward propagation of shape (BATCH_SIZE, N_LABELS)\n",
        "        \n",
        "    Returns:\n",
        "        cost (scalar Tensor): value of the cost function for the batch\n",
        "    \"\"\"\n",
        "    y = tf.cast(y, tf.float32)\n",
        "    y_hat = tf.cast(y_hat, tf.float32)\n",
        "    tp = tf.reduce_sum(y_hat * y, axis=0)\n",
        "    fp = tf.reduce_sum(y_hat * (1 - y), axis=0)\n",
        "    fn = tf.reduce_sum((1 - y_hat) * y, axis=0)\n",
        "    soft_f1 = 2*tp / (2*tp + fn + fp + 1e-16)\n",
        "    cost = 1 - soft_f1 # reduce 1 - soft-f1 in order to increase soft-f1\n",
        "    macro_cost = tf.reduce_mean(cost) # average on all labels\n",
        "    return macro_cost\n",
        "\n",
        "#@tf.function\n",
        "def macro_double_soft_f1(y, y_hat):\n",
        "    \"\"\"Compute the macro soft F1-score as a cost (average 1 - soft-F1 across all labels).\n",
        "    Use probability values instead of binary predictions.\n",
        "    This version uses the computation of soft-F1 for both positive and negative class for each label.\n",
        "    \n",
        "    Args:\n",
        "        y (int32 Tensor): targets array of shape (BATCH_SIZE, N_LABELS)\n",
        "        y_hat (float32 Tensor): probability matrix from forward propagation of shape (BATCH_SIZE, N_LABELS)\n",
        "        \n",
        "    Returns:\n",
        "        cost (scalar Tensor): value of the cost function for the batch\n",
        "    \"\"\"\n",
        "    y = tf.cast(y, tf.float32)\n",
        "    y_hat = tf.cast(y_hat, tf.float32)\n",
        "    tp = tf.reduce_sum(y_hat * y, axis=0)\n",
        "    fp = tf.reduce_sum(y_hat * (1 - y), axis=0)\n",
        "    fn = tf.reduce_sum((1 - y_hat) * y, axis=0)\n",
        "    tn = tf.reduce_sum((1 - y_hat) * (1 - y), axis=0)\n",
        "    soft_f1_class1 = 2*tp / (2*tp + fn + fp + 1e-16)\n",
        "    soft_f1_class0 = 2*tn / (2*tn + fn + fp + 1e-16)\n",
        "    cost_class1 = 1 - soft_f1_class1 # reduce 1 - soft-f1_class1 in order to increase soft-f1 on class 1\n",
        "    cost_class0 = 1 - soft_f1_class0 # reduce 1 - soft-f1_class0 in order to increase soft-f1 on class 0\n",
        "    cost = 0.5 * (cost_class1 + cost_class0) # take into account both class 1 and class 0\n",
        "    macro_cost = tf.reduce_mean(cost) # average on all labels\n",
        "    return macro_cost\n",
        "\n",
        "#@tf.function\n",
        "def binary_crossentropy(y, y_hat):\n",
        "    y = tf.cast(y, tf.float32)\n",
        "    y_hat = tf.cast(y_hat, tf.float32)\n",
        "    # compute loss\n",
        "    loss = tf.keras.backend.binary_crossentropy(y, y_hat, from_logits=False)\n",
        "    return tf.reduce_mean(loss, axis=-1)"
      ],
      "execution_count": 0,
      "outputs": []
    },
    {
      "cell_type": "markdown",
      "metadata": {
        "id": "EzPLOwR-g6HP",
        "colab_type": "text"
      },
      "source": [
        "### BERT Model Params"
      ]
    },
    {
      "cell_type": "code",
      "metadata": {
        "id": "Y5xQVDd5vobq",
        "colab_type": "code",
        "colab": {}
      },
      "source": [
        "optimizer_select = 'ADAM'\n",
        "BATCH_SIZE = 128*8\n",
        "EPOCHS = 30\n",
        "LR = 1e-4\n",
        "LOSS = 'macro_double_soft_f1'\n",
        "ACC = ['accuracy', macro_f1, micro_f1]"
      ],
      "execution_count": 0,
      "outputs": []
    },
    {
      "cell_type": "code",
      "metadata": {
        "id": "HpiV7W1pvqGM",
        "colab_type": "code",
        "colab": {}
      },
      "source": [
        "if OVERSAMPLING:\n",
        "    NUM_TRAIN_SAMPLES = int(np.floor(new_X_train.shape[1] / BATCH_SIZE) * BATCH_SIZE)\n",
        "else:\n",
        "    NUM_TRAIN_SAMPLES = int(np.floor(X_train.shape[1] / BATCH_SIZE) * BATCH_SIZE)\n",
        "\n",
        "NUM_DEV_SAMPLES = int(np.floor(X_dev.shape[1] / BATCH_SIZE) * BATCH_SIZE)\n",
        "NUM_VAL_SAMPLES = int(np.floor(X_val.shape[1] / BATCH_SIZE) * BATCH_SIZE)\n",
        "\n",
        "TRAIN_BERT = True\n",
        "\n",
        "if (TRAIN_BERT):\n",
        "    if (OVERSAMPLING):\n",
        "        results_prefix = 'baseline_seqlen_' + str(max_length) + '_' + optimizer_select + '_EPOCHS_' + str(EPOCHS) + '_LR_' + str(LR) + '_LOSS_' + str(LOSS)\n",
        "    else:\n",
        "        results_prefix = 'baseline_seqlen_' + str(max_length) + '_' + optimizer_select + '_EPOCHS_' + str(EPOCHS) + '_LR_' + str(LR) + '_LOSS_' + str(LOSS) + '_NoOS'\n",
        "else:\n",
        "    if (OVERSAMPLING):\n",
        "        results_prefix = 'baseline_seqlen_' + str(max_length) + '_' + optimizer_select + '_EPOCHS_' + str(EPOCHS) + '_LR_' + str(LR) + '_LOSS_' + str(LOSS) + '_NoFT'\n",
        "    else:\n",
        "        results_prefix = 'baseline_seqlen_' + str(max_length) + '_' + optimizer_select + '_EPOCHS_' + str(EPOCHS) + '_LR_' + str(LR) + '_LOSS_' + str(LOSS) + '_NoFT' + '_NoOS'\n",
        "\n"
      ],
      "execution_count": 0,
      "outputs": []
    },
    {
      "cell_type": "code",
      "metadata": {
        "id": "toAHWIpl54Pv",
        "colab_type": "code",
        "outputId": "5c554b5d-87d0-4cf2-f5ff-7244e38db61b",
        "colab": {
          "base_uri": "https://localhost:8080/",
          "height": 34
        }
      },
      "source": [
        "print(\"Number Train Samples \", NUM_TRAIN_SAMPLES)"
      ],
      "execution_count": 0,
      "outputs": [
        {
          "output_type": "stream",
          "text": [
            "Number Train Samples  46080\n"
          ],
          "name": "stdout"
        }
      ]
    },
    {
      "cell_type": "code",
      "metadata": {
        "id": "8XiipjARvuPd",
        "colab_type": "code",
        "colab": {}
      },
      "source": [
        "def filter_data(X, y, n_size, reverse=False):\n",
        "    if (reverse):\n",
        "        X_out = [X[0][-n_size:].astype('int32'), X[1][-n_size:].astype('int32'),X[2][-n_size:].astype('int32')]\n",
        "        y_out = y[-n_size:].astype('int32')\n",
        "    else:\n",
        "        X_out = [X[0][0:n_size].astype('int32'), X[1][0:n_size].astype('int32'),X[2][0:n_size].astype('int32')]\n",
        "        y_out = y[0:n_size].astype('int32')\n",
        "    \n",
        "    return (X_out, y_out)\n",
        "\n",
        "rev = False\n",
        "\n",
        "if OVERSAMPLING:\n",
        "    bert_inputs_train_k, labels_train_k = filter_data(new_X_train, \n",
        "                                                    new_y_train, \n",
        "                                                    NUM_TRAIN_SAMPLES, \n",
        "                                                    reverse=rev)\n",
        "else:\n",
        "    bert_inputs_train_k, labels_train_k = filter_data(X_train, \n",
        "                                                    y_train, \n",
        "                                                    NUM_TRAIN_SAMPLES, \n",
        "                                                    reverse=rev)    \n",
        "\n",
        "bert_inputs_dev_k, labels_dev_k = filter_data(X_dev, \n",
        "                                            y_dev, \n",
        "                                            NUM_DEV_SAMPLES, \n",
        "                                            reverse=rev)\n",
        "bert_inputs_val_k, labels_val_k = filter_data(X_val, \n",
        "                                            y_val, \n",
        "                                            NUM_VAL_SAMPLES, \n",
        "                                            reverse=rev)"
      ],
      "execution_count": 0,
      "outputs": []
    },
    {
      "cell_type": "code",
      "metadata": {
        "id": "HvvQ2iHfsi36",
        "colab_type": "code",
        "outputId": "a0ce1859-c1a7-4efb-b5a9-3fe4a0f9e694",
        "colab": {
          "base_uri": "https://localhost:8080/",
          "height": 34
        }
      },
      "source": [
        "OVERSAMPLING"
      ],
      "execution_count": 0,
      "outputs": [
        {
          "output_type": "execute_result",
          "data": {
            "text/plain": [
              "False"
            ]
          },
          "metadata": {
            "tags": []
          },
          "execution_count": 43
        }
      ]
    },
    {
      "cell_type": "markdown",
      "metadata": {
        "id": "IilnXEDXg9G1",
        "colab_type": "text"
      },
      "source": [
        "### Training BERT Model"
      ]
    },
    {
      "cell_type": "code",
      "metadata": {
        "id": "9x-SI5ZiJ61F",
        "colab_type": "code",
        "colab": {}
      },
      "source": [
        "def select_optimizer(optimizer_select):\n",
        "    if optimizer_select == 'ADAM':\n",
        "        optimizer = tf.keras.optimizers.Adam(learning_rate=LR, beta_1=0.91, beta_2=0.999, epsilon=None, decay=0.1, name='Adam')\n",
        "    elif optimizer_select == 'ADAMAX':\n",
        "        optimizer = tf.keras.optimizers.Adamax(learning_rate=LR, beta_1=0.9, beta_2=0.999, epsilon=1e-07, name='Adamax')\n",
        "    elif optimizer_select == 'ADAGRAD':\n",
        "        optimizer = tf.keras.optimizers.Adagrad(learning_rate=LR, initial_accumulator_value=0.1, epsilon=1e-07, name='Adagrad')\n",
        "    elif optimizer_select == 'SGD':\n",
        "        optimizer = tf.keras.optimizers.SGD(learning_rate=LR, momentum=0.9, nesterov=True, name='SGD', clipvalue=0.5)\n",
        "    elif optimizer_select == 'ADADELTA':\n",
        "        optimizer = tf.keras.optimizers.Adadelta(learning_rate=1.0, rho=0.95)\n",
        "    else:\n",
        "        raise Exception('Optimizer not available')\n",
        "    \n",
        "    return optimizer"
      ],
      "execution_count": 0,
      "outputs": []
    },
    {
      "cell_type": "code",
      "metadata": {
        "id": "5myvN30eKAlp",
        "colab_type": "code",
        "colab": {}
      },
      "source": [
        "def select_loss(LOSS):\n",
        "    if LOSS == 'bce':\n",
        "        loss = binary_crossentropy\n",
        "    elif LOSS == 'macro_double_soft_f1':\n",
        "        loss = macro_double_soft_f1\n",
        "    elif LOSS == 'macro_soft_f1':\n",
        "        loss = macro_soft_f1\n",
        "    else:\n",
        "        raise Exception('Loss function not implemented...')\n",
        "\n",
        "    return loss"
      ],
      "execution_count": 0,
      "outputs": []
    },
    {
      "cell_type": "code",
      "metadata": {
        "id": "jbx1jFS0KBGT",
        "colab_type": "code",
        "colab": {}
      },
      "source": [
        "def set_strategy():\n",
        "    #this is for bfloat16 precision\n",
        "    policy = mixed_precision.Policy('mixed_bfloat16')\n",
        "    mixed_precision.set_policy(policy)\n",
        "\n",
        "    cluster_resolver = tf.distribute.cluster_resolver.TPUClusterResolver()\n",
        "    tf.config.experimental_connect_to_cluster(cluster_resolver)\n",
        "    tf.tpu.experimental.initialize_tpu_system(cluster_resolver)\n",
        "    strategy = tf.distribute.experimental.TPUStrategy(cluster_resolver)\n",
        "\n",
        "    return policy, strategy"
      ],
      "execution_count": 0,
      "outputs": []
    },
    {
      "cell_type": "code",
      "metadata": {
        "id": "8t2Ukfu14iBT",
        "colab_type": "code",
        "outputId": "95fa487b-5911-4dfe-9beb-f257c746c70e",
        "colab": {
          "base_uri": "https://localhost:8080/",
          "height": 1000
        }
      },
      "source": [
        "policy, strategy = set_strategy()\n",
        "callbacks = [tf.keras.callbacks.EarlyStopping(monitor='val_loss', \n",
        "                                              min_delta=1e-4,\n",
        "                                              patience=10)]\n",
        "optimizer = select_optimizer(optimizer_select)\n",
        "loss = select_loss(LOSS)\n",
        "\n",
        "with strategy.scope():\n",
        "    input_word_ids = tf.keras.layers.Input(shape=(max_length,), dtype=tf.int32, name=\"input_word_ids\")\n",
        "    input_mask = tf.keras.layers.Input(shape=(max_length,), dtype=tf.int32, name=\"input_mask\")\n",
        "    segment_ids = tf.keras.layers.Input(shape=(max_length,), dtype=tf.int32, name=\"segment_ids\")\n",
        "\n",
        "    bert_inputs = [input_word_ids, input_mask, segment_ids]\n",
        "\n",
        "    bert_layer = hub.KerasLayer(\"gs://w266-finalproject/bert_models/bert_en_uncased_L-12_H-768_A-12/1\", \n",
        "                                name='bert',\n",
        "                                trainable=TRAIN_BERT)\n",
        "    pooled_output, sequence_output= bert_layer(bert_inputs)\n",
        "    pooled_output = tf.keras.layers.Dropout(rate=0.5)(pooled_output)\n",
        "\n",
        "    dense = tf.keras.layers.Dense(5120, \n",
        "                                  activation='relu',\n",
        "                                  kernel_regularizer=tf.keras.regularizers.l2(0.0001),\n",
        "                                  name='Dense_1'\n",
        "                                  )(pooled_output)\n",
        "    dense = tf.keras.layers.Dropout(rate=0.5)(dense)\n",
        "\n",
        "    dense = tf.keras.layers.Dense(5120, \n",
        "                                  activation='relu',\n",
        "                                  kernel_regularizer=tf.keras.regularizers.l2(0.0001),\n",
        "                                  name='Dense_2'\n",
        "                                  )(dense)\n",
        "    dense = tf.keras.layers.Dropout(rate=0.5)(dense)\n",
        "\n",
        "    pred = tf.keras.layers.Dense(NUM_LABELS,\n",
        "                                 activation='sigmoid',\n",
        "                                 name='pred')(dense)\n",
        "\n",
        "    model = tf.keras.models.Model(inputs=bert_inputs, outputs=pred)\n",
        "\n",
        "    model.summary()\n",
        "\n",
        "    model.compile(loss=loss, \n",
        "                  optimizer=optimizer, \n",
        "                  metrics=ACC)\n",
        "\n",
        "    history = model.fit(\n",
        "        bert_inputs_train_k,  \n",
        "        labels_train_k,\n",
        "        validation_data=(bert_inputs_dev_k, labels_dev_k),\n",
        "        epochs=EPOCHS,\n",
        "        callbacks=callbacks,\n",
        "        batch_size=BATCH_SIZE\n",
        "    )"
      ],
      "execution_count": 0,
      "outputs": [
        {
          "output_type": "stream",
          "text": [
            "INFO:tensorflow:Initializing the TPU system: 10.101.168.122:8470\n"
          ],
          "name": "stdout"
        },
        {
          "output_type": "stream",
          "text": [
            "INFO:tensorflow:Initializing the TPU system: 10.101.168.122:8470\n"
          ],
          "name": "stderr"
        },
        {
          "output_type": "stream",
          "text": [
            "INFO:tensorflow:Clearing out eager caches\n"
          ],
          "name": "stdout"
        },
        {
          "output_type": "stream",
          "text": [
            "INFO:tensorflow:Clearing out eager caches\n"
          ],
          "name": "stderr"
        },
        {
          "output_type": "stream",
          "text": [
            "INFO:tensorflow:Finished initializing TPU system.\n"
          ],
          "name": "stdout"
        },
        {
          "output_type": "stream",
          "text": [
            "INFO:tensorflow:Finished initializing TPU system.\n"
          ],
          "name": "stderr"
        },
        {
          "output_type": "stream",
          "text": [
            "INFO:tensorflow:Found TPU system:\n"
          ],
          "name": "stdout"
        },
        {
          "output_type": "stream",
          "text": [
            "INFO:tensorflow:Found TPU system:\n"
          ],
          "name": "stderr"
        },
        {
          "output_type": "stream",
          "text": [
            "INFO:tensorflow:*** Num TPU Cores: 8\n"
          ],
          "name": "stdout"
        },
        {
          "output_type": "stream",
          "text": [
            "INFO:tensorflow:*** Num TPU Cores: 8\n"
          ],
          "name": "stderr"
        },
        {
          "output_type": "stream",
          "text": [
            "INFO:tensorflow:*** Num TPU Workers: 1\n"
          ],
          "name": "stdout"
        },
        {
          "output_type": "stream",
          "text": [
            "INFO:tensorflow:*** Num TPU Workers: 1\n"
          ],
          "name": "stderr"
        },
        {
          "output_type": "stream",
          "text": [
            "INFO:tensorflow:*** Num TPU Cores Per Worker: 8\n"
          ],
          "name": "stdout"
        },
        {
          "output_type": "stream",
          "text": [
            "INFO:tensorflow:*** Num TPU Cores Per Worker: 8\n"
          ],
          "name": "stderr"
        },
        {
          "output_type": "stream",
          "text": [
            "INFO:tensorflow:*** Available Device: _DeviceAttributes(/job:localhost/replica:0/task:0/device:CPU:0, CPU, 0, 0)\n"
          ],
          "name": "stdout"
        },
        {
          "output_type": "stream",
          "text": [
            "INFO:tensorflow:*** Available Device: _DeviceAttributes(/job:localhost/replica:0/task:0/device:CPU:0, CPU, 0, 0)\n"
          ],
          "name": "stderr"
        },
        {
          "output_type": "stream",
          "text": [
            "INFO:tensorflow:*** Available Device: _DeviceAttributes(/job:localhost/replica:0/task:0/device:XLA_CPU:0, XLA_CPU, 0, 0)\n"
          ],
          "name": "stdout"
        },
        {
          "output_type": "stream",
          "text": [
            "INFO:tensorflow:*** Available Device: _DeviceAttributes(/job:localhost/replica:0/task:0/device:XLA_CPU:0, XLA_CPU, 0, 0)\n"
          ],
          "name": "stderr"
        },
        {
          "output_type": "stream",
          "text": [
            "INFO:tensorflow:*** Available Device: _DeviceAttributes(/job:worker/replica:0/task:0/device:CPU:0, CPU, 0, 0)\n"
          ],
          "name": "stdout"
        },
        {
          "output_type": "stream",
          "text": [
            "INFO:tensorflow:*** Available Device: _DeviceAttributes(/job:worker/replica:0/task:0/device:CPU:0, CPU, 0, 0)\n"
          ],
          "name": "stderr"
        },
        {
          "output_type": "stream",
          "text": [
            "INFO:tensorflow:*** Available Device: _DeviceAttributes(/job:worker/replica:0/task:0/device:TPU:0, TPU, 0, 0)\n"
          ],
          "name": "stdout"
        },
        {
          "output_type": "stream",
          "text": [
            "INFO:tensorflow:*** Available Device: _DeviceAttributes(/job:worker/replica:0/task:0/device:TPU:0, TPU, 0, 0)\n"
          ],
          "name": "stderr"
        },
        {
          "output_type": "stream",
          "text": [
            "INFO:tensorflow:*** Available Device: _DeviceAttributes(/job:worker/replica:0/task:0/device:TPU:1, TPU, 0, 0)\n"
          ],
          "name": "stdout"
        },
        {
          "output_type": "stream",
          "text": [
            "INFO:tensorflow:*** Available Device: _DeviceAttributes(/job:worker/replica:0/task:0/device:TPU:1, TPU, 0, 0)\n"
          ],
          "name": "stderr"
        },
        {
          "output_type": "stream",
          "text": [
            "INFO:tensorflow:*** Available Device: _DeviceAttributes(/job:worker/replica:0/task:0/device:TPU:2, TPU, 0, 0)\n"
          ],
          "name": "stdout"
        },
        {
          "output_type": "stream",
          "text": [
            "INFO:tensorflow:*** Available Device: _DeviceAttributes(/job:worker/replica:0/task:0/device:TPU:2, TPU, 0, 0)\n"
          ],
          "name": "stderr"
        },
        {
          "output_type": "stream",
          "text": [
            "INFO:tensorflow:*** Available Device: _DeviceAttributes(/job:worker/replica:0/task:0/device:TPU:3, TPU, 0, 0)\n"
          ],
          "name": "stdout"
        },
        {
          "output_type": "stream",
          "text": [
            "INFO:tensorflow:*** Available Device: _DeviceAttributes(/job:worker/replica:0/task:0/device:TPU:3, TPU, 0, 0)\n"
          ],
          "name": "stderr"
        },
        {
          "output_type": "stream",
          "text": [
            "INFO:tensorflow:*** Available Device: _DeviceAttributes(/job:worker/replica:0/task:0/device:TPU:4, TPU, 0, 0)\n"
          ],
          "name": "stdout"
        },
        {
          "output_type": "stream",
          "text": [
            "INFO:tensorflow:*** Available Device: _DeviceAttributes(/job:worker/replica:0/task:0/device:TPU:4, TPU, 0, 0)\n"
          ],
          "name": "stderr"
        },
        {
          "output_type": "stream",
          "text": [
            "INFO:tensorflow:*** Available Device: _DeviceAttributes(/job:worker/replica:0/task:0/device:TPU:5, TPU, 0, 0)\n"
          ],
          "name": "stdout"
        },
        {
          "output_type": "stream",
          "text": [
            "INFO:tensorflow:*** Available Device: _DeviceAttributes(/job:worker/replica:0/task:0/device:TPU:5, TPU, 0, 0)\n"
          ],
          "name": "stderr"
        },
        {
          "output_type": "stream",
          "text": [
            "INFO:tensorflow:*** Available Device: _DeviceAttributes(/job:worker/replica:0/task:0/device:TPU:6, TPU, 0, 0)\n"
          ],
          "name": "stdout"
        },
        {
          "output_type": "stream",
          "text": [
            "INFO:tensorflow:*** Available Device: _DeviceAttributes(/job:worker/replica:0/task:0/device:TPU:6, TPU, 0, 0)\n"
          ],
          "name": "stderr"
        },
        {
          "output_type": "stream",
          "text": [
            "INFO:tensorflow:*** Available Device: _DeviceAttributes(/job:worker/replica:0/task:0/device:TPU:7, TPU, 0, 0)\n"
          ],
          "name": "stdout"
        },
        {
          "output_type": "stream",
          "text": [
            "INFO:tensorflow:*** Available Device: _DeviceAttributes(/job:worker/replica:0/task:0/device:TPU:7, TPU, 0, 0)\n"
          ],
          "name": "stderr"
        },
        {
          "output_type": "stream",
          "text": [
            "INFO:tensorflow:*** Available Device: _DeviceAttributes(/job:worker/replica:0/task:0/device:TPU_SYSTEM:0, TPU_SYSTEM, 0, 0)\n"
          ],
          "name": "stdout"
        },
        {
          "output_type": "stream",
          "text": [
            "INFO:tensorflow:*** Available Device: _DeviceAttributes(/job:worker/replica:0/task:0/device:TPU_SYSTEM:0, TPU_SYSTEM, 0, 0)\n"
          ],
          "name": "stderr"
        },
        {
          "output_type": "stream",
          "text": [
            "INFO:tensorflow:*** Available Device: _DeviceAttributes(/job:worker/replica:0/task:0/device:XLA_CPU:0, XLA_CPU, 0, 0)\n"
          ],
          "name": "stdout"
        },
        {
          "output_type": "stream",
          "text": [
            "INFO:tensorflow:*** Available Device: _DeviceAttributes(/job:worker/replica:0/task:0/device:XLA_CPU:0, XLA_CPU, 0, 0)\n"
          ],
          "name": "stderr"
        },
        {
          "output_type": "stream",
          "text": [
            "Model: \"model\"\n",
            "__________________________________________________________________________________________________\n",
            "Layer (type)                    Output Shape         Param #     Connected to                     \n",
            "==================================================================================================\n",
            "input_word_ids (InputLayer)     [(None, 128)]        0                                            \n",
            "__________________________________________________________________________________________________\n",
            "input_mask (InputLayer)         [(None, 128)]        0                                            \n",
            "__________________________________________________________________________________________________\n",
            "segment_ids (InputLayer)        [(None, 128)]        0                                            \n",
            "__________________________________________________________________________________________________\n",
            "bert (KerasLayer)               [(None, 768), (None, 109482241   input_word_ids[0][0]             \n",
            "                                                                 input_mask[0][0]                 \n",
            "                                                                 segment_ids[0][0]                \n",
            "__________________________________________________________________________________________________\n",
            "dropout (Dropout)               (None, 768)          0           bert[0][0]                       \n",
            "__________________________________________________________________________________________________\n",
            "Dense_1 (Dense)                 (None, 5120)         3937280     dropout[0][0]                    \n",
            "__________________________________________________________________________________________________\n",
            "dropout_1 (Dropout)             (None, 5120)         0           Dense_1[0][0]                    \n",
            "__________________________________________________________________________________________________\n",
            "Dense_2 (Dense)                 (None, 5120)         26219520    dropout_1[0][0]                  \n",
            "__________________________________________________________________________________________________\n",
            "dropout_2 (Dropout)             (None, 5120)         0           Dense_2[0][0]                    \n",
            "__________________________________________________________________________________________________\n",
            "pred (Dense)                    (None, 10)           51210       dropout_2[0][0]                  \n",
            "==================================================================================================\n",
            "Total params: 139,690,251\n",
            "Trainable params: 139,690,250\n",
            "Non-trainable params: 1\n",
            "__________________________________________________________________________________________________\n",
            "Train on 46080 samples, validate on 15360 samples\n",
            "Epoch 1/30\n"
          ],
          "name": "stdout"
        },
        {
          "output_type": "stream",
          "text": [
            "/usr/local/lib/python3.6/dist-packages/tensorflow_core/python/framework/indexed_slices.py:433: UserWarning: Converting sparse IndexedSlices to a dense Tensor of unknown shape. This may consume a large amount of memory.\n",
            "  \"Converting sparse IndexedSlices to a dense Tensor of unknown shape. \"\n"
          ],
          "name": "stderr"
        },
        {
          "output_type": "stream",
          "text": [
            "45056/46080 [============================>.] - ETA: 2s - loss: 1.1245 - accuracy: 0.1939 - macro_f1: 0.0901 - micro_f1: 0.2922WARNING:tensorflow:5 out of the last 5 calls to <function recreate_function.<locals>.restored_function_body at 0x7fa9c62c5268> triggered tf.function retracing. Tracing is expensive and the excessive number of tracings is likely due to passing python objects instead of tensors. Also, tf.function has experimental_relax_shapes=True option that relaxes argument shapes that can avoid unnecessary retracing. Please refer to https://www.tensorflow.org/tutorials/customization/performance#python_or_tensor_args and https://www.tensorflow.org/api_docs/python/tf/function for more details.\n"
          ],
          "name": "stdout"
        },
        {
          "output_type": "stream",
          "text": [
            "WARNING:tensorflow:5 out of the last 5 calls to <function recreate_function.<locals>.restored_function_body at 0x7fa9c62c5268> triggered tf.function retracing. Tracing is expensive and the excessive number of tracings is likely due to passing python objects instead of tensors. Also, tf.function has experimental_relax_shapes=True option that relaxes argument shapes that can avoid unnecessary retracing. Please refer to https://www.tensorflow.org/tutorials/customization/performance#python_or_tensor_args and https://www.tensorflow.org/api_docs/python/tf/function for more details.\n"
          ],
          "name": "stderr"
        },
        {
          "output_type": "stream",
          "text": [
            "\b\b\b\b\b\b\b\b\b\b\b\b\b\b\b\b\b\b\b\b\b\b\b\b\b\b\b\b\b\b\b\b\b\b\b\b\b\b\b\b\b\b\b\b\b\b\b\b\b\b\b\b\b\b\b\b\b\b\b\b\b\b\b\b\b\b\b\b\b\b\b\b\b\b\b\b\b\b\b\b\b\b\b\b\b\b\b\b\b\b\b\b\b\b\b\b\b\b\b\b\b\b\b\b\b\b\b\b\b\b\b\b\b\b\b\b\b\b\b\b\b\b\b\b\b\b\r46080/46080 [==============================] - 119s 3ms/sample - loss: 1.1241 - accuracy: 0.1939 - macro_f1: 0.0911 - micro_f1: 0.2924 - val_loss: 1.1094 - val_accuracy: 0.1946 - val_macro_f1: 0.1745 - val_micro_f1: 0.3323\n",
            "Epoch 2/30\n",
            "46080/46080 [==============================] - 31s 662us/sample - loss: 1.0949 - accuracy: 0.1954 - macro_f1: 0.1415 - micro_f1: 0.3057 - val_loss: 1.0871 - val_accuracy: 0.1965 - val_macro_f1: 0.1665 - val_micro_f1: 0.3486\n",
            "Epoch 3/30\n",
            "46080/46080 [==============================] - 31s 663us/sample - loss: 1.0725 - accuracy: 0.1978 - macro_f1: 0.1903 - micro_f1: 0.3454 - val_loss: 1.0639 - val_accuracy: 0.1896 - val_macro_f1: 0.2865 - val_micro_f1: 0.3485\n",
            "Epoch 4/30\n",
            "46080/46080 [==============================] - 31s 663us/sample - loss: 1.0491 - accuracy: 0.1968 - macro_f1: 0.2797 - micro_f1: 0.3597 - val_loss: 1.0547 - val_accuracy: 0.1993 - val_macro_f1: 0.2519 - val_micro_f1: 0.3607\n",
            "Epoch 5/30\n",
            "46080/46080 [==============================] - 31s 663us/sample - loss: 1.0301 - accuracy: 0.2010 - macro_f1: 0.3115 - micro_f1: 0.3692 - val_loss: 1.0320 - val_accuracy: 0.1937 - val_macro_f1: 0.3173 - val_micro_f1: 0.3589\n",
            "Epoch 6/30\n",
            "46080/46080 [==============================] - 31s 664us/sample - loss: 1.0163 - accuracy: 0.2062 - macro_f1: 0.3270 - micro_f1: 0.3825 - val_loss: 1.0208 - val_accuracy: 0.1980 - val_macro_f1: 0.3237 - val_micro_f1: 0.3717\n",
            "Epoch 7/30\n",
            "46080/46080 [==============================] - 31s 663us/sample - loss: 1.0052 - accuracy: 0.2081 - macro_f1: 0.3381 - micro_f1: 0.3931 - val_loss: 1.0128 - val_accuracy: 0.2072 - val_macro_f1: 0.3233 - val_micro_f1: 0.3851\n",
            "Epoch 8/30\n",
            "46080/46080 [==============================] - 31s 662us/sample - loss: 0.9973 - accuracy: 0.2130 - macro_f1: 0.3461 - micro_f1: 0.4022 - val_loss: 1.0078 - val_accuracy: 0.2089 - val_macro_f1: 0.3291 - val_micro_f1: 0.3893\n",
            "Epoch 9/30\n",
            "46080/46080 [==============================] - 31s 664us/sample - loss: 0.9901 - accuracy: 0.2155 - macro_f1: 0.3550 - micro_f1: 0.4178 - val_loss: 1.0034 - val_accuracy: 0.2038 - val_macro_f1: 0.3374 - val_micro_f1: 0.4004\n",
            "Epoch 10/30\n",
            "46080/46080 [==============================] - 31s 664us/sample - loss: 0.9839 - accuracy: 0.2163 - macro_f1: 0.3644 - micro_f1: 0.4325 - val_loss: 1.0000 - val_accuracy: 0.2022 - val_macro_f1: 0.3397 - val_micro_f1: 0.4110\n",
            "Epoch 11/30\n",
            "46080/46080 [==============================] - 31s 663us/sample - loss: 0.9791 - accuracy: 0.2193 - macro_f1: 0.3683 - micro_f1: 0.4375 - val_loss: 0.9967 - val_accuracy: 0.2160 - val_macro_f1: 0.3406 - val_micro_f1: 0.4117\n",
            "Epoch 12/30\n",
            "46080/46080 [==============================] - 31s 662us/sample - loss: 0.9741 - accuracy: 0.2221 - macro_f1: 0.3732 - micro_f1: 0.4436 - val_loss: 0.9937 - val_accuracy: 0.2200 - val_macro_f1: 0.3412 - val_micro_f1: 0.4159\n",
            "Epoch 13/30\n",
            "46080/46080 [==============================] - 31s 663us/sample - loss: 0.9698 - accuracy: 0.2262 - macro_f1: 0.3782 - micro_f1: 0.4480 - val_loss: 0.9914 - val_accuracy: 0.2217 - val_macro_f1: 0.3390 - val_micro_f1: 0.4192\n",
            "Epoch 14/30\n",
            "46080/46080 [==============================] - 31s 663us/sample - loss: 0.9662 - accuracy: 0.2283 - macro_f1: 0.3805 - micro_f1: 0.4499 - val_loss: 0.9894 - val_accuracy: 0.2260 - val_macro_f1: 0.3425 - val_micro_f1: 0.4185\n",
            "Epoch 15/30\n",
            "46080/46080 [==============================] - 31s 662us/sample - loss: 0.9624 - accuracy: 0.2310 - macro_f1: 0.3842 - micro_f1: 0.4534 - val_loss: 0.9877 - val_accuracy: 0.2268 - val_macro_f1: 0.3394 - val_micro_f1: 0.4215\n",
            "Epoch 16/30\n",
            "46080/46080 [==============================] - 31s 664us/sample - loss: 0.9590 - accuracy: 0.2352 - macro_f1: 0.3876 - micro_f1: 0.4571 - val_loss: 0.9853 - val_accuracy: 0.2273 - val_macro_f1: 0.3428 - val_micro_f1: 0.4174\n",
            "Epoch 17/30\n",
            "46080/46080 [==============================] - 31s 665us/sample - loss: 0.9562 - accuracy: 0.2374 - macro_f1: 0.3893 - micro_f1: 0.4579 - val_loss: 0.9837 - val_accuracy: 0.2289 - val_macro_f1: 0.3440 - val_micro_f1: 0.4170\n",
            "Epoch 18/30\n",
            "46080/46080 [==============================] - 31s 662us/sample - loss: 0.9532 - accuracy: 0.2385 - macro_f1: 0.3926 - micro_f1: 0.4608 - val_loss: 0.9830 - val_accuracy: 0.2397 - val_macro_f1: 0.3413 - val_micro_f1: 0.4243\n",
            "Epoch 19/30\n",
            "46080/46080 [==============================] - 31s 664us/sample - loss: 0.9507 - accuracy: 0.2426 - macro_f1: 0.3944 - micro_f1: 0.4634 - val_loss: 0.9814 - val_accuracy: 0.2428 - val_macro_f1: 0.3392 - val_micro_f1: 0.4226\n",
            "Epoch 20/30\n",
            "46080/46080 [==============================] - 31s 665us/sample - loss: 0.9481 - accuracy: 0.2446 - macro_f1: 0.3968 - micro_f1: 0.4655 - val_loss: 0.9795 - val_accuracy: 0.2434 - val_macro_f1: 0.3411 - val_micro_f1: 0.4223\n",
            "Epoch 21/30\n",
            "46080/46080 [==============================] - 31s 664us/sample - loss: 0.9451 - accuracy: 0.2471 - macro_f1: 0.4000 - micro_f1: 0.4683 - val_loss: 0.9780 - val_accuracy: 0.2439 - val_macro_f1: 0.3415 - val_micro_f1: 0.4207\n",
            "Epoch 22/30\n",
            "46080/46080 [==============================] - 31s 663us/sample - loss: 0.9429 - accuracy: 0.2503 - macro_f1: 0.4019 - micro_f1: 0.4695 - val_loss: 0.9774 - val_accuracy: 0.2481 - val_macro_f1: 0.3417 - val_micro_f1: 0.4223\n",
            "Epoch 23/30\n",
            "46080/46080 [==============================] - 31s 664us/sample - loss: 0.9405 - accuracy: 0.2526 - macro_f1: 0.4038 - micro_f1: 0.4716 - val_loss: 0.9763 - val_accuracy: 0.2492 - val_macro_f1: 0.3404 - val_micro_f1: 0.4225\n",
            "Epoch 24/30\n",
            "46080/46080 [==============================] - 31s 663us/sample - loss: 0.9390 - accuracy: 0.2545 - macro_f1: 0.4041 - micro_f1: 0.4720 - val_loss: 0.9749 - val_accuracy: 0.2496 - val_macro_f1: 0.3405 - val_micro_f1: 0.4232\n",
            "Epoch 25/30\n",
            "46080/46080 [==============================] - 31s 664us/sample - loss: 0.9366 - accuracy: 0.2560 - macro_f1: 0.4069 - micro_f1: 0.4747 - val_loss: 0.9733 - val_accuracy: 0.2503 - val_macro_f1: 0.3413 - val_micro_f1: 0.4198\n",
            "Epoch 26/30\n",
            "46080/46080 [==============================] - 31s 664us/sample - loss: 0.9346 - accuracy: 0.2596 - macro_f1: 0.4087 - micro_f1: 0.4759 - val_loss: 0.9729 - val_accuracy: 0.2507 - val_macro_f1: 0.3410 - val_micro_f1: 0.4226\n",
            "Epoch 27/30\n",
            "46080/46080 [==============================] - 31s 664us/sample - loss: 0.9328 - accuracy: 0.2610 - macro_f1: 0.4097 - micro_f1: 0.4768 - val_loss: 0.9723 - val_accuracy: 0.2520 - val_macro_f1: 0.3409 - val_micro_f1: 0.4241\n",
            "Epoch 28/30\n",
            "46080/46080 [==============================] - 31s 664us/sample - loss: 0.9312 - accuracy: 0.2643 - macro_f1: 0.4117 - micro_f1: 0.4794 - val_loss: 0.9709 - val_accuracy: 0.2523 - val_macro_f1: 0.3412 - val_micro_f1: 0.4204\n",
            "Epoch 29/30\n",
            "46080/46080 [==============================] - 31s 664us/sample - loss: 0.9291 - accuracy: 0.2643 - macro_f1: 0.4132 - micro_f1: 0.4804 - val_loss: 0.9698 - val_accuracy: 0.2516 - val_macro_f1: 0.3410 - val_micro_f1: 0.4206\n",
            "Epoch 30/30\n",
            "46080/46080 [==============================] - 31s 662us/sample - loss: 0.9281 - accuracy: 0.2672 - macro_f1: 0.4131 - micro_f1: 0.4810 - val_loss: 0.9689 - val_accuracy: 0.2522 - val_macro_f1: 0.3414 - val_micro_f1: 0.4192\n"
          ],
          "name": "stdout"
        }
      ]
    },
    {
      "cell_type": "code",
      "metadata": {
        "id": "MPTuYvHB7m7m",
        "colab_type": "code",
        "outputId": "373ca88c-6e01-437b-93b8-d9f5082e9cd1",
        "colab": {
          "base_uri": "https://localhost:8080/",
          "height": 34
        }
      },
      "source": [
        "# serialize model to JSON\n",
        "model_json = model.to_json()\n",
        "with open(model_save_prefix + '/' + results_prefix + '_json.json', \"w\") as json_file:\n",
        "    json_file.write(model_json)\n",
        "# serialize weights to HDF5\n",
        "model.save_weights( model_save_prefix + '/' + results_prefix + '_weights.h5', overwrite=True)\n",
        "print(\"Saved model to disk\")"
      ],
      "execution_count": 0,
      "outputs": [
        {
          "output_type": "stream",
          "text": [
            "Saved model to disk\n"
          ],
          "name": "stdout"
        }
      ]
    },
    {
      "cell_type": "code",
      "metadata": {
        "id": "HUTRquo583aV",
        "colab_type": "code",
        "outputId": "2702a7aa-e8fc-4413-b865-268aed057a8f",
        "colab": {
          "base_uri": "https://localhost:8080/",
          "height": 758
        }
      },
      "source": [
        "from tensorflow.keras.utils import plot_model\n",
        "plot_model(model, to_file=plot_save_prefix + 'model_architecture.png')"
      ],
      "execution_count": 0,
      "outputs": [
        {
          "output_type": "execute_result",
          "data": {
            "image/png": "[encoded data removed]",
            "text/plain": [
              "<IPython.core.display.Image object>"
            ]
          },
          "metadata": {
            "tags": []
          },
          "execution_count": 49
        }
      ]
    },
    {
      "cell_type": "markdown",
      "metadata": {
        "id": "0f0WdOHvhBHJ",
        "colab_type": "text"
      },
      "source": [
        "### Evaluating Results"
      ]
    },
    {
      "cell_type": "code",
      "metadata": {
        "id": "K79kjROtVPsu",
        "colab_type": "code",
        "outputId": "7c6b601a-c8c5-4aee-baaf-4a82f081f5b1",
        "colab": {
          "base_uri": "https://localhost:8080/"
        }
      },
      "source": [
        "import matplotlib.pyplot as plt\n",
        "import matplotlib.style as style\n",
        "\n",
        "def learning_curves(history,ACC):\n",
        "    \"\"\"Plot the learning curves of loss and macro f1 score \n",
        "    for the training and validation datasets.\n",
        "    \n",
        "    Args:\n",
        "        history: history callback of fitting a tensorflow keras model \n",
        "    \"\"\"\n",
        "    \n",
        "    loss = history.history['loss']\n",
        "    val_loss = history.history['val_loss']\n",
        "    epochs = len(loss)\n",
        "    style.use(\"bmh\")\n",
        "    num_plots = len(ACC) + 1\n",
        "    plt.figure(figsize=(12, 12))\n",
        "\n",
        "    plt.subplot(num_plots, 1, 1)\n",
        "    plt.plot(range(1, epochs+1), loss, label='Training Loss')\n",
        "    plt.plot(range(1, epochs+1), val_loss, label='Validation Loss')\n",
        "    plt.legend(loc='upper right')\n",
        "    plt.ylabel('Loss')\n",
        "    plt.title(optimizer_select + ': Training and Validation Loss')\n",
        "\n",
        "    ctr = 2\n",
        "    accuracy = []\n",
        "    val_accuracy = []\n",
        "    for accs in ACC:\n",
        "        if isinstance(accs, str):\n",
        "            acc_name = accs\n",
        "        else:\n",
        "            acc_name = accs.__name__\n",
        "        acc_data = history.history[acc_name]\n",
        "        val_acc_data = history.history['val_'+acc_name]\n",
        "        accuracy.append(acc_data)\n",
        "        val_accuracy.append(val_acc_data)\n",
        "        plt.subplot(num_plots, 1, ctr)\n",
        "        plt.plot(range(1, epochs+1), acc_data, label= acc_name + ':' + 'Training F1-score')\n",
        "        plt.plot(range(1, epochs+1), val_acc_data, label = acc_name + ':' + 'Validation F1-score')\n",
        "        plt.legend(loc='lower right')\n",
        "        plt.ylabel('F1-score')\n",
        "        plt.title(optimizer_select + ': Training and Validation F1-score')\n",
        "\n",
        "        plt.savefig(plot_save_prefix + results_prefix + '.jpg')\n",
        "        ctr+=1\n",
        "    plt.xlabel('epoch')\n",
        "    plt.show()\n",
        "    return loss, val_loss, accuracy, val_accuracy\n",
        "\n",
        "losses, val_losses,  accuracy, val_accuracy = learning_curves(history, ACC)\n",
        "df_results = pd.DataFrame({'loss':losses,'val_loss': val_losses,\n",
        "              'macro_f1':accuracy[0],'micro_f1':accuracy[1],\n",
        "              'val_macro_f1':val_accuracy[0], 'val_micro_f1':val_accuracy[1]})\n",
        "df_results.head()"
      ],
      "execution_count": 0,
      "outputs": [
        {
          "output_type": "display_data",
          "data": {
            "image/png": "[encoded data removed]",
            "text/plain": [
              "<Figure size 864x864 with 4 Axes>"
            ]
          },
          "metadata": {
            "tags": []
          }
        },
        {
          "output_type": "execute_result",
          "data": {
            "text/html": [
              "<div>\n",
              "<style scoped>\n",
              "    .dataframe tbody tr th:only-of-type {\n",
              "        vertical-align: middle;\n",
              "    }\n",
              "\n",
              "    .dataframe tbody tr th {\n",
              "        vertical-align: top;\n",
              "    }\n",
              "\n",
              "    .dataframe thead th {\n",
              "        text-align: right;\n",
              "    }\n",
              "</style>\n",
              "<table border=\"1\" class=\"dataframe\">\n",
              "  <thead>\n",
              "    <tr style=\"text-align: right;\">\n",
              "      <th></th>\n",
              "      <th>loss</th>\n",
              "      <th>val_loss</th>\n",
              "      <th>macro_f1</th>\n",
              "      <th>micro_f1</th>\n",
              "      <th>val_macro_f1</th>\n",
              "      <th>val_micro_f1</th>\n",
              "    </tr>\n",
              "  </thead>\n",
              "  <tbody>\n",
              "    <tr>\n",
              "      <th>0</th>\n",
              "      <td>1.124112</td>\n",
              "      <td>1.109428</td>\n",
              "      <td>0.193902</td>\n",
              "      <td>0.091086</td>\n",
              "      <td>0.194596</td>\n",
              "      <td>0.174486</td>\n",
              "    </tr>\n",
              "    <tr>\n",
              "      <th>1</th>\n",
              "      <td>1.094925</td>\n",
              "      <td>1.087054</td>\n",
              "      <td>0.195378</td>\n",
              "      <td>0.141518</td>\n",
              "      <td>0.196484</td>\n",
              "      <td>0.166509</td>\n",
              "    </tr>\n",
              "    <tr>\n",
              "      <th>2</th>\n",
              "      <td>1.072491</td>\n",
              "      <td>1.063940</td>\n",
              "      <td>0.197830</td>\n",
              "      <td>0.190345</td>\n",
              "      <td>0.189583</td>\n",
              "      <td>0.286509</td>\n",
              "    </tr>\n",
              "    <tr>\n",
              "      <th>3</th>\n",
              "      <td>1.049089</td>\n",
              "      <td>1.054660</td>\n",
              "      <td>0.196832</td>\n",
              "      <td>0.279747</td>\n",
              "      <td>0.199349</td>\n",
              "      <td>0.251911</td>\n",
              "    </tr>\n",
              "    <tr>\n",
              "      <th>4</th>\n",
              "      <td>1.030084</td>\n",
              "      <td>1.031957</td>\n",
              "      <td>0.201042</td>\n",
              "      <td>0.311534</td>\n",
              "      <td>0.193685</td>\n",
              "      <td>0.317316</td>\n",
              "    </tr>\n",
              "  </tbody>\n",
              "</table>\n",
              "</div>"
            ],
            "text/plain": [
              "       loss  val_loss  macro_f1  micro_f1  val_macro_f1  val_micro_f1\n",
              "0  1.124112  1.109428  0.193902  0.091086      0.194596      0.174486\n",
              "1  1.094925  1.087054  0.195378  0.141518      0.196484      0.166509\n",
              "2  1.072491  1.063940  0.197830  0.190345      0.189583      0.286509\n",
              "3  1.049089  1.054660  0.196832  0.279747      0.199349      0.251911\n",
              "4  1.030084  1.031957  0.201042  0.311534      0.193685      0.317316"
            ]
          },
          "metadata": {
            "tags": []
          },
          "execution_count": 50
        }
      ]
    },
    {
      "cell_type": "code",
      "metadata": {
        "id": "VUeVNgExCi9T",
        "colab_type": "code",
        "outputId": "2dfa6cdb-039b-4873-9f9b-c4ab9963cea2",
        "colab": {
          "base_uri": "https://localhost:8080/"
        }
      },
      "source": [
        "df_results.tail()"
      ],
      "execution_count": 0,
      "outputs": [
        {
          "output_type": "execute_result",
          "data": {
            "text/html": [
              "<div>\n",
              "<style scoped>\n",
              "    .dataframe tbody tr th:only-of-type {\n",
              "        vertical-align: middle;\n",
              "    }\n",
              "\n",
              "    .dataframe tbody tr th {\n",
              "        vertical-align: top;\n",
              "    }\n",
              "\n",
              "    .dataframe thead th {\n",
              "        text-align: right;\n",
              "    }\n",
              "</style>\n",
              "<table border=\"1\" class=\"dataframe\">\n",
              "  <thead>\n",
              "    <tr style=\"text-align: right;\">\n",
              "      <th></th>\n",
              "      <th>loss</th>\n",
              "      <th>val_loss</th>\n",
              "      <th>macro_f1</th>\n",
              "      <th>micro_f1</th>\n",
              "      <th>val_macro_f1</th>\n",
              "      <th>val_micro_f1</th>\n",
              "    </tr>\n",
              "  </thead>\n",
              "  <tbody>\n",
              "    <tr>\n",
              "      <th>25</th>\n",
              "      <td>0.934564</td>\n",
              "      <td>0.972921</td>\n",
              "      <td>0.259635</td>\n",
              "      <td>0.408739</td>\n",
              "      <td>0.250716</td>\n",
              "      <td>0.341005</td>\n",
              "    </tr>\n",
              "    <tr>\n",
              "      <th>26</th>\n",
              "      <td>0.932838</td>\n",
              "      <td>0.972308</td>\n",
              "      <td>0.260959</td>\n",
              "      <td>0.409742</td>\n",
              "      <td>0.252018</td>\n",
              "      <td>0.340876</td>\n",
              "    </tr>\n",
              "    <tr>\n",
              "      <th>27</th>\n",
              "      <td>0.931242</td>\n",
              "      <td>0.970864</td>\n",
              "      <td>0.264345</td>\n",
              "      <td>0.411672</td>\n",
              "      <td>0.252279</td>\n",
              "      <td>0.341196</td>\n",
              "    </tr>\n",
              "    <tr>\n",
              "      <th>28</th>\n",
              "      <td>0.929098</td>\n",
              "      <td>0.969840</td>\n",
              "      <td>0.264301</td>\n",
              "      <td>0.413167</td>\n",
              "      <td>0.251563</td>\n",
              "      <td>0.340958</td>\n",
              "    </tr>\n",
              "    <tr>\n",
              "      <th>29</th>\n",
              "      <td>0.928108</td>\n",
              "      <td>0.968890</td>\n",
              "      <td>0.267166</td>\n",
              "      <td>0.413106</td>\n",
              "      <td>0.252214</td>\n",
              "      <td>0.341357</td>\n",
              "    </tr>\n",
              "  </tbody>\n",
              "</table>\n",
              "</div>"
            ],
            "text/plain": [
              "        loss  val_loss  macro_f1  micro_f1  val_macro_f1  val_micro_f1\n",
              "25  0.934564  0.972921  0.259635  0.408739      0.250716      0.341005\n",
              "26  0.932838  0.972308  0.260959  0.409742      0.252018      0.340876\n",
              "27  0.931242  0.970864  0.264345  0.411672      0.252279      0.341196\n",
              "28  0.929098  0.969840  0.264301  0.413167      0.251563      0.340958\n",
              "29  0.928108  0.968890  0.267166  0.413106      0.252214      0.341357"
            ]
          },
          "metadata": {
            "tags": []
          },
          "execution_count": 51
        }
      ]
    },
    {
      "cell_type": "code",
      "metadata": {
        "id": "db1XzF3nz6jg",
        "colab_type": "code",
        "colab": {}
      },
      "source": [
        "df_results.to_csv(plot_save_prefix + results_prefix+ '.data', index=False)"
      ],
      "execution_count": 0,
      "outputs": []
    },
    {
      "cell_type": "code",
      "metadata": {
        "id": "bfQvAbFert59",
        "colab_type": "code",
        "outputId": "fb3c1ad9-be84-45fc-ca66-bf85c1b48988",
        "colab": {
          "base_uri": "https://localhost:8080/"
        }
      },
      "source": [
        "history.history.keys()"
      ],
      "execution_count": 0,
      "outputs": [
        {
          "output_type": "execute_result",
          "data": {
            "text/plain": [
              "dict_keys(['loss', 'accuracy', 'macro_f1', 'micro_f1', 'val_loss', 'val_accuracy', 'val_macro_f1', 'val_micro_f1'])"
            ]
          },
          "metadata": {
            "tags": []
          },
          "execution_count": 53
        }
      ]
    },
    {
      "cell_type": "code",
      "metadata": {
        "id": "byZEJZ8xHUQ9",
        "colab_type": "code",
        "outputId": "99a6b978-ef46-446d-8a60-968bcbb036b7",
        "colab": {
          "base_uri": "https://localhost:8080/",
          "height": 34
        }
      },
      "source": [
        "from tensorflow.keras.models import model_from_json\n",
        "\n",
        "# load json and create model\n",
        "with open(model_save_prefix + '/' + results_prefix + '_json.json', \"r\") as json_file:\n",
        "    loaded_model_json = json_file.read()\n",
        "\n",
        "loaded_model = model_from_json(loaded_model_json, custom_objects = {\n",
        "    'KerasLayer': hub.KerasLayer\n",
        "})\n",
        "\n",
        "# load weights into new model\n",
        "loaded_model.load_weights(model_save_prefix + '/' + results_prefix + '_weights.h5')\n",
        "print(\"Loaded model from disk\")"
      ],
      "execution_count": 0,
      "outputs": [
        {
          "output_type": "stream",
          "text": [
            "Loaded model from disk\n"
          ],
          "name": "stdout"
        }
      ]
    },
    {
      "cell_type": "code",
      "metadata": {
        "id": "RC8lOHLB69gO",
        "colab_type": "code",
        "colab": {}
      },
      "source": [
        "def perf_grid(ds, target, label_names, model, n_thresh=100):\n",
        "    \"\"\"Computes the performance table containing target, label names,\n",
        "    label frequencies, thresholds between 0 and 1, number of tp, fp, fn,\n",
        "    precision, recall and f-score metrics for each label.\n",
        "    \n",
        "    Args:\n",
        "        ds (tf.data.Datatset): contains the features array\n",
        "        target (numpy array): target matrix of shape (BATCH_SIZE, N_LABELS)\n",
        "        label_names (list of strings): column names in target matrix\n",
        "        model (tensorflow keras model): model to use for prediction\n",
        "        n_thresh (int) : number of thresholds to try\n",
        "        \n",
        "    Returns:\n",
        "        grid (Pandas dataframe): performance table \n",
        "    \"\"\"\n",
        "    \n",
        "    # Get predictions\n",
        "    y_hat_val = model.predict(ds)\n",
        "    # Define target matrix\n",
        "    y_val = target\n",
        "    # Find label frequencies in the validation set\n",
        "    label_freq = target.sum(axis=0)\n",
        "    # Get label indexes\n",
        "    label_index = [i for i in range(len(label_names))]\n",
        "    # Define thresholds\n",
        "    thresholds = np.linspace(0,1,n_thresh+1).astype(np.float32)\n",
        "    \n",
        "    # Compute all metrics for all labels\n",
        "    ids, labels, freqs, tps, fps, fns, precisions, recalls, f1s = [], [], [], [], [], [], [], [], []\n",
        "    for l in label_index:\n",
        "        for thresh in thresholds:   \n",
        "            ids.append(l)\n",
        "            labels.append(label_names[l])\n",
        "            freqs.append(round(label_freq[l]/len(y_val),2))\n",
        "            y_hat = y_hat_val[:,l]\n",
        "            y = y_val[:,l]\n",
        "            y_pred = y_hat > thresh\n",
        "            tp = np.count_nonzero(y_pred  * y)\n",
        "            fp = np.count_nonzero(y_pred * (1-y))\n",
        "            fn = np.count_nonzero((1-y_pred) * y)\n",
        "            precision = tp / (tp + fp + 1e-16)\n",
        "            recall = tp / (tp + fn + 1e-16)\n",
        "            f1 = 2*tp / (2*tp + fn + fp + 1e-16)\n",
        "            tps.append(tp)\n",
        "            fps.append(fp)\n",
        "            fns.append(fn)\n",
        "            precisions.append(precision)\n",
        "            recalls.append(recall)\n",
        "            f1s.append(f1)\n",
        "            \n",
        "    # Create the performance dataframe\n",
        "    grid = pd.DataFrame({\n",
        "        'id':ids,\n",
        "        'label':labels,\n",
        "        'freq':freqs,\n",
        "        'threshold':list(thresholds)*len(label_index),\n",
        "        'tp':tps,\n",
        "        'fp':fps,\n",
        "        'fn':fns,\n",
        "        'precision':precisions,\n",
        "        'recall':recalls,\n",
        "        'f1':f1s})\n",
        "    \n",
        "    grid = grid[['id', 'label', 'freq', 'threshold',\n",
        "                 'tp', 'fn', 'fp', 'precision', 'recall', 'f1']]\n",
        "    \n",
        "    return grid"
      ],
      "execution_count": 0,
      "outputs": []
    },
    {
      "cell_type": "code",
      "metadata": {
        "id": "leBBctsj8PdS",
        "colab_type": "code",
        "colab": {}
      },
      "source": [
        "if (ERROR_TEST):\n",
        "    label_names = ['Drama']\n",
        "else:\n",
        "    label_names = ['Drama','Thriller','Comedy','Action','Crime',\n",
        "                   'Horror','Romance','Adventure','Mystery','Sci-Fi']"
      ],
      "execution_count": 0,
      "outputs": []
    },
    {
      "cell_type": "code",
      "metadata": {
        "id": "fcnORkWw8Udi",
        "colab_type": "code",
        "outputId": "e578413f-c6cb-47e7-e11b-9ea568121f02",
        "colab": {
          "base_uri": "https://localhost:8080/",
          "height": 139
        }
      },
      "source": [
        "n_thresh = 20\n",
        "with strategy.scope():\n",
        "    grid_train = perf_grid(bert_inputs_train_k, \n",
        "            labels_train_k, \n",
        "            label_names, \n",
        "            model, \n",
        "            n_thresh=n_thresh)\n",
        "    grid_dev = perf_grid(bert_inputs_dev_k, \n",
        "            labels_dev_k, \n",
        "            label_names, \n",
        "            model, \n",
        "            n_thresh=n_thresh)\n",
        "    grid_val = perf_grid(bert_inputs_val_k, \n",
        "            labels_val_k, \n",
        "            label_names, \n",
        "            model, \n",
        "            n_thresh=n_thresh)"
      ],
      "execution_count": 0,
      "outputs": [
        {
          "output_type": "stream",
          "text": [
            "WARNING:tensorflow:6 out of the last 6 calls to <function recreate_function.<locals>.restored_function_body at 0x7fa9c62c5268> triggered tf.function retracing. Tracing is expensive and the excessive number of tracings is likely due to passing python objects instead of tensors. Also, tf.function has experimental_relax_shapes=True option that relaxes argument shapes that can avoid unnecessary retracing. Please refer to https://www.tensorflow.org/tutorials/customization/performance#python_or_tensor_args and https://www.tensorflow.org/api_docs/python/tf/function for more details.\n"
          ],
          "name": "stdout"
        },
        {
          "output_type": "stream",
          "text": [
            "WARNING:tensorflow:6 out of the last 6 calls to <function recreate_function.<locals>.restored_function_body at 0x7fa9c62c5268> triggered tf.function retracing. Tracing is expensive and the excessive number of tracings is likely due to passing python objects instead of tensors. Also, tf.function has experimental_relax_shapes=True option that relaxes argument shapes that can avoid unnecessary retracing. Please refer to https://www.tensorflow.org/tutorials/customization/performance#python_or_tensor_args and https://www.tensorflow.org/api_docs/python/tf/function for more details.\n"
          ],
          "name": "stderr"
        },
        {
          "output_type": "stream",
          "text": [
            "WARNING:tensorflow:7 out of the last 7 calls to <function recreate_function.<locals>.restored_function_body at 0x7fa9c62c5268> triggered tf.function retracing. Tracing is expensive and the excessive number of tracings is likely due to passing python objects instead of tensors. Also, tf.function has experimental_relax_shapes=True option that relaxes argument shapes that can avoid unnecessary retracing. Please refer to https://www.tensorflow.org/tutorials/customization/performance#python_or_tensor_args and https://www.tensorflow.org/api_docs/python/tf/function for more details.\n"
          ],
          "name": "stdout"
        },
        {
          "output_type": "stream",
          "text": [
            "WARNING:tensorflow:7 out of the last 7 calls to <function recreate_function.<locals>.restored_function_body at 0x7fa9c62c5268> triggered tf.function retracing. Tracing is expensive and the excessive number of tracings is likely due to passing python objects instead of tensors. Also, tf.function has experimental_relax_shapes=True option that relaxes argument shapes that can avoid unnecessary retracing. Please refer to https://www.tensorflow.org/tutorials/customization/performance#python_or_tensor_args and https://www.tensorflow.org/api_docs/python/tf/function for more details.\n"
          ],
          "name": "stderr"
        },
        {
          "output_type": "stream",
          "text": [
            "WARNING:tensorflow:8 out of the last 8 calls to <function recreate_function.<locals>.restored_function_body at 0x7fa9c62c5268> triggered tf.function retracing. Tracing is expensive and the excessive number of tracings is likely due to passing python objects instead of tensors. Also, tf.function has experimental_relax_shapes=True option that relaxes argument shapes that can avoid unnecessary retracing. Please refer to https://www.tensorflow.org/tutorials/customization/performance#python_or_tensor_args and https://www.tensorflow.org/api_docs/python/tf/function for more details.\n"
          ],
          "name": "stdout"
        },
        {
          "output_type": "stream",
          "text": [
            "WARNING:tensorflow:8 out of the last 8 calls to <function recreate_function.<locals>.restored_function_body at 0x7fa9c62c5268> triggered tf.function retracing. Tracing is expensive and the excessive number of tracings is likely due to passing python objects instead of tensors. Also, tf.function has experimental_relax_shapes=True option that relaxes argument shapes that can avoid unnecessary retracing. Please refer to https://www.tensorflow.org/tutorials/customization/performance#python_or_tensor_args and https://www.tensorflow.org/api_docs/python/tf/function for more details.\n"
          ],
          "name": "stderr"
        }
      ]
    },
    {
      "cell_type": "code",
      "metadata": {
        "id": "-tPR1d6N7_eS",
        "colab_type": "code",
        "outputId": "899fc337-af61-4764-9fe3-4546d1b5c31b",
        "colab": {
          "base_uri": "https://localhost:8080/",
          "height": 612
        }
      },
      "source": [
        "import seaborn as sns\n",
        "\n",
        "def table_scores(grid_data, threshold):\n",
        "    max_perf = grid_data.loc[grid_data.threshold==threshold,:].groupby(['id', 'label', 'threshold','freq','precision','recall'])[['f1']].max().sort_values('f1', ascending=False).reset_index()\n",
        "    max_perf.rename(columns={'f1':'f1score'}, inplace=True)\n",
        "    max_perf.style.background_gradient(subset=['freq', 'f1score'], \n",
        "                                       cmap=sns.light_palette(\"lightgreen\", as_cmap=True))\n",
        "    return(max_perf)\n",
        "\n",
        "table_scores(grid_train, threshold=0.5).to_csv(plot_save_prefix + results_prefix + '_train.f1score')\n",
        "table_scores(grid_dev, threshold=0.5).to_csv(plot_save_prefix + results_prefix + '_dev.f1score')\n",
        "table_scores(grid_val, threshold=0.5).to_csv(plot_save_prefix + results_prefix + '_val.f1score')\n",
        "print(table_scores(grid_train, threshold=0.5))\n",
        "print(table_scores(grid_dev, threshold=0.5))\n",
        "print(table_scores(grid_val, threshold=0.5))\n"
      ],
      "execution_count": 0,
      "outputs": [
        {
          "output_type": "stream",
          "text": [
            "/usr/local/lib/python3.6/dist-packages/statsmodels/tools/_testing.py:19: FutureWarning: pandas.util.testing is deprecated. Use the functions in the public API at pandas.testing instead.\n",
            "  import pandas.util.testing as tm\n"
          ],
          "name": "stderr"
        },
        {
          "output_type": "stream",
          "text": [
            "   id      label  threshold  freq  precision    recall   f1score\n",
            "0   0      Drama        0.5  0.55   0.673953  0.713262  0.693051\n",
            "1   1   Thriller        0.5  0.20   0.473210  0.471116  0.472161\n",
            "2   6    Romance        0.5  0.20   0.396963  0.518693  0.449736\n",
            "3   5     Horror        0.5  0.12   0.393424  0.514801  0.446002\n",
            "4   2     Comedy        0.5  0.34   0.440690  0.422878  0.431601\n",
            "5   9     Sci-Fi        0.5  0.06   0.300725  0.575855  0.395113\n",
            "6   3     Action        0.5  0.15   0.352260  0.438088  0.390514\n",
            "7   4      Crime        0.5  0.13   0.272949  0.399773  0.324406\n",
            "8   8    Mystery        0.5  0.07   0.223304  0.451926  0.298911\n",
            "9   7  Adventure        0.5  0.09   0.204148  0.393792  0.268896\n",
            "   id      label  threshold  freq  precision    recall   f1score\n",
            "0   0      Drama        0.5  0.55   0.627106  0.683176  0.653941\n",
            "1   6    Romance        0.5  0.20   0.348953  0.451759  0.393756\n",
            "2   1   Thriller        0.5  0.19   0.382766  0.383534  0.383149\n",
            "3   2     Comedy        0.5  0.35   0.392059  0.369430  0.380408\n",
            "4   5     Horror        0.5  0.12   0.328412  0.400436  0.360865\n",
            "5   3     Action        0.5  0.15   0.294076  0.355479  0.321875\n",
            "6   9     Sci-Fi        0.5  0.06   0.220888  0.421535  0.289878\n",
            "7   4      Crime        0.5  0.13   0.212689  0.328593  0.258232\n",
            "8   7  Adventure        0.5  0.09   0.168826  0.300216  0.216118\n",
            "9   8    Mystery        0.5  0.07   0.154134  0.306122  0.205033\n",
            "   id      label  threshold  freq  precision    recall   f1score\n",
            "0   0      Drama        0.5  0.56   0.643973  0.682534  0.662693\n",
            "1   2     Comedy        0.5  0.34   0.395572  0.378219  0.386700\n",
            "2   6    Romance        0.5  0.20   0.337610  0.444077  0.383593\n",
            "3   1   Thriller        0.5  0.19   0.371185  0.381579  0.376310\n",
            "4   5     Horror        0.5  0.12   0.330017  0.422247  0.370478\n",
            "5   3     Action        0.5  0.15   0.293667  0.361147  0.323930\n",
            "6   9     Sci-Fi        0.5  0.06   0.237397  0.426316  0.304970\n",
            "7   4      Crime        0.5  0.13   0.210203  0.320848  0.253999\n",
            "8   8    Mystery        0.5  0.08   0.173756  0.330465  0.227758\n",
            "9   7  Adventure        0.5  0.09   0.157277  0.305471  0.207645\n"
          ],
          "name": "stdout"
        }
      ]
    },
    {
      "cell_type": "code",
      "metadata": {
        "id": "eWmcp0g9mHCP",
        "colab_type": "code",
        "outputId": "ad8e8597-71ae-4fd2-c1c7-608aaf784b16",
        "colab": {
          "base_uri": "https://localhost:8080/"
        }
      },
      "source": [
        "plot_save_prefix + results_prefix"
      ],
      "execution_count": 0,
      "outputs": [
        {
          "output_type": "execute_result",
          "data": {
            "text/plain": [
              "'/content/drive/My Drive/w266-FinalProject/MoviePlots/plots/baseline/baseline_seqlen_128_ADAM_EPOCHS_30_LR_0.0001_LOSS_macro_double_soft_f1_NoOS'"
            ]
          },
          "metadata": {
            "tags": []
          },
          "execution_count": 59
        }
      ]
    },
    {
      "cell_type": "code",
      "metadata": {
        "id": "dgmWBDexiVgh",
        "colab_type": "code",
        "colab": {}
      },
      "source": [
        "# Only for Baseline Error Testing with 1 Label\n",
        "if (NUM_LABELS == 1):\n",
        "    from sklearn.metrics import confusion_matrix\n",
        "\n",
        "    out_data = ''\n",
        "\n",
        "    num_results = NUM_TRAIN_SAMPLES\n",
        "    bert_inputs_infer = [bert_inputs_train_k[0][:num_results], bert_inputs_train_k[1][:num_results], bert_inputs_train_k[2][:num_results]]\n",
        "\n",
        "    result_train = model.predict(\n",
        "        bert_inputs_infer, \n",
        "        batch_size=BATCH_SIZE\n",
        "    )\n",
        "\n",
        "    # Putting the threshold at 0.5\n",
        "    threshold = 0.5\n",
        "\n",
        "    out_data = out_data + 'Confusion matrix for train...\\n'\n",
        "    out_data = out_data + str(confusion_matrix(y_train[:num_results].astype(np.int), (result_train > threshold).astype(np.int))) + '\\n'\n",
        "\n",
        "    print('Confusion matrix for train...')\n",
        "    print(confusion_matrix(y_train[:num_results].astype(np.int), (result_train > threshold).astype(np.int)))\n",
        "\n",
        "    num_results = NUM_VAL_SAMPLES\n",
        "    bert_inputs_infer = [bert_inputs_val_k[0][:num_results], bert_inputs_val_k[1][:num_results], bert_inputs_val_k[2][:num_results]]\n",
        "\n",
        "    result_val = model.predict(\n",
        "        bert_inputs_infer, \n",
        "        batch_size=BATCH_SIZE\n",
        "    )\n",
        "\n",
        "    out_data = out_data + 'Confusion matrix for train...\\n'\n",
        "    out_data = out_data + str(confusion_matrix(y_val[:num_results].astype(np.int), (result_val > threshold).astype(np.int))) + '\\n'\n",
        "    print('Confusion matrix for val...')\n",
        "    print(confusion_matrix(y_val[:num_results].astype(np.int), (result_val > threshold).astype(np.int)))\n",
        "\n",
        "\n",
        "    num_results = NUM_DEV_SAMPLES\n",
        "    bert_inputs_infer = [bert_inputs_dev_k[0][:num_results], bert_inputs_dev_k[1][:num_results], bert_inputs_dev_k[2][:num_results]]\n",
        "\n",
        "    result_dev = model.predict(\n",
        "        bert_inputs_infer, \n",
        "        batch_size=BATCH_SIZE\n",
        "    )\n",
        "\n",
        "    out_data = out_data + 'Confusion matrix for train...\\n'\n",
        "    out_data = out_data + str(confusion_matrix(y_dev[:num_results].astype(np.int), (result_dev > threshold).astype(np.int))) + '\\n'\n",
        "    print('Confusion matrix for dev...')\n",
        "    print(confusion_matrix(y_dev[:num_results].astype(np.int), (result_dev > threshold).astype(np.int)))\n",
        "\n",
        "\n",
        "    with open(model_save_prefix + results_prefix + 'cm.data', 'a') as the_file:\n",
        "        the_file.write(out_data)\n"
      ],
      "execution_count": 0,
      "outputs": []
    }
  ]
}