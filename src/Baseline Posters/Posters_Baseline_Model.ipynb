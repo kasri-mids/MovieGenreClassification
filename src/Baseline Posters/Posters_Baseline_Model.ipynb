{
  "nbformat": 4,
  "nbformat_minor": 0,
  "metadata": {
    "kernelspec": {
      "name": "python3",
      "display_name": "Python 3"
    },
    "language_info": {
      "codemirror_mode": {
        "name": "ipython",
        "version": 3
      },
      "file_extension": ".py",
      "mimetype": "text/x-python",
      "name": "python",
      "nbconvert_exporter": "python",
      "pygments_lexer": "ipython3",
      "version": "3.7.5"
    },
    "colab": {
      "name": "Posters Baseline Model",
      "provenance": [],
      "collapsed_sections": []
    },
    "accelerator": "TPU"
  },
  "cells": [
    {
      "cell_type": "markdown",
      "metadata": {
        "id": "jSXklvdI2Gbx",
        "colab_type": "text"
      },
      "source": [
        "# Baseline Model\n",
        "\n",
        "In this notebook, we load the relevant feature vectors generated using a pre-trained ResNet50 model and then create a baseline model using the train, dev and val data that we generated previously.\n",
        "\n",
        "Within the notebook, there is also code to oversample the data and we test our model, both on the no-oversampled and oversampled dataset.\n",
        "\n",
        "Further, we use custom loss and accuracy functions which are defined below in the notebook."
      ]
    },
    {
      "cell_type": "markdown",
      "metadata": {
        "id": "fVbYo3DO2q_X",
        "colab_type": "text"
      },
      "source": [
        "### Load Modules <a id=\"load\" />\n"
      ]
    },
    {
      "cell_type": "code",
      "metadata": {
        "id": "zrC_r0FtvfAF",
        "colab_type": "code",
        "outputId": "b26dcd33-9a48-4891-d3eb-1d779a0542bc",
        "colab": {
          "base_uri": "https://localhost:8080/",
          "height": 1000
        }
      },
      "source": [
        "#%tensorflow_version 2.1\n",
        "!pip install tensorflow==2.1.0"
      ],
      "execution_count": 0,
      "outputs": [
        {
          "output_type": "stream",
          "text": [
            "Collecting tensorflow==2.1.0\n",
            "\u001b[?25l  Downloading https://files.pythonhosted.org/packages/85/d4/c0cd1057b331bc38b65478302114194bd8e1b9c2bbc06e300935c0e93d90/tensorflow-2.1.0-cp36-cp36m-manylinux2010_x86_64.whl (421.8MB)\n",
            "\u001b[K     |████████████████████████████████| 421.8MB 38kB/s \n",
            "\u001b[?25hRequirement already satisfied: protobuf>=3.8.0 in /usr/local/lib/python3.6/dist-packages (from tensorflow==2.1.0) (3.10.0)\n",
            "Collecting gast==0.2.2\n",
            "  Downloading https://files.pythonhosted.org/packages/4e/35/11749bf99b2d4e3cceb4d55ca22590b0d7c2c62b9de38ac4a4a7f4687421/gast-0.2.2.tar.gz\n",
            "Requirement already satisfied: six>=1.12.0 in /usr/local/lib/python3.6/dist-packages (from tensorflow==2.1.0) (1.12.0)\n",
            "Requirement already satisfied: wrapt>=1.11.1 in /usr/local/lib/python3.6/dist-packages (from tensorflow==2.1.0) (1.12.1)\n",
            "Requirement already satisfied: google-pasta>=0.1.6 in /usr/local/lib/python3.6/dist-packages (from tensorflow==2.1.0) (0.2.0)\n",
            "Collecting tensorflow-estimator<2.2.0,>=2.1.0rc0\n",
            "\u001b[?25l  Downloading https://files.pythonhosted.org/packages/18/90/b77c328a1304437ab1310b463e533fa7689f4bfc41549593056d812fab8e/tensorflow_estimator-2.1.0-py2.py3-none-any.whl (448kB)\n",
            "\u001b[K     |████████████████████████████████| 450kB 33.7MB/s \n",
            "\u001b[?25hRequirement already satisfied: scipy==1.4.1; python_version >= \"3\" in /usr/local/lib/python3.6/dist-packages (from tensorflow==2.1.0) (1.4.1)\n",
            "Requirement already satisfied: keras-preprocessing>=1.1.0 in /usr/local/lib/python3.6/dist-packages (from tensorflow==2.1.0) (1.1.0)\n",
            "Collecting tensorboard<2.2.0,>=2.1.0\n",
            "\u001b[?25l  Downloading https://files.pythonhosted.org/packages/d9/41/bbf49b61370e4f4d245d4c6051dfb6db80cec672605c91b1652ac8cc3d38/tensorboard-2.1.1-py3-none-any.whl (3.8MB)\n",
            "\u001b[K     |████████████████████████████████| 3.9MB 33.3MB/s \n",
            "\u001b[?25hRequirement already satisfied: keras-applications>=1.0.8 in /usr/local/lib/python3.6/dist-packages (from tensorflow==2.1.0) (1.0.8)\n",
            "Requirement already satisfied: termcolor>=1.1.0 in /usr/local/lib/python3.6/dist-packages (from tensorflow==2.1.0) (1.1.0)\n",
            "Requirement already satisfied: wheel>=0.26; python_version >= \"3\" in /usr/local/lib/python3.6/dist-packages (from tensorflow==2.1.0) (0.34.2)\n",
            "Requirement already satisfied: numpy<2.0,>=1.16.0 in /usr/local/lib/python3.6/dist-packages (from tensorflow==2.1.0) (1.18.2)\n",
            "Requirement already satisfied: absl-py>=0.7.0 in /usr/local/lib/python3.6/dist-packages (from tensorflow==2.1.0) (0.9.0)\n",
            "Requirement already satisfied: opt-einsum>=2.3.2 in /usr/local/lib/python3.6/dist-packages (from tensorflow==2.1.0) (3.2.0)\n",
            "Requirement already satisfied: grpcio>=1.8.6 in /usr/local/lib/python3.6/dist-packages (from tensorflow==2.1.0) (1.27.2)\n",
            "Requirement already satisfied: astor>=0.6.0 in /usr/local/lib/python3.6/dist-packages (from tensorflow==2.1.0) (0.8.1)\n",
            "Requirement already satisfied: setuptools in /usr/local/lib/python3.6/dist-packages (from protobuf>=3.8.0->tensorflow==2.1.0) (46.1.3)\n",
            "Requirement already satisfied: google-auth<2,>=1.6.3 in /usr/local/lib/python3.6/dist-packages (from tensorboard<2.2.0,>=2.1.0->tensorflow==2.1.0) (1.7.2)\n",
            "Requirement already satisfied: werkzeug>=0.11.15 in /usr/local/lib/python3.6/dist-packages (from tensorboard<2.2.0,>=2.1.0->tensorflow==2.1.0) (1.0.1)\n",
            "Requirement already satisfied: requests<3,>=2.21.0 in /usr/local/lib/python3.6/dist-packages (from tensorboard<2.2.0,>=2.1.0->tensorflow==2.1.0) (2.21.0)\n",
            "Requirement already satisfied: markdown>=2.6.8 in /usr/local/lib/python3.6/dist-packages (from tensorboard<2.2.0,>=2.1.0->tensorflow==2.1.0) (3.2.1)\n",
            "Requirement already satisfied: google-auth-oauthlib<0.5,>=0.4.1 in /usr/local/lib/python3.6/dist-packages (from tensorboard<2.2.0,>=2.1.0->tensorflow==2.1.0) (0.4.1)\n",
            "Requirement already satisfied: h5py in /usr/local/lib/python3.6/dist-packages (from keras-applications>=1.0.8->tensorflow==2.1.0) (2.10.0)\n",
            "Requirement already satisfied: rsa<4.1,>=3.1.4 in /usr/local/lib/python3.6/dist-packages (from google-auth<2,>=1.6.3->tensorboard<2.2.0,>=2.1.0->tensorflow==2.1.0) (4.0)\n",
            "Requirement already satisfied: pyasn1-modules>=0.2.1 in /usr/local/lib/python3.6/dist-packages (from google-auth<2,>=1.6.3->tensorboard<2.2.0,>=2.1.0->tensorflow==2.1.0) (0.2.8)\n",
            "Requirement already satisfied: cachetools<3.2,>=2.0.0 in /usr/local/lib/python3.6/dist-packages (from google-auth<2,>=1.6.3->tensorboard<2.2.0,>=2.1.0->tensorflow==2.1.0) (3.1.1)\n",
            "Requirement already satisfied: certifi>=2017.4.17 in /usr/local/lib/python3.6/dist-packages (from requests<3,>=2.21.0->tensorboard<2.2.0,>=2.1.0->tensorflow==2.1.0) (2019.11.28)\n",
            "Requirement already satisfied: idna<2.9,>=2.5 in /usr/local/lib/python3.6/dist-packages (from requests<3,>=2.21.0->tensorboard<2.2.0,>=2.1.0->tensorflow==2.1.0) (2.8)\n",
            "Requirement already satisfied: urllib3<1.25,>=1.21.1 in /usr/local/lib/python3.6/dist-packages (from requests<3,>=2.21.0->tensorboard<2.2.0,>=2.1.0->tensorflow==2.1.0) (1.24.3)\n",
            "Requirement already satisfied: chardet<3.1.0,>=3.0.2 in /usr/local/lib/python3.6/dist-packages (from requests<3,>=2.21.0->tensorboard<2.2.0,>=2.1.0->tensorflow==2.1.0) (3.0.4)\n",
            "Requirement already satisfied: requests-oauthlib>=0.7.0 in /usr/local/lib/python3.6/dist-packages (from google-auth-oauthlib<0.5,>=0.4.1->tensorboard<2.2.0,>=2.1.0->tensorflow==2.1.0) (1.3.0)\n",
            "Requirement already satisfied: pyasn1>=0.1.3 in /usr/local/lib/python3.6/dist-packages (from rsa<4.1,>=3.1.4->google-auth<2,>=1.6.3->tensorboard<2.2.0,>=2.1.0->tensorflow==2.1.0) (0.4.8)\n",
            "Requirement already satisfied: oauthlib>=3.0.0 in /usr/local/lib/python3.6/dist-packages (from requests-oauthlib>=0.7.0->google-auth-oauthlib<0.5,>=0.4.1->tensorboard<2.2.0,>=2.1.0->tensorflow==2.1.0) (3.1.0)\n",
            "Building wheels for collected packages: gast\n",
            "  Building wheel for gast (setup.py) ... \u001b[?25l\u001b[?25hdone\n",
            "  Created wheel for gast: filename=gast-0.2.2-cp36-none-any.whl size=7540 sha256=46de373eb11d686ffafb830598c446609178ba2ae368c7dbb95ec3cbd1a642d6\n",
            "  Stored in directory: /root/.cache/pip/wheels/5c/2e/7e/a1d4d4fcebe6c381f378ce7743a3ced3699feb89bcfbdadadd\n",
            "Successfully built gast\n",
            "Installing collected packages: gast, tensorflow-estimator, tensorboard, tensorflow\n",
            "  Found existing installation: gast 0.3.3\n",
            "    Uninstalling gast-0.3.3:\n",
            "      Successfully uninstalled gast-0.3.3\n",
            "  Found existing installation: tensorflow-estimator 2.2.0rc0\n",
            "    Uninstalling tensorflow-estimator-2.2.0rc0:\n",
            "      Successfully uninstalled tensorflow-estimator-2.2.0rc0\n",
            "  Found existing installation: tensorboard 2.2.0\n",
            "    Uninstalling tensorboard-2.2.0:\n",
            "      Successfully uninstalled tensorboard-2.2.0\n",
            "  Found existing installation: tensorflow 2.2.0rc2\n",
            "    Uninstalling tensorflow-2.2.0rc2:\n",
            "      Successfully uninstalled tensorflow-2.2.0rc2\n",
            "Successfully installed gast-0.2.2 tensorboard-2.1.1 tensorflow-2.1.0 tensorflow-estimator-2.1.0\n"
          ],
          "name": "stdout"
        }
      ]
    },
    {
      "cell_type": "code",
      "metadata": {
        "id": "3w7L5zbovgiW",
        "colab_type": "code",
        "outputId": "63cec33f-ec57-410f-ad68-e33cd764045a",
        "colab": {
          "base_uri": "https://localhost:8080/",
          "height": 34
        }
      },
      "source": [
        "import tensorflow as tf\n",
        "print(tf.__version__)"
      ],
      "execution_count": 0,
      "outputs": [
        {
          "output_type": "stream",
          "text": [
            "2.1.0\n"
          ],
          "name": "stdout"
        }
      ]
    },
    {
      "cell_type": "code",
      "metadata": {
        "id": "7fj6qsyA4LcT",
        "colab_type": "code",
        "outputId": "870658b5-fd36-4d1e-8812-b866a2b9daa8",
        "colab": {
          "base_uri": "https://localhost:8080/",
          "height": 34
        }
      },
      "source": [
        "# Imports\n",
        "\n",
        "import json\n",
        "import pandas as pd\n",
        "import numpy as np\n",
        "import os\n",
        "import sys\n",
        "import tensorflow as tf\n",
        "import tensorflow_hub as hub\n",
        "from time import time\n",
        "import io\n",
        "import re\n",
        "from csv import reader\n",
        "from datetime import datetime\n",
        "import matplotlib.pyplot as plt\n",
        "\n",
        "import matplotlib.pyplot as plt\n",
        "from matplotlib import colors\n",
        "from matplotlib.ticker import PercentFormatter\n",
        "\n",
        "from tensorflow.keras import backend as K\n",
        "from tensorflow.keras import layers\n",
        "from tensorflow.python.keras.layers import Lambda\n",
        "from tensorflow.keras.callbacks import TensorBoard\n",
        "from tensorflow.keras.backend import sparse_categorical_crossentropy\n",
        "from tensorflow.keras.layers import Dense, TimeDistributed\n",
        "\n",
        "from sklearn.model_selection import train_test_split\n",
        "from sklearn.preprocessing import MultiLabelBinarizer\n",
        "from sklearn.model_selection import train_test_split\n",
        "\n",
        "import keras.backend.tensorflow_backend as tfb\n",
        "\n",
        "from tensorflow.keras.mixed_precision import experimental as mixed_precision\n",
        "from keras import initializers\n"
      ],
      "execution_count": 0,
      "outputs": [
        {
          "output_type": "stream",
          "text": [
            "Using TensorFlow backend.\n"
          ],
          "name": "stderr"
        }
      ]
    },
    {
      "cell_type": "code",
      "metadata": {
        "id": "7IXX1AjPakpU",
        "colab_type": "code",
        "outputId": "3d060c2b-ee83-47ae-c08b-b2d3d2971828",
        "colab": {
          "base_uri": "https://localhost:8080/",
          "height": 122
        }
      },
      "source": [
        "from google.colab import drive\n",
        "drive.mount('/content/drive', force_remount=True)"
      ],
      "execution_count": 0,
      "outputs": [
        {
          "output_type": "stream",
          "text": [
            "Go to this URL in a browser: https://accounts.google.com/o/oauth2/auth?client_id=947318989803-6bn6qk8qdgf4n4g3pfee6491hc0brc4i.apps.googleusercontent.com&redirect_uri=urn%3aietf%3awg%3aoauth%3a2.0%3aoob&response_type=code&scope=email%20https%3a%2f%2fwww.googleapis.com%2fauth%2fdocs.test%20https%3a%2f%2fwww.googleapis.com%2fauth%2fdrive%20https%3a%2f%2fwww.googleapis.com%2fauth%2fdrive.photos.readonly%20https%3a%2f%2fwww.googleapis.com%2fauth%2fpeopleapi.readonly\n",
            "\n",
            "Enter your authorization code:\n",
            "··········\n",
            "Mounted at /content/drive\n"
          ],
          "name": "stdout"
        }
      ]
    },
    {
      "cell_type": "code",
      "metadata": {
        "id": "FzrTwRtjkc4q",
        "colab_type": "code",
        "colab": {}
      },
      "source": [
        "ERROR_TEST = 0\n",
        "OVERSAMPLING = False\n",
        "\n",
        "if (ERROR_TEST):\n",
        "    NUM_LABELS = 1\n",
        "    OVERSAMPLING = False\n",
        "\n",
        "    data_save_prefix = '/content/drive/My Drive/w266-FinalProject/Posters/data/baseline_test/'\n",
        "    model_save_prefix = '/content/drive/My Drive/w266-FinalProject/Posters/model/baseline_test/'\n",
        "    plot_save_prefix = '/content/drive/My Drive/w266-FinalProject/Posters/plots/baseline_test/'\n",
        "    data_load_prefix = '/content/drive/My Drive/w266-FinalProject/MoviePlotsAndPosters/data/'\n",
        "\n",
        "else:\n",
        "    NUM_LABELS = 10\n",
        "\n",
        "    data_save_prefix = '/content/drive/My Drive/w266-FinalProject/Posters/data/baseline/'\n",
        "    model_save_prefix = '/content/drive/My Drive/w266-FinalProject/Posters/model/baseline/'\n",
        "    plot_save_prefix = '/content/drive/My Drive/w266-FinalProject/Posters/plots/baseline/'\n",
        "    data_load_prefix = '/content/drive/My Drive/w266-FinalProject/MoviePlotsAndPosters/data/'\n"
      ],
      "execution_count": 0,
      "outputs": []
    },
    {
      "cell_type": "markdown",
      "metadata": {
        "id": "w6y3tkjk2waW",
        "colab_type": "text"
      },
      "source": [
        "### Load Dataset <a id=\"loadData\" />\n"
      ]
    },
    {
      "cell_type": "code",
      "metadata": {
        "id": "tIXEuxkE5s3i",
        "colab_type": "code",
        "colab": {}
      },
      "source": [
        "y_train = np.load(data_load_prefix + 'clean_train_poster_labels_' + str(NUM_LABELS) + '.data.npy', allow_pickle=True)\n",
        "y_dev = np.load(data_load_prefix + 'clean_dev_poster_labels_' + str(NUM_LABELS) + '.data.npy', allow_pickle=True)\n",
        "y_val = np.load(data_load_prefix + 'clean_val_poster_labels_' + str(NUM_LABELS) + '.data.npy', allow_pickle=True)\n",
        "\n",
        "X_train = np.load(data_load_prefix + 'clean_train_poster_vectors.data.npy', allow_pickle=True)\n",
        "X_dev = np.load(data_load_prefix + 'clean_dev_poster_vectors.data.npy', allow_pickle=True)\n",
        "X_val = np.load(data_load_prefix + 'clean_val_poster_vectors.data.npy', allow_pickle=True)"
      ],
      "execution_count": 0,
      "outputs": []
    },
    {
      "cell_type": "code",
      "metadata": {
        "id": "Bx10ZSjO7i9j",
        "colab_type": "code",
        "outputId": "9caef8f9-de0c-443a-b655-69bb5b17a9d6",
        "colab": {
          "base_uri": "https://localhost:8080/",
          "height": 68
        }
      },
      "source": [
        "print(X_train.shape)\n",
        "print(X_dev.shape)\n",
        "print(X_val.shape)"
      ],
      "execution_count": 0,
      "outputs": [
        {
          "output_type": "stream",
          "text": [
            "(46970, 2048)\n",
            "(15438, 2048)\n",
            "(15600, 2048)\n"
          ],
          "name": "stdout"
        }
      ]
    },
    {
      "cell_type": "code",
      "metadata": {
        "id": "Mzjjb9cgWj0B",
        "colab_type": "code",
        "outputId": "1e8aa517-7f2e-4026-ecd0-88e601813914",
        "colab": {
          "base_uri": "https://localhost:8080/",
          "height": 68
        }
      },
      "source": [
        "print(y_train.shape)\n",
        "print(y_dev.shape)\n",
        "print(y_val.shape)"
      ],
      "execution_count": 0,
      "outputs": [
        {
          "output_type": "stream",
          "text": [
            "(46970, 10)\n",
            "(15438, 10)\n",
            "(15600, 10)\n"
          ],
          "name": "stdout"
        }
      ]
    },
    {
      "cell_type": "code",
      "metadata": {
        "id": "GB_EoQxYEXhV",
        "colab_type": "code",
        "outputId": "b46a4927-5532-494e-9757-e9966b86eb51",
        "colab": {
          "base_uri": "https://localhost:8080/",
          "height": 34
        }
      },
      "source": [
        "np.max(X_train[0])"
      ],
      "execution_count": 0,
      "outputs": [
        {
          "output_type": "execute_result",
          "data": {
            "text/plain": [
              "10.994573"
            ]
          },
          "metadata": {
            "tags": []
          },
          "execution_count": 9
        }
      ]
    },
    {
      "cell_type": "code",
      "metadata": {
        "id": "wSUYxsQ2tB_h",
        "colab_type": "code",
        "outputId": "593427fc-7ef5-4371-df4b-3a2ee227f297",
        "colab": {
          "base_uri": "https://localhost:8080/",
          "height": 204
        }
      },
      "source": [
        "use_cols = ['movieid', 'movieplot']\n",
        "df = pd.read_csv('/content/drive/My Drive/w266-FinalProject/MoviePlotsAndPosters/data/clean_poster_data_' + str(NUM_LABELS) + '.csv',\n",
        "                 usecols=use_cols)\n",
        "df.head()"
      ],
      "execution_count": 0,
      "outputs": [
        {
          "output_type": "execute_result",
          "data": {
            "text/html": [
              "<div>\n",
              "<style scoped>\n",
              "    .dataframe tbody tr th:only-of-type {\n",
              "        vertical-align: middle;\n",
              "    }\n",
              "\n",
              "    .dataframe tbody tr th {\n",
              "        vertical-align: top;\n",
              "    }\n",
              "\n",
              "    .dataframe thead th {\n",
              "        text-align: right;\n",
              "    }\n",
              "</style>\n",
              "<table border=\"1\" class=\"dataframe\">\n",
              "  <thead>\n",
              "    <tr style=\"text-align: right;\">\n",
              "      <th></th>\n",
              "      <th>movieid</th>\n",
              "      <th>movieplot</th>\n",
              "    </tr>\n",
              "  </thead>\n",
              "  <tbody>\n",
              "    <tr>\n",
              "      <th>0</th>\n",
              "      <td>tt0007610</td>\n",
              "      <td>A judge who had taken part in the gold rush of...</td>\n",
              "    </tr>\n",
              "    <tr>\n",
              "      <th>1</th>\n",
              "      <td>tt0005078</td>\n",
              "      <td>Richard Hardy, a hardworking stockbroker, labo...</td>\n",
              "    </tr>\n",
              "    <tr>\n",
              "      <th>2</th>\n",
              "      <td>tt0007257</td>\n",
              "      <td>Reggie, a wealthy young man about town, is eag...</td>\n",
              "    </tr>\n",
              "    <tr>\n",
              "      <th>3</th>\n",
              "      <td>tt0008011</td>\n",
              "      <td>Living in the country with her widowed mother,...</td>\n",
              "    </tr>\n",
              "    <tr>\n",
              "      <th>4</th>\n",
              "      <td>tt0003772</td>\n",
              "      <td>Based on the fairy tale: Cinderella is mistrea...</td>\n",
              "    </tr>\n",
              "  </tbody>\n",
              "</table>\n",
              "</div>"
            ],
            "text/plain": [
              "     movieid                                          movieplot\n",
              "0  tt0007610  A judge who had taken part in the gold rush of...\n",
              "1  tt0005078  Richard Hardy, a hardworking stockbroker, labo...\n",
              "2  tt0007257  Reggie, a wealthy young man about town, is eag...\n",
              "3  tt0008011  Living in the country with her widowed mother,...\n",
              "4  tt0003772  Based on the fairy tale: Cinderella is mistrea..."
            ]
          },
          "metadata": {
            "tags": []
          },
          "execution_count": 10
        }
      ]
    },
    {
      "cell_type": "code",
      "metadata": {
        "id": "NcTF3CzJls1D",
        "colab_type": "code",
        "outputId": "9fae902a-9deb-4606-c133-7f28c98faaad",
        "colab": {
          "base_uri": "https://localhost:8080/",
          "height": 34
        }
      },
      "source": [
        "df.shape"
      ],
      "execution_count": 0,
      "outputs": [
        {
          "output_type": "execute_result",
          "data": {
            "text/plain": [
              "(78008, 2)"
            ]
          },
          "metadata": {
            "tags": []
          },
          "execution_count": 11
        }
      ]
    },
    {
      "cell_type": "code",
      "metadata": {
        "id": "UzrLeVgjl6sm",
        "colab_type": "code",
        "outputId": "e4d987c1-30b1-4744-f558-c74a9cdf3100",
        "colab": {
          "base_uri": "https://localhost:8080/",
          "height": 34
        }
      },
      "source": [
        "len(df.movieid.unique())"
      ],
      "execution_count": 0,
      "outputs": [
        {
          "output_type": "execute_result",
          "data": {
            "text/plain": [
              "78008"
            ]
          },
          "metadata": {
            "tags": []
          },
          "execution_count": 12
        }
      ]
    },
    {
      "cell_type": "code",
      "metadata": {
        "id": "JGRkplFBgQi3",
        "colab_type": "code",
        "colab": {}
      },
      "source": [
        "# Oversampling Train Dataset"
      ],
      "execution_count": 0,
      "outputs": []
    },
    {
      "cell_type": "code",
      "metadata": {
        "id": "06FEAzcagQ-n",
        "colab_type": "code",
        "colab": {}
      },
      "source": [
        "def oversample_keeping_original(X, y, bottom_n = 6, count_per_category = 5000):\n",
        "    genre_counts = np.sum(y,axis = 0)\n",
        "    genre_sorted_index = np.argsort(genre_counts)[:bottom_n]\n",
        "    np.random.seed(0)\n",
        "    \n",
        "    new_y = np.array([])\n",
        "    new_X = np.array([])\n",
        "    list_samples = np.array([])\n",
        "    for index,i in enumerate(genre_sorted_index):\n",
        "        indices = np.where(y[:,i]>0)\n",
        "        samples = np.random.choice(indices[0],count_per_category)\n",
        "        # print(i,samples[-20:])\n",
        "        if index==0:\n",
        "            new_y = np.concatenate((y, y[samples,:]), axis = 0)\n",
        "            new_X = np.concatenate((X, X[samples,:]), axis = 0)\n",
        "            print(\"index 0 \", np.arange(X.shape[1]))\n",
        "            list_samples = np.concatenate((np.arange(X.shape[0]) ,samples), axis = 0)\n",
        "        else:\n",
        "            new_y = np.concatenate((new_y, y[samples,:]), axis=0)\n",
        "            new_X = np.concatenate((new_X, X[samples,:]), axis = 0)\n",
        "            list_samples = np.concatenate((list_samples, samples), axis=0)\n",
        "\n",
        "    indexArray = np.arange(0, new_y.shape[0], 1, dtype=np.int32)\n",
        "    print(\"Len of index array is \", len(indexArray))\n",
        "\n",
        "    np.random.seed(0)\n",
        "    np.random.shuffle(indexArray)\n",
        "\n",
        "    print(new_X.shape)\n",
        "    print(new_y.shape)\n",
        "    print(list_samples.shape)\n",
        "\n",
        "    return (new_X[indexArray], new_y[indexArray], list_samples[indexArray])"
      ],
      "execution_count": 0,
      "outputs": []
    },
    {
      "cell_type": "code",
      "metadata": {
        "id": "UsVCTUPWgTY-",
        "colab_type": "code",
        "outputId": "3eeeac56-a257-44c9-ec28-e1dc62a51105",
        "colab": {
          "base_uri": "https://localhost:8080/",
          "height": 221
        }
      },
      "source": [
        "if (OVERSAMPLING):\n",
        "    new_X_train, new_y_train, list_samples = oversample_keeping_original(X_train, y_train, bottom_n = 6, count_per_category = 5000)\n",
        "    # new_df_train = df_train.iloc[list_samples]\n",
        "    \n",
        "    print(np.sum(y_train,axis = 0)/y_train.shape[0])\n",
        "    print(np.sum(new_y_train,axis = 0)/new_y_train.shape[0])\n",
        "    \n",
        "    print(new_X_train.shape)\n",
        "    print(new_y_train.shape)\n",
        "    print(len(list_samples))"
      ],
      "execution_count": 0,
      "outputs": [
        {
          "output_type": "stream",
          "text": [
            "index 0  [   0    1    2 ... 2045 2046 2047]\n",
            "Len of index array is  76970\n",
            "(76970, 2048)\n",
            "(76970, 10)\n",
            "(76970,)\n",
            "[0.55465191 0.19650841 0.34430488 0.15190547 0.13385139 0.11807537\n",
            " 0.19759421 0.08909943 0.07404726 0.06086864]\n",
            "[0.48726777 0.27334026 0.29650513 0.24108094 0.19822009 0.19175003\n",
            " 0.16266078 0.16438872 0.14905807 0.14058724]\n",
            "(76970, 2048)\n",
            "(76970, 10)\n",
            "76970\n"
          ],
          "name": "stdout"
        }
      ]
    },
    {
      "cell_type": "markdown",
      "metadata": {
        "id": "mumlYFVJg243",
        "colab_type": "text"
      },
      "source": [
        "### Custom Loss and Accuracy Functions"
      ]
    },
    {
      "cell_type": "code",
      "metadata": {
        "id": "BfmtB4-E4dkC",
        "colab_type": "code",
        "colab": {}
      },
      "source": [
        "#@tf.function\n",
        "def macro_f1(y, y_hat, thresh=0.5):\n",
        "    \"\"\"Compute the macro F1-score on a batch of observations (average F1 across labels)\n",
        "    \n",
        "    Args:\n",
        "        y (int32 Tensor): labels array of shape (BATCH_SIZE, N_LABELS)\n",
        "        y_hat (float32 Tensor): probability matrix from forward propagation of shape (BATCH_SIZE, N_LABELS)\n",
        "        thresh: probability value above which we predict positive\n",
        "        \n",
        "    Returns:\n",
        "        macro_f1 (scalar Tensor): value of macro F1 for the batch\n",
        "    \"\"\"\n",
        "    y_pred = tf.cast(tf.greater(y_hat, thresh), tf.float32)\n",
        "    tp = tf.cast(tf.math.count_nonzero(y_pred * y, axis=0), tf.float32)\n",
        "    fp = tf.cast(tf.math.count_nonzero(y_pred * (1 - y), axis=0), tf.float32)\n",
        "    fn = tf.cast(tf.math.count_nonzero((1 - y_pred) * y, axis=0), tf.float32)\n",
        "    f1 = 2*tp / (2*tp + fn + fp + 1e-16)\n",
        "    macro_f1 = tf.reduce_mean(f1)\n",
        "    return macro_f1\n",
        "\n",
        "#@tf.function\n",
        "def micro_f1(y, y_hat, thresh=0.5):\n",
        "    \"\"\"Compute the macro F1-score on a batch of observations (average F1 across labels)\n",
        "    \n",
        "    Args:\n",
        "        y (int32 Tensor): labels array of shape (BATCH_SIZE, N_LABELS)\n",
        "        y_hat (float32 Tensor): probability matrix from forward propagation of shape (BATCH_SIZE, N_LABELS)\n",
        "        thresh: probability value above which we predict positive\n",
        "        \n",
        "    Returns:\n",
        "        macro_f1 (scalar Tensor): value of macro F1 for the batch\n",
        "    \"\"\"\n",
        "    y_pred = tf.cast(tf.greater(y_hat, thresh), tf.float32)\n",
        "    tp = tf.cast(tf.math.count_nonzero(y_pred * y), tf.float32)\n",
        "    fp = tf.cast(tf.math.count_nonzero(y_pred * (1 - y)), tf.float32)\n",
        "    fn = tf.cast(tf.math.count_nonzero((1 - y_pred) * y), tf.float32)\n",
        "    f1 = 2*tp / (2*tp + fn + fp + 1e-16)\n",
        "    micro_f1 = f1 #tf.reduce_mean(f1)\n",
        "    return micro_f1\n",
        "\n",
        "#@tf.function\n",
        "def macro_soft_f1(y, y_hat):\n",
        "    \"\"\"Compute the macro soft F1-score as a cost (average 1 - soft-F1 across all labels).\n",
        "    Use probability values instead of binary predictions.\n",
        "    \n",
        "    Args:\n",
        "        y (int32 Tensor): targets array of shape (BATCH_SIZE, N_LABELS)\n",
        "        y_hat (float32 Tensor): probability matrix from forward propagation of shape (BATCH_SIZE, N_LABELS)\n",
        "        \n",
        "    Returns:\n",
        "        cost (scalar Tensor): value of the cost function for the batch\n",
        "    \"\"\"\n",
        "    y = tf.cast(y, tf.float32)\n",
        "    y_hat = tf.cast(y_hat, tf.float32)\n",
        "    tp = tf.reduce_sum(y_hat * y, axis=0)\n",
        "    fp = tf.reduce_sum(y_hat * (1 - y), axis=0)\n",
        "    fn = tf.reduce_sum((1 - y_hat) * y, axis=0)\n",
        "    soft_f1 = 2*tp / (2*tp + fn + fp + 1e-16)\n",
        "    cost = 1 - soft_f1 # reduce 1 - soft-f1 in order to increase soft-f1\n",
        "    macro_cost = tf.reduce_mean(cost) # average on all labels\n",
        "    return macro_cost\n",
        "\n",
        "POS_WEIGHT = 10\n",
        "#@tf.function\n",
        "def weighted_binary_crossentropy(y, y_hat):\n",
        "    \"\"\"\n",
        "    Weighted binary crossentropy between an output tensor \n",
        "    and a target tensor. POS_WEIGHT is used as a multiplier \n",
        "    for the positive targets.\n",
        "\n",
        "    Combination of the following functions:\n",
        "    * keras.losses.binary_crossentropy\n",
        "    * keras.backend.tensorflow_backend.binary_crossentropy\n",
        "    * tf.nn.weighted_cross_entropy_with_logits\n",
        "    \"\"\"\n",
        "    y = tf.cast(y, tf.float32)\n",
        "    y_hat = tf.cast(y_hat, tf.float32)\n",
        "    # transform back to logits\n",
        "    _epsilon = tfb._to_tensor(tfb.epsilon(), y_hat.dtype.base_dtype)\n",
        "    y_hat = tf.clip_by_value(y_hat, _epsilon, 1 - _epsilon)\n",
        "    y_hat = tf.math.log(y_hat / (1 - y_hat))\n",
        "    # compute weighted loss\n",
        "    loss = tf.nn.weighted_cross_entropy_with_logits(labels=y,\n",
        "                                                    logits=y_hat,\n",
        "                                                    pos_weight=POS_WEIGHT)\n",
        "    return tf.reduce_mean(loss, axis=-1)\n",
        "\n",
        "#@tf.function\n",
        "def binary_crossentropy(y, y_hat):\n",
        "\n",
        "    y = tf.cast(y, tf.float32)\n",
        "    y_hat = tf.cast(y_hat, tf.float32)\n",
        "    # compute loss\n",
        "    loss = tf.keras.backend.binary_crossentropy(y, y_hat, from_logits=False)\n",
        "    return tf.reduce_mean(loss, axis=-1)\n",
        "\n",
        "#@tf.function\n",
        "def macro_double_soft_f1(y, y_hat):\n",
        "    \"\"\"Compute the macro soft F1-score as a cost (average 1 - soft-F1 across all labels).\n",
        "    Use probability values instead of binary predictions.\n",
        "    This version uses the computation of soft-F1 for both positive and negative class for each label.\n",
        "    Args:\n",
        "        y (int32 Tensor): targets array of shape (BATCH_SIZE, N_LABELS)\n",
        "        y_hat (float32 Tensor): probability matrix from forward propagation of shape (BATCH_SIZE, N_LABELS)\n",
        "    Returns:\n",
        "        cost (scalar Tensor): value of the cost function for the batch\n",
        "    \"\"\"\n",
        "    y = tf.cast(y, tf.float32)\n",
        "    y_hat = tf.cast(y_hat, tf.float32)\n",
        "    tp = tf.reduce_sum(y_hat * y, axis=0)\n",
        "    fp = tf.reduce_sum(y_hat * (1 - y), axis=0)\n",
        "    fn = tf.reduce_sum((1 - y_hat) * y, axis=0)\n",
        "    tn = tf.reduce_sum((1 - y_hat) * (1 - y), axis=0)\n",
        "    soft_f1_class1 = 2*tp / (2*tp + fn + fp + 1e-16)\n",
        "    soft_f1_class0 = 2*tn / (2*tn + fn + fp + 1e-16)\n",
        "    cost_class1 = 1 - soft_f1_class1 # reduce 1 - soft-f1_class1 in order to increase soft-f1 on class 1\n",
        "    cost_class0 = 1 - soft_f1_class0 # reduce 1 - soft-f1_class0 in order to increase soft-f1 on class 0\n",
        "    cost = 0.5 * (cost_class1 + cost_class0) # take into account both class 1 and class 0\n",
        "    macro_cost = tf.reduce_mean(cost) # average on all labels\n",
        "    return macro_cost"
      ],
      "execution_count": 0,
      "outputs": []
    },
    {
      "cell_type": "markdown",
      "metadata": {
        "id": "EzPLOwR-g6HP",
        "colab_type": "text"
      },
      "source": [
        "### Model Params"
      ]
    },
    {
      "cell_type": "code",
      "metadata": {
        "id": "Y5xQVDd5vobq",
        "colab_type": "code",
        "colab": {}
      },
      "source": [
        "optimizer_select = 'ADAM'\n",
        "BATCH_SIZE = 128*16\n",
        "EPOCHS = 100\n",
        "LR = 1e-04\n",
        "# LOSS = 'macro_soft_f1'\n",
        "# LOSS = 'macro_double_soft_f1'\n",
        "LOSS = 'bce'\n",
        "ACC = ['accuracy', macro_f1, micro_f1]"
      ],
      "execution_count": 0,
      "outputs": []
    },
    {
      "cell_type": "code",
      "metadata": {
        "id": "ipI-Dykvno4E",
        "colab_type": "code",
        "outputId": "7c24138d-8a08-4003-c140-f5ea711fa504",
        "colab": {
          "base_uri": "https://localhost:8080/",
          "height": 34
        }
      },
      "source": [
        "X_train.shape"
      ],
      "execution_count": 0,
      "outputs": [
        {
          "output_type": "execute_result",
          "data": {
            "text/plain": [
              "(46970, 2048)"
            ]
          },
          "metadata": {
            "tags": []
          },
          "execution_count": 106
        }
      ]
    },
    {
      "cell_type": "code",
      "metadata": {
        "id": "nULUgKTSik_o",
        "colab_type": "code",
        "colab": {}
      },
      "source": [
        "if OVERSAMPLING:\n",
        "    NUM_TRAIN_SAMPLES = int(np.floor(new_X_train.shape[0] / BATCH_SIZE) * BATCH_SIZE)\n",
        "else:\n",
        "    NUM_TRAIN_SAMPLES = int(np.floor(X_train.shape[0] / BATCH_SIZE) * BATCH_SIZE)\n",
        "\n",
        "NUM_DEV_SAMPLES = int(np.floor(X_dev.shape[0] / BATCH_SIZE) * BATCH_SIZE)\n",
        "NUM_VAL_SAMPLES = int(np.floor(X_val.shape[0] / BATCH_SIZE) * BATCH_SIZE)\n",
        "\n",
        "if (OVERSAMPLING):\n",
        "    results_prefix = 'baseline_' + optimizer_select + '_EPOCHS_' + str(EPOCHS) + '_LR_' + str(LR) + '_LOSS_' + str(LOSS)\n",
        "else:\n",
        "    results_prefix = 'baseline_' + optimizer_select + '_EPOCHS_' + str(EPOCHS) + '_LR_' + str(LR) + '_LOSS_' + str(LOSS) + '_NoOS'"
      ],
      "execution_count": 0,
      "outputs": []
    },
    {
      "cell_type": "code",
      "metadata": {
        "id": "toAHWIpl54Pv",
        "colab_type": "code",
        "outputId": "eeb3bdde-8d8c-4d65-de00-42a0e1d83069",
        "colab": {
          "base_uri": "https://localhost:8080/",
          "height": 34
        }
      },
      "source": [
        "print(\"Number Train Samples \", NUM_TRAIN_SAMPLES)"
      ],
      "execution_count": 0,
      "outputs": [
        {
          "output_type": "stream",
          "text": [
            "Number Train Samples  45056\n"
          ],
          "name": "stdout"
        }
      ]
    },
    {
      "cell_type": "code",
      "metadata": {
        "id": "ofmcb_z05nxa",
        "colab_type": "code",
        "outputId": "bfdb8a59-f8b3-409d-9a52-c060ac158125",
        "colab": {
          "base_uri": "https://localhost:8080/",
          "height": 34
        }
      },
      "source": [
        "NUM_LABELS"
      ],
      "execution_count": 0,
      "outputs": [
        {
          "output_type": "execute_result",
          "data": {
            "text/plain": [
              "10"
            ]
          },
          "metadata": {
            "tags": []
          },
          "execution_count": 105
        }
      ]
    },
    {
      "cell_type": "markdown",
      "metadata": {
        "id": "IilnXEDXg9G1",
        "colab_type": "text"
      },
      "source": [
        "### Training Model"
      ]
    },
    {
      "cell_type": "code",
      "metadata": {
        "id": "SRDrWh9H2lWk",
        "colab_type": "code",
        "colab": {}
      },
      "source": [
        "def select_optimizer(optimizer_select):\n",
        "    if optimizer_select == 'ADAM':\n",
        "        optimizer = tf.keras.optimizers.Adam(learning_rate=LR, beta_1=0.91, beta_2=0.999, epsilon=None, decay=0.1, name='Adam')\n",
        "    elif optimizer_select == 'ADAMAX':\n",
        "        optimizer = tf.keras.optimizers.Adamax(learning_rate=LR, beta_1=0.9, beta_2=0.999, epsilon=1e-07, name='Adamax')\n",
        "    elif optimizer_select == 'ADAGRAD':\n",
        "        optimizer = tf.keras.optimizers.Adagrad(learning_rate=LR, initial_accumulator_value=0.1, epsilon=1e-07, name='Adagrad')\n",
        "    elif optimizer_select == 'SGD':\n",
        "        optimizer = tf.keras.optimizers.SGD(learning_rate=LR, momentum=0.9, nesterov=True, name='SGD', clipvalue=0.5)\n",
        "    elif optimizer_select == 'ADADELTA':\n",
        "        optimizer = tf.keras.optimizers.Adadelta(learning_rate=1.0, rho=0.95)\n",
        "    else:\n",
        "        raise Exception('Optimizer not available')\n",
        "    \n",
        "    return optimizer"
      ],
      "execution_count": 0,
      "outputs": []
    },
    {
      "cell_type": "code",
      "metadata": {
        "id": "J8FbVAdq2uh_",
        "colab_type": "code",
        "colab": {}
      },
      "source": [
        "def select_loss(LOSS):\n",
        "    if LOSS == 'bce':\n",
        "        loss = binary_crossentropy\n",
        "    elif LOSS == 'macro_double_soft_f1':\n",
        "        loss = macro_double_soft_f1\n",
        "    elif LOSS == 'macro_soft_f1':\n",
        "        loss = macro_soft_f1\n",
        "    else:\n",
        "        raise Exception('Loss function not implemented...')\n",
        "\n",
        "    return loss"
      ],
      "execution_count": 0,
      "outputs": []
    },
    {
      "cell_type": "code",
      "metadata": {
        "id": "doBG2hs_aJWN",
        "colab_type": "code",
        "colab": {}
      },
      "source": [
        "def set_strategy():\n",
        "    #this is for bfloat16 precision\n",
        "    policy = mixed_precision.Policy('mixed_bfloat16')\n",
        "    mixed_precision.set_policy(policy)\n",
        "\n",
        "    cluster_resolver = tf.distribute.cluster_resolver.TPUClusterResolver()\n",
        "    tf.config.experimental_connect_to_cluster(cluster_resolver)\n",
        "    tf.tpu.experimental.initialize_tpu_system(cluster_resolver)\n",
        "    strategy = tf.distribute.experimental.TPUStrategy(cluster_resolver)\n",
        "\n",
        "    return policy, strategy"
      ],
      "execution_count": 0,
      "outputs": []
    },
    {
      "cell_type": "code",
      "metadata": {
        "id": "-ZYAij1G3AEB",
        "colab_type": "code",
        "outputId": "2a292191-5d1d-4444-c8fb-b060ea5ff7ea",
        "colab": {
          "base_uri": "https://localhost:8080/",
          "height": 1000
        }
      },
      "source": [
        "policy, strategy = set_strategy()\n",
        "callbacks = [tf.keras.callbacks.EarlyStopping(monitor='val_loss', \n",
        "                                              min_delta=1e-4,\n",
        "                                              patience=10)]\n",
        "optimizer = select_optimizer(optimizer_select)\n",
        "loss = select_loss(LOSS)\n",
        "\n",
        "# [64] # [64,64,128,256,512]\n",
        "filter_size = []\n",
        "\n",
        "# [[3]] # [[3,3,3,3,3]] # [[3,3,3,3,3], [7,7,7,7,7], [13,13,13,13,13]]\n",
        "kernel_size = []\n",
        "\n",
        "# [5120] # [5120,5120] # [2048,1024,1024]\n",
        "dense_layers = [5120]\n",
        "\n",
        "L2_REGULARIZATION = 0.0001\n",
        "DROP_OUT = 0.5\n",
        "DENSE_LAYER_SIZE = 5120\n",
        "\n",
        "with strategy.scope():\n",
        "\n",
        "    if len(kernel_size) >0 :\n",
        "        feature_vector = tf.keras.layers.Input(shape=(2048,1),\n",
        "                                               dtype=np.float32,\n",
        "                                               name=\"ResnetFeatureVector\")\n",
        "    else:\n",
        "        feature_vector = tf.keras.layers.Input(shape=(2048,),\n",
        "                                               dtype=np.float32, \n",
        "                                               name=\"ResnetFeatureVector\")\n",
        "\n",
        "    batch_norm_list = []\n",
        "    for j in range(0,len(kernel_size)):\n",
        "        for i in range(0,len(filter_size)):\n",
        "            if i==0:\n",
        "                conv = tf.keras.layers.Conv1D(filters=filter_size[i],\n",
        "                                              kernel_size=kernel_size[j][i],\n",
        "                                              input_shape=(2048,1),\n",
        "                                              padding='same',\n",
        "                                              activation='relu',\n",
        "                                              strides=1, \n",
        "                                              name='Conv_' + str(j)+str(i) + '_KernelSize_'+str(kernel_size[j][i]),\n",
        "                                              data_format='channels_last')(feature_vector)\n",
        "            else:\n",
        "                conv = tf.keras.layers.Conv1D(filters=filter_size[i],\n",
        "                                              kernel_size=kernel_size[j][i],\n",
        "                                              padding='same',\n",
        "                                              activation='relu',\n",
        "                                              strides=1, \n",
        "                                              name='Conv_'+str(j)+str(i)+ '_KernelSize_'+str(kernel_size[j][i]),\n",
        "                                              data_format='channels_last')(batch_norm)\n",
        "            \n",
        "            max_pooling = tf.keras.layers.MaxPool1D(strides=4,\n",
        "                                                    pool_size=4,\n",
        "                                                    data_format='channels_last', \n",
        "                                                    name='MaxPooling_'+ str(j)+str(i))(conv)\n",
        "            \n",
        "            batch_norm = tf.keras.layers.BatchNormalization(name='BatchNorm_'+str(j)+str(i))(max_pooling)\n",
        "        batch_norm_list.append(batch_norm)\n",
        "    \n",
        "    if len(batch_norm_list) > 0:\n",
        "        if (len(kernel_size) > 1):\n",
        "            concat = tf.keras.layers.concatenate(batch_norm_list, \n",
        "                                                 name='FilterConcat')\n",
        "            flatten = tf.keras.layers.Flatten(name='Flatten')(concat)\n",
        "        else:\n",
        "            flatten = tf.keras.layers.Flatten(name='Flatten')(batch_norm_list[-1])\n",
        "\n",
        "    # for i in range(0,len(dense_layers)):\n",
        "    #     if i==0:\n",
        "    #         if len(batch_norm_list) > 0:\n",
        "    #             dense = tf.keras.layers.Dense(dense_layers[i], \n",
        "    #                                           activation='relu', \n",
        "    #                                           kernel_regularizer=tf.keras.regularizers.l2(L2_REGULARIZATION),\n",
        "    #                                           name='hidden_'+str(i))(flatten)\n",
        "    #         else:\n",
        "    #             dense = tf.keras.layers.Dense(dense_layers[i], \n",
        "    #                                           activation='relu', \n",
        "    #                                           kernel_regularizer=tf.keras.regularizers.l2(L2_REGULARIZATION),\n",
        "    #                                           name='hidden_'+str(i))(feature_vector)\n",
        "    #     else:\n",
        "    #         dense = tf.keras.layers.Dense(dense_layers[i], \n",
        "    #                                       activation='relu', \n",
        "    #                                       kernel_regularizer=tf.keras.regularizers.l2(L2_REGULARIZATION),\n",
        "    #                                       name='hidden_'+str(i))(dropout)\n",
        "\n",
        "    #     dropout = tf.keras.layers.Dropout(rate=DROP_OUT, \n",
        "    #                                       name='dropout_'+str(i))(dense)\n",
        "\n",
        "    # if (len(dense_layers) > 0):\n",
        "    #     dense = tf.keras.layers.Dense(DENSE_LAYER_SIZE, \n",
        "    #                                   activation='relu', \n",
        "    #                                   kernel_regularizer=tf.keras.regularizers.l2(L2_REGULARIZATION),\n",
        "    #                                   name='hidden_'+str(len(dense_layers)))(dropout)#(feature_vector)#(dropout)#(concat_layer)\n",
        "    # else:\n",
        "    #     if len(batch_norm_list) > 0:\n",
        "    #         dense = tf.keras.layers.Dense(DENSE_LAYER_SIZE, \n",
        "    #                                       activation='relu', \n",
        "    #                                       kernel_regularizer=tf.keras.regularizers.l2(L2_REGULARIZATION),\n",
        "    #                                       name='hidden_'+str(len(dense_layers)))(flatten)#(concat_layer)\n",
        "    #     else:\n",
        "    #         dense = tf.keras.layers.Dense(DENSE_LAYER_SIZE, \n",
        "    #                                       activation='relu', \n",
        "    #                                       kernel_regularizer=tf.keras.regularizers.l2(L2_REGULARIZATION),\n",
        "    #                                       name='hidden_'+str(len(dense_layers)))(feature_vector)\n",
        "\n",
        "    # dropout = tf.keras.layers.Dropout(rate=DROP_OUT, \n",
        "    #                                   name='dropout_'+str(len(dense_layers)))(dense)\n",
        "\n",
        "    # pred = tf.keras.layers.Dense(NUM_LABELS, \n",
        "    #                              activation='sigmoid',\n",
        "    #                              name='pred')(dropout)\n",
        "\n",
        "    pred = tf.keras.layers.Dense(NUM_LABELS, \n",
        "                                 activation='sigmoid',\n",
        "                                 name='pred')(feature_vector)\n",
        "\n",
        "    model = tf.keras.models.Model(inputs=feature_vector, \n",
        "                                  outputs=pred)\n",
        "\n",
        "    model.summary()\n",
        "\n",
        "    model.compile(loss=loss, \n",
        "                  optimizer=optimizer, \n",
        "                  metrics=ACC)\n",
        "\n",
        "    if OVERSAMPLING:\n",
        "        if (len(kernel_size) > 0):\n",
        "            history = model.fit(\n",
        "                new_X_train.astype(np.float32)[:NUM_TRAIN_SAMPLES].reshape(NUM_TRAIN_SAMPLES,2048,1),  \n",
        "                new_y_train.astype(np.float32)[:NUM_TRAIN_SAMPLES],\n",
        "                validation_data=(X_dev.astype(np.float32)[:NUM_DEV_SAMPLES].reshape(NUM_DEV_SAMPLES,2048,1),\n",
        "                                y_dev.astype(np.float32)[:NUM_DEV_SAMPLES]),\n",
        "                epochs=EPOCHS,\n",
        "                callbacks = callbacks,\n",
        "                batch_size=BATCH_SIZE\n",
        "            )\n",
        "        else:\n",
        "            history = model.fit(\n",
        "                new_X_train.astype(np.float32)[:NUM_TRAIN_SAMPLES],  \n",
        "                new_y_train.astype(np.float32)[:NUM_TRAIN_SAMPLES],\n",
        "                validation_data=(X_dev.astype(np.float32)[:NUM_DEV_SAMPLES],\n",
        "                                y_dev.astype(np.float32)[:NUM_DEV_SAMPLES]),\n",
        "                epochs=EPOCHS,\n",
        "                callbacks = callbacks,\n",
        "                batch_size=BATCH_SIZE\n",
        "            )\n",
        "    else:\n",
        "        if (len(kernel_size) > 0):\n",
        "            history = model.fit(\n",
        "                X_train.astype(np.float32)[:NUM_TRAIN_SAMPLES].reshape(NUM_TRAIN_SAMPLES,2048,1),  \n",
        "                y_train.astype(np.float32)[:NUM_TRAIN_SAMPLES],\n",
        "                validation_data=(X_dev.astype(np.float32)[:NUM_DEV_SAMPLES].reshape(NUM_DEV_SAMPLES,2048,1),\n",
        "                                y_dev.astype(np.float32)[:NUM_DEV_SAMPLES]),\n",
        "                epochs=EPOCHS,\n",
        "                callbacks = callbacks,\n",
        "                batch_size=BATCH_SIZE\n",
        "            )\n",
        "        else:\n",
        "            history = model.fit(\n",
        "                X_train.astype(np.float32)[:NUM_TRAIN_SAMPLES],  \n",
        "                y_train.astype(np.float32)[:NUM_TRAIN_SAMPLES],\n",
        "                validation_data=(X_dev.astype(np.float32)[:NUM_DEV_SAMPLES],\n",
        "                                y_dev.astype(np.float32)[:NUM_DEV_SAMPLES]),\n",
        "                epochs=EPOCHS,\n",
        "                callbacks = callbacks,\n",
        "                batch_size=BATCH_SIZE\n",
        "            )\n"
      ],
      "execution_count": 0,
      "outputs": [
        {
          "output_type": "stream",
          "text": [
            "WARNING:tensorflow:TPU system 10.63.191.234:8470 has already been initialized. Reinitializing the TPU can cause previously created variables on TPU to be lost.\n"
          ],
          "name": "stdout"
        },
        {
          "output_type": "stream",
          "text": [
            "WARNING:tensorflow:TPU system 10.63.191.234:8470 has already been initialized. Reinitializing the TPU can cause previously created variables on TPU to be lost.\n"
          ],
          "name": "stderr"
        },
        {
          "output_type": "stream",
          "text": [
            "INFO:tensorflow:Initializing the TPU system: 10.63.191.234:8470\n"
          ],
          "name": "stdout"
        },
        {
          "output_type": "stream",
          "text": [
            "INFO:tensorflow:Initializing the TPU system: 10.63.191.234:8470\n"
          ],
          "name": "stderr"
        },
        {
          "output_type": "stream",
          "text": [
            "INFO:tensorflow:Clearing out eager caches\n"
          ],
          "name": "stdout"
        },
        {
          "output_type": "stream",
          "text": [
            "INFO:tensorflow:Clearing out eager caches\n"
          ],
          "name": "stderr"
        },
        {
          "output_type": "stream",
          "text": [
            "INFO:tensorflow:Finished initializing TPU system.\n"
          ],
          "name": "stdout"
        },
        {
          "output_type": "stream",
          "text": [
            "INFO:tensorflow:Finished initializing TPU system.\n"
          ],
          "name": "stderr"
        },
        {
          "output_type": "stream",
          "text": [
            "INFO:tensorflow:Found TPU system:\n"
          ],
          "name": "stdout"
        },
        {
          "output_type": "stream",
          "text": [
            "INFO:tensorflow:Found TPU system:\n"
          ],
          "name": "stderr"
        },
        {
          "output_type": "stream",
          "text": [
            "INFO:tensorflow:*** Num TPU Cores: 8\n"
          ],
          "name": "stdout"
        },
        {
          "output_type": "stream",
          "text": [
            "INFO:tensorflow:*** Num TPU Cores: 8\n"
          ],
          "name": "stderr"
        },
        {
          "output_type": "stream",
          "text": [
            "INFO:tensorflow:*** Num TPU Workers: 1\n"
          ],
          "name": "stdout"
        },
        {
          "output_type": "stream",
          "text": [
            "INFO:tensorflow:*** Num TPU Workers: 1\n"
          ],
          "name": "stderr"
        },
        {
          "output_type": "stream",
          "text": [
            "INFO:tensorflow:*** Num TPU Cores Per Worker: 8\n"
          ],
          "name": "stdout"
        },
        {
          "output_type": "stream",
          "text": [
            "INFO:tensorflow:*** Num TPU Cores Per Worker: 8\n"
          ],
          "name": "stderr"
        },
        {
          "output_type": "stream",
          "text": [
            "INFO:tensorflow:*** Available Device: _DeviceAttributes(/job:localhost/replica:0/task:0/device:CPU:0, CPU, 0, 0)\n"
          ],
          "name": "stdout"
        },
        {
          "output_type": "stream",
          "text": [
            "INFO:tensorflow:*** Available Device: _DeviceAttributes(/job:localhost/replica:0/task:0/device:CPU:0, CPU, 0, 0)\n"
          ],
          "name": "stderr"
        },
        {
          "output_type": "stream",
          "text": [
            "INFO:tensorflow:*** Available Device: _DeviceAttributes(/job:localhost/replica:0/task:0/device:XLA_CPU:0, XLA_CPU, 0, 0)\n"
          ],
          "name": "stdout"
        },
        {
          "output_type": "stream",
          "text": [
            "INFO:tensorflow:*** Available Device: _DeviceAttributes(/job:localhost/replica:0/task:0/device:XLA_CPU:0, XLA_CPU, 0, 0)\n"
          ],
          "name": "stderr"
        },
        {
          "output_type": "stream",
          "text": [
            "INFO:tensorflow:*** Available Device: _DeviceAttributes(/job:worker/replica:0/task:0/device:CPU:0, CPU, 0, 0)\n"
          ],
          "name": "stdout"
        },
        {
          "output_type": "stream",
          "text": [
            "INFO:tensorflow:*** Available Device: _DeviceAttributes(/job:worker/replica:0/task:0/device:CPU:0, CPU, 0, 0)\n"
          ],
          "name": "stderr"
        },
        {
          "output_type": "stream",
          "text": [
            "INFO:tensorflow:*** Available Device: _DeviceAttributes(/job:worker/replica:0/task:0/device:TPU:0, TPU, 0, 0)\n"
          ],
          "name": "stdout"
        },
        {
          "output_type": "stream",
          "text": [
            "INFO:tensorflow:*** Available Device: _DeviceAttributes(/job:worker/replica:0/task:0/device:TPU:0, TPU, 0, 0)\n"
          ],
          "name": "stderr"
        },
        {
          "output_type": "stream",
          "text": [
            "INFO:tensorflow:*** Available Device: _DeviceAttributes(/job:worker/replica:0/task:0/device:TPU:1, TPU, 0, 0)\n"
          ],
          "name": "stdout"
        },
        {
          "output_type": "stream",
          "text": [
            "INFO:tensorflow:*** Available Device: _DeviceAttributes(/job:worker/replica:0/task:0/device:TPU:1, TPU, 0, 0)\n"
          ],
          "name": "stderr"
        },
        {
          "output_type": "stream",
          "text": [
            "INFO:tensorflow:*** Available Device: _DeviceAttributes(/job:worker/replica:0/task:0/device:TPU:2, TPU, 0, 0)\n"
          ],
          "name": "stdout"
        },
        {
          "output_type": "stream",
          "text": [
            "INFO:tensorflow:*** Available Device: _DeviceAttributes(/job:worker/replica:0/task:0/device:TPU:2, TPU, 0, 0)\n"
          ],
          "name": "stderr"
        },
        {
          "output_type": "stream",
          "text": [
            "INFO:tensorflow:*** Available Device: _DeviceAttributes(/job:worker/replica:0/task:0/device:TPU:3, TPU, 0, 0)\n"
          ],
          "name": "stdout"
        },
        {
          "output_type": "stream",
          "text": [
            "INFO:tensorflow:*** Available Device: _DeviceAttributes(/job:worker/replica:0/task:0/device:TPU:3, TPU, 0, 0)\n"
          ],
          "name": "stderr"
        },
        {
          "output_type": "stream",
          "text": [
            "INFO:tensorflow:*** Available Device: _DeviceAttributes(/job:worker/replica:0/task:0/device:TPU:4, TPU, 0, 0)\n"
          ],
          "name": "stdout"
        },
        {
          "output_type": "stream",
          "text": [
            "INFO:tensorflow:*** Available Device: _DeviceAttributes(/job:worker/replica:0/task:0/device:TPU:4, TPU, 0, 0)\n"
          ],
          "name": "stderr"
        },
        {
          "output_type": "stream",
          "text": [
            "INFO:tensorflow:*** Available Device: _DeviceAttributes(/job:worker/replica:0/task:0/device:TPU:5, TPU, 0, 0)\n"
          ],
          "name": "stdout"
        },
        {
          "output_type": "stream",
          "text": [
            "INFO:tensorflow:*** Available Device: _DeviceAttributes(/job:worker/replica:0/task:0/device:TPU:5, TPU, 0, 0)\n"
          ],
          "name": "stderr"
        },
        {
          "output_type": "stream",
          "text": [
            "INFO:tensorflow:*** Available Device: _DeviceAttributes(/job:worker/replica:0/task:0/device:TPU:6, TPU, 0, 0)\n"
          ],
          "name": "stdout"
        },
        {
          "output_type": "stream",
          "text": [
            "INFO:tensorflow:*** Available Device: _DeviceAttributes(/job:worker/replica:0/task:0/device:TPU:6, TPU, 0, 0)\n"
          ],
          "name": "stderr"
        },
        {
          "output_type": "stream",
          "text": [
            "INFO:tensorflow:*** Available Device: _DeviceAttributes(/job:worker/replica:0/task:0/device:TPU:7, TPU, 0, 0)\n"
          ],
          "name": "stdout"
        },
        {
          "output_type": "stream",
          "text": [
            "INFO:tensorflow:*** Available Device: _DeviceAttributes(/job:worker/replica:0/task:0/device:TPU:7, TPU, 0, 0)\n"
          ],
          "name": "stderr"
        },
        {
          "output_type": "stream",
          "text": [
            "INFO:tensorflow:*** Available Device: _DeviceAttributes(/job:worker/replica:0/task:0/device:TPU_SYSTEM:0, TPU_SYSTEM, 0, 0)\n"
          ],
          "name": "stdout"
        },
        {
          "output_type": "stream",
          "text": [
            "INFO:tensorflow:*** Available Device: _DeviceAttributes(/job:worker/replica:0/task:0/device:TPU_SYSTEM:0, TPU_SYSTEM, 0, 0)\n"
          ],
          "name": "stderr"
        },
        {
          "output_type": "stream",
          "text": [
            "INFO:tensorflow:*** Available Device: _DeviceAttributes(/job:worker/replica:0/task:0/device:XLA_CPU:0, XLA_CPU, 0, 0)\n"
          ],
          "name": "stdout"
        },
        {
          "output_type": "stream",
          "text": [
            "INFO:tensorflow:*** Available Device: _DeviceAttributes(/job:worker/replica:0/task:0/device:XLA_CPU:0, XLA_CPU, 0, 0)\n"
          ],
          "name": "stderr"
        },
        {
          "output_type": "stream",
          "text": [
            "Model: \"model_11\"\n",
            "_________________________________________________________________\n",
            "Layer (type)                 Output Shape              Param #   \n",
            "=================================================================\n",
            "ResnetFeatureVector (InputLa [(None, 2048)]            0         \n",
            "_________________________________________________________________\n",
            "pred (Dense)                 (None, 10)                20490     \n",
            "=================================================================\n",
            "Total params: 20,490\n",
            "Trainable params: 20,490\n",
            "Non-trainable params: 0\n",
            "_________________________________________________________________\n",
            "Train on 45056 samples, validate on 14336 samples\n",
            "Epoch 1/100\n",
            "45056/45056 [==============================] - 4s 84us/sample - loss: 0.6389 - accuracy: 0.1379 - macro_f1: 0.1935 - micro_f1: 0.2896 - val_loss: 0.5812 - val_accuracy: 0.1463 - val_macro_f1: 0.1712 - val_micro_f1: 0.2875\n",
            "Epoch 2/100\n",
            "45056/45056 [==============================] - 0s 10us/sample - loss: 0.5637 - accuracy: 0.1497 - macro_f1: 0.1623 - micro_f1: 0.2877 - val_loss: 0.5477 - val_accuracy: 0.1553 - val_macro_f1: 0.1529 - val_micro_f1: 0.2924\n",
            "Epoch 3/100\n",
            "45056/45056 [==============================] - 1s 13us/sample - loss: 0.5411 - accuracy: 0.1591 - macro_f1: 0.1485 - micro_f1: 0.2935 - val_loss: 0.5328 - val_accuracy: 0.1615 - val_macro_f1: 0.1437 - val_micro_f1: 0.2980\n",
            "Epoch 4/100\n",
            "45056/45056 [==============================] - 0s 10us/sample - loss: 0.5298 - accuracy: 0.1647 - macro_f1: 0.1417 - micro_f1: 0.2980 - val_loss: 0.5241 - val_accuracy: 0.1662 - val_macro_f1: 0.1376 - val_micro_f1: 0.3007\n",
            "Epoch 5/100\n",
            "45056/45056 [==============================] - 1s 11us/sample - loss: 0.5226 - accuracy: 0.1683 - macro_f1: 0.1375 - micro_f1: 0.3006 - val_loss: 0.5181 - val_accuracy: 0.1692 - val_macro_f1: 0.1333 - val_micro_f1: 0.3020\n",
            "Epoch 6/100\n",
            "45056/45056 [==============================] - 0s 10us/sample - loss: 0.5176 - accuracy: 0.1706 - macro_f1: 0.1335 - micro_f1: 0.3019 - val_loss: 0.5139 - val_accuracy: 0.1707 - val_macro_f1: 0.1298 - val_micro_f1: 0.3033\n",
            "Epoch 7/100\n",
            "45056/45056 [==============================] - 0s 10us/sample - loss: 0.5139 - accuracy: 0.1727 - macro_f1: 0.1311 - micro_f1: 0.3030 - val_loss: 0.5105 - val_accuracy: 0.1716 - val_macro_f1: 0.1269 - val_micro_f1: 0.3037\n",
            "Epoch 8/100\n",
            "45056/45056 [==============================] - 0s 10us/sample - loss: 0.5109 - accuracy: 0.1741 - macro_f1: 0.1288 - micro_f1: 0.3037 - val_loss: 0.5079 - val_accuracy: 0.1729 - val_macro_f1: 0.1249 - val_micro_f1: 0.3043\n",
            "Epoch 9/100\n",
            "45056/45056 [==============================] - 0s 10us/sample - loss: 0.5085 - accuracy: 0.1751 - macro_f1: 0.1269 - micro_f1: 0.3043 - val_loss: 0.5057 - val_accuracy: 0.1744 - val_macro_f1: 0.1238 - val_micro_f1: 0.3053\n",
            "Epoch 10/100\n",
            "45056/45056 [==============================] - 0s 10us/sample - loss: 0.5066 - accuracy: 0.1763 - macro_f1: 0.1260 - micro_f1: 0.3049 - val_loss: 0.5039 - val_accuracy: 0.1750 - val_macro_f1: 0.1226 - val_micro_f1: 0.3053\n",
            "Epoch 11/100\n",
            "45056/45056 [==============================] - 0s 10us/sample - loss: 0.5049 - accuracy: 0.1771 - macro_f1: 0.1240 - micro_f1: 0.3055 - val_loss: 0.5023 - val_accuracy: 0.1750 - val_macro_f1: 0.1208 - val_micro_f1: 0.3055\n",
            "Epoch 12/100\n",
            "45056/45056 [==============================] - 1s 11us/sample - loss: 0.5035 - accuracy: 0.1778 - macro_f1: 0.1218 - micro_f1: 0.3054 - val_loss: 0.5010 - val_accuracy: 0.1758 - val_macro_f1: 0.1198 - val_micro_f1: 0.3061\n",
            "Epoch 13/100\n",
            "45056/45056 [==============================] - 0s 10us/sample - loss: 0.5022 - accuracy: 0.1783 - macro_f1: 0.1215 - micro_f1: 0.3060 - val_loss: 0.4997 - val_accuracy: 0.1765 - val_macro_f1: 0.1187 - val_micro_f1: 0.3066\n",
            "Epoch 14/100\n",
            "45056/45056 [==============================] - 0s 11us/sample - loss: 0.5011 - accuracy: 0.1787 - macro_f1: 0.1202 - micro_f1: 0.3061 - val_loss: 0.4987 - val_accuracy: 0.1767 - val_macro_f1: 0.1181 - val_micro_f1: 0.3066\n",
            "Epoch 15/100\n",
            "45056/45056 [==============================] - 0s 10us/sample - loss: 0.5001 - accuracy: 0.1792 - macro_f1: 0.1194 - micro_f1: 0.3060 - val_loss: 0.4977 - val_accuracy: 0.1772 - val_macro_f1: 0.1173 - val_micro_f1: 0.3066\n",
            "Epoch 16/100\n",
            "45056/45056 [==============================] - 0s 11us/sample - loss: 0.4992 - accuracy: 0.1799 - macro_f1: 0.1185 - micro_f1: 0.3062 - val_loss: 0.4969 - val_accuracy: 0.1779 - val_macro_f1: 0.1164 - val_micro_f1: 0.3067\n",
            "Epoch 17/100\n",
            "45056/45056 [==============================] - 0s 10us/sample - loss: 0.4984 - accuracy: 0.1805 - macro_f1: 0.1177 - micro_f1: 0.3064 - val_loss: 0.4961 - val_accuracy: 0.1781 - val_macro_f1: 0.1152 - val_micro_f1: 0.3065\n",
            "Epoch 18/100\n",
            "45056/45056 [==============================] - 0s 11us/sample - loss: 0.4977 - accuracy: 0.1810 - macro_f1: 0.1171 - micro_f1: 0.3068 - val_loss: 0.4954 - val_accuracy: 0.1787 - val_macro_f1: 0.1146 - val_micro_f1: 0.3067\n",
            "Epoch 19/100\n",
            "45056/45056 [==============================] - 0s 10us/sample - loss: 0.4970 - accuracy: 0.1815 - macro_f1: 0.1170 - micro_f1: 0.3068 - val_loss: 0.4948 - val_accuracy: 0.1792 - val_macro_f1: 0.1136 - val_micro_f1: 0.3069\n",
            "Epoch 20/100\n",
            "45056/45056 [==============================] - 0s 11us/sample - loss: 0.4964 - accuracy: 0.1817 - macro_f1: 0.1161 - micro_f1: 0.3071 - val_loss: 0.4942 - val_accuracy: 0.1796 - val_macro_f1: 0.1136 - val_micro_f1: 0.3072\n",
            "Epoch 21/100\n",
            "45056/45056 [==============================] - 0s 10us/sample - loss: 0.4959 - accuracy: 0.1820 - macro_f1: 0.1156 - micro_f1: 0.3070 - val_loss: 0.4936 - val_accuracy: 0.1798 - val_macro_f1: 0.1134 - val_micro_f1: 0.3073\n",
            "Epoch 22/100\n",
            "45056/45056 [==============================] - 0s 11us/sample - loss: 0.4953 - accuracy: 0.1824 - macro_f1: 0.1153 - micro_f1: 0.3070 - val_loss: 0.4932 - val_accuracy: 0.1798 - val_macro_f1: 0.1131 - val_micro_f1: 0.3073\n",
            "Epoch 23/100\n",
            "45056/45056 [==============================] - 0s 10us/sample - loss: 0.4948 - accuracy: 0.1826 - macro_f1: 0.1145 - micro_f1: 0.3067 - val_loss: 0.4926 - val_accuracy: 0.1802 - val_macro_f1: 0.1125 - val_micro_f1: 0.3073\n",
            "Epoch 24/100\n",
            "45056/45056 [==============================] - 0s 11us/sample - loss: 0.4944 - accuracy: 0.1827 - macro_f1: 0.1140 - micro_f1: 0.3071 - val_loss: 0.4922 - val_accuracy: 0.1805 - val_macro_f1: 0.1123 - val_micro_f1: 0.3078\n",
            "Epoch 25/100\n",
            "45056/45056 [==============================] - 0s 10us/sample - loss: 0.4940 - accuracy: 0.1831 - macro_f1: 0.1136 - micro_f1: 0.3071 - val_loss: 0.4917 - val_accuracy: 0.1806 - val_macro_f1: 0.1119 - val_micro_f1: 0.3081\n",
            "Epoch 26/100\n",
            "45056/45056 [==============================] - 0s 10us/sample - loss: 0.4936 - accuracy: 0.1831 - macro_f1: 0.1127 - micro_f1: 0.3072 - val_loss: 0.4914 - val_accuracy: 0.1806 - val_macro_f1: 0.1115 - val_micro_f1: 0.3079\n",
            "Epoch 27/100\n",
            "45056/45056 [==============================] - 0s 10us/sample - loss: 0.4932 - accuracy: 0.1834 - macro_f1: 0.1125 - micro_f1: 0.3071 - val_loss: 0.4910 - val_accuracy: 0.1805 - val_macro_f1: 0.1110 - val_micro_f1: 0.3079\n",
            "Epoch 28/100\n",
            "45056/45056 [==============================] - 0s 10us/sample - loss: 0.4928 - accuracy: 0.1836 - macro_f1: 0.1118 - micro_f1: 0.3069 - val_loss: 0.4907 - val_accuracy: 0.1805 - val_macro_f1: 0.1104 - val_micro_f1: 0.3079\n",
            "Epoch 29/100\n",
            "45056/45056 [==============================] - 0s 11us/sample - loss: 0.4925 - accuracy: 0.1835 - macro_f1: 0.1119 - micro_f1: 0.3069 - val_loss: 0.4903 - val_accuracy: 0.1809 - val_macro_f1: 0.1099 - val_micro_f1: 0.3079\n",
            "Epoch 30/100\n",
            "45056/45056 [==============================] - 0s 9us/sample - loss: 0.4922 - accuracy: 0.1836 - macro_f1: 0.1115 - micro_f1: 0.3071 - val_loss: 0.4900 - val_accuracy: 0.1812 - val_macro_f1: 0.1094 - val_micro_f1: 0.3082\n",
            "Epoch 31/100\n",
            "45056/45056 [==============================] - 0s 9us/sample - loss: 0.4919 - accuracy: 0.1839 - macro_f1: 0.1113 - micro_f1: 0.3072 - val_loss: 0.4897 - val_accuracy: 0.1814 - val_macro_f1: 0.1087 - val_micro_f1: 0.3081\n",
            "Epoch 32/100\n",
            "45056/45056 [==============================] - 0s 10us/sample - loss: 0.4916 - accuracy: 0.1839 - macro_f1: 0.1106 - micro_f1: 0.3067 - val_loss: 0.4894 - val_accuracy: 0.1818 - val_macro_f1: 0.1084 - val_micro_f1: 0.3081\n",
            "Epoch 33/100\n",
            "45056/45056 [==============================] - 0s 10us/sample - loss: 0.4913 - accuracy: 0.1841 - macro_f1: 0.1108 - micro_f1: 0.3068 - val_loss: 0.4892 - val_accuracy: 0.1821 - val_macro_f1: 0.1083 - val_micro_f1: 0.3082\n",
            "Epoch 34/100\n",
            "45056/45056 [==============================] - 0s 10us/sample - loss: 0.4911 - accuracy: 0.1842 - macro_f1: 0.1110 - micro_f1: 0.3071 - val_loss: 0.4889 - val_accuracy: 0.1823 - val_macro_f1: 0.1081 - val_micro_f1: 0.3085\n",
            "Epoch 35/100\n",
            "45056/45056 [==============================] - 0s 10us/sample - loss: 0.4908 - accuracy: 0.1843 - macro_f1: 0.1102 - micro_f1: 0.3071 - val_loss: 0.4886 - val_accuracy: 0.1823 - val_macro_f1: 0.1080 - val_micro_f1: 0.3085\n",
            "Epoch 36/100\n",
            "45056/45056 [==============================] - 0s 11us/sample - loss: 0.4906 - accuracy: 0.1844 - macro_f1: 0.1100 - micro_f1: 0.3071 - val_loss: 0.4884 - val_accuracy: 0.1825 - val_macro_f1: 0.1078 - val_micro_f1: 0.3087\n",
            "Epoch 37/100\n",
            "45056/45056 [==============================] - 0s 10us/sample - loss: 0.4903 - accuracy: 0.1843 - macro_f1: 0.1095 - micro_f1: 0.3071 - val_loss: 0.4882 - val_accuracy: 0.1828 - val_macro_f1: 0.1077 - val_micro_f1: 0.3087\n",
            "Epoch 38/100\n",
            "45056/45056 [==============================] - 1s 11us/sample - loss: 0.4901 - accuracy: 0.1843 - macro_f1: 0.1095 - micro_f1: 0.3068 - val_loss: 0.4880 - val_accuracy: 0.1827 - val_macro_f1: 0.1075 - val_micro_f1: 0.3089\n",
            "Epoch 39/100\n",
            "45056/45056 [==============================] - 0s 10us/sample - loss: 0.4899 - accuracy: 0.1843 - macro_f1: 0.1094 - micro_f1: 0.3069 - val_loss: 0.4878 - val_accuracy: 0.1828 - val_macro_f1: 0.1070 - val_micro_f1: 0.3089\n",
            "Epoch 40/100\n",
            "45056/45056 [==============================] - 1s 11us/sample - loss: 0.4897 - accuracy: 0.1844 - macro_f1: 0.1092 - micro_f1: 0.3071 - val_loss: 0.4875 - val_accuracy: 0.1829 - val_macro_f1: 0.1069 - val_micro_f1: 0.3090\n",
            "Epoch 41/100\n",
            "45056/45056 [==============================] - 0s 11us/sample - loss: 0.4895 - accuracy: 0.1844 - macro_f1: 0.1089 - micro_f1: 0.3069 - val_loss: 0.4874 - val_accuracy: 0.1833 - val_macro_f1: 0.1065 - val_micro_f1: 0.3088\n",
            "Epoch 42/100\n",
            "45056/45056 [==============================] - 1s 11us/sample - loss: 0.4893 - accuracy: 0.1844 - macro_f1: 0.1087 - micro_f1: 0.3070 - val_loss: 0.4872 - val_accuracy: 0.1831 - val_macro_f1: 0.1061 - val_micro_f1: 0.3090\n",
            "Epoch 43/100\n",
            "45056/45056 [==============================] - 0s 10us/sample - loss: 0.4892 - accuracy: 0.1844 - macro_f1: 0.1086 - micro_f1: 0.3071 - val_loss: 0.4870 - val_accuracy: 0.1834 - val_macro_f1: 0.1057 - val_micro_f1: 0.3089\n",
            "Epoch 44/100\n",
            "45056/45056 [==============================] - 1s 12us/sample - loss: 0.4890 - accuracy: 0.1845 - macro_f1: 0.1084 - micro_f1: 0.3067 - val_loss: 0.4868 - val_accuracy: 0.1830 - val_macro_f1: 0.1057 - val_micro_f1: 0.3089\n",
            "Epoch 45/100\n",
            "45056/45056 [==============================] - 0s 10us/sample - loss: 0.4888 - accuracy: 0.1847 - macro_f1: 0.1081 - micro_f1: 0.3070 - val_loss: 0.4867 - val_accuracy: 0.1832 - val_macro_f1: 0.1056 - val_micro_f1: 0.3092\n",
            "Epoch 46/100\n",
            "45056/45056 [==============================] - 0s 10us/sample - loss: 0.4887 - accuracy: 0.1847 - macro_f1: 0.1079 - micro_f1: 0.3070 - val_loss: 0.4865 - val_accuracy: 0.1836 - val_macro_f1: 0.1054 - val_micro_f1: 0.3092\n",
            "Epoch 47/100\n",
            "45056/45056 [==============================] - 0s 10us/sample - loss: 0.4885 - accuracy: 0.1849 - macro_f1: 0.1077 - micro_f1: 0.3069 - val_loss: 0.4863 - val_accuracy: 0.1832 - val_macro_f1: 0.1053 - val_micro_f1: 0.3091\n",
            "Epoch 48/100\n",
            "45056/45056 [==============================] - 0s 10us/sample - loss: 0.4883 - accuracy: 0.1848 - macro_f1: 0.1074 - micro_f1: 0.3069 - val_loss: 0.4862 - val_accuracy: 0.1836 - val_macro_f1: 0.1051 - val_micro_f1: 0.3090\n",
            "Epoch 49/100\n",
            "45056/45056 [==============================] - 0s 10us/sample - loss: 0.4882 - accuracy: 0.1849 - macro_f1: 0.1075 - micro_f1: 0.3069 - val_loss: 0.4860 - val_accuracy: 0.1835 - val_macro_f1: 0.1051 - val_micro_f1: 0.3092\n",
            "Epoch 50/100\n",
            "45056/45056 [==============================] - 0s 10us/sample - loss: 0.4881 - accuracy: 0.1849 - macro_f1: 0.1071 - micro_f1: 0.3067 - val_loss: 0.4859 - val_accuracy: 0.1837 - val_macro_f1: 0.1048 - val_micro_f1: 0.3091\n",
            "Epoch 51/100\n",
            "45056/45056 [==============================] - 0s 9us/sample - loss: 0.4879 - accuracy: 0.1850 - macro_f1: 0.1070 - micro_f1: 0.3068 - val_loss: 0.4858 - val_accuracy: 0.1836 - val_macro_f1: 0.1043 - val_micro_f1: 0.3092\n",
            "Epoch 52/100\n",
            "45056/45056 [==============================] - 0s 11us/sample - loss: 0.4878 - accuracy: 0.1850 - macro_f1: 0.1069 - micro_f1: 0.3068 - val_loss: 0.4856 - val_accuracy: 0.1835 - val_macro_f1: 0.1036 - val_micro_f1: 0.3089\n",
            "Epoch 53/100\n",
            "45056/45056 [==============================] - 0s 10us/sample - loss: 0.4877 - accuracy: 0.1851 - macro_f1: 0.1068 - micro_f1: 0.3069 - val_loss: 0.4855 - val_accuracy: 0.1835 - val_macro_f1: 0.1036 - val_micro_f1: 0.3089\n",
            "Epoch 54/100\n",
            "45056/45056 [==============================] - 0s 10us/sample - loss: 0.4875 - accuracy: 0.1851 - macro_f1: 0.1068 - micro_f1: 0.3069 - val_loss: 0.4853 - val_accuracy: 0.1835 - val_macro_f1: 0.1034 - val_micro_f1: 0.3087\n",
            "Epoch 55/100\n",
            "45056/45056 [==============================] - 0s 9us/sample - loss: 0.4874 - accuracy: 0.1852 - macro_f1: 0.1069 - micro_f1: 0.3068 - val_loss: 0.4852 - val_accuracy: 0.1835 - val_macro_f1: 0.1035 - val_micro_f1: 0.3089\n",
            "Epoch 56/100\n",
            "45056/45056 [==============================] - 0s 10us/sample - loss: 0.4873 - accuracy: 0.1851 - macro_f1: 0.1061 - micro_f1: 0.3068 - val_loss: 0.4851 - val_accuracy: 0.1835 - val_macro_f1: 0.1034 - val_micro_f1: 0.3087\n",
            "Epoch 57/100\n",
            "45056/45056 [==============================] - 0s 10us/sample - loss: 0.4871 - accuracy: 0.1852 - macro_f1: 0.1061 - micro_f1: 0.3067 - val_loss: 0.4850 - val_accuracy: 0.1835 - val_macro_f1: 0.1033 - val_micro_f1: 0.3089\n",
            "Epoch 58/100\n",
            "45056/45056 [==============================] - 0s 9us/sample - loss: 0.4870 - accuracy: 0.1853 - macro_f1: 0.1059 - micro_f1: 0.3067 - val_loss: 0.4849 - val_accuracy: 0.1835 - val_macro_f1: 0.1033 - val_micro_f1: 0.3088\n",
            "Epoch 59/100\n",
            "45056/45056 [==============================] - 0s 10us/sample - loss: 0.4869 - accuracy: 0.1855 - macro_f1: 0.1058 - micro_f1: 0.3068 - val_loss: 0.4848 - val_accuracy: 0.1837 - val_macro_f1: 0.1033 - val_micro_f1: 0.3090\n",
            "Epoch 60/100\n",
            "45056/45056 [==============================] - 0s 9us/sample - loss: 0.4868 - accuracy: 0.1856 - macro_f1: 0.1057 - micro_f1: 0.3067 - val_loss: 0.4846 - val_accuracy: 0.1838 - val_macro_f1: 0.1034 - val_micro_f1: 0.3092\n",
            "Epoch 61/100\n",
            "45056/45056 [==============================] - 0s 10us/sample - loss: 0.4867 - accuracy: 0.1857 - macro_f1: 0.1053 - micro_f1: 0.3068 - val_loss: 0.4845 - val_accuracy: 0.1839 - val_macro_f1: 0.1032 - val_micro_f1: 0.3092\n",
            "Epoch 62/100\n",
            "45056/45056 [==============================] - 0s 10us/sample - loss: 0.4866 - accuracy: 0.1856 - macro_f1: 0.1053 - micro_f1: 0.3069 - val_loss: 0.4844 - val_accuracy: 0.1838 - val_macro_f1: 0.1030 - val_micro_f1: 0.3091\n",
            "Epoch 63/100\n",
            "45056/45056 [==============================] - 0s 10us/sample - loss: 0.4865 - accuracy: 0.1856 - macro_f1: 0.1055 - micro_f1: 0.3070 - val_loss: 0.4843 - val_accuracy: 0.1838 - val_macro_f1: 0.1030 - val_micro_f1: 0.3094\n",
            "Epoch 64/100\n",
            "45056/45056 [==============================] - 0s 10us/sample - loss: 0.4864 - accuracy: 0.1857 - macro_f1: 0.1055 - micro_f1: 0.3071 - val_loss: 0.4842 - val_accuracy: 0.1839 - val_macro_f1: 0.1029 - val_micro_f1: 0.3093\n",
            "Epoch 65/100\n",
            "45056/45056 [==============================] - 0s 9us/sample - loss: 0.4863 - accuracy: 0.1857 - macro_f1: 0.1053 - micro_f1: 0.3070 - val_loss: 0.4841 - val_accuracy: 0.1839 - val_macro_f1: 0.1028 - val_micro_f1: 0.3091\n",
            "Epoch 66/100\n",
            "45056/45056 [==============================] - 0s 11us/sample - loss: 0.4862 - accuracy: 0.1858 - macro_f1: 0.1054 - micro_f1: 0.3072 - val_loss: 0.4840 - val_accuracy: 0.1841 - val_macro_f1: 0.1028 - val_micro_f1: 0.3092\n",
            "Epoch 67/100\n",
            "45056/45056 [==============================] - 0s 10us/sample - loss: 0.4861 - accuracy: 0.1857 - macro_f1: 0.1052 - micro_f1: 0.3071 - val_loss: 0.4839 - val_accuracy: 0.1839 - val_macro_f1: 0.1029 - val_micro_f1: 0.3091\n",
            "Epoch 68/100\n",
            "45056/45056 [==============================] - 0s 10us/sample - loss: 0.4860 - accuracy: 0.1857 - macro_f1: 0.1051 - micro_f1: 0.3069 - val_loss: 0.4839 - val_accuracy: 0.1839 - val_macro_f1: 0.1029 - val_micro_f1: 0.3093\n",
            "Epoch 69/100\n",
            "45056/45056 [==============================] - 0s 10us/sample - loss: 0.4859 - accuracy: 0.1857 - macro_f1: 0.1050 - micro_f1: 0.3070 - val_loss: 0.4838 - val_accuracy: 0.1840 - val_macro_f1: 0.1028 - val_micro_f1: 0.3092\n",
            "Epoch 70/100\n",
            "45056/45056 [==============================] - 0s 10us/sample - loss: 0.4858 - accuracy: 0.1858 - macro_f1: 0.1049 - micro_f1: 0.3068 - val_loss: 0.4837 - val_accuracy: 0.1842 - val_macro_f1: 0.1026 - val_micro_f1: 0.3091\n",
            "Epoch 71/100\n",
            "45056/45056 [==============================] - 0s 10us/sample - loss: 0.4858 - accuracy: 0.1856 - macro_f1: 0.1044 - micro_f1: 0.3065 - val_loss: 0.4836 - val_accuracy: 0.1842 - val_macro_f1: 0.1026 - val_micro_f1: 0.3091\n",
            "Epoch 72/100\n",
            "45056/45056 [==============================] - 0s 10us/sample - loss: 0.4857 - accuracy: 0.1856 - macro_f1: 0.1046 - micro_f1: 0.3066 - val_loss: 0.4835 - val_accuracy: 0.1840 - val_macro_f1: 0.1025 - val_micro_f1: 0.3091\n",
            "Epoch 73/100\n",
            "45056/45056 [==============================] - 0s 11us/sample - loss: 0.4856 - accuracy: 0.1856 - macro_f1: 0.1044 - micro_f1: 0.3066 - val_loss: 0.4834 - val_accuracy: 0.1838 - val_macro_f1: 0.1022 - val_micro_f1: 0.3089\n",
            "Epoch 74/100\n",
            "45056/45056 [==============================] - 0s 11us/sample - loss: 0.4855 - accuracy: 0.1856 - macro_f1: 0.1043 - micro_f1: 0.3065 - val_loss: 0.4833 - val_accuracy: 0.1839 - val_macro_f1: 0.1022 - val_micro_f1: 0.3090\n",
            "Epoch 75/100\n",
            "45056/45056 [==============================] - 0s 10us/sample - loss: 0.4854 - accuracy: 0.1856 - macro_f1: 0.1041 - micro_f1: 0.3065 - val_loss: 0.4832 - val_accuracy: 0.1839 - val_macro_f1: 0.1022 - val_micro_f1: 0.3091\n",
            "Epoch 76/100\n",
            "45056/45056 [==============================] - 0s 10us/sample - loss: 0.4853 - accuracy: 0.1856 - macro_f1: 0.1043 - micro_f1: 0.3065 - val_loss: 0.4832 - val_accuracy: 0.1839 - val_macro_f1: 0.1021 - val_micro_f1: 0.3091\n",
            "Epoch 77/100\n",
            "45056/45056 [==============================] - 0s 11us/sample - loss: 0.4853 - accuracy: 0.1856 - macro_f1: 0.1040 - micro_f1: 0.3064 - val_loss: 0.4831 - val_accuracy: 0.1839 - val_macro_f1: 0.1021 - val_micro_f1: 0.3092\n",
            "Epoch 78/100\n",
            "45056/45056 [==============================] - 0s 10us/sample - loss: 0.4852 - accuracy: 0.1856 - macro_f1: 0.1039 - micro_f1: 0.3065 - val_loss: 0.4830 - val_accuracy: 0.1838 - val_macro_f1: 0.1022 - val_micro_f1: 0.3092\n",
            "Epoch 79/100\n",
            "45056/45056 [==============================] - 0s 11us/sample - loss: 0.4851 - accuracy: 0.1857 - macro_f1: 0.1038 - micro_f1: 0.3063 - val_loss: 0.4829 - val_accuracy: 0.1839 - val_macro_f1: 0.1022 - val_micro_f1: 0.3091\n",
            "Epoch 80/100\n",
            "45056/45056 [==============================] - 0s 10us/sample - loss: 0.4850 - accuracy: 0.1858 - macro_f1: 0.1036 - micro_f1: 0.3065 - val_loss: 0.4829 - val_accuracy: 0.1839 - val_macro_f1: 0.1022 - val_micro_f1: 0.3093\n",
            "Epoch 81/100\n",
            "45056/45056 [==============================] - 0s 11us/sample - loss: 0.4850 - accuracy: 0.1859 - macro_f1: 0.1040 - micro_f1: 0.3065 - val_loss: 0.4828 - val_accuracy: 0.1841 - val_macro_f1: 0.1022 - val_micro_f1: 0.3094\n",
            "Epoch 82/100\n",
            "45056/45056 [==============================] - 0s 9us/sample - loss: 0.4849 - accuracy: 0.1858 - macro_f1: 0.1037 - micro_f1: 0.3064 - val_loss: 0.4827 - val_accuracy: 0.1842 - val_macro_f1: 0.1021 - val_micro_f1: 0.3091\n",
            "Epoch 83/100\n",
            "45056/45056 [==============================] - 0s 11us/sample - loss: 0.4848 - accuracy: 0.1859 - macro_f1: 0.1034 - micro_f1: 0.3062 - val_loss: 0.4827 - val_accuracy: 0.1842 - val_macro_f1: 0.1020 - val_micro_f1: 0.3091\n",
            "Epoch 84/100\n",
            "45056/45056 [==============================] - 0s 10us/sample - loss: 0.4848 - accuracy: 0.1861 - macro_f1: 0.1034 - micro_f1: 0.3063 - val_loss: 0.4826 - val_accuracy: 0.1844 - val_macro_f1: 0.1020 - val_micro_f1: 0.3090\n",
            "Epoch 85/100\n",
            "45056/45056 [==============================] - 0s 10us/sample - loss: 0.4847 - accuracy: 0.1861 - macro_f1: 0.1035 - micro_f1: 0.3063 - val_loss: 0.4825 - val_accuracy: 0.1844 - val_macro_f1: 0.1017 - val_micro_f1: 0.3089\n",
            "Epoch 86/100\n",
            "45056/45056 [==============================] - 0s 9us/sample - loss: 0.4846 - accuracy: 0.1861 - macro_f1: 0.1034 - micro_f1: 0.3064 - val_loss: 0.4825 - val_accuracy: 0.1844 - val_macro_f1: 0.1017 - val_micro_f1: 0.3089\n",
            "Epoch 87/100\n",
            "45056/45056 [==============================] - 0s 9us/sample - loss: 0.4846 - accuracy: 0.1862 - macro_f1: 0.1032 - micro_f1: 0.3064 - val_loss: 0.4824 - val_accuracy: 0.1844 - val_macro_f1: 0.1017 - val_micro_f1: 0.3090\n",
            "Epoch 88/100\n",
            "45056/45056 [==============================] - 0s 10us/sample - loss: 0.4845 - accuracy: 0.1861 - macro_f1: 0.1035 - micro_f1: 0.3065 - val_loss: 0.4824 - val_accuracy: 0.1844 - val_macro_f1: 0.1017 - val_micro_f1: 0.3091\n",
            "Epoch 89/100\n",
            "45056/45056 [==============================] - 0s 10us/sample - loss: 0.4845 - accuracy: 0.1862 - macro_f1: 0.1033 - micro_f1: 0.3064 - val_loss: 0.4823 - val_accuracy: 0.1842 - val_macro_f1: 0.1015 - val_micro_f1: 0.3088\n",
            "Epoch 90/100\n",
            "45056/45056 [==============================] - 0s 11us/sample - loss: 0.4844 - accuracy: 0.1862 - macro_f1: 0.1030 - micro_f1: 0.3061 - val_loss: 0.4822 - val_accuracy: 0.1842 - val_macro_f1: 0.1015 - val_micro_f1: 0.3089\n",
            "Epoch 91/100\n",
            "45056/45056 [==============================] - 0s 10us/sample - loss: 0.4843 - accuracy: 0.1863 - macro_f1: 0.1029 - micro_f1: 0.3061 - val_loss: 0.4822 - val_accuracy: 0.1842 - val_macro_f1: 0.1016 - val_micro_f1: 0.3090\n",
            "Epoch 92/100\n",
            "45056/45056 [==============================] - 0s 11us/sample - loss: 0.4843 - accuracy: 0.1863 - macro_f1: 0.1030 - micro_f1: 0.3061 - val_loss: 0.4821 - val_accuracy: 0.1842 - val_macro_f1: 0.1016 - val_micro_f1: 0.3090\n",
            "Epoch 93/100\n",
            "45056/45056 [==============================] - 0s 10us/sample - loss: 0.4842 - accuracy: 0.1865 - macro_f1: 0.1030 - micro_f1: 0.3063 - val_loss: 0.4820 - val_accuracy: 0.1843 - val_macro_f1: 0.1015 - val_micro_f1: 0.3091\n",
            "Epoch 94/100\n",
            "45056/45056 [==============================] - 1s 11us/sample - loss: 0.4841 - accuracy: 0.1864 - macro_f1: 0.1029 - micro_f1: 0.3065 - val_loss: 0.4820 - val_accuracy: 0.1845 - val_macro_f1: 0.1014 - val_micro_f1: 0.3092\n",
            "Epoch 95/100\n",
            "45056/45056 [==============================] - 0s 10us/sample - loss: 0.4841 - accuracy: 0.1865 - macro_f1: 0.1027 - micro_f1: 0.3064 - val_loss: 0.4819 - val_accuracy: 0.1845 - val_macro_f1: 0.1014 - val_micro_f1: 0.3092\n",
            "Epoch 96/100\n",
            "45056/45056 [==============================] - 0s 10us/sample - loss: 0.4840 - accuracy: 0.1865 - macro_f1: 0.1028 - micro_f1: 0.3065 - val_loss: 0.4819 - val_accuracy: 0.1846 - val_macro_f1: 0.1014 - val_micro_f1: 0.3093\n",
            "Epoch 97/100\n",
            "45056/45056 [==============================] - 0s 10us/sample - loss: 0.4840 - accuracy: 0.1864 - macro_f1: 0.1028 - micro_f1: 0.3065 - val_loss: 0.4818 - val_accuracy: 0.1844 - val_macro_f1: 0.1013 - val_micro_f1: 0.3092\n",
            "Epoch 98/100\n",
            "45056/45056 [==============================] - 0s 11us/sample - loss: 0.4839 - accuracy: 0.1863 - macro_f1: 0.1026 - micro_f1: 0.3066 - val_loss: 0.4818 - val_accuracy: 0.1845 - val_macro_f1: 0.1011 - val_micro_f1: 0.3092\n",
            "Epoch 99/100\n",
            "45056/45056 [==============================] - 0s 10us/sample - loss: 0.4839 - accuracy: 0.1863 - macro_f1: 0.1025 - micro_f1: 0.3065 - val_loss: 0.4817 - val_accuracy: 0.1847 - val_macro_f1: 0.1009 - val_micro_f1: 0.3090\n",
            "Epoch 100/100\n",
            "45056/45056 [==============================] - 0s 9us/sample - loss: 0.4838 - accuracy: 0.1864 - macro_f1: 0.1025 - micro_f1: 0.3065 - val_loss: 0.4816 - val_accuracy: 0.1847 - val_macro_f1: 0.1010 - val_micro_f1: 0.3091\n"
          ],
          "name": "stdout"
        }
      ]
    },
    {
      "cell_type": "code",
      "metadata": {
        "id": "fQeX5lwx686o",
        "colab_type": "code",
        "outputId": "726699e9-898e-4f69-e4b4-ce1b6fa74db1",
        "colab": {
          "base_uri": "https://localhost:8080/",
          "height": 174
        }
      },
      "source": [
        "from tensorflow.keras.utils import plot_model\n",
        "plot_model(model, to_file=plot_save_prefix + 'model_architecture.png', show_shapes=False)"
      ],
      "execution_count": 0,
      "outputs": [
        {
          "output_type": "execute_result",
          "data": {
            "image/png": "[encoded data removed]",
            "text/plain": [
              "<IPython.core.display.Image object>"
            ]
          },
          "metadata": {
            "tags": []
          },
          "execution_count": 87
        }
      ]
    },
    {
      "cell_type": "code",
      "metadata": {
        "id": "MPTuYvHB7m7m",
        "colab_type": "code",
        "outputId": "2b1376c7-b3db-4a9b-b231-c8ac28103377",
        "colab": {
          "base_uri": "https://localhost:8080/",
          "height": 34
        }
      },
      "source": [
        "# serialize model to JSON\n",
        "model_json = model.to_json()\n",
        "with open(model_save_prefix + '/' + results_prefix + '_json.json', \"w\") as json_file:\n",
        "    json_file.write(model_json)\n",
        "# serialize weights to HDF5\n",
        "model.save_weights( model_save_prefix + '/' + results_prefix + '_weights.h5', overwrite=True)\n",
        "print(\"Saved model to disk\")"
      ],
      "execution_count": 0,
      "outputs": [
        {
          "output_type": "stream",
          "text": [
            "Saved model to disk\n"
          ],
          "name": "stdout"
        }
      ]
    },
    {
      "cell_type": "markdown",
      "metadata": {
        "id": "0f0WdOHvhBHJ",
        "colab_type": "text"
      },
      "source": [
        "### Evaluating Results"
      ]
    },
    {
      "cell_type": "code",
      "metadata": {
        "id": "K79kjROtVPsu",
        "colab_type": "code",
        "outputId": "b65138f2-7049-4837-d8a8-d264906adf6a",
        "colab": {
          "base_uri": "https://localhost:8080/",
          "height": 918
        }
      },
      "source": [
        "import matplotlib.pyplot as plt\n",
        "import matplotlib.style as style\n",
        "\n",
        "def learning_curves(history,ACC):\n",
        "    \"\"\"Plot the learning curves of loss and macro f1 score \n",
        "    for the training and validation datasets.\n",
        "    \n",
        "    Args:\n",
        "        history: history callback of fitting a tensorflow keras model \n",
        "    \"\"\"\n",
        "    \n",
        "    loss = history.history['loss']\n",
        "    val_loss = history.history['val_loss']\n",
        "    epochs = len(loss)\n",
        "    style.use(\"bmh\")\n",
        "    num_plots = len(ACC) + 1\n",
        "    plt.figure(figsize=(12, 12))\n",
        "\n",
        "    plt.subplot(num_plots, 1, 1)\n",
        "    plt.plot(range(1, epochs+1), loss, label='Training Loss')\n",
        "    plt.plot(range(1, epochs+1), val_loss, label='Validation Loss')\n",
        "    plt.legend(loc='upper right')\n",
        "    plt.ylabel('Loss')\n",
        "    plt.title(optimizer_select + ': Training and Validation Loss')\n",
        "\n",
        "    ctr = 2\n",
        "    accuracy = []\n",
        "    val_accuracy = []\n",
        "    for accs in ACC:\n",
        "        if isinstance(accs, str):\n",
        "            acc_name = accs\n",
        "        else:\n",
        "            acc_name = accs.__name__\n",
        "        acc_data = history.history[acc_name]\n",
        "        val_acc_data = history.history['val_'+acc_name]\n",
        "        accuracy.append(acc_data)\n",
        "        val_accuracy.append(val_acc_data)\n",
        "        plt.subplot(num_plots, 1, ctr)\n",
        "        plt.plot(range(1, epochs+1), acc_data, label= acc_name + ':' + 'Training F1-score')\n",
        "        plt.plot(range(1, epochs+1), val_acc_data, label = acc_name + ':' + 'Validation F1-score')\n",
        "        plt.legend(loc='lower right')\n",
        "        plt.ylabel('F1-score')\n",
        "        plt.title(optimizer_select + ': Training and Validation F1-score')\n",
        "        #plt.xlabel('epoch')\n",
        "        plt.savefig(plot_save_prefix + results_prefix + '.jpg')\n",
        "        ctr+=1\n",
        "    plt.xlabel('epoch')\n",
        "    plt.show()\n",
        "    return loss, val_loss, accuracy, val_accuracy\n",
        "\n",
        "losses, val_losses,  accuracy, val_accuracy = learning_curves(history, ACC)\n",
        "\n",
        "df_results = pd.DataFrame({'loss':losses,'val_loss': val_losses,\n",
        "              'macro_f1':accuracy[0],'micro_f1':accuracy[1],\n",
        "              'val_macro_f1':val_accuracy[0], 'val_micro_f1':val_accuracy[1]})\n",
        "df_results.tail()"
      ],
      "execution_count": 0,
      "outputs": [
        {
          "output_type": "display_data",
          "data": {
            "image/png": "[encoded data removed]",
            "text/plain": [
              "<Figure size 864x864 with 4 Axes>"
            ]
          },
          "metadata": {
            "tags": []
          }
        },
        {
          "output_type": "execute_result",
          "data": {
            "text/html": [
              "<div>\n",
              "<style scoped>\n",
              "    .dataframe tbody tr th:only-of-type {\n",
              "        vertical-align: middle;\n",
              "    }\n",
              "\n",
              "    .dataframe tbody tr th {\n",
              "        vertical-align: top;\n",
              "    }\n",
              "\n",
              "    .dataframe thead th {\n",
              "        text-align: right;\n",
              "    }\n",
              "</style>\n",
              "<table border=\"1\" class=\"dataframe\">\n",
              "  <thead>\n",
              "    <tr style=\"text-align: right;\">\n",
              "      <th></th>\n",
              "      <th>loss</th>\n",
              "      <th>val_loss</th>\n",
              "      <th>macro_f1</th>\n",
              "      <th>micro_f1</th>\n",
              "      <th>val_macro_f1</th>\n",
              "      <th>val_micro_f1</th>\n",
              "    </tr>\n",
              "  </thead>\n",
              "  <tbody>\n",
              "    <tr>\n",
              "      <th>95</th>\n",
              "      <td>0.574919</td>\n",
              "      <td>0.499407</td>\n",
              "      <td>0.107264</td>\n",
              "      <td>0.111661</td>\n",
              "      <td>0.155413</td>\n",
              "      <td>0.113314</td>\n",
              "    </tr>\n",
              "    <tr>\n",
              "      <th>96</th>\n",
              "      <td>0.574856</td>\n",
              "      <td>0.499334</td>\n",
              "      <td>0.107303</td>\n",
              "      <td>0.111529</td>\n",
              "      <td>0.155483</td>\n",
              "      <td>0.113098</td>\n",
              "    </tr>\n",
              "    <tr>\n",
              "      <th>97</th>\n",
              "      <td>0.574803</td>\n",
              "      <td>0.499276</td>\n",
              "      <td>0.107369</td>\n",
              "      <td>0.111598</td>\n",
              "      <td>0.155343</td>\n",
              "      <td>0.112869</td>\n",
              "    </tr>\n",
              "    <tr>\n",
              "      <th>98</th>\n",
              "      <td>0.574741</td>\n",
              "      <td>0.499213</td>\n",
              "      <td>0.107330</td>\n",
              "      <td>0.111497</td>\n",
              "      <td>0.154994</td>\n",
              "      <td>0.112898</td>\n",
              "    </tr>\n",
              "    <tr>\n",
              "      <th>99</th>\n",
              "      <td>0.574685</td>\n",
              "      <td>0.499152</td>\n",
              "      <td>0.107330</td>\n",
              "      <td>0.111347</td>\n",
              "      <td>0.155134</td>\n",
              "      <td>0.112551</td>\n",
              "    </tr>\n",
              "  </tbody>\n",
              "</table>\n",
              "</div>"
            ],
            "text/plain": [
              "        loss  val_loss  macro_f1  micro_f1  val_macro_f1  val_micro_f1\n",
              "95  0.574919  0.499407  0.107264  0.111661      0.155413      0.113314\n",
              "96  0.574856  0.499334  0.107303  0.111529      0.155483      0.113098\n",
              "97  0.574803  0.499276  0.107369  0.111598      0.155343      0.112869\n",
              "98  0.574741  0.499213  0.107330  0.111497      0.154994      0.112898\n",
              "99  0.574685  0.499152  0.107330  0.111347      0.155134      0.112551"
            ]
          },
          "metadata": {
            "tags": []
          },
          "execution_count": 88
        }
      ]
    },
    {
      "cell_type": "code",
      "metadata": {
        "id": "bfQvAbFert59",
        "colab_type": "code",
        "colab": {}
      },
      "source": [
        "df_results.to_csv(plot_save_prefix + results_prefix + '.data', index=False)"
      ],
      "execution_count": 0,
      "outputs": []
    },
    {
      "cell_type": "code",
      "metadata": {
        "id": "RC8lOHLB69gO",
        "colab_type": "code",
        "colab": {}
      },
      "source": [
        "def perf_grid(ds, target, label_names, model, n_thresh=100):\n",
        "    \"\"\"Computes the performance table containing target, label names,\n",
        "    label frequencies, thresholds between 0 and 1, number of tp, fp, fn,\n",
        "    precision, recall and f-score metrics for each label.\n",
        "    \n",
        "    Args:\n",
        "        ds (tf.data.Datatset): contains the features array\n",
        "        target (numpy array): target matrix of shape (BATCH_SIZE, N_LABELS)\n",
        "        label_names (list of strings): column names in target matrix\n",
        "        model (tensorflow keras model): model to use for prediction\n",
        "        n_thresh (int) : number of thresholds to try\n",
        "        \n",
        "    Returns:\n",
        "        grid (Pandas dataframe): performance table \n",
        "    \"\"\"\n",
        "    \n",
        "    # Get predictions\n",
        "    y_hat_val = model.predict(ds)\n",
        "    # Define target matrix\n",
        "    y_val = target\n",
        "    # Find label frequencies in the validation set\n",
        "    label_freq = target.sum(axis=0)\n",
        "    # Get label indexes\n",
        "    label_index = [i for i in range(len(label_names))]\n",
        "    # Define thresholds\n",
        "    thresholds = np.linspace(0,1,n_thresh+1).astype(np.float32)\n",
        "    \n",
        "    # Compute all metrics for all labels\n",
        "    ids, labels, freqs, tps, fps, fns, precisions, recalls, f1s = [], [], [], [], [], [], [], [], []\n",
        "    for l in label_index:\n",
        "        for thresh in thresholds:   \n",
        "            ids.append(l)\n",
        "            labels.append(label_names[l])\n",
        "            freqs.append(round(label_freq[l]/len(y_val),2))\n",
        "            y_hat = y_hat_val[:,l]\n",
        "            y = y_val[:,l]\n",
        "            y_pred = y_hat > thresh\n",
        "            tp = np.count_nonzero(y_pred  * y)\n",
        "            fp = np.count_nonzero(y_pred * (1-y))\n",
        "            fn = np.count_nonzero((1-y_pred) * y)\n",
        "            precision = tp / (tp + fp + 1e-16)\n",
        "            recall = tp / (tp + fn + 1e-16)\n",
        "            f1 = 2*tp / (2*tp + fn + fp + 1e-16)\n",
        "            tps.append(tp)\n",
        "            fps.append(fp)\n",
        "            fns.append(fn)\n",
        "            precisions.append(precision)\n",
        "            recalls.append(recall)\n",
        "            f1s.append(f1)\n",
        "            \n",
        "    # Create the performance dataframe\n",
        "    grid = pd.DataFrame({\n",
        "        'id':ids,\n",
        "        'label':labels,\n",
        "        'freq':freqs,\n",
        "        'threshold':list(thresholds)*len(label_index),\n",
        "        'tp':tps,\n",
        "        'fp':fps,\n",
        "        'fn':fns,\n",
        "        'precision':precisions,\n",
        "        'recall':recalls,\n",
        "        'f1':f1s})\n",
        "    \n",
        "    grid = grid[['id', 'label', 'freq', 'threshold',\n",
        "                 'tp', 'fn', 'fp', 'precision', 'recall', 'f1']]\n",
        "    \n",
        "    return grid"
      ],
      "execution_count": 0,
      "outputs": []
    },
    {
      "cell_type": "code",
      "metadata": {
        "id": "EdLUXNNrkBNc",
        "colab_type": "code",
        "colab": {}
      },
      "source": [
        "if (ERROR_TEST):\n",
        "    label_names = ['Drama']\n",
        "else:\n",
        "    label_names = ['Drama','Thriller','Comedy','Action','Crime',\n",
        "                   'Horror','Romance','Adventure','Mystery','Sci-Fi']"
      ],
      "execution_count": 0,
      "outputs": []
    },
    {
      "cell_type": "code",
      "metadata": {
        "id": "GgcuuiPg7AIM",
        "colab_type": "code",
        "colab": {}
      },
      "source": [
        "n_thresh = 20\n",
        "with strategy.scope():\n",
        "    if OVERSAMPLING:\n",
        "        grid_train = perf_grid(new_X_train.astype(np.float32)[:NUM_TRAIN_SAMPLES], # .reshape(NUM_TRAIN_SAMPLES,2048,1)\n",
        "                y_train.astype(np.float32)[:NUM_TRAIN_SAMPLES], \n",
        "                label_names, \n",
        "                model, \n",
        "                n_thresh=n_thresh)\n",
        "    else:\n",
        "        grid_train = perf_grid(X_train.astype(np.float32)[:NUM_TRAIN_SAMPLES], # .reshape(NUM_TRAIN_SAMPLES,2048,1)\n",
        "                y_train.astype(np.float32)[:NUM_TRAIN_SAMPLES], \n",
        "                label_names, \n",
        "                model, \n",
        "                n_thresh=n_thresh)\n",
        "    grid_dev = perf_grid(X_dev.astype(np.float32)[:NUM_DEV_SAMPLES], \n",
        "            y_dev.astype(np.float32)[:NUM_DEV_SAMPLES], \n",
        "            label_names, \n",
        "            model, \n",
        "            n_thresh=n_thresh)\n",
        "    grid_val = perf_grid(X_val.astype(np.float32)[:NUM_VAL_SAMPLES], \n",
        "            y_val.astype(np.float32)[:NUM_VAL_SAMPLES], \n",
        "            label_names, \n",
        "            model, \n",
        "            n_thresh=n_thresh)"
      ],
      "execution_count": 0,
      "outputs": []
    },
    {
      "cell_type": "code",
      "metadata": {
        "id": "g765etC3Elzb",
        "colab_type": "code",
        "outputId": "a015bcad-0c6d-40c9-e930-74f01bced45a",
        "colab": {
          "base_uri": "https://localhost:8080/",
          "height": 578
        }
      },
      "source": [
        "import seaborn as sns\n",
        "\n",
        "def table_scores(grid_data, threshold):\n",
        "    max_perf = grid_data.loc[grid_data.threshold==threshold,:].groupby(['id', 'label', 'threshold','freq','precision','recall'])[['f1']].max().sort_values('f1', ascending=False).reset_index()\n",
        "    max_perf.rename(columns={'f1':'f1score'}, inplace=True)\n",
        "    max_perf.style.background_gradient(subset=['freq', 'f1score'], \n",
        "                                       cmap=sns.light_palette(\"lightgreen\", as_cmap=True))\n",
        "    return(max_perf)\n",
        "\n",
        "table_scores(grid_train, threshold=0.5).to_csv(plot_save_prefix + results_prefix + '_train.f1score')\n",
        "table_scores(grid_dev, threshold=0.5).to_csv(plot_save_prefix + results_prefix + '_dev.f1score')\n",
        "table_scores(grid_val, threshold=0.5).to_csv(plot_save_prefix + results_prefix + '_val.f1score')\n",
        "print(table_scores(grid_train, threshold=0.5))\n",
        "print(table_scores(grid_dev, threshold=0.5))\n",
        "print(table_scores(grid_val, threshold=0.5))\n"
      ],
      "execution_count": 0,
      "outputs": [
        {
          "output_type": "stream",
          "text": [
            "   id      label  threshold  freq  precision    recall   f1score\n",
            "0   0      Drama        0.5  0.55   0.554415  0.644390  0.596026\n",
            "1   2     Comedy        0.5  0.34   0.346020  0.186060  0.241996\n",
            "2   1   Thriller        0.5  0.20   0.185362  0.026417  0.046244\n",
            "3   6    Romance        0.5  0.20   0.212683  0.024453  0.043863\n",
            "4   5     Horror        0.5  0.12   0.110375  0.018839  0.032185\n",
            "5   4      Crime        0.5  0.13   0.133234  0.014745  0.026551\n",
            "6   7  Adventure        0.5  0.09   0.105634  0.011194  0.020243\n",
            "7   3     Action        0.5  0.15   0.148472  0.009915  0.018589\n",
            "8   8    Mystery        0.5  0.07   0.075472  0.002413  0.004676\n",
            "9   9     Sci-Fi        0.5  0.06   0.028571  0.000728  0.001420\n",
            "   id      label  threshold  freq  precision    recall   f1score\n",
            "0   0      Drama        0.5  0.55   0.558350  0.652125  0.601605\n",
            "1   2     Comedy        0.5  0.35   0.349046  0.179775  0.237320\n",
            "2   1   Thriller        0.5  0.19   0.197970  0.028037  0.049118\n",
            "3   6    Romance        0.5  0.20   0.198171  0.022562  0.040511\n",
            "4   5     Horror        0.5  0.12   0.117460  0.021650  0.036561\n",
            "5   4      Crime        0.5  0.13   0.088670  0.009756  0.017578\n",
            "6   3     Action        0.5  0.15   0.155172  0.008341  0.015831\n",
            "7   7  Adventure        0.5  0.09   0.076923  0.007675  0.013957\n",
            "8   9     Sci-Fi        0.5  0.06   0.050000  0.001242  0.002424\n",
            "9   8    Mystery        0.5  0.07   0.037037  0.001002  0.001951\n",
            "   id      label  threshold  freq  precision    recall   f1score\n",
            "0   0      Drama        0.5  0.56   0.562800  0.640447  0.599118\n",
            "1   2     Comedy        0.5  0.34   0.331736  0.183974  0.236686\n",
            "2   5     Horror        0.5  0.12   0.146067  0.023200  0.040041\n",
            "3   6    Romance        0.5  0.20   0.184466  0.020270  0.036527\n",
            "4   1   Thriller        0.5  0.19   0.145833  0.020305  0.035646\n",
            "5   4      Crime        0.5  0.13   0.118943  0.014181  0.025340\n",
            "6   7  Adventure        0.5  0.09   0.085938  0.008994  0.016284\n",
            "7   3     Action        0.5  0.15   0.120301  0.007319  0.013799\n",
            "8   9     Sci-Fi        0.5  0.06   0.150000  0.003394  0.006637\n",
            "9   8    Mystery        0.5  0.07   0.083333  0.002804  0.005425\n"
          ],
          "name": "stdout"
        }
      ]
    },
    {
      "cell_type": "code",
      "metadata": {
        "id": "rJ-T3s6TkPBG",
        "colab_type": "code",
        "outputId": "a9b00721-f68c-4eb3-8812-642b657136f9",
        "colab": {
          "base_uri": "https://localhost:8080/",
          "height": 34
        }
      },
      "source": [
        "plot_save_prefix + results_prefix"
      ],
      "execution_count": 0,
      "outputs": [
        {
          "output_type": "execute_result",
          "data": {
            "text/plain": [
              "'/content/drive/My Drive/w266-FinalProject/Posters/plots/baseline/baseline_ADAM_EPOCHS_100_LR_0.0001_LOSS_bce_NoOS'"
            ]
          },
          "metadata": {
            "tags": []
          },
          "execution_count": 110
        }
      ]
    },
    {
      "cell_type": "code",
      "metadata": {
        "id": "dgmWBDexiVgh",
        "colab_type": "code",
        "outputId": "ed2199e9-3ea7-4b19-e303-7e04da74eb03",
        "colab": {
          "base_uri": "https://localhost:8080/",
          "height": 119
        }
      },
      "source": [
        "# Only for single label\n",
        "from sklearn.metrics import confusion_matrix\n",
        "\n",
        "def get_confusion_matrix(X, y_true, model, batch_size, num_labels,threshold=0.5):\n",
        "    if (num_labels == 1):\n",
        "        results = model.predict(X,batch_size=batch_size)\n",
        "        cm = confusion_matrix(y_true.astype(np.int), (results > threshold).astype(np.int))\n",
        "        print(cm)\n",
        "    else:\n",
        "        cm = None\n",
        "    return(cm)\n",
        "\n",
        "cm_train = get_confusion_matrix(X_train.astype(np.float32)[:NUM_TRAIN_SAMPLES], \n",
        "                                y_train.astype(np.float32)[:NUM_TRAIN_SAMPLES], \n",
        "                                model, \n",
        "                                batch_size=BATCH_SIZE, \n",
        "                                num_labels=NUM_LABELS,\n",
        "                                threshold=0.5)\n",
        "\n",
        "cm_dev = get_confusion_matrix(X_dev.astype(np.float32)[:NUM_DEV_SAMPLES], \n",
        "                                y_dev.astype(np.float32)[:NUM_DEV_SAMPLES], \n",
        "                                model, \n",
        "                                batch_size=BATCH_SIZE, \n",
        "                                num_labels=NUM_LABELS,\n",
        "                                threshold=0.5)\n",
        "\n",
        "cm_val = get_confusion_matrix(X_val.astype(np.float32)[:NUM_VAL_SAMPLES], #.reshape(NUM_VAL_SAMPLES,2048,1) \n",
        "                                y_val.astype(np.float32)[:NUM_VAL_SAMPLES], \n",
        "                                model, \n",
        "                                batch_size=BATCH_SIZE, \n",
        "                                num_labels=NUM_LABELS,\n",
        "                                threshold=0.5)\n"
      ],
      "execution_count": 0,
      "outputs": [
        {
          "output_type": "stream",
          "text": [
            "[[  773 19984]\n",
            " [  283 25552]]\n",
            "[[ 127 6733]\n",
            " [ 147 8353]]\n",
            "[[ 127 6599]\n",
            " [ 165 8469]]\n"
          ],
          "name": "stdout"
        }
      ]
    }
  ]
}