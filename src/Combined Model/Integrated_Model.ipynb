{
  "nbformat": 4,
  "nbformat_minor": 0,
  "metadata": {
    "kernelspec": {
      "name": "python3",
      "display_name": "Python 3"
    },
    "language_info": {
      "codemirror_mode": {
        "name": "ipython",
        "version": 3
      },
      "file_extension": ".py",
      "mimetype": "text/x-python",
      "name": "python",
      "nbconvert_exporter": "python",
      "pygments_lexer": "ipython3",
      "version": "3.7.5"
    },
    "colab": {
      "name": "Integrated Model",
      "provenance": [],
      "collapsed_sections": [],
      "machine_shape": "hm"
    },
    "accelerator": "TPU"
  },
  "cells": [
    {
      "cell_type": "markdown",
      "metadata": {
        "id": "jSXklvdI2Gbx",
        "colab_type": "text"
      },
      "source": [
        "# Integrated Model\n",
        "\n",
        "In this notebook, we build an integrated model where we combine the BERT tokens along with the poster feature vectors. \n",
        "\n",
        "Within the notebook, there is also code to oversample the data and we test our model, both on the no-oversampled and oversampled dataset. \n",
        "\n",
        "Further, we use custom loss and accuracy functions which are defined below in the notebook."
      ]
    },
    {
      "cell_type": "markdown",
      "metadata": {
        "id": "fVbYo3DO2q_X",
        "colab_type": "text"
      },
      "source": [
        "### Load Modules <a id=\"load\" />\n"
      ]
    },
    {
      "cell_type": "code",
      "metadata": {
        "id": "zrC_r0FtvfAF",
        "colab_type": "code",
        "outputId": "462b3c73-d8d1-41da-c365-e6e5728c9ca8",
        "colab": {
          "base_uri": "https://localhost:8080/",
          "height": 1000
        }
      },
      "source": [
        "!pip install tensorflow==2.1.0"
      ],
      "execution_count": 0,
      "outputs": [
        {
          "output_type": "stream",
          "text": [
            "Collecting tensorflow==2.1.0\n",
            "\u001b[?25l  Downloading https://files.pythonhosted.org/packages/85/d4/c0cd1057b331bc38b65478302114194bd8e1b9c2bbc06e300935c0e93d90/tensorflow-2.1.0-cp36-cp36m-manylinux2010_x86_64.whl (421.8MB)\n",
            "\u001b[K     |████████████████████████████████| 421.8MB 30kB/s \n",
            "\u001b[?25hRequirement already satisfied: absl-py>=0.7.0 in /usr/local/lib/python3.6/dist-packages (from tensorflow==2.1.0) (0.9.0)\n",
            "Requirement already satisfied: astor>=0.6.0 in /usr/local/lib/python3.6/dist-packages (from tensorflow==2.1.0) (0.8.1)\n",
            "Requirement already satisfied: keras-preprocessing>=1.1.0 in /usr/local/lib/python3.6/dist-packages (from tensorflow==2.1.0) (1.1.0)\n",
            "Requirement already satisfied: wheel>=0.26; python_version >= \"3\" in /usr/local/lib/python3.6/dist-packages (from tensorflow==2.1.0) (0.34.2)\n",
            "Requirement already satisfied: protobuf>=3.8.0 in /usr/local/lib/python3.6/dist-packages (from tensorflow==2.1.0) (3.10.0)\n",
            "Collecting gast==0.2.2\n",
            "  Downloading https://files.pythonhosted.org/packages/4e/35/11749bf99b2d4e3cceb4d55ca22590b0d7c2c62b9de38ac4a4a7f4687421/gast-0.2.2.tar.gz\n",
            "Requirement already satisfied: grpcio>=1.8.6 in /usr/local/lib/python3.6/dist-packages (from tensorflow==2.1.0) (1.27.2)\n",
            "Requirement already satisfied: numpy<2.0,>=1.16.0 in /usr/local/lib/python3.6/dist-packages (from tensorflow==2.1.0) (1.18.2)\n",
            "Requirement already satisfied: google-pasta>=0.1.6 in /usr/local/lib/python3.6/dist-packages (from tensorflow==2.1.0) (0.2.0)\n",
            "Collecting tensorboard<2.2.0,>=2.1.0\n",
            "\u001b[?25l  Downloading https://files.pythonhosted.org/packages/d9/41/bbf49b61370e4f4d245d4c6051dfb6db80cec672605c91b1652ac8cc3d38/tensorboard-2.1.1-py3-none-any.whl (3.8MB)\n",
            "\u001b[K     |████████████████████████████████| 3.9MB 51.9MB/s \n",
            "\u001b[?25hRequirement already satisfied: opt-einsum>=2.3.2 in /usr/local/lib/python3.6/dist-packages (from tensorflow==2.1.0) (3.2.0)\n",
            "Collecting tensorflow-estimator<2.2.0,>=2.1.0rc0\n",
            "\u001b[?25l  Downloading https://files.pythonhosted.org/packages/18/90/b77c328a1304437ab1310b463e533fa7689f4bfc41549593056d812fab8e/tensorflow_estimator-2.1.0-py2.py3-none-any.whl (448kB)\n",
            "\u001b[K     |████████████████████████████████| 450kB 62.2MB/s \n",
            "\u001b[?25hRequirement already satisfied: keras-applications>=1.0.8 in /usr/local/lib/python3.6/dist-packages (from tensorflow==2.1.0) (1.0.8)\n",
            "Requirement already satisfied: wrapt>=1.11.1 in /usr/local/lib/python3.6/dist-packages (from tensorflow==2.1.0) (1.12.1)\n",
            "Requirement already satisfied: six>=1.12.0 in /usr/local/lib/python3.6/dist-packages (from tensorflow==2.1.0) (1.12.0)\n",
            "Requirement already satisfied: scipy==1.4.1; python_version >= \"3\" in /usr/local/lib/python3.6/dist-packages (from tensorflow==2.1.0) (1.4.1)\n",
            "Requirement already satisfied: termcolor>=1.1.0 in /usr/local/lib/python3.6/dist-packages (from tensorflow==2.1.0) (1.1.0)\n",
            "Requirement already satisfied: setuptools in /usr/local/lib/python3.6/dist-packages (from protobuf>=3.8.0->tensorflow==2.1.0) (46.1.3)\n",
            "Requirement already satisfied: google-auth-oauthlib<0.5,>=0.4.1 in /usr/local/lib/python3.6/dist-packages (from tensorboard<2.2.0,>=2.1.0->tensorflow==2.1.0) (0.4.1)\n",
            "Requirement already satisfied: requests<3,>=2.21.0 in /usr/local/lib/python3.6/dist-packages (from tensorboard<2.2.0,>=2.1.0->tensorflow==2.1.0) (2.21.0)\n",
            "Requirement already satisfied: markdown>=2.6.8 in /usr/local/lib/python3.6/dist-packages (from tensorboard<2.2.0,>=2.1.0->tensorflow==2.1.0) (3.2.1)\n",
            "Requirement already satisfied: google-auth<2,>=1.6.3 in /usr/local/lib/python3.6/dist-packages (from tensorboard<2.2.0,>=2.1.0->tensorflow==2.1.0) (1.7.2)\n",
            "Requirement already satisfied: werkzeug>=0.11.15 in /usr/local/lib/python3.6/dist-packages (from tensorboard<2.2.0,>=2.1.0->tensorflow==2.1.0) (1.0.1)\n",
            "Requirement already satisfied: h5py in /usr/local/lib/python3.6/dist-packages (from keras-applications>=1.0.8->tensorflow==2.1.0) (2.10.0)\n",
            "Requirement already satisfied: requests-oauthlib>=0.7.0 in /usr/local/lib/python3.6/dist-packages (from google-auth-oauthlib<0.5,>=0.4.1->tensorboard<2.2.0,>=2.1.0->tensorflow==2.1.0) (1.3.0)\n",
            "Requirement already satisfied: certifi>=2017.4.17 in /usr/local/lib/python3.6/dist-packages (from requests<3,>=2.21.0->tensorboard<2.2.0,>=2.1.0->tensorflow==2.1.0) (2019.11.28)\n",
            "Requirement already satisfied: idna<2.9,>=2.5 in /usr/local/lib/python3.6/dist-packages (from requests<3,>=2.21.0->tensorboard<2.2.0,>=2.1.0->tensorflow==2.1.0) (2.8)\n",
            "Requirement already satisfied: urllib3<1.25,>=1.21.1 in /usr/local/lib/python3.6/dist-packages (from requests<3,>=2.21.0->tensorboard<2.2.0,>=2.1.0->tensorflow==2.1.0) (1.24.3)\n",
            "Requirement already satisfied: chardet<3.1.0,>=3.0.2 in /usr/local/lib/python3.6/dist-packages (from requests<3,>=2.21.0->tensorboard<2.2.0,>=2.1.0->tensorflow==2.1.0) (3.0.4)\n",
            "Requirement already satisfied: cachetools<3.2,>=2.0.0 in /usr/local/lib/python3.6/dist-packages (from google-auth<2,>=1.6.3->tensorboard<2.2.0,>=2.1.0->tensorflow==2.1.0) (3.1.1)\n",
            "Requirement already satisfied: rsa<4.1,>=3.1.4 in /usr/local/lib/python3.6/dist-packages (from google-auth<2,>=1.6.3->tensorboard<2.2.0,>=2.1.0->tensorflow==2.1.0) (4.0)\n",
            "Requirement already satisfied: pyasn1-modules>=0.2.1 in /usr/local/lib/python3.6/dist-packages (from google-auth<2,>=1.6.3->tensorboard<2.2.0,>=2.1.0->tensorflow==2.1.0) (0.2.8)\n",
            "Requirement already satisfied: oauthlib>=3.0.0 in /usr/local/lib/python3.6/dist-packages (from requests-oauthlib>=0.7.0->google-auth-oauthlib<0.5,>=0.4.1->tensorboard<2.2.0,>=2.1.0->tensorflow==2.1.0) (3.1.0)\n",
            "Requirement already satisfied: pyasn1>=0.1.3 in /usr/local/lib/python3.6/dist-packages (from rsa<4.1,>=3.1.4->google-auth<2,>=1.6.3->tensorboard<2.2.0,>=2.1.0->tensorflow==2.1.0) (0.4.8)\n",
            "Building wheels for collected packages: gast\n",
            "  Building wheel for gast (setup.py) ... \u001b[?25l\u001b[?25hdone\n",
            "  Created wheel for gast: filename=gast-0.2.2-cp36-none-any.whl size=7540 sha256=4f76f199367c3b8193d94f06dcf9c11f3d0b854b932d612f50af75ae7a014523\n",
            "  Stored in directory: /root/.cache/pip/wheels/5c/2e/7e/a1d4d4fcebe6c381f378ce7743a3ced3699feb89bcfbdadadd\n",
            "Successfully built gast\n",
            "Installing collected packages: gast, tensorboard, tensorflow-estimator, tensorflow\n",
            "  Found existing installation: gast 0.3.3\n",
            "    Uninstalling gast-0.3.3:\n",
            "      Successfully uninstalled gast-0.3.3\n",
            "  Found existing installation: tensorboard 2.2.0\n",
            "    Uninstalling tensorboard-2.2.0:\n",
            "      Successfully uninstalled tensorboard-2.2.0\n",
            "  Found existing installation: tensorflow-estimator 2.2.0rc0\n",
            "    Uninstalling tensorflow-estimator-2.2.0rc0:\n",
            "      Successfully uninstalled tensorflow-estimator-2.2.0rc0\n",
            "  Found existing installation: tensorflow 2.2.0rc2\n",
            "    Uninstalling tensorflow-2.2.0rc2:\n",
            "      Successfully uninstalled tensorflow-2.2.0rc2\n",
            "Successfully installed gast-0.2.2 tensorboard-2.1.1 tensorflow-2.1.0 tensorflow-estimator-2.1.0\n"
          ],
          "name": "stdout"
        }
      ]
    },
    {
      "cell_type": "code",
      "metadata": {
        "id": "3w7L5zbovgiW",
        "colab_type": "code",
        "outputId": "ece3c549-1fde-44be-e215-f1e72d67d58f",
        "colab": {
          "base_uri": "https://localhost:8080/",
          "height": 34
        }
      },
      "source": [
        "import tensorflow as tf\n",
        "print(tf.__version__)"
      ],
      "execution_count": 0,
      "outputs": [
        {
          "output_type": "stream",
          "text": [
            "2.1.0\n"
          ],
          "name": "stdout"
        }
      ]
    },
    {
      "cell_type": "code",
      "metadata": {
        "id": "7fj6qsyA4LcT",
        "colab_type": "code",
        "outputId": "5d634388-4f37-4762-a509-160244dfede5",
        "colab": {
          "base_uri": "https://localhost:8080/",
          "height": 34
        }
      },
      "source": [
        "# Imports\n",
        "\n",
        "import json\n",
        "import pandas as pd\n",
        "import numpy as np\n",
        "import os\n",
        "import sys\n",
        "import tensorflow as tf\n",
        "import tensorflow_hub as hub\n",
        "from time import time\n",
        "import io\n",
        "import re\n",
        "from csv import reader\n",
        "from datetime import datetime\n",
        "import matplotlib.pyplot as plt\n",
        "\n",
        "import matplotlib.pyplot as plt\n",
        "from matplotlib import colors\n",
        "from matplotlib.ticker import PercentFormatter\n",
        "\n",
        "from tensorflow.keras import backend as K\n",
        "from tensorflow.keras import layers\n",
        "from tensorflow.python.keras.layers import Lambda\n",
        "from tensorflow.keras.callbacks import TensorBoard\n",
        "from tensorflow.keras.backend import sparse_categorical_crossentropy\n",
        "from tensorflow.keras.layers import Dense, TimeDistributed\n",
        "\n",
        "from sklearn.model_selection import train_test_split\n",
        "from sklearn.preprocessing import MultiLabelBinarizer\n",
        "from sklearn.model_selection import train_test_split\n",
        "\n",
        "import keras.backend.tensorflow_backend as tfb\n",
        "\n",
        "from tensorflow.keras.mixed_precision import experimental as mixed_precision\n",
        "from keras import initializers"
      ],
      "execution_count": 0,
      "outputs": [
        {
          "output_type": "stream",
          "text": [
            "Using TensorFlow backend.\n"
          ],
          "name": "stderr"
        }
      ]
    },
    {
      "cell_type": "code",
      "metadata": {
        "id": "7IXX1AjPakpU",
        "colab_type": "code",
        "outputId": "728e7c0f-e08b-447d-d637-ddb05e314198",
        "colab": {
          "base_uri": "https://localhost:8080/",
          "height": 122
        }
      },
      "source": [
        "from google.colab import drive\n",
        "drive.mount('/content/drive', force_remount=True)"
      ],
      "execution_count": 0,
      "outputs": [
        {
          "output_type": "stream",
          "text": [
            "Go to this URL in a browser: https://accounts.google.com/o/oauth2/auth?client_id=947318989803-6bn6qk8qdgf4n4g3pfee6491hc0brc4i.apps.googleusercontent.com&redirect_uri=urn%3aietf%3awg%3aoauth%3a2.0%3aoob&response_type=code&scope=email%20https%3a%2f%2fwww.googleapis.com%2fauth%2fdocs.test%20https%3a%2f%2fwww.googleapis.com%2fauth%2fdrive%20https%3a%2f%2fwww.googleapis.com%2fauth%2fdrive.photos.readonly%20https%3a%2f%2fwww.googleapis.com%2fauth%2fpeopleapi.readonly\n",
            "\n",
            "Enter your authorization code:\n",
            "··········\n",
            "Mounted at /content/drive\n"
          ],
          "name": "stdout"
        }
      ]
    },
    {
      "cell_type": "code",
      "metadata": {
        "id": "S2v0JZP-q0rA",
        "colab_type": "code",
        "colab": {}
      },
      "source": [
        "# Define maximal length of input 'sentences' (post tokenization).\n",
        "max_length = 128\n",
        "\n",
        "# ERROR TEST\n",
        "ERROR_TEST = 0\n",
        "\n",
        "# OS / NoOS\n",
        "OVERSAMPLING = True"
      ],
      "execution_count": 0,
      "outputs": []
    },
    {
      "cell_type": "code",
      "metadata": {
        "id": "FzrTwRtjkc4q",
        "colab_type": "code",
        "colab": {}
      },
      "source": [
        "if (ERROR_TEST):\n",
        "    NUM_LABELS = 1\n",
        "    OVERSAMPLING = False\n",
        "    \n",
        "    data_save_prefix = '/content/drive/My Drive/w266-FinalProject/MoviePlotsAndPosters/data/baseline_test/'\n",
        "    model_save_prefix = '/content/drive/My Drive/w266-FinalProject/MoviePlotsAndPosters/model/baseline_test/'\n",
        "    plot_save_prefix = '/content/drive/My Drive/w266-FinalProject/MoviePlotsAndPosters/plots/baseline_test/'\n",
        "    data_load_prefix = '/content/drive/My Drive/w266-FinalProject/MoviePlotsAndPosters/data/'\n",
        "else:\n",
        "    NUM_LABELS = 10\n",
        "\n",
        "    data_save_prefix = '/content/drive/My Drive/w266-FinalProject/MoviePlotsAndPosters/data/baseline/'\n",
        "    model_save_prefix = '/content/drive/My Drive/w266-FinalProject/MoviePlotsAndPosters/model/baseline/'\n",
        "    plot_save_prefix = '/content/drive/My Drive/w266-FinalProject/MoviePlotsAndPosters/plots/baseline/'\n",
        "    data_load_prefix = '/content/drive/My Drive/w266-FinalProject/MoviePlotsAndPosters/data/'\n"
      ],
      "execution_count": 0,
      "outputs": []
    },
    {
      "cell_type": "markdown",
      "metadata": {
        "id": "hj99_mwCgxJs",
        "colab_type": "text"
      },
      "source": [
        "### Loading the data"
      ]
    },
    {
      "cell_type": "code",
      "metadata": {
        "id": "tgBnBABtqUco",
        "colab_type": "code",
        "colab": {}
      },
      "source": [
        "X_train = np.load(data_load_prefix + 'clean_train_bert_tokens_' + str(max_length) + '.data.npy')\n",
        "X_dev = np.load(data_load_prefix + 'clean_dev_bert_tokens_'  + str(max_length) + '.data.npy')\n",
        "X_val = np.load(data_load_prefix + 'clean_val_bert_tokens_'  + str(max_length) + '.data.npy')\n",
        "\n",
        "y_train = np.load(data_load_prefix + 'clean_train_poster_labels_' + str(NUM_LABELS) + '.data.npy', allow_pickle=True)\n",
        "y_dev = np.load(data_load_prefix + 'clean_dev_poster_labels_' + str(NUM_LABELS) + '.data.npy', allow_pickle=True)\n",
        "y_val = np.load(data_load_prefix + 'clean_val_poster_labels_' + str(NUM_LABELS) + '.data.npy', allow_pickle=True)\n",
        "\n",
        "posterVectors_train = np.load(data_load_prefix + 'clean_train_poster_vectors.data.npy', allow_pickle=True)\n",
        "posterVectors_dev = np.load(data_load_prefix+ 'clean_dev_poster_vectors.data.npy', allow_pickle=True)\n",
        "posterVectors_val = np.load(data_load_prefix+ 'clean_val_poster_vectors.data.npy', allow_pickle=True)"
      ],
      "execution_count": 0,
      "outputs": []
    },
    {
      "cell_type": "code",
      "metadata": {
        "id": "A6vOSE0QDIoO",
        "colab_type": "code",
        "colab": {}
      },
      "source": [
        "df_train = pd.read_csv(data_load_prefix + 'clean_df_train_labels_' + str(NUM_LABELS) + '.csv')\n",
        "df_dev = pd.read_csv(data_load_prefix + 'clean_df_dev_labels_' + str(NUM_LABELS) + '.csv')\n",
        "df_val = pd.read_csv(data_load_prefix + 'clean_df_val_labels_' + str(NUM_LABELS) + '.csv')"
      ],
      "execution_count": 0,
      "outputs": []
    },
    {
      "cell_type": "code",
      "metadata": {
        "id": "qZywPfZbCWDe",
        "colab_type": "code",
        "colab": {}
      },
      "source": [
        "def oversample_keeping_original(X, y, poster_X, bottom_n = 6, count_per_category = 5000):\n",
        "    genre_counts = np.sum(y,axis = 0)\n",
        "    genre_sorted_index = np.argsort(genre_counts)[:bottom_n]\n",
        "    np.random.seed(0)\n",
        "    \n",
        "    new_y = np.array([])\n",
        "    new_X = np.array([])\n",
        "    new_poster_X = np.array([])\n",
        "    list_samples = np.array([])\n",
        "    for index,i in enumerate(genre_sorted_index):\n",
        "        indices = np.where(y[:,i]>0)\n",
        "        samples = np.random.choice(indices[0],count_per_category)\n",
        "        # print(i,samples[-20:])\n",
        "        if index==0:\n",
        "            new_y = np.concatenate((y, y[samples,:]), axis = 0)\n",
        "            new_X = np.concatenate((X, X[:,samples,:]), axis = 1)\n",
        "            new_poster_X = np.concatenate((poster_X, poster_X[samples,:]), axis = 0)\n",
        "            print(\"index 0 \", np.arange(X.shape[1]))\n",
        "            list_samples = np.concatenate((np.arange(X.shape[1]) ,samples), axis = 0)\n",
        "        else:\n",
        "            new_y = np.concatenate((new_y, y[samples,:]), axis=0)\n",
        "            new_X = np.concatenate((new_X, X[:,samples,:]),axis=1)\n",
        "            new_poster_X = np.concatenate((new_poster_X, poster_X[samples,:]), axis = 0)\n",
        "            list_samples = np.concatenate((list_samples, samples), axis=0)\n",
        "\n",
        "    indexArray = np.arange(0, new_y.shape[0], 1, dtype=np.int32)\n",
        "    print(\"Len of index array is \", len(indexArray))\n",
        "\n",
        "    np.random.seed(0)\n",
        "    np.random.shuffle(indexArray)\n",
        "\n",
        "    return (new_X[:,indexArray,:], new_y[indexArray], new_poster_X[indexArray],list_samples[indexArray])"
      ],
      "execution_count": 0,
      "outputs": []
    },
    {
      "cell_type": "code",
      "metadata": {
        "id": "i5TV5AL_CRvE",
        "colab_type": "code",
        "outputId": "070bd9f3-2436-4acd-ff83-a7db0e89dc18",
        "colab": {
          "base_uri": "https://localhost:8080/",
          "height": 187
        }
      },
      "source": [
        "if (OVERSAMPLING):\n",
        "    new_X_train, new_y_train, new_posterVectors_train, list_samples = oversample_keeping_original(X_train, y_train, posterVectors_train, bottom_n = 6, count_per_category = 5000)\n",
        "    new_df_train = df_train.iloc[list_samples]\n",
        "    \n",
        "    print(np.sum(y_train,axis = 0)/y_train.shape[0])\n",
        "    print(np.sum(new_y_train,axis = 0)/new_y_train.shape[0])\n",
        "    \n",
        "    print(new_X_train.shape)\n",
        "    print(new_y_train.shape)\n",
        "    print(new_posterVectors_train.shape)\n",
        "    print(len(list_samples))"
      ],
      "execution_count": 0,
      "outputs": [
        {
          "output_type": "stream",
          "text": [
            "index 0  [    0     1     2 ... 46967 46968 46969]\n",
            "Len of index array is  76970\n",
            "[0.55465191 0.19650841 0.34430488 0.15190547 0.13385139 0.11807537\n",
            " 0.19759421 0.08909943 0.07404726 0.06086864]\n",
            "[0.48726777 0.27334026 0.29650513 0.24108094 0.19822009 0.19175003\n",
            " 0.16266078 0.16438872 0.14905807 0.14058724]\n",
            "(3, 76970, 128)\n",
            "(76970, 10)\n",
            "(76970, 2048)\n",
            "76970\n"
          ],
          "name": "stdout"
        }
      ]
    },
    {
      "cell_type": "markdown",
      "metadata": {
        "id": "mumlYFVJg243",
        "colab_type": "text"
      },
      "source": [
        "### Custom Loss and Accuracy Functions"
      ]
    },
    {
      "cell_type": "code",
      "metadata": {
        "id": "BfmtB4-E4dkC",
        "colab_type": "code",
        "colab": {}
      },
      "source": [
        "#@tf.function\n",
        "def macro_f1(y, y_hat, thresh=0.5):\n",
        "    \"\"\"Compute the macro F1-score on a batch of observations (average F1 across labels)\n",
        "    \n",
        "    Args:\n",
        "        y (int32 Tensor): labels array of shape (BATCH_SIZE, N_LABELS)\n",
        "        y_hat (float32 Tensor): probability matrix from forward propagation of shape (BATCH_SIZE, N_LABELS)\n",
        "        thresh: probability value above which we predict positive\n",
        "        \n",
        "    Returns:\n",
        "        macro_f1 (scalar Tensor): value of macro F1 for the batch\n",
        "    \"\"\"\n",
        "    y_pred = tf.cast(tf.greater(y_hat, thresh), tf.float32)\n",
        "    tp = tf.cast(tf.math.count_nonzero(y_pred * y, axis=0), tf.float32)\n",
        "    fp = tf.cast(tf.math.count_nonzero(y_pred * (1 - y), axis=0), tf.float32)\n",
        "    fn = tf.cast(tf.math.count_nonzero((1 - y_pred) * y, axis=0), tf.float32)\n",
        "    f1 = 2*tp / (2*tp + fn + fp + 1e-16)\n",
        "    macro_f1 = tf.reduce_mean(f1)\n",
        "    return macro_f1\n",
        "\n",
        "#@tf.function\n",
        "def micro_f1(y, y_hat, thresh=0.5):\n",
        "    \"\"\"Compute the macro F1-score on a batch of observations (average F1 across labels)\n",
        "    \n",
        "    Args:\n",
        "        y (int32 Tensor): labels array of shape (BATCH_SIZE, N_LABELS)\n",
        "        y_hat (float32 Tensor): probability matrix from forward propagation of shape (BATCH_SIZE, N_LABELS)\n",
        "        thresh: probability value above which we predict positive\n",
        "        \n",
        "    Returns:\n",
        "        macro_f1 (scalar Tensor): value of macro F1 for the batch\n",
        "    \"\"\"\n",
        "    y_pred = tf.cast(tf.greater(y_hat, thresh), tf.float32)\n",
        "    tp = tf.cast(tf.math.count_nonzero(y_pred * y), tf.float32)\n",
        "    fp = tf.cast(tf.math.count_nonzero(y_pred * (1 - y)), tf.float32)\n",
        "    fn = tf.cast(tf.math.count_nonzero((1 - y_pred) * y), tf.float32)\n",
        "    f1 = 2*tp / (2*tp + fn + fp + 1e-16)\n",
        "    micro_f1 = f1 #tf.reduce_mean(f1)\n",
        "    return micro_f1\n",
        "\n",
        "#@tf.function\n",
        "def macro_soft_f1(y, y_hat):\n",
        "    \"\"\"Compute the macro soft F1-score as a cost (average 1 - soft-F1 across all labels).\n",
        "    Use probability values instead of binary predictions.\n",
        "    \n",
        "    Args:\n",
        "        y (int32 Tensor): targets array of shape (BATCH_SIZE, N_LABELS)\n",
        "        y_hat (float32 Tensor): probability matrix from forward propagation of shape (BATCH_SIZE, N_LABELS)\n",
        "        \n",
        "    Returns:\n",
        "        cost (scalar Tensor): value of the cost function for the batch\n",
        "    \"\"\"\n",
        "    y = tf.cast(y, tf.float32)\n",
        "    y_hat = tf.cast(y_hat, tf.float32)\n",
        "    tp = tf.reduce_sum(y_hat * y, axis=0)\n",
        "    fp = tf.reduce_sum(y_hat * (1 - y), axis=0)\n",
        "    fn = tf.reduce_sum((1 - y_hat) * y, axis=0)\n",
        "    soft_f1 = 2*tp / (2*tp + fn + fp + 1e-16)\n",
        "    cost = 1 - soft_f1 # reduce 1 - soft-f1 in order to increase soft-f1\n",
        "    macro_cost = tf.reduce_mean(cost) # average on all labels\n",
        "    return macro_cost\n",
        "\n",
        "POS_WEIGHT = 10\n",
        "#@tf.function\n",
        "def weighted_binary_crossentropy(y, y_hat):\n",
        "    \"\"\"\n",
        "    Weighted binary crossentropy between an output tensor \n",
        "    and a target tensor. POS_WEIGHT is used as a multiplier \n",
        "    for the positive targets.\n",
        "\n",
        "    Combination of the following functions:\n",
        "    * keras.losses.binary_crossentropy\n",
        "    * keras.backend.tensorflow_backend.binary_crossentropy\n",
        "    * tf.nn.weighted_cross_entropy_with_logits\n",
        "    \"\"\"\n",
        "    y = tf.cast(y, tf.float32)\n",
        "    y_hat = tf.cast(y_hat, tf.float32)\n",
        "    # transform back to logits\n",
        "    _epsilon = tfb._to_tensor(tfb.epsilon(), y_hat.dtype.base_dtype)\n",
        "    y_hat = tf.clip_by_value(y_hat, _epsilon, 1 - _epsilon)\n",
        "    y_hat = tf.math.log(y_hat / (1 - y_hat))\n",
        "    # compute weighted loss\n",
        "    loss = tf.nn.weighted_cross_entropy_with_logits(labels=y,\n",
        "                                                    logits=y_hat,\n",
        "                                                    pos_weight=POS_WEIGHT)\n",
        "    return tf.reduce_mean(loss, axis=-1)\n",
        "\n",
        "#@tf.function\n",
        "def binary_crossentropy(y, y_hat):\n",
        "    y = tf.cast(y, tf.float32)\n",
        "    y_hat = tf.cast(y_hat, tf.float32)\n",
        "    # compute loss\n",
        "    loss = tf.keras.backend.binary_crossentropy(y, y_hat, from_logits=True)\n",
        "    return tf.reduce_mean(loss, axis=-1)\n",
        "\n",
        "#@tf.function\n",
        "def macro_double_soft_f1(y, y_hat):\n",
        "    \"\"\"Compute the macro soft F1-score as a cost (average 1 - soft-F1 across all labels).\n",
        "    Use probability values instead of binary predictions.\n",
        "    This version uses the computation of soft-F1 for both positive and negative class for each label.\n",
        "    Args:\n",
        "        y (int32 Tensor): targets array of shape (BATCH_SIZE, N_LABELS)\n",
        "        y_hat (float32 Tensor): probability matrix from forward propagation of shape (BATCH_SIZE, N_LABELS)\n",
        "    Returns:\n",
        "        cost (scalar Tensor): value of the cost function for the batch\n",
        "    \"\"\"\n",
        "    y = tf.cast(y, tf.float32)\n",
        "    y_hat = tf.cast(y_hat, tf.float32)\n",
        "    tp = tf.reduce_sum(y_hat * y, axis=0)\n",
        "    fp = tf.reduce_sum(y_hat * (1 - y), axis=0)\n",
        "    fn = tf.reduce_sum((1 - y_hat) * y, axis=0)\n",
        "    tn = tf.reduce_sum((1 - y_hat) * (1 - y), axis=0)\n",
        "    soft_f1_class1 = 2*tp / (2*tp + fn + fp + 1e-16)\n",
        "    soft_f1_class0 = 2*tn / (2*tn + fn + fp + 1e-16)\n",
        "    cost_class1 = 1 - soft_f1_class1 # reduce 1 - soft-f1_class1 in order to increase soft-f1 on class 1\n",
        "    cost_class0 = 1 - soft_f1_class0 # reduce 1 - soft-f1_class0 in order to increase soft-f1 on class 0\n",
        "    cost = 0.5 * (cost_class1 + cost_class0) # take into account both class 1 and class 0\n",
        "    macro_cost = tf.reduce_mean(cost) # average on all labels\n",
        "    return macro_cost"
      ],
      "execution_count": 0,
      "outputs": []
    },
    {
      "cell_type": "markdown",
      "metadata": {
        "id": "EzPLOwR-g6HP",
        "colab_type": "text"
      },
      "source": [
        "### Model Params"
      ]
    },
    {
      "cell_type": "code",
      "metadata": {
        "id": "Y5xQVDd5vobq",
        "colab_type": "code",
        "colab": {}
      },
      "source": [
        "optimizer_select = 'ADAM'\n",
        "BATCH_SIZE = 128*8\n",
        "EPOCHS = 30\n",
        "LR = 1e-4\n",
        "LOSS = 'macro_double_soft_f1'#'bce'\n",
        "ACC = ['accuracy',macro_f1,micro_f1]\n",
        "TRAIN_BERT = True"
      ],
      "execution_count": 0,
      "outputs": []
    },
    {
      "cell_type": "code",
      "metadata": {
        "id": "emtYzrm0CGj_",
        "colab_type": "code",
        "colab": {}
      },
      "source": [
        "if OVERSAMPLING:\n",
        "    NUM_TRAIN_SAMPLES = int(np.floor(new_X_train.shape[1] / BATCH_SIZE) * BATCH_SIZE)\n",
        "else:\n",
        "    NUM_TRAIN_SAMPLES = int(np.floor(X_train.shape[1] / BATCH_SIZE) * BATCH_SIZE)\n",
        "\n",
        "NUM_DEV_SAMPLES = int(np.floor(X_dev.shape[1] / BATCH_SIZE) * BATCH_SIZE)\n",
        "NUM_VAL_SAMPLES = int(np.floor(X_val.shape[1] / BATCH_SIZE) * BATCH_SIZE)\n",
        "\n",
        "# NUM_TRAIN_SAMPLES = 25600\n",
        "# NUM_DEV_SAMPLES = 5120\n",
        "# NUM_VAL_SAMPLES = 5120\n",
        "\n",
        "TRAIN_BERT = True\n",
        "if (TRAIN_BERT):\n",
        "    if (OVERSAMPLING):\n",
        "        results_prefix = 'baseline_seqlen_' + str(max_length) + '_' + optimizer_select + '_EPOCHS_' + str(EPOCHS) + '_LR_' + str(LR) + '_LOSS_' + str(LOSS)\n",
        "    else:\n",
        "        results_prefix = 'baseline_seqlen_' + str(max_length) + '_' + optimizer_select + '_EPOCHS_' + str(EPOCHS) + '_LR_' + str(LR) + '_LOSS_' + str(LOSS) + '_NoOS'\n",
        "else:\n",
        "    if (OVERSAMPLING):\n",
        "        results_prefix = 'baseline_seqlen_' + str(max_length) + '_' + optimizer_select + '_EPOCHS_' + str(EPOCHS) + '_LR_' + str(LR) + '_LOSS_' + str(LOSS) + '_NoFT'\n",
        "    else:\n",
        "        results_prefix = 'baseline_seqlen_' + str(max_length) + '_' + optimizer_select + '_EPOCHS_' + str(EPOCHS) + '_LR_' + str(LR) + '_LOSS_' + str(LOSS) + '_NoFT' + '_NoOS'\n"
      ],
      "execution_count": 0,
      "outputs": []
    },
    {
      "cell_type": "code",
      "metadata": {
        "id": "1mdyH5fovT2W",
        "colab_type": "code",
        "colab": {}
      },
      "source": [
        "def filter_data(X, y, poster, n_size, reverse=False):\n",
        "    if (reverse):\n",
        "        X_out = [X[0][-n_size:].astype('int32'), X[1][-n_size:].astype('int32'),X[2][-n_size:].astype('int32'), poster[-n_size:].astype('float32')]\n",
        "        y_out = y[-n_size:].astype('int32')\n",
        "        poster_out = poster[-n_size:].astype('float32')\n",
        "    else:\n",
        "        X_out = [X[0][0:n_size].astype('int32'), X[1][0:n_size].astype('int32'),X[2][0:n_size].astype('int32'), poster[0:n_size].astype('float32')]\n",
        "        y_out = y[0:n_size].astype('int32')\n",
        "        poster_out = poster[0:n_size].astype('float32')\n",
        "\n",
        "    return (X_out, y_out, poster_out)\n",
        "\n",
        "rev = False\n",
        "\n",
        "if OVERSAMPLING:\n",
        "    bert_inputs_train_k, labels_train_k, posterVectors_train_k = filter_data(new_X_train, \n",
        "                                                                            new_y_train, \n",
        "                                                                            new_posterVectors_train, \n",
        "                                                                            NUM_TRAIN_SAMPLES, \n",
        "                                                                            reverse=rev)\n",
        "else:\n",
        "    bert_inputs_train_k, labels_train_k, posterVectors_train_k = filter_data(X_train, \n",
        "                                                                            y_train, \n",
        "                                                                            posterVectors_train, \n",
        "                                                                            NUM_TRAIN_SAMPLES, \n",
        "                                                                            reverse=rev)\n",
        "\n",
        "\n",
        "bert_inputs_dev_k, labels_dev_k, posterVectors_dev_k = filter_data(X_dev, \n",
        "                                                                   y_dev, \n",
        "                                                                   posterVectors_dev, \n",
        "                                                                   NUM_DEV_SAMPLES, \n",
        "                                                                   reverse=rev)\n",
        "\n",
        "bert_inputs_val_k, labels_val_k, posterVectors_val_k = filter_data(X_val, \n",
        "                                                                   y_val, \n",
        "                                                                   posterVectors_val, \n",
        "                                                                   NUM_VAL_SAMPLES, \n",
        "                                                                   reverse=rev)"
      ],
      "execution_count": 0,
      "outputs": []
    },
    {
      "cell_type": "code",
      "metadata": {
        "id": "7gvyPqBnBTVe",
        "colab_type": "code",
        "outputId": "34a5be9c-b4df-4595-cd42-4fd81a201fe7",
        "colab": {
          "base_uri": "https://localhost:8080/",
          "height": 34
        }
      },
      "source": [
        "len(bert_inputs_train_k[0])"
      ],
      "execution_count": 0,
      "outputs": [
        {
          "output_type": "execute_result",
          "data": {
            "text/plain": [
              "76800"
            ]
          },
          "metadata": {
            "tags": []
          },
          "execution_count": 37
        }
      ]
    },
    {
      "cell_type": "code",
      "metadata": {
        "id": "toAHWIpl54Pv",
        "colab_type": "code",
        "outputId": "ce7df53a-6b4c-4ce4-a621-44dfab7187cb",
        "colab": {
          "base_uri": "https://localhost:8080/",
          "height": 34
        }
      },
      "source": [
        "print(\"Number Train Samples \", NUM_TRAIN_SAMPLES)"
      ],
      "execution_count": 0,
      "outputs": [
        {
          "output_type": "stream",
          "text": [
            "Number Train Samples  76800\n"
          ],
          "name": "stdout"
        }
      ]
    },
    {
      "cell_type": "code",
      "metadata": {
        "id": "BDS51BiwFVIY",
        "colab_type": "code",
        "outputId": "f9bef4b0-fdf6-4694-dce0-9a27b0cd5f30",
        "colab": {
          "base_uri": "https://localhost:8080/",
          "height": 34
        }
      },
      "source": [
        "NUM_LABELS"
      ],
      "execution_count": 0,
      "outputs": [
        {
          "output_type": "execute_result",
          "data": {
            "text/plain": [
              "10"
            ]
          },
          "metadata": {
            "tags": []
          },
          "execution_count": 39
        }
      ]
    },
    {
      "cell_type": "markdown",
      "metadata": {
        "id": "IilnXEDXg9G1",
        "colab_type": "text"
      },
      "source": [
        "### Training Model"
      ]
    },
    {
      "cell_type": "code",
      "metadata": {
        "id": "8t2Ukfu14iBT",
        "colab_type": "code",
        "outputId": "bf13a927-224c-40fd-d960-b785e0b4c625",
        "colab": {
          "base_uri": "https://localhost:8080/",
          "height": 1000
        }
      },
      "source": [
        "if optimizer_select == 'ADAM':\n",
        "    optimizer = tf.keras.optimizers.Adam(learning_rate=LR, beta_1=0.91, beta_2=0.999, epsilon=None, decay=0.1, name='Adam')\n",
        "elif optimizer_select == 'ADAMAX':\n",
        "    optimizer = tf.keras.optimizers.Adamax(learning_rate=LR, beta_1=0.9, beta_2=0.999, epsilon=1e-07, name='Adamax')\n",
        "elif optimizer_select == 'ADAGRAD':\n",
        "    optimizer = tf.keras.optimizers.Adagrad(learning_rate=LR, initial_accumulator_value=0.1, epsilon=1e-07, name='Adagrad')\n",
        "elif optimizer_select == 'SGD':\n",
        "    optimizer = tf.keras.optimizers.SGD(learning_rate=LR, momentum=0.9, nesterov=True, name='SGD', clipvalue=0.5)\n",
        "elif optimizer_select == 'ADADELTA':\n",
        "    optimizer = tf.keras.optimizers.Adadelta(learning_rate=1.0, rho=0.95)\n",
        "else:\n",
        "    raise Exception('Optimizer not available')\n",
        "\n",
        "if LOSS == 'bce':\n",
        "    loss = binary_crossentropy\n",
        "elif LOSS == 'macro_soft_f1':\n",
        "    loss = macro_soft_f1\n",
        "elif LOSS == 'macro_double_soft_f1':\n",
        "    loss = macro_double_soft_f1\n",
        "else:\n",
        "    raise Exception('Loss function not implemented...')\n",
        "\n",
        "#this is for bfloat16 precision\n",
        "policy = mixed_precision.Policy('mixed_bfloat16')\n",
        "mixed_precision.set_policy(policy)\n",
        "\n",
        "outputFolder = model_save_prefix + results_prefix\n",
        "if not os.path.exists(outputFolder):\n",
        "    os.makedirs(outputFolder)\n",
        "\n",
        "filepath = outputFolder + \"/model-{epoch:02d}-{macro_f1:.2f}.hdf5\"\n",
        "\n",
        "callbacks = [tf.keras.callbacks.EarlyStopping(monitor='val_loss', min_delta=1e-3,patience=10)]\n",
        "\n",
        "cluster_resolver = tf.distribute.cluster_resolver.TPUClusterResolver()\n",
        "tf.config.experimental_connect_to_cluster(cluster_resolver)\n",
        "tf.tpu.experimental.initialize_tpu_system(cluster_resolver)\n",
        "strategy = tf.distribute.experimental.TPUStrategy(cluster_resolver)\n",
        "\n",
        "# [64] # [64,64,128,256,512]\n",
        "filter_size = []\n",
        "\n",
        "# [[3]] # [[3,3,3,3,3]] # [[3,3,3,3,3], [7,7,7,7,7], [13,13,13,13,13]]\n",
        "kernel_size = []\n",
        "\n",
        "# [5120] # [5120,5120] # [2048,1024,1024]\n",
        "dense_layers = [5120]\n",
        "\n",
        "L2_REGULARIZATION = 0.0001\n",
        "DROP_OUT = 0.5\n",
        "DENSE_LAYER_SIZE = 5120\n",
        "\n",
        "with strategy.scope():\n",
        "    # Bert Inputs\n",
        "    input_word_ids = tf.keras.layers.Input(shape=(max_length,), dtype=tf.int32, name=\"input_word_ids\")\n",
        "    input_mask = tf.keras.layers.Input(shape=(max_length,), dtype=tf.int32, name=\"input_mask\")\n",
        "    segment_ids = tf.keras.layers.Input(shape=(max_length,), dtype=tf.int32, name=\"segment_ids\")\n",
        "\n",
        "    bert_inputs = [input_word_ids, input_mask, segment_ids]\n",
        "\n",
        "    bert_layer = hub.KerasLayer(\"gs://w266-finalproject/bert_models/bert_en_uncased_L-12_H-768_A-12/1\", \n",
        "                                name='bert',\n",
        "                                trainable=TRAIN_BERT)\n",
        "    pooled_output, sequence_output= bert_layer(bert_inputs)\n",
        "    pooled_output = tf.keras.layers.Dropout(rate=DROP_OUT, name='Dropout_bert_pooled')(pooled_output)\n",
        "\n",
        "    dense = tf.keras.layers.Dense(5120, \n",
        "                                  activation='relu',\n",
        "                                #  kernel_initializer='random_normal',\n",
        "                                  kernel_regularizer=tf.keras.regularizers.l2(L2_REGULARIZATION),\n",
        "                                #   bias_regularizer=tf.keras.regularizers.l1(0.01),\n",
        "                                  name='Dense_BERT_1'\n",
        "                                  )(pooled_output)\n",
        "    dense = tf.keras.layers.Dropout(rate=DROP_OUT, name='Dropout_BERT_1')(dense)\n",
        "\n",
        "    dense = tf.keras.layers.Dense(5120, \n",
        "                                  activation='relu',\n",
        "                                #  kernel_initializer='random_normal',\n",
        "                                  kernel_regularizer=tf.keras.regularizers.l2(L2_REGULARIZATION),\n",
        "                                #   bias_regularizer=tf.keras.regularizers.l1(0.01),\n",
        "                                  name='Dense_BERT_2'\n",
        "                                  )(dense)\n",
        "    dropout_bert_2 = tf.keras.layers.Dropout(rate=DROP_OUT, name='Dropout_BERT_2')(dense)\n",
        "\n",
        "\n",
        "    # Resnet\n",
        "    if len(kernel_size) >0 :\n",
        "        feature_vector = tf.keras.layers.Input(shape=(2048,1),\n",
        "                                               dtype=np.float32,\n",
        "                                               name=\"ResnetFeatureVector\")\n",
        "    else:\n",
        "        feature_vector = tf.keras.layers.Input(shape=(2048,),\n",
        "                                               dtype=np.float32, \n",
        "                                               name=\"ResnetFeatureVector\")\n",
        "\n",
        "    batch_norm_list = []\n",
        "    for j in range(0,len(kernel_size)):\n",
        "        for i in range(0,len(filter_size)):\n",
        "            if i==0:\n",
        "                conv = tf.keras.layers.Conv1D(filters=filter_size[i],\n",
        "                                              kernel_size=kernel_size[j][i],\n",
        "                                              input_shape=(2048,),\n",
        "                                              padding='same',\n",
        "                                              activation='relu',\n",
        "                                              strides=1, \n",
        "                                              name='Conv_' + str(j)+str(i) + '_KernelSize_'+str(kernel_size[j][i]),\n",
        "                                              data_format='channels_last')(feature_vector)\n",
        "            else:\n",
        "                conv = tf.keras.layers.Conv1D(filters=filter_size[i],\n",
        "                                              kernel_size=kernel_size[j][i],\n",
        "                                              padding='same',\n",
        "                                              activation='relu',\n",
        "                                              strides=1, \n",
        "                                              name='Conv_'+str(j)+str(i)+ '_KernelSize_'+str(kernel_size[j][i]),\n",
        "                                              data_format='channels_last')(batch_norm)\n",
        "            \n",
        "            max_pooling = tf.keras.layers.MaxPool1D(strides=4,\n",
        "                                                    pool_size=4,\n",
        "                                                    data_format='channels_last', \n",
        "                                                    name='MaxPooling_'+ str(j)+str(i))(conv)\n",
        "            \n",
        "            batch_norm = tf.keras.layers.BatchNormalization(name='BatchNorm_'+str(j)+str(i))(max_pooling)\n",
        "        batch_norm_list.append(batch_norm)\n",
        "    \n",
        "    if len(batch_norm_list) > 0:\n",
        "        if (len(kernel_size) > 1):\n",
        "            concat = tf.keras.layers.concatenate(batch_norm_list, \n",
        "                                                 name='FilterConcat')\n",
        "            flatten = tf.keras.layers.Flatten(name='Flatten')(concat)\n",
        "        else:\n",
        "            flatten = tf.keras.layers.Flatten(name='Flatten')(batch_norm_list[-1])\n",
        "\n",
        "    # for i in range(0,len(dense_layers)):\n",
        "    #     if i==0:\n",
        "    #         if len(batch_norm_list) > 0:\n",
        "    #             dense = tf.keras.layers.Dense(dense_layers[i], \n",
        "    #                                           activation='relu', \n",
        "    #                                           kernel_regularizer=tf.keras.regularizers.l2(L2_REGULARIZATION),\n",
        "    #                                           name='hidden_'+str(i))(flatten)\n",
        "    #         else:\n",
        "    #             dense = tf.keras.layers.Dense(dense_layers[i], \n",
        "    #                                           activation='relu', \n",
        "    #                                           kernel_regularizer=tf.keras.regularizers.l2(L2_REGULARIZATION),\n",
        "    #                                           name='hidden_'+str(i))(feature_vector)\n",
        "    #     else:\n",
        "    #         dense = tf.keras.layers.Dense(dense_layers[i], \n",
        "    #                                       activation='relu', \n",
        "    #                                       kernel_regularizer=tf.keras.regularizers.l2(L2_REGULARIZATION),\n",
        "    #                                       name='hidden_'+str(i))(dropout)\n",
        "\n",
        "    #     dropout = tf.keras.layers.Dropout(rate=DROP_OUT, \n",
        "    #                                       name='dropout_'+str(i))(dense)\n",
        "\n",
        "    # if (len(dense_layers) > 0):\n",
        "    #     dense = tf.keras.layers.Dense(DENSE_LAYER_SIZE, \n",
        "    #                                   activation='relu', \n",
        "    #                                   kernel_regularizer=tf.keras.regularizers.l2(L2_REGULARIZATION),\n",
        "    #                                   name='hidden_'+str(len(dense_layers)))(dropout)#(concat_layer)\n",
        "    # else:\n",
        "    #     if len(batch_norm_list) > 0:\n",
        "    #         dense = tf.keras.layers.Dense(DENSE_LAYER_SIZE, \n",
        "    #                                       activation='relu', \n",
        "    #                                       kernel_regularizer=tf.keras.regularizers.l2(L2_REGULARIZATION),\n",
        "    #                                       name='hidden_'+str(len(dense_layers)))(flatten)#(concat_layer)\n",
        "    #     else:\n",
        "    #         dense = tf.keras.layers.Dense(DENSE_LAYER_SIZE, \n",
        "    #                                       activation='relu', \n",
        "    #                                       kernel_regularizer=tf.keras.regularizers.l2(L2_REGULARIZATION),\n",
        "    #                                       name='hidden_'+str(len(dense_layers)))(feature_vector)\n",
        "\n",
        "    # dropout_posters = tf.keras.layers.Dropout(rate=DROP_OUT, \n",
        "    #                                   name='dropout_'+str(len(dense_layers)))(dense)\n",
        "    # norm_dropout_posters = tf.keras.layers.BatchNormalization(name='BatchNormPosters')(dropout_posters)                                      \n",
        "    # norm_dropout_bert = tf.keras.layers.BatchNormalization(name='BatchNormBERT')(dropout_bert_2)                                      \n",
        "\n",
        "    concat_layer = tf.keras.layers.concatenate([dropout_bert_2, feature_vector], axis=1, name='concat')\n",
        "\n",
        "    # concat_layer = tf.keras.layers.concatenate([dropout_bert_2, dropout_posters], axis=1, name='concat')\n",
        "#    concat_layer = tf.keras.layers.concatenate([norm_dropout_bert, norm_dropout_posters], axis=1, name='concat')\n",
        "    #normalize_concat = tf.keras.layers.BatchNormalization(name='ConcatBatchNorm')(concat_layer) # 1024\n",
        "    concat_dense_1 = tf.keras.layers.Dense(2048, activation='relu', kernel_regularizer=tf.keras.regularizers.l2(L2_REGULARIZATION), name='concat_dense_1')(concat_layer)\n",
        "    concat_dropout_1 = tf.keras.layers.Dropout(rate=DROP_OUT, name='concat_dropout_1')(concat_dense_1)\n",
        "\n",
        "    pred = tf.keras.layers.Dense(NUM_LABELS,\n",
        "                                 activation='sigmoid',\n",
        "                                # kernel_initializer=tf.keras.initializers.TruncatedNormal(stddev=0.02),\n",
        "                                #  bias_initializer=tf.zeros_initializer()\n",
        "                                 name='prediction')(concat_dropout_1)\n",
        "\n",
        "    model = tf.keras.models.Model(inputs = [input_word_ids, input_mask, segment_ids, feature_vector], # inputs = [bert_inputs, feature_vector] \n",
        "                                  outputs = pred)\n",
        "\n",
        "    model.summary()\n",
        "\n",
        "    model.compile(loss=loss, \n",
        "                  optimizer=optimizer, \n",
        "                  metrics=ACC)\n",
        "\n",
        "    history = model.fit(\n",
        "        bert_inputs_train_k,\n",
        "        labels_train_k,\n",
        "        validation_data=(bert_inputs_dev_k, labels_dev_k),\n",
        "        epochs=EPOCHS,\n",
        "        callbacks=callbacks,\n",
        "        batch_size=BATCH_SIZE\n",
        "    )"
      ],
      "execution_count": 0,
      "outputs": [
        {
          "output_type": "stream",
          "text": [
            "WARNING:tensorflow:TPU system 10.115.222.50:8470 has already been initialized. Reinitializing the TPU can cause previously created variables on TPU to be lost.\n"
          ],
          "name": "stdout"
        },
        {
          "output_type": "stream",
          "text": [
            "WARNING:tensorflow:TPU system 10.115.222.50:8470 has already been initialized. Reinitializing the TPU can cause previously created variables on TPU to be lost.\n"
          ],
          "name": "stderr"
        },
        {
          "output_type": "stream",
          "text": [
            "INFO:tensorflow:Initializing the TPU system: 10.115.222.50:8470\n"
          ],
          "name": "stdout"
        },
        {
          "output_type": "stream",
          "text": [
            "INFO:tensorflow:Initializing the TPU system: 10.115.222.50:8470\n"
          ],
          "name": "stderr"
        },
        {
          "output_type": "stream",
          "text": [
            "INFO:tensorflow:Clearing out eager caches\n"
          ],
          "name": "stdout"
        },
        {
          "output_type": "stream",
          "text": [
            "INFO:tensorflow:Clearing out eager caches\n"
          ],
          "name": "stderr"
        },
        {
          "output_type": "stream",
          "text": [
            "INFO:tensorflow:Finished initializing TPU system.\n"
          ],
          "name": "stdout"
        },
        {
          "output_type": "stream",
          "text": [
            "INFO:tensorflow:Finished initializing TPU system.\n"
          ],
          "name": "stderr"
        },
        {
          "output_type": "stream",
          "text": [
            "INFO:tensorflow:Found TPU system:\n"
          ],
          "name": "stdout"
        },
        {
          "output_type": "stream",
          "text": [
            "INFO:tensorflow:Found TPU system:\n"
          ],
          "name": "stderr"
        },
        {
          "output_type": "stream",
          "text": [
            "INFO:tensorflow:*** Num TPU Cores: 8\n"
          ],
          "name": "stdout"
        },
        {
          "output_type": "stream",
          "text": [
            "INFO:tensorflow:*** Num TPU Cores: 8\n"
          ],
          "name": "stderr"
        },
        {
          "output_type": "stream",
          "text": [
            "INFO:tensorflow:*** Num TPU Workers: 1\n"
          ],
          "name": "stdout"
        },
        {
          "output_type": "stream",
          "text": [
            "INFO:tensorflow:*** Num TPU Workers: 1\n"
          ],
          "name": "stderr"
        },
        {
          "output_type": "stream",
          "text": [
            "INFO:tensorflow:*** Num TPU Cores Per Worker: 8\n"
          ],
          "name": "stdout"
        },
        {
          "output_type": "stream",
          "text": [
            "INFO:tensorflow:*** Num TPU Cores Per Worker: 8\n"
          ],
          "name": "stderr"
        },
        {
          "output_type": "stream",
          "text": [
            "INFO:tensorflow:*** Available Device: _DeviceAttributes(/job:localhost/replica:0/task:0/device:CPU:0, CPU, 0, 0)\n"
          ],
          "name": "stdout"
        },
        {
          "output_type": "stream",
          "text": [
            "INFO:tensorflow:*** Available Device: _DeviceAttributes(/job:localhost/replica:0/task:0/device:CPU:0, CPU, 0, 0)\n"
          ],
          "name": "stderr"
        },
        {
          "output_type": "stream",
          "text": [
            "INFO:tensorflow:*** Available Device: _DeviceAttributes(/job:localhost/replica:0/task:0/device:XLA_CPU:0, XLA_CPU, 0, 0)\n"
          ],
          "name": "stdout"
        },
        {
          "output_type": "stream",
          "text": [
            "INFO:tensorflow:*** Available Device: _DeviceAttributes(/job:localhost/replica:0/task:0/device:XLA_CPU:0, XLA_CPU, 0, 0)\n"
          ],
          "name": "stderr"
        },
        {
          "output_type": "stream",
          "text": [
            "INFO:tensorflow:*** Available Device: _DeviceAttributes(/job:worker/replica:0/task:0/device:CPU:0, CPU, 0, 0)\n"
          ],
          "name": "stdout"
        },
        {
          "output_type": "stream",
          "text": [
            "INFO:tensorflow:*** Available Device: _DeviceAttributes(/job:worker/replica:0/task:0/device:CPU:0, CPU, 0, 0)\n"
          ],
          "name": "stderr"
        },
        {
          "output_type": "stream",
          "text": [
            "INFO:tensorflow:*** Available Device: _DeviceAttributes(/job:worker/replica:0/task:0/device:TPU:0, TPU, 0, 0)\n"
          ],
          "name": "stdout"
        },
        {
          "output_type": "stream",
          "text": [
            "INFO:tensorflow:*** Available Device: _DeviceAttributes(/job:worker/replica:0/task:0/device:TPU:0, TPU, 0, 0)\n"
          ],
          "name": "stderr"
        },
        {
          "output_type": "stream",
          "text": [
            "INFO:tensorflow:*** Available Device: _DeviceAttributes(/job:worker/replica:0/task:0/device:TPU:1, TPU, 0, 0)\n"
          ],
          "name": "stdout"
        },
        {
          "output_type": "stream",
          "text": [
            "INFO:tensorflow:*** Available Device: _DeviceAttributes(/job:worker/replica:0/task:0/device:TPU:1, TPU, 0, 0)\n"
          ],
          "name": "stderr"
        },
        {
          "output_type": "stream",
          "text": [
            "INFO:tensorflow:*** Available Device: _DeviceAttributes(/job:worker/replica:0/task:0/device:TPU:2, TPU, 0, 0)\n"
          ],
          "name": "stdout"
        },
        {
          "output_type": "stream",
          "text": [
            "INFO:tensorflow:*** Available Device: _DeviceAttributes(/job:worker/replica:0/task:0/device:TPU:2, TPU, 0, 0)\n"
          ],
          "name": "stderr"
        },
        {
          "output_type": "stream",
          "text": [
            "INFO:tensorflow:*** Available Device: _DeviceAttributes(/job:worker/replica:0/task:0/device:TPU:3, TPU, 0, 0)\n"
          ],
          "name": "stdout"
        },
        {
          "output_type": "stream",
          "text": [
            "INFO:tensorflow:*** Available Device: _DeviceAttributes(/job:worker/replica:0/task:0/device:TPU:3, TPU, 0, 0)\n"
          ],
          "name": "stderr"
        },
        {
          "output_type": "stream",
          "text": [
            "INFO:tensorflow:*** Available Device: _DeviceAttributes(/job:worker/replica:0/task:0/device:TPU:4, TPU, 0, 0)\n"
          ],
          "name": "stdout"
        },
        {
          "output_type": "stream",
          "text": [
            "INFO:tensorflow:*** Available Device: _DeviceAttributes(/job:worker/replica:0/task:0/device:TPU:4, TPU, 0, 0)\n"
          ],
          "name": "stderr"
        },
        {
          "output_type": "stream",
          "text": [
            "INFO:tensorflow:*** Available Device: _DeviceAttributes(/job:worker/replica:0/task:0/device:TPU:5, TPU, 0, 0)\n"
          ],
          "name": "stdout"
        },
        {
          "output_type": "stream",
          "text": [
            "INFO:tensorflow:*** Available Device: _DeviceAttributes(/job:worker/replica:0/task:0/device:TPU:5, TPU, 0, 0)\n"
          ],
          "name": "stderr"
        },
        {
          "output_type": "stream",
          "text": [
            "INFO:tensorflow:*** Available Device: _DeviceAttributes(/job:worker/replica:0/task:0/device:TPU:6, TPU, 0, 0)\n"
          ],
          "name": "stdout"
        },
        {
          "output_type": "stream",
          "text": [
            "INFO:tensorflow:*** Available Device: _DeviceAttributes(/job:worker/replica:0/task:0/device:TPU:6, TPU, 0, 0)\n"
          ],
          "name": "stderr"
        },
        {
          "output_type": "stream",
          "text": [
            "INFO:tensorflow:*** Available Device: _DeviceAttributes(/job:worker/replica:0/task:0/device:TPU:7, TPU, 0, 0)\n"
          ],
          "name": "stdout"
        },
        {
          "output_type": "stream",
          "text": [
            "INFO:tensorflow:*** Available Device: _DeviceAttributes(/job:worker/replica:0/task:0/device:TPU:7, TPU, 0, 0)\n"
          ],
          "name": "stderr"
        },
        {
          "output_type": "stream",
          "text": [
            "INFO:tensorflow:*** Available Device: _DeviceAttributes(/job:worker/replica:0/task:0/device:TPU_SYSTEM:0, TPU_SYSTEM, 0, 0)\n"
          ],
          "name": "stdout"
        },
        {
          "output_type": "stream",
          "text": [
            "INFO:tensorflow:*** Available Device: _DeviceAttributes(/job:worker/replica:0/task:0/device:TPU_SYSTEM:0, TPU_SYSTEM, 0, 0)\n"
          ],
          "name": "stderr"
        },
        {
          "output_type": "stream",
          "text": [
            "INFO:tensorflow:*** Available Device: _DeviceAttributes(/job:worker/replica:0/task:0/device:XLA_CPU:0, XLA_CPU, 0, 0)\n"
          ],
          "name": "stdout"
        },
        {
          "output_type": "stream",
          "text": [
            "INFO:tensorflow:*** Available Device: _DeviceAttributes(/job:worker/replica:0/task:0/device:XLA_CPU:0, XLA_CPU, 0, 0)\n"
          ],
          "name": "stderr"
        },
        {
          "output_type": "stream",
          "text": [
            "Model: \"model_1\"\n",
            "__________________________________________________________________________________________________\n",
            "Layer (type)                    Output Shape         Param #     Connected to                     \n",
            "==================================================================================================\n",
            "input_word_ids (InputLayer)     [(None, 128)]        0                                            \n",
            "__________________________________________________________________________________________________\n",
            "input_mask (InputLayer)         [(None, 128)]        0                                            \n",
            "__________________________________________________________________________________________________\n",
            "segment_ids (InputLayer)        [(None, 128)]        0                                            \n",
            "__________________________________________________________________________________________________\n",
            "bert (KerasLayer)               [(None, 768), (None, 109482241   input_word_ids[0][0]             \n",
            "                                                                 input_mask[0][0]                 \n",
            "                                                                 segment_ids[0][0]                \n",
            "__________________________________________________________________________________________________\n",
            "Dropout_bert_pooled (Dropout)   (None, 768)          0           bert[0][0]                       \n",
            "__________________________________________________________________________________________________\n",
            "Dense_BERT_1 (Dense)            (None, 5120)         3937280     Dropout_bert_pooled[0][0]        \n",
            "__________________________________________________________________________________________________\n",
            "Dropout_BERT_1 (Dropout)        (None, 5120)         0           Dense_BERT_1[0][0]               \n",
            "__________________________________________________________________________________________________\n",
            "Dense_BERT_2 (Dense)            (None, 5120)         26219520    Dropout_BERT_1[0][0]             \n",
            "__________________________________________________________________________________________________\n",
            "Dropout_BERT_2 (Dropout)        (None, 5120)         0           Dense_BERT_2[0][0]               \n",
            "__________________________________________________________________________________________________\n",
            "ResnetFeatureVector (InputLayer [(None, 2048)]       0                                            \n",
            "__________________________________________________________________________________________________\n",
            "concat (Concatenate)            (None, 7168)         0           Dropout_BERT_2[0][0]             \n",
            "                                                                 ResnetFeatureVector[0][0]        \n",
            "__________________________________________________________________________________________________\n",
            "concat_dense_1 (Dense)          (None, 2048)         14682112    concat[0][0]                     \n",
            "__________________________________________________________________________________________________\n",
            "concat_dropout_1 (Dropout)      (None, 2048)         0           concat_dense_1[0][0]             \n",
            "__________________________________________________________________________________________________\n",
            "prediction (Dense)              (None, 10)           20490       concat_dropout_1[0][0]           \n",
            "==================================================================================================\n",
            "Total params: 154,341,643\n",
            "Trainable params: 154,341,642\n",
            "Non-trainable params: 1\n",
            "__________________________________________________________________________________________________\n",
            "Train on 76800 samples, validate on 15360 samples\n",
            "Epoch 1/30\n"
          ],
          "name": "stdout"
        },
        {
          "output_type": "stream",
          "text": [
            "/usr/local/lib/python3.6/dist-packages/tensorflow_core/python/framework/indexed_slices.py:433: UserWarning: Converting sparse IndexedSlices to a dense Tensor of unknown shape. This may consume a large amount of memory.\n",
            "  \"Converting sparse IndexedSlices to a dense Tensor of unknown shape. \"\n"
          ],
          "name": "stderr"
        },
        {
          "output_type": "stream",
          "text": [
            "75776/76800 [============================>.] - ETA: 1s - loss: 1.4308 - accuracy: 0.1127 - macro_f1: 0.1110 - micro_f1: 0.2109WARNING:tensorflow:5 out of the last 5 calls to <function recreate_function.<locals>.restored_function_body at 0x7ff67c7c06a8> triggered tf.function retracing. Tracing is expensive and the excessive number of tracings is likely due to passing python objects instead of tensors. Also, tf.function has experimental_relax_shapes=True option that relaxes argument shapes that can avoid unnecessary retracing. Please refer to https://www.tensorflow.org/tutorials/customization/performance#python_or_tensor_args and https://www.tensorflow.org/api_docs/python/tf/function for more details.\n"
          ],
          "name": "stdout"
        },
        {
          "output_type": "stream",
          "text": [
            "WARNING:tensorflow:5 out of the last 5 calls to <function recreate_function.<locals>.restored_function_body at 0x7ff67c7c06a8> triggered tf.function retracing. Tracing is expensive and the excessive number of tracings is likely due to passing python objects instead of tensors. Also, tf.function has experimental_relax_shapes=True option that relaxes argument shapes that can avoid unnecessary retracing. Please refer to https://www.tensorflow.org/tutorials/customization/performance#python_or_tensor_args and https://www.tensorflow.org/api_docs/python/tf/function for more details.\n"
          ],
          "name": "stderr"
        },
        {
          "output_type": "stream",
          "text": [
            "\b\b\b\b\b\b\b\b\b\b\b\b\b\b\b\b\b\b\b\b\b\b\b\b\b\b\b\b\b\b\b\b\b\b\b\b\b\b\b\b\b\b\b\b\b\b\b\b\b\b\b\b\b\b\b\b\b\b\b\b\b\b\b\b\b\b\b\b\b\b\b\b\b\b\b\b\b\b\b\b\b\b\b\b\b\b\b\b\b\b\b\b\b\b\b\b\b\b\b\b\b\b\b\b\b\b\b\b\b\b\b\b\b\b\b\b\b\b\b\b\b\b\b\b\b\b\r76800/76800 [==============================] - 149s 2ms/sample - loss: 1.4305 - accuracy: 0.1128 - macro_f1: 0.1112 - micro_f1: 0.2112 - val_loss: 1.4176 - val_accuracy: 0.1827 - val_macro_f1: 0.0726 - val_micro_f1: 0.2469\n",
            "Epoch 2/30\n",
            "76800/76800 [==============================] - 52s 683us/sample - loss: 1.3903 - accuracy: 0.1212 - macro_f1: 0.1600 - micro_f1: 0.2489 - val_loss: 1.3814 - val_accuracy: 0.1769 - val_macro_f1: 0.2058 - val_micro_f1: 0.3509\n",
            "Epoch 3/30\n",
            "76800/76800 [==============================] - 53s 684us/sample - loss: 1.3501 - accuracy: 0.1371 - macro_f1: 0.2894 - micro_f1: 0.3479 - val_loss: 1.3410 - val_accuracy: 0.1896 - val_macro_f1: 0.2854 - val_micro_f1: 0.4066\n",
            "Epoch 4/30\n",
            "76800/76800 [==============================] - 53s 684us/sample - loss: 1.3204 - accuracy: 0.1438 - macro_f1: 0.3404 - micro_f1: 0.3884 - val_loss: 1.3245 - val_accuracy: 0.1891 - val_macro_f1: 0.3236 - val_micro_f1: 0.4024\n",
            "Epoch 5/30\n",
            "76800/76800 [==============================] - 53s 685us/sample - loss: 1.3002 - accuracy: 0.1468 - macro_f1: 0.3634 - micro_f1: 0.4028 - val_loss: 1.3114 - val_accuracy: 0.1934 - val_macro_f1: 0.3289 - val_micro_f1: 0.4166\n",
            "Epoch 6/30\n",
            "76800/76800 [==============================] - 53s 686us/sample - loss: 1.2863 - accuracy: 0.1535 - macro_f1: 0.3764 - micro_f1: 0.4105 - val_loss: 1.3047 - val_accuracy: 0.1993 - val_macro_f1: 0.3227 - val_micro_f1: 0.4327\n",
            "Epoch 7/30\n",
            "76800/76800 [==============================] - 53s 685us/sample - loss: 1.2758 - accuracy: 0.1563 - macro_f1: 0.3860 - micro_f1: 0.4186 - val_loss: 1.2950 - val_accuracy: 0.1954 - val_macro_f1: 0.3266 - val_micro_f1: 0.4169\n",
            "Epoch 8/30\n",
            "76800/76800 [==============================] - 53s 685us/sample - loss: 1.2677 - accuracy: 0.1620 - macro_f1: 0.3926 - micro_f1: 0.4241 - val_loss: 1.2916 - val_accuracy: 0.1997 - val_macro_f1: 0.3254 - val_micro_f1: 0.4243\n",
            "Epoch 9/30\n",
            "76800/76800 [==============================] - 53s 685us/sample - loss: 1.2605 - accuracy: 0.1661 - macro_f1: 0.3979 - micro_f1: 0.4284 - val_loss: 1.2879 - val_accuracy: 0.2046 - val_macro_f1: 0.3236 - val_micro_f1: 0.4236\n",
            "Epoch 10/30\n",
            "76800/76800 [==============================] - 53s 685us/sample - loss: 1.2536 - accuracy: 0.1728 - macro_f1: 0.4048 - micro_f1: 0.4338 - val_loss: 1.2835 - val_accuracy: 0.2071 - val_macro_f1: 0.3227 - val_micro_f1: 0.4190\n",
            "Epoch 11/30\n",
            "76800/76800 [==============================] - 53s 685us/sample - loss: 1.2477 - accuracy: 0.1781 - macro_f1: 0.4097 - micro_f1: 0.4389 - val_loss: 1.2816 - val_accuracy: 0.2107 - val_macro_f1: 0.3224 - val_micro_f1: 0.4274\n",
            "Epoch 12/30\n",
            "76800/76800 [==============================] - 53s 686us/sample - loss: 1.2426 - accuracy: 0.1799 - macro_f1: 0.4140 - micro_f1: 0.4424 - val_loss: 1.2779 - val_accuracy: 0.2094 - val_macro_f1: 0.3226 - val_micro_f1: 0.4220\n",
            "Epoch 13/30\n",
            "76800/76800 [==============================] - 53s 686us/sample - loss: 1.2379 - accuracy: 0.1823 - macro_f1: 0.4173 - micro_f1: 0.4459 - val_loss: 1.2741 - val_accuracy: 0.2089 - val_macro_f1: 0.3225 - val_micro_f1: 0.4136\n",
            "Epoch 14/30\n",
            "76800/76800 [==============================] - 53s 686us/sample - loss: 1.2338 - accuracy: 0.1897 - macro_f1: 0.4194 - micro_f1: 0.4476 - val_loss: 1.2744 - val_accuracy: 0.2109 - val_macro_f1: 0.3204 - val_micro_f1: 0.4266\n",
            "Epoch 15/30\n",
            "76800/76800 [==============================] - 53s 686us/sample - loss: 1.2284 - accuracy: 0.1912 - macro_f1: 0.4247 - micro_f1: 0.4528 - val_loss: 1.2719 - val_accuracy: 0.2150 - val_macro_f1: 0.3209 - val_micro_f1: 0.4264\n",
            "Epoch 16/30\n",
            "76800/76800 [==============================] - 53s 685us/sample - loss: 1.2247 - accuracy: 0.1943 - macro_f1: 0.4271 - micro_f1: 0.4548 - val_loss: 1.2695 - val_accuracy: 0.2152 - val_macro_f1: 0.3200 - val_micro_f1: 0.4243\n",
            "Epoch 17/30\n",
            "76800/76800 [==============================] - 53s 685us/sample - loss: 1.2201 - accuracy: 0.1968 - macro_f1: 0.4322 - micro_f1: 0.4600 - val_loss: 1.2664 - val_accuracy: 0.2219 - val_macro_f1: 0.3234 - val_micro_f1: 0.4201\n",
            "Epoch 18/30\n",
            "76800/76800 [==============================] - 53s 684us/sample - loss: 1.2174 - accuracy: 0.2012 - macro_f1: 0.4331 - micro_f1: 0.4604 - val_loss: 1.2667 - val_accuracy: 0.2320 - val_macro_f1: 0.3210 - val_micro_f1: 0.4287\n",
            "Epoch 19/30\n",
            "76800/76800 [==============================] - 53s 685us/sample - loss: 1.2131 - accuracy: 0.2059 - macro_f1: 0.4378 - micro_f1: 0.4657 - val_loss: 1.2641 - val_accuracy: 0.2352 - val_macro_f1: 0.3212 - val_micro_f1: 0.4271\n",
            "Epoch 20/30\n",
            "76800/76800 [==============================] - 53s 687us/sample - loss: 1.2089 - accuracy: 0.2093 - macro_f1: 0.4415 - micro_f1: 0.4692 - val_loss: 1.2629 - val_accuracy: 0.2316 - val_macro_f1: 0.3181 - val_micro_f1: 0.4212\n",
            "Epoch 21/30\n",
            "76800/76800 [==============================] - 52s 683us/sample - loss: 1.2061 - accuracy: 0.2124 - macro_f1: 0.4435 - micro_f1: 0.4716 - val_loss: 1.2605 - val_accuracy: 0.2382 - val_macro_f1: 0.3190 - val_micro_f1: 0.4161\n",
            "Epoch 22/30\n",
            "76800/76800 [==============================] - 53s 685us/sample - loss: 1.2022 - accuracy: 0.2157 - macro_f1: 0.4474 - micro_f1: 0.4749 - val_loss: 1.2596 - val_accuracy: 0.2416 - val_macro_f1: 0.3204 - val_micro_f1: 0.4229\n",
            "Epoch 23/30\n",
            "76800/76800 [==============================] - 53s 685us/sample - loss: 1.1989 - accuracy: 0.2191 - macro_f1: 0.4496 - micro_f1: 0.4777 - val_loss: 1.2589 - val_accuracy: 0.2393 - val_macro_f1: 0.3167 - val_micro_f1: 0.4194\n",
            "Epoch 24/30\n",
            "76800/76800 [==============================] - 53s 684us/sample - loss: 1.1957 - accuracy: 0.2232 - macro_f1: 0.4520 - micro_f1: 0.4802 - val_loss: 1.2579 - val_accuracy: 0.2415 - val_macro_f1: 0.3160 - val_micro_f1: 0.4192\n",
            "Epoch 25/30\n",
            "76800/76800 [==============================] - 53s 685us/sample - loss: 1.1924 - accuracy: 0.2242 - macro_f1: 0.4553 - micro_f1: 0.4834 - val_loss: 1.2570 - val_accuracy: 0.2387 - val_macro_f1: 0.3165 - val_micro_f1: 0.4169\n",
            "Epoch 26/30\n",
            "76800/76800 [==============================] - 53s 685us/sample - loss: 1.1901 - accuracy: 0.2285 - macro_f1: 0.4565 - micro_f1: 0.4851 - val_loss: 1.2559 - val_accuracy: 0.2415 - val_macro_f1: 0.3170 - val_micro_f1: 0.4222\n",
            "Epoch 27/30\n",
            "76800/76800 [==============================] - 52s 684us/sample - loss: 1.1871 - accuracy: 0.2341 - macro_f1: 0.4586 - micro_f1: 0.4871 - val_loss: 1.2553 - val_accuracy: 0.2396 - val_macro_f1: 0.3161 - val_micro_f1: 0.4164\n",
            "Epoch 28/30\n",
            "76800/76800 [==============================] - 53s 684us/sample - loss: 1.1842 - accuracy: 0.2363 - macro_f1: 0.4614 - micro_f1: 0.4905 - val_loss: 1.2539 - val_accuracy: 0.2395 - val_macro_f1: 0.3151 - val_micro_f1: 0.4161\n",
            "Epoch 29/30\n",
            "76800/76800 [==============================] - 53s 684us/sample - loss: 1.1817 - accuracy: 0.2392 - macro_f1: 0.4634 - micro_f1: 0.4928 - val_loss: 1.2539 - val_accuracy: 0.2406 - val_macro_f1: 0.3125 - val_micro_f1: 0.4163\n",
            "Epoch 30/30\n",
            "76800/76800 [==============================] - 53s 685us/sample - loss: 1.1790 - accuracy: 0.2425 - macro_f1: 0.4655 - micro_f1: 0.4950 - val_loss: 1.2522 - val_accuracy: 0.2404 - val_macro_f1: 0.3158 - val_micro_f1: 0.4187\n"
          ],
          "name": "stdout"
        }
      ]
    },
    {
      "cell_type": "code",
      "metadata": {
        "id": "utXybRXp4EKx",
        "colab_type": "code",
        "outputId": "f4f6fc0e-cda5-4c02-e254-a1eae87a9b59",
        "colab": {
          "base_uri": "https://localhost:8080/",
          "height": 1000
        }
      },
      "source": [
        "from tensorflow.keras.utils import plot_model\n",
        "plot_model(model, to_file=plot_save_prefix + 'model_architecture.png')"
      ],
      "execution_count": 0,
      "outputs": [
        {
          "output_type": "execute_result",
          "data": {
            "image/png": "[encoded data removed]",
            "text/plain": [
              "<IPython.core.display.Image object>"
            ]
          },
          "metadata": {
            "tags": []
          },
          "execution_count": 41
        }
      ]
    },
    {
      "cell_type": "code",
      "metadata": {
        "id": "MPTuYvHB7m7m",
        "colab_type": "code",
        "outputId": "924e4681-6111-4d6b-9398-0d6793512a20",
        "colab": {
          "base_uri": "https://localhost:8080/",
          "height": 34
        }
      },
      "source": [
        "# serialize model to JSON\n",
        "model_json = model.to_json()\n",
        "with open(model_save_prefix + results_prefix + '_' + str(NUM_LABELS) + '.json', \"w\") as json_file:\n",
        "    json_file.write(model_json)\n",
        "# serialize weights to HDF5\n",
        "model.save_weights( model_save_prefix + results_prefix + '_' + str(NUM_LABELS) + '_weights.h5', overwrite=True)\n",
        "print(\"Saved model to disk\")"
      ],
      "execution_count": 0,
      "outputs": [
        {
          "output_type": "stream",
          "text": [
            "Saved model to disk\n"
          ],
          "name": "stdout"
        }
      ]
    },
    {
      "cell_type": "markdown",
      "metadata": {
        "id": "0f0WdOHvhBHJ",
        "colab_type": "text"
      },
      "source": [
        "### Evaluating Results"
      ]
    },
    {
      "cell_type": "code",
      "metadata": {
        "id": "K79kjROtVPsu",
        "colab_type": "code",
        "outputId": "cd335d5d-d942-40fe-bc87-4cc5155e194d",
        "colab": {
          "base_uri": "https://localhost:8080/",
          "height": 918
        }
      },
      "source": [
        "import matplotlib.pyplot as plt\n",
        "import matplotlib.style as style\n",
        "\n",
        "def learning_curves(history,ACC):\n",
        "    \"\"\"Plot the learning curves of loss and macro f1 score \n",
        "    for the training and validation datasets.\n",
        "    \n",
        "    Args:\n",
        "        history: history callback of fitting a tensorflow keras model \n",
        "    \"\"\"\n",
        "    \n",
        "    loss = history.history['loss']\n",
        "    val_loss = history.history['val_loss']\n",
        "    epochs = len(loss)\n",
        "    style.use(\"bmh\")\n",
        "    num_plots = len(ACC) + 1\n",
        "    plt.figure(figsize=(12, 12))\n",
        "\n",
        "    plt.subplot(num_plots, 1, 1)\n",
        "    plt.plot(range(1, epochs+1), loss, label='Training Loss')\n",
        "    plt.plot(range(1, epochs+1), val_loss, label='Validation Loss')\n",
        "    plt.legend(loc='upper right')\n",
        "    plt.ylabel('Loss')\n",
        "    plt.title(optimizer_select + ': Training and Validation Loss')\n",
        "\n",
        "    ctr = 2\n",
        "    accuracy = []\n",
        "    val_accuracy = []\n",
        "    for accs in ACC:\n",
        "        if isinstance(accs, str):\n",
        "            acc_name = accs\n",
        "        else:\n",
        "            acc_name = accs.__name__\n",
        "        acc_data = history.history[acc_name]\n",
        "        val_acc_data = history.history['val_'+acc_name]\n",
        "        accuracy.append(acc_data)\n",
        "        val_accuracy.append(val_acc_data)\n",
        "        plt.subplot(num_plots, 1, ctr)\n",
        "        plt.plot(range(1, epochs+1), acc_data, label= acc_name + ':' + 'Training F1-score')\n",
        "        plt.plot(range(1, epochs+1), val_acc_data, label = acc_name + ':' + 'Validation F1-score')\n",
        "        plt.legend(loc='lower right')\n",
        "        plt.ylabel('F1-score')\n",
        "        plt.title(optimizer_select + ': Training and Validation F1-score')\n",
        "\n",
        "        plt.savefig(plot_save_prefix + results_prefix + '.jpg')\n",
        "        ctr+=1\n",
        "    plt.xlabel('epoch')\n",
        "    plt.show()\n",
        "    return loss, val_loss, accuracy, val_accuracy\n",
        "\n",
        "losses, val_losses,  accuracy, val_accuracy = learning_curves(history, ACC)\n",
        "df_results = pd.DataFrame({'loss':losses,'val_loss': val_losses,\n",
        "              'macro_f1':accuracy[0],'micro_f1':accuracy[1],\n",
        "              'val_macro_f1':val_accuracy[0], 'val_micro_f1':val_accuracy[1]})\n",
        "df_results.head()"
      ],
      "execution_count": 0,
      "outputs": [
        {
          "output_type": "display_data",
          "data": {
            "image/png": "[encoded data removed]",
            "text/plain": [
              "<Figure size 864x864 with 4 Axes>"
            ]
          },
          "metadata": {
            "tags": []
          }
        },
        {
          "output_type": "execute_result",
          "data": {
            "text/html": [
              "<div>\n",
              "<style scoped>\n",
              "    .dataframe tbody tr th:only-of-type {\n",
              "        vertical-align: middle;\n",
              "    }\n",
              "\n",
              "    .dataframe tbody tr th {\n",
              "        vertical-align: top;\n",
              "    }\n",
              "\n",
              "    .dataframe thead th {\n",
              "        text-align: right;\n",
              "    }\n",
              "</style>\n",
              "<table border=\"1\" class=\"dataframe\">\n",
              "  <thead>\n",
              "    <tr style=\"text-align: right;\">\n",
              "      <th></th>\n",
              "      <th>loss</th>\n",
              "      <th>val_loss</th>\n",
              "      <th>macro_f1</th>\n",
              "      <th>micro_f1</th>\n",
              "      <th>val_macro_f1</th>\n",
              "      <th>val_micro_f1</th>\n",
              "    </tr>\n",
              "  </thead>\n",
              "  <tbody>\n",
              "    <tr>\n",
              "      <th>0</th>\n",
              "      <td>2.234774</td>\n",
              "      <td>2.190738</td>\n",
              "      <td>0.184549</td>\n",
              "      <td>0.095056</td>\n",
              "      <td>0.200326</td>\n",
              "      <td>0.073980</td>\n",
              "    </tr>\n",
              "    <tr>\n",
              "      <th>1</th>\n",
              "      <td>2.158160</td>\n",
              "      <td>2.138979</td>\n",
              "      <td>0.194900</td>\n",
              "      <td>0.099602</td>\n",
              "      <td>0.181315</td>\n",
              "      <td>0.079394</td>\n",
              "    </tr>\n",
              "    <tr>\n",
              "      <th>2</th>\n",
              "      <td>2.107819</td>\n",
              "      <td>2.087574</td>\n",
              "      <td>0.199045</td>\n",
              "      <td>0.167252</td>\n",
              "      <td>0.205924</td>\n",
              "      <td>0.243812</td>\n",
              "    </tr>\n",
              "    <tr>\n",
              "      <th>3</th>\n",
              "      <td>2.066005</td>\n",
              "      <td>2.056702</td>\n",
              "      <td>0.213194</td>\n",
              "      <td>0.239796</td>\n",
              "      <td>0.210482</td>\n",
              "      <td>0.283966</td>\n",
              "    </tr>\n",
              "    <tr>\n",
              "      <th>4</th>\n",
              "      <td>2.035113</td>\n",
              "      <td>2.034844</td>\n",
              "      <td>0.226823</td>\n",
              "      <td>0.289120</td>\n",
              "      <td>0.214193</td>\n",
              "      <td>0.307662</td>\n",
              "    </tr>\n",
              "  </tbody>\n",
              "</table>\n",
              "</div>"
            ],
            "text/plain": [
              "       loss  val_loss  macro_f1  micro_f1  val_macro_f1  val_micro_f1\n",
              "0  2.234774  2.190738  0.184549  0.095056      0.200326      0.073980\n",
              "1  2.158160  2.138979  0.194900  0.099602      0.181315      0.079394\n",
              "2  2.107819  2.087574  0.199045  0.167252      0.205924      0.243812\n",
              "3  2.066005  2.056702  0.213194  0.239796      0.210482      0.283966\n",
              "4  2.035113  2.034844  0.226823  0.289120      0.214193      0.307662"
            ]
          },
          "metadata": {
            "tags": []
          },
          "execution_count": 18
        }
      ]
    },
    {
      "cell_type": "code",
      "metadata": {
        "id": "5jPArRpWPxuY",
        "colab_type": "code",
        "colab": {}
      },
      "source": [
        "df_results.to_csv(plot_save_prefix + results_prefix+ '.data', index=False)"
      ],
      "execution_count": 0,
      "outputs": []
    },
    {
      "cell_type": "code",
      "metadata": {
        "id": "5Wy3m9wTP9vX",
        "colab_type": "code",
        "outputId": "3c724a2b-79af-453d-f56e-7e1790a43916",
        "colab": {
          "base_uri": "https://localhost:8080/",
          "height": 54
        }
      },
      "source": [
        "'''\n",
        "from tensorflow.keras.models import model_from_json\n",
        "\n",
        "# load json and create model\n",
        "with open(model_save_prefix + results_prefix  + '_' + str(NUM_LABELS) + '.json', \"r\") as json_file:\n",
        "    loaded_model_json = json_file.read()\n",
        "\n",
        "loaded_model = model_from_json(loaded_model_json, custom_objects = {\n",
        "    'KerasLayer': hub.KerasLayer\n",
        "})\n",
        "\n",
        "# load weights into new model\n",
        "loaded_model.load_weights(model_save_prefix + results_prefix  + '_' + str(NUM_LABELS) + '_weights.h5')\n",
        "print(\"Loaded model from disk\")\n",
        "''' "
      ],
      "execution_count": 0,
      "outputs": [
        {
          "output_type": "execute_result",
          "data": {
            "text/plain": [
              "'\\nfrom tensorflow.keras.models import model_from_json\\n\\n# load json and create model\\nwith open(model_save_prefix + results_prefix  + \\'_\\' + str(NUM_LABELS) + \\'.json\\', \"r\") as json_file:\\n    loaded_model_json = json_file.read()\\n\\nloaded_model = model_from_json(loaded_model_json, custom_objects = {\\n    \\'KerasLayer\\': hub.KerasLayer\\n})\\n\\n# load weights into new model\\nloaded_model.load_weights(model_save_prefix + results_prefix  + \\'_\\' + str(NUM_LABELS) + \\'_weights.h5\\')\\nprint(\"Loaded model from disk\")\\n'"
            ]
          },
          "metadata": {
            "tags": []
          },
          "execution_count": 50
        }
      ]
    },
    {
      "cell_type": "code",
      "metadata": {
        "id": "RC8lOHLB69gO",
        "colab_type": "code",
        "colab": {}
      },
      "source": [
        "def perf_grid(ds, target, label_names, model, n_thresh=100):\n",
        "    \"\"\"Computes the performance table containing target, label names,\n",
        "    label frequencies, thresholds between 0 and 1, number of tp, fp, fn,\n",
        "    precision, recall and f-score metrics for each label.\n",
        "    \n",
        "    Args:\n",
        "        ds (tf.data.Datatset): contains the features array\n",
        "        target (numpy array): target matrix of shape (BATCH_SIZE, N_LABELS)\n",
        "        label_names (list of strings): column names in target matrix\n",
        "        model (tensorflow keras model): model to use for prediction\n",
        "        n_thresh (int) : number of thresholds to try\n",
        "        \n",
        "    Returns:\n",
        "        grid (Pandas dataframe): performance table \n",
        "    \"\"\"\n",
        "    \n",
        "    # Get predictions\n",
        "    y_hat_val = model.predict(ds)\n",
        "    # Define target matrix\n",
        "    y_val = target\n",
        "    # Find label frequencies in the validation set\n",
        "    label_freq = target.sum(axis=0)\n",
        "    # Get label indexes\n",
        "    label_index = [i for i in range(len(label_names))]\n",
        "    # Define thresholds\n",
        "    thresholds = np.linspace(0,1,n_thresh+1).astype(np.float32)\n",
        "    \n",
        "    # Compute all metrics for all labels\n",
        "    ids, labels, freqs, tps, fps, fns, precisions, recalls, f1s = [], [], [], [], [], [], [], [], []\n",
        "    for l in label_index:\n",
        "        for thresh in thresholds:   \n",
        "            ids.append(l)\n",
        "            labels.append(label_names[l])\n",
        "            freqs.append(round(label_freq[l]/len(y_val),2))\n",
        "            y_hat = y_hat_val[:,l]\n",
        "            y = y_val[:,l]\n",
        "            y_pred = y_hat > thresh\n",
        "            tp = np.count_nonzero(y_pred  * y)\n",
        "            fp = np.count_nonzero(y_pred * (1-y))\n",
        "            fn = np.count_nonzero((1-y_pred) * y)\n",
        "            precision = tp / (tp + fp + 1e-16)\n",
        "            recall = tp / (tp + fn + 1e-16)\n",
        "            f1 = 2*tp / (2*tp + fn + fp + 1e-16)\n",
        "            tps.append(tp)\n",
        "            fps.append(fp)\n",
        "            fns.append(fn)\n",
        "            precisions.append(precision)\n",
        "            recalls.append(recall)\n",
        "            f1s.append(f1)\n",
        "            \n",
        "    # Create the performance dataframe\n",
        "    grid = pd.DataFrame({\n",
        "        'id':ids,\n",
        "        'label':labels,\n",
        "        'freq':freqs,\n",
        "        'threshold':list(thresholds)*len(label_index),\n",
        "        'tp':tps,\n",
        "        'fp':fps,\n",
        "        'fn':fns,\n",
        "        'precision':precisions,\n",
        "        'recall':recalls,\n",
        "        'f1':f1s})\n",
        "    \n",
        "    grid = grid[['id', 'label', 'freq', 'threshold',\n",
        "                 'tp', 'fn', 'fp', 'precision', 'recall', 'f1']]\n",
        "    \n",
        "    return grid"
      ],
      "execution_count": 0,
      "outputs": []
    },
    {
      "cell_type": "code",
      "metadata": {
        "id": "dNvXz5qCQGw9",
        "colab_type": "code",
        "colab": {}
      },
      "source": [
        "if (ERROR_TEST):\n",
        "    label_names = ['Drama']\n",
        "else:\n",
        "    label_names = ['Drama','Thriller','Comedy','Action','Crime',\n",
        "                   'Horror','Romance','Adventure','Mystery','Sci-Fi']"
      ],
      "execution_count": 0,
      "outputs": []
    },
    {
      "cell_type": "code",
      "metadata": {
        "id": "g_ySh2fqQJqR",
        "colab_type": "code",
        "outputId": "5bbec244-e3cb-41d4-bb4c-23dafece2a47",
        "colab": {
          "base_uri": "https://localhost:8080/",
          "height": 139
        }
      },
      "source": [
        "n_thresh = 20\n",
        "# cluster_resolver = tf.distribute.cluster_resolver.TPUClusterResolver()\n",
        "# tf.config.experimental_connect_to_cluster(cluster_resolver)\n",
        "# tf.tpu.experimental.initialize_tpu_system(cluster_resolver)\n",
        "# strategy = tf.distribute.experimental.TPUStrategy(cluster_resolver)\n",
        "with strategy.scope():\n",
        "    grid_train = perf_grid(bert_inputs_train_k, \n",
        "            labels_train_k, \n",
        "            label_names, \n",
        "            model, \n",
        "            n_thresh=n_thresh)\n",
        "    grid_dev = perf_grid(bert_inputs_dev_k, \n",
        "            labels_dev_k, \n",
        "            label_names, \n",
        "            model, \n",
        "            n_thresh=n_thresh)\n",
        "    grid_val = perf_grid(bert_inputs_val_k, \n",
        "            labels_val_k, \n",
        "            label_names, \n",
        "            model, \n",
        "            n_thresh=n_thresh)"
      ],
      "execution_count": 0,
      "outputs": [
        {
          "output_type": "stream",
          "text": [
            "WARNING:tensorflow:6 out of the last 6 calls to <function recreate_function.<locals>.restored_function_body at 0x7ff6a4cbb6a8> triggered tf.function retracing. Tracing is expensive and the excessive number of tracings is likely due to passing python objects instead of tensors. Also, tf.function has experimental_relax_shapes=True option that relaxes argument shapes that can avoid unnecessary retracing. Please refer to https://www.tensorflow.org/tutorials/customization/performance#python_or_tensor_args and https://www.tensorflow.org/api_docs/python/tf/function for more details.\n"
          ],
          "name": "stdout"
        },
        {
          "output_type": "stream",
          "text": [
            "WARNING:tensorflow:6 out of the last 6 calls to <function recreate_function.<locals>.restored_function_body at 0x7ff6a4cbb6a8> triggered tf.function retracing. Tracing is expensive and the excessive number of tracings is likely due to passing python objects instead of tensors. Also, tf.function has experimental_relax_shapes=True option that relaxes argument shapes that can avoid unnecessary retracing. Please refer to https://www.tensorflow.org/tutorials/customization/performance#python_or_tensor_args and https://www.tensorflow.org/api_docs/python/tf/function for more details.\n"
          ],
          "name": "stderr"
        },
        {
          "output_type": "stream",
          "text": [
            "WARNING:tensorflow:7 out of the last 7 calls to <function recreate_function.<locals>.restored_function_body at 0x7ff6a4cbb6a8> triggered tf.function retracing. Tracing is expensive and the excessive number of tracings is likely due to passing python objects instead of tensors. Also, tf.function has experimental_relax_shapes=True option that relaxes argument shapes that can avoid unnecessary retracing. Please refer to https://www.tensorflow.org/tutorials/customization/performance#python_or_tensor_args and https://www.tensorflow.org/api_docs/python/tf/function for more details.\n"
          ],
          "name": "stdout"
        },
        {
          "output_type": "stream",
          "text": [
            "WARNING:tensorflow:7 out of the last 7 calls to <function recreate_function.<locals>.restored_function_body at 0x7ff6a4cbb6a8> triggered tf.function retracing. Tracing is expensive and the excessive number of tracings is likely due to passing python objects instead of tensors. Also, tf.function has experimental_relax_shapes=True option that relaxes argument shapes that can avoid unnecessary retracing. Please refer to https://www.tensorflow.org/tutorials/customization/performance#python_or_tensor_args and https://www.tensorflow.org/api_docs/python/tf/function for more details.\n"
          ],
          "name": "stderr"
        },
        {
          "output_type": "stream",
          "text": [
            "WARNING:tensorflow:8 out of the last 8 calls to <function recreate_function.<locals>.restored_function_body at 0x7ff6a4cbb6a8> triggered tf.function retracing. Tracing is expensive and the excessive number of tracings is likely due to passing python objects instead of tensors. Also, tf.function has experimental_relax_shapes=True option that relaxes argument shapes that can avoid unnecessary retracing. Please refer to https://www.tensorflow.org/tutorials/customization/performance#python_or_tensor_args and https://www.tensorflow.org/api_docs/python/tf/function for more details.\n"
          ],
          "name": "stdout"
        },
        {
          "output_type": "stream",
          "text": [
            "WARNING:tensorflow:8 out of the last 8 calls to <function recreate_function.<locals>.restored_function_body at 0x7ff6a4cbb6a8> triggered tf.function retracing. Tracing is expensive and the excessive number of tracings is likely due to passing python objects instead of tensors. Also, tf.function has experimental_relax_shapes=True option that relaxes argument shapes that can avoid unnecessary retracing. Please refer to https://www.tensorflow.org/tutorials/customization/performance#python_or_tensor_args and https://www.tensorflow.org/api_docs/python/tf/function for more details.\n"
          ],
          "name": "stderr"
        }
      ]
    },
    {
      "cell_type": "code",
      "metadata": {
        "id": "vswBreA8QY24",
        "colab_type": "code",
        "outputId": "f93ca89f-10f6-4ca7-f949-0f20ad85b714",
        "colab": {
          "base_uri": "https://localhost:8080/",
          "height": 612
        }
      },
      "source": [
        "import seaborn as sns\n",
        "\n",
        "def table_scores(grid_data, threshold):\n",
        "    max_perf = grid_data.loc[grid_data.threshold==threshold,:].groupby(['id', 'label', 'threshold','freq','precision','recall'])[['f1']].max().sort_values('f1', ascending=False).reset_index()\n",
        "    max_perf.rename(columns={'f1':'f1score'}, inplace=True)\n",
        "    max_perf.style.background_gradient(subset=['freq', 'f1score'], \n",
        "                                       cmap=sns.light_palette(\"lightgreen\", as_cmap=True))\n",
        "    return(max_perf)\n",
        "\n",
        "table_scores(grid_train, threshold=0.5).to_csv(plot_save_prefix + results_prefix + '_train.f1score')\n",
        "table_scores(grid_dev, threshold=0.5).to_csv(plot_save_prefix + results_prefix + '_dev.f1score')\n",
        "table_scores(grid_val, threshold=0.5).to_csv(plot_save_prefix + results_prefix + '_val.f1score')\n",
        "print(table_scores(grid_train, threshold=0.5))\n",
        "print(table_scores(grid_dev, threshold=0.5))\n",
        "print(table_scores(grid_val, threshold=0.5))\n"
      ],
      "execution_count": 0,
      "outputs": [
        {
          "output_type": "stream",
          "text": [
            "/usr/local/lib/python3.6/dist-packages/statsmodels/tools/_testing.py:19: FutureWarning: pandas.util.testing is deprecated. Use the functions in the public API at pandas.testing instead.\n",
            "  import pandas.util.testing as tm\n"
          ],
          "name": "stderr"
        },
        {
          "output_type": "stream",
          "text": [
            "   id      label  threshold  freq  precision    recall   f1score\n",
            "0   0      Drama        0.5  0.55   0.759773  0.707547  0.732731\n",
            "1   2     Comedy        0.5  0.34   0.603493  0.559116  0.580458\n",
            "2   1   Thriller        0.5  0.20   0.487950  0.526560  0.506520\n",
            "3   6    Romance        0.5  0.20   0.452450  0.531521  0.488808\n",
            "4   3     Action        0.5  0.15   0.389728  0.507703  0.440961\n",
            "5   5     Horror        0.5  0.12   0.343698  0.567016  0.427977\n",
            "6   4      Crime        0.5  0.13   0.323987  0.462861  0.381169\n",
            "7   8    Mystery        0.5  0.07   0.221915  0.519847  0.311049\n",
            "8   7  Adventure        0.5  0.09   0.200456  0.405189  0.268218\n",
            "9   9     Sci-Fi        0.5  0.06   0.000000  0.000000  0.000000\n",
            "   id      label  threshold  freq  precision    recall   f1score\n",
            "0   0      Drama        0.5  0.55   0.661449  0.631412  0.646082\n",
            "1   2     Comedy        0.5  0.35   0.446947  0.440308  0.443603\n",
            "2   6    Romance        0.5  0.20   0.361696  0.415618  0.386787\n",
            "3   1   Thriller        0.5  0.19   0.379672  0.387550  0.383571\n",
            "4   3     Action        0.5  0.15   0.302977  0.373167  0.334429\n",
            "5   5     Horror        0.5  0.12   0.268506  0.419531  0.327443\n",
            "6   4      Crime        0.5  0.13   0.254212  0.352463  0.295382\n",
            "7   8    Mystery        0.5  0.07   0.149724  0.326531  0.205308\n",
            "8   7  Adventure        0.5  0.09   0.151868  0.272138  0.194946\n",
            "9   9     Sci-Fi        0.5  0.06   0.000000  0.000000  0.000000\n",
            "   id      label  threshold  freq  precision    recall   f1score\n",
            "0   0      Drama        0.5  0.56   0.676257  0.626129  0.650229\n",
            "1   2     Comedy        0.5  0.34   0.447102  0.445737  0.446418\n",
            "2   6    Romance        0.5  0.20   0.360510  0.430179  0.392275\n",
            "3   1   Thriller        0.5  0.19   0.359007  0.380567  0.369473\n",
            "4   5     Horror        0.5  0.12   0.271076  0.437742  0.334815\n",
            "5   3     Action        0.5  0.15   0.291921  0.367993  0.325573\n",
            "6   4      Crime        0.5  0.13   0.244745  0.338590  0.284119\n",
            "7   8    Mystery        0.5  0.08   0.155925  0.322719  0.210261\n",
            "8   7  Adventure        0.5  0.09   0.141852  0.275836  0.187355\n",
            "9   9     Sci-Fi        0.5  0.06   0.000000  0.000000  0.000000\n"
          ],
          "name": "stdout"
        }
      ]
    },
    {
      "cell_type": "code",
      "metadata": {
        "id": "RDhKWWlGQcWW",
        "colab_type": "code",
        "outputId": "1b8e9c1a-31bf-433a-e938-8af26abda087",
        "colab": {
          "base_uri": "https://localhost:8080/",
          "height": 34
        }
      },
      "source": [
        "plot_save_prefix + results_prefix"
      ],
      "execution_count": 0,
      "outputs": [
        {
          "output_type": "execute_result",
          "data": {
            "text/plain": [
              "'/content/drive/My Drive/w266-FinalProject/MoviePlotsAndPosters/plots/baseline/baseline_seqlen_128_ADAM_EPOCHS_30_LR_0.0001_LOSS_macro_double_soft_f1_NoOS'"
            ]
          },
          "metadata": {
            "tags": []
          },
          "execution_count": 25
        }
      ]
    }
  ]
}