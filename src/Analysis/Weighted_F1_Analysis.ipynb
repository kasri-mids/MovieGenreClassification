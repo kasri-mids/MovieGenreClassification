{
  "nbformat": 4,
  "nbformat_minor": 0,
  "metadata": {
    "colab": {
      "name": "Weighted F1 Analysis",
      "provenance": [],
      "include_colab_link": true
    },
    "kernelspec": {
      "name": "python3",
      "display_name": "Python 3"
    }
  },
  "cells": [
    {
      "cell_type": "markdown",
      "metadata": {
        "id": "view-in-github",
        "colab_type": "text"
      },
      "source": [
        "<a href=\"https://colab.research.google.com/github/kasri-mids/MovieGenreClassification/blob/master/src/Analysis/Weighted_F1_Analysis.ipynb\" target=\"_parent\"><img src=\"https://colab.research.google.com/assets/colab-badge.svg\" alt=\"Open In Colab\"/></a>"
      ]
    },
    {
      "cell_type": "markdown",
      "metadata": {
        "id": "NreV6ndMWzo4",
        "colab_type": "text"
      },
      "source": [
        "# Weighted F1 Analysis\n",
        "\n",
        "In this notebook, we calculate the weighted F1 scores from the various models we built."
      ]
    },
    {
      "cell_type": "code",
      "metadata": {
        "id": "m6c5msAqu3ph",
        "colab_type": "code",
        "outputId": "0199dd4c-3847-44f9-ff04-722deb76bf93",
        "colab": {
          "base_uri": "https://localhost:8080/",
          "height": 1000
        }
      },
      "source": [
        "#%tensorflow_version 2.1\n",
        "!pip install tensorflow==2.1.0"
      ],
      "execution_count": 0,
      "outputs": [
        {
          "output_type": "stream",
          "text": [
            "Collecting tensorflow==2.1.0\n",
            "\u001b[?25l  Downloading https://files.pythonhosted.org/packages/85/d4/c0cd1057b331bc38b65478302114194bd8e1b9c2bbc06e300935c0e93d90/tensorflow-2.1.0-cp36-cp36m-manylinux2010_x86_64.whl (421.8MB)\n",
            "\u001b[K     |████████████████████████████████| 421.8MB 37kB/s \n",
            "\u001b[?25hRequirement already satisfied: astor>=0.6.0 in /usr/local/lib/python3.6/dist-packages (from tensorflow==2.1.0) (0.8.1)\n",
            "Collecting gast==0.2.2\n",
            "  Downloading https://files.pythonhosted.org/packages/4e/35/11749bf99b2d4e3cceb4d55ca22590b0d7c2c62b9de38ac4a4a7f4687421/gast-0.2.2.tar.gz\n",
            "Requirement already satisfied: scipy==1.4.1; python_version >= \"3\" in /usr/local/lib/python3.6/dist-packages (from tensorflow==2.1.0) (1.4.1)\n",
            "Requirement already satisfied: protobuf>=3.8.0 in /usr/local/lib/python3.6/dist-packages (from tensorflow==2.1.0) (3.10.0)\n",
            "Requirement already satisfied: six>=1.12.0 in /usr/local/lib/python3.6/dist-packages (from tensorflow==2.1.0) (1.12.0)\n",
            "Requirement already satisfied: termcolor>=1.1.0 in /usr/local/lib/python3.6/dist-packages (from tensorflow==2.1.0) (1.1.0)\n",
            "Requirement already satisfied: wheel>=0.26; python_version >= \"3\" in /usr/local/lib/python3.6/dist-packages (from tensorflow==2.1.0) (0.34.2)\n",
            "Requirement already satisfied: absl-py>=0.7.0 in /usr/local/lib/python3.6/dist-packages (from tensorflow==2.1.0) (0.9.0)\n",
            "Requirement already satisfied: keras-preprocessing>=1.1.0 in /usr/local/lib/python3.6/dist-packages (from tensorflow==2.1.0) (1.1.0)\n",
            "Requirement already satisfied: google-pasta>=0.1.6 in /usr/local/lib/python3.6/dist-packages (from tensorflow==2.1.0) (0.2.0)\n",
            "Requirement already satisfied: keras-applications>=1.0.8 in /usr/local/lib/python3.6/dist-packages (from tensorflow==2.1.0) (1.0.8)\n",
            "Requirement already satisfied: numpy<2.0,>=1.16.0 in /usr/local/lib/python3.6/dist-packages (from tensorflow==2.1.0) (1.18.2)\n",
            "Collecting tensorboard<2.2.0,>=2.1.0\n",
            "\u001b[?25l  Downloading https://files.pythonhosted.org/packages/d9/41/bbf49b61370e4f4d245d4c6051dfb6db80cec672605c91b1652ac8cc3d38/tensorboard-2.1.1-py3-none-any.whl (3.8MB)\n",
            "\u001b[K     |████████████████████████████████| 3.9MB 35.0MB/s \n",
            "\u001b[?25hRequirement already satisfied: grpcio>=1.8.6 in /usr/local/lib/python3.6/dist-packages (from tensorflow==2.1.0) (1.28.1)\n",
            "Collecting tensorflow-estimator<2.2.0,>=2.1.0rc0\n",
            "\u001b[?25l  Downloading https://files.pythonhosted.org/packages/18/90/b77c328a1304437ab1310b463e533fa7689f4bfc41549593056d812fab8e/tensorflow_estimator-2.1.0-py2.py3-none-any.whl (448kB)\n",
            "\u001b[K     |████████████████████████████████| 450kB 43.2MB/s \n",
            "\u001b[?25hRequirement already satisfied: wrapt>=1.11.1 in /usr/local/lib/python3.6/dist-packages (from tensorflow==2.1.0) (1.12.1)\n",
            "Requirement already satisfied: opt-einsum>=2.3.2 in /usr/local/lib/python3.6/dist-packages (from tensorflow==2.1.0) (3.2.0)\n",
            "Requirement already satisfied: setuptools in /usr/local/lib/python3.6/dist-packages (from protobuf>=3.8.0->tensorflow==2.1.0) (46.1.3)\n",
            "Requirement already satisfied: h5py in /usr/local/lib/python3.6/dist-packages (from keras-applications>=1.0.8->tensorflow==2.1.0) (2.10.0)\n",
            "Requirement already satisfied: werkzeug>=0.11.15 in /usr/local/lib/python3.6/dist-packages (from tensorboard<2.2.0,>=2.1.0->tensorflow==2.1.0) (1.0.1)\n",
            "Requirement already satisfied: google-auth-oauthlib<0.5,>=0.4.1 in /usr/local/lib/python3.6/dist-packages (from tensorboard<2.2.0,>=2.1.0->tensorflow==2.1.0) (0.4.1)\n",
            "Requirement already satisfied: google-auth<2,>=1.6.3 in /usr/local/lib/python3.6/dist-packages (from tensorboard<2.2.0,>=2.1.0->tensorflow==2.1.0) (1.7.2)\n",
            "Requirement already satisfied: markdown>=2.6.8 in /usr/local/lib/python3.6/dist-packages (from tensorboard<2.2.0,>=2.1.0->tensorflow==2.1.0) (3.2.1)\n",
            "Requirement already satisfied: requests<3,>=2.21.0 in /usr/local/lib/python3.6/dist-packages (from tensorboard<2.2.0,>=2.1.0->tensorflow==2.1.0) (2.21.0)\n",
            "Requirement already satisfied: requests-oauthlib>=0.7.0 in /usr/local/lib/python3.6/dist-packages (from google-auth-oauthlib<0.5,>=0.4.1->tensorboard<2.2.0,>=2.1.0->tensorflow==2.1.0) (1.3.0)\n",
            "Requirement already satisfied: cachetools<3.2,>=2.0.0 in /usr/local/lib/python3.6/dist-packages (from google-auth<2,>=1.6.3->tensorboard<2.2.0,>=2.1.0->tensorflow==2.1.0) (3.1.1)\n",
            "Requirement already satisfied: rsa<4.1,>=3.1.4 in /usr/local/lib/python3.6/dist-packages (from google-auth<2,>=1.6.3->tensorboard<2.2.0,>=2.1.0->tensorflow==2.1.0) (4.0)\n",
            "Requirement already satisfied: pyasn1-modules>=0.2.1 in /usr/local/lib/python3.6/dist-packages (from google-auth<2,>=1.6.3->tensorboard<2.2.0,>=2.1.0->tensorflow==2.1.0) (0.2.8)\n",
            "Requirement already satisfied: chardet<3.1.0,>=3.0.2 in /usr/local/lib/python3.6/dist-packages (from requests<3,>=2.21.0->tensorboard<2.2.0,>=2.1.0->tensorflow==2.1.0) (3.0.4)\n",
            "Requirement already satisfied: idna<2.9,>=2.5 in /usr/local/lib/python3.6/dist-packages (from requests<3,>=2.21.0->tensorboard<2.2.0,>=2.1.0->tensorflow==2.1.0) (2.8)\n",
            "Requirement already satisfied: certifi>=2017.4.17 in /usr/local/lib/python3.6/dist-packages (from requests<3,>=2.21.0->tensorboard<2.2.0,>=2.1.0->tensorflow==2.1.0) (2020.4.5.1)\n",
            "Requirement already satisfied: urllib3<1.25,>=1.21.1 in /usr/local/lib/python3.6/dist-packages (from requests<3,>=2.21.0->tensorboard<2.2.0,>=2.1.0->tensorflow==2.1.0) (1.24.3)\n",
            "Requirement already satisfied: oauthlib>=3.0.0 in /usr/local/lib/python3.6/dist-packages (from requests-oauthlib>=0.7.0->google-auth-oauthlib<0.5,>=0.4.1->tensorboard<2.2.0,>=2.1.0->tensorflow==2.1.0) (3.1.0)\n",
            "Requirement already satisfied: pyasn1>=0.1.3 in /usr/local/lib/python3.6/dist-packages (from rsa<4.1,>=3.1.4->google-auth<2,>=1.6.3->tensorboard<2.2.0,>=2.1.0->tensorflow==2.1.0) (0.4.8)\n",
            "Building wheels for collected packages: gast\n",
            "  Building wheel for gast (setup.py) ... \u001b[?25l\u001b[?25hdone\n",
            "  Created wheel for gast: filename=gast-0.2.2-cp36-none-any.whl size=7540 sha256=484dc13f99d7aaadfd24bdba1303505929904eec5a94851ec7bd9d51df8506fc\n",
            "  Stored in directory: /root/.cache/pip/wheels/5c/2e/7e/a1d4d4fcebe6c381f378ce7743a3ced3699feb89bcfbdadadd\n",
            "Successfully built gast\n",
            "Installing collected packages: gast, tensorboard, tensorflow-estimator, tensorflow\n",
            "  Found existing installation: gast 0.3.3\n",
            "    Uninstalling gast-0.3.3:\n",
            "      Successfully uninstalled gast-0.3.3\n",
            "  Found existing installation: tensorboard 2.2.0\n",
            "    Uninstalling tensorboard-2.2.0:\n",
            "      Successfully uninstalled tensorboard-2.2.0\n",
            "  Found existing installation: tensorflow-estimator 2.2.0rc0\n",
            "    Uninstalling tensorflow-estimator-2.2.0rc0:\n",
            "      Successfully uninstalled tensorflow-estimator-2.2.0rc0\n",
            "  Found existing installation: tensorflow 2.2.0rc2\n",
            "    Uninstalling tensorflow-2.2.0rc2:\n",
            "      Successfully uninstalled tensorflow-2.2.0rc2\n",
            "Successfully installed gast-0.2.2 tensorboard-2.1.1 tensorflow-2.1.0 tensorflow-estimator-2.1.0\n"
          ],
          "name": "stdout"
        }
      ]
    },
    {
      "cell_type": "code",
      "metadata": {
        "id": "mW5CZmVOu5aA",
        "colab_type": "code",
        "outputId": "3ae765d2-d580-408a-e592-ed2a9b63f5b0",
        "colab": {
          "base_uri": "https://localhost:8080/",
          "height": 34
        }
      },
      "source": [
        "import tensorflow as tf\n",
        "print(tf.__version__)"
      ],
      "execution_count": 0,
      "outputs": [
        {
          "output_type": "stream",
          "text": [
            "2.1.0\n"
          ],
          "name": "stdout"
        }
      ]
    },
    {
      "cell_type": "code",
      "metadata": {
        "id": "IStBM9Niu61G",
        "colab_type": "code",
        "colab": {}
      },
      "source": [
        "# Imports\n",
        "\n",
        "import json\n",
        "import pandas as pd\n",
        "import numpy as np\n",
        "import os\n",
        "import sys\n",
        "import tensorflow as tf\n",
        "import tensorflow_hub as hub\n",
        "from time import time\n",
        "import io\n",
        "import re\n",
        "from csv import reader\n",
        "from datetime import datetime\n",
        "import matplotlib.pyplot as plt\n",
        "\n",
        "import matplotlib.pyplot as plt\n",
        "from matplotlib import colors\n",
        "from matplotlib.ticker import PercentFormatter\n",
        "\n",
        "from tensorflow.keras import backend as K\n",
        "from tensorflow.keras import layers\n",
        "from tensorflow.python.keras.layers import Lambda\n",
        "from tensorflow.keras.callbacks import TensorBoard\n",
        "from tensorflow.keras.backend import sparse_categorical_crossentropy\n",
        "from tensorflow.keras.layers import Dense, TimeDistributed\n",
        "\n",
        "from sklearn.model_selection import train_test_split\n",
        "from sklearn.preprocessing import MultiLabelBinarizer\n",
        "from sklearn.model_selection import train_test_split"
      ],
      "execution_count": 0,
      "outputs": []
    },
    {
      "cell_type": "code",
      "metadata": {
        "id": "hLyTySuDu7v8",
        "colab_type": "code",
        "outputId": "2b2bece9-dd38-4979-e8ba-4b997f9835f3",
        "colab": {
          "base_uri": "https://localhost:8080/",
          "height": 122
        }
      },
      "source": [
        "from google.colab import drive\n",
        "drive.mount('/content/drive', force_remount=True)"
      ],
      "execution_count": 0,
      "outputs": [
        {
          "output_type": "stream",
          "text": [
            "Go to this URL in a browser: https://accounts.google.com/o/oauth2/auth?client_id=947318989803-6bn6qk8qdgf4n4g3pfee6491hc0brc4i.apps.googleusercontent.com&redirect_uri=urn%3aietf%3awg%3aoauth%3a2.0%3aoob&response_type=code&scope=email%20https%3a%2f%2fwww.googleapis.com%2fauth%2fdocs.test%20https%3a%2f%2fwww.googleapis.com%2fauth%2fdrive%20https%3a%2f%2fwww.googleapis.com%2fauth%2fdrive.photos.readonly%20https%3a%2f%2fwww.googleapis.com%2fauth%2fpeopleapi.readonly\n",
            "\n",
            "Enter your authorization code:\n",
            "··········\n",
            "Mounted at /content/drive\n"
          ],
          "name": "stdout"
        }
      ]
    },
    {
      "cell_type": "code",
      "metadata": {
        "id": "XihxMyhOTXm8",
        "colab_type": "code",
        "colab": {}
      },
      "source": [
        "def calculate_weighted_f1(df):\n",
        "    weighted_f1 = (df.freq * df.f1score).sum()/df.freq.sum()\n",
        "    df.loc[:,\"wted_f1score\"] = df.freq * df.f1score\n",
        "    return(weighted_f1, df)"
      ],
      "execution_count": 0,
      "outputs": []
    },
    {
      "cell_type": "code",
      "metadata": {
        "id": "yAgcpzB6US3K",
        "colab_type": "code",
        "colab": {}
      },
      "source": [
        "def calculate_weighted_f1_baseline(df):\n",
        "    df.loc[:,\"pred_class\"] = (df.freq > 0.5).astype(int)\n",
        "    df.loc[:,\"tp\"] = df.freq*df.pred_class\n",
        "    df.loc[:,\"fn\"] = (1.0-df.freq)*df.pred_class\n",
        "    df.loc[:,\"fp\"] = df.freq*(1-df.pred_class)\n",
        "    df.loc[:,'macro_f1'] = (2*df.tp) / (2*df.tp + df.fp + df.fn)\n",
        "    weighted_f1 = (df.freq * df.macro_f1).sum()/df.freq.sum()\n",
        "    return(weighted_f1)"
      ],
      "execution_count": 0,
      "outputs": []
    },
    {
      "cell_type": "code",
      "metadata": {
        "id": "ZEYMFSzHU4vm",
        "colab_type": "code",
        "outputId": "243071b8-41d8-4d64-9ab5-03a4e979fead",
        "colab": {
          "base_uri": "https://localhost:8080/",
          "height": 34
        }
      },
      "source": [
        "# Run 1\n",
        "# Naive Classifier\n",
        "prefix = '/content/drive/My Drive/w266-FinalProject/MoviePlotsAndPosters/plots/baseline/baseline_seqlen_128_ADAM_EPOCHS_30_LR_0.0001_LOSS_macro_double_soft_f1'\n",
        "train_f1score_1 = pd.read_csv(prefix + '_train.f1score')\n",
        "dev_f1score_1 = pd.read_csv(prefix + '_dev.f1score')\n",
        "val_f1score_1 = pd.read_csv(prefix + '_val.f1score')\n",
        "train_wted_f1 = calculate_weighted_f1_baseline(train_f1score_1)\n",
        "dev_wted_f1 = calculate_weighted_f1_baseline(dev_f1score_1)\n",
        "val_wted_f1 = calculate_weighted_f1_baseline(val_f1score_1)\n",
        "\n",
        "print(train_wted_f1, dev_wted_f1, val_wted_f1)"
      ],
      "execution_count": 0,
      "outputs": [
        {
          "output_type": "stream",
          "text": [
            "0.0 0.20435737206552948 0.20940170940170938\n"
          ],
          "name": "stdout"
        }
      ]
    },
    {
      "cell_type": "code",
      "metadata": {
        "id": "BphUkH7AmEv1",
        "colab_type": "code",
        "outputId": "5fa66b55-edc1-4424-f625-0ce1e9f822c4",
        "colab": {
          "base_uri": "https://localhost:8080/",
          "height": 376
        }
      },
      "source": [
        "# Run 2\n",
        "# Combined + Oversampled + Finetuning\n",
        "prefix = '/content/drive/My Drive/w266-FinalProject/MoviePlotsAndPosters/plots/baseline/baseline_seqlen_128_ADAM_EPOCHS_30_LR_0.0001_LOSS_macro_double_soft_f1'\n",
        "train_f1score_2 = pd.read_csv(prefix + '_train.f1score')\n",
        "dev_f1score_2 = pd.read_csv(prefix + '_dev.f1score')\n",
        "val_f1score_2 = pd.read_csv(prefix + '_val.f1score')\n",
        "\n",
        "train_wted_f1, train_f1score_2 = calculate_weighted_f1(train_f1score_2)\n",
        "dev_wted_f1, dev_f1score_2= calculate_weighted_f1(dev_f1score_2)\n",
        "val_wted_f1, val_f1score_2 = calculate_weighted_f1(val_f1score_2)\n",
        "\n",
        "print(train_wted_f1, dev_wted_f1, val_wted_f1)\n",
        "\n",
        "val_f1score_2[['label','wted_f1score']].sort_values(by='wted_f1score',ascending=False).head(10)"
      ],
      "execution_count": 0,
      "outputs": [
        {
          "output_type": "stream",
          "text": [
            "0.5539353770036566 0.4526655841560904 0.4529936486652542\n"
          ],
          "name": "stdout"
        },
        {
          "output_type": "execute_result",
          "data": {
            "text/html": [
              "<div>\n",
              "<style scoped>\n",
              "    .dataframe tbody tr th:only-of-type {\n",
              "        vertical-align: middle;\n",
              "    }\n",
              "\n",
              "    .dataframe tbody tr th {\n",
              "        vertical-align: top;\n",
              "    }\n",
              "\n",
              "    .dataframe thead th {\n",
              "        text-align: right;\n",
              "    }\n",
              "</style>\n",
              "<table border=\"1\" class=\"dataframe\">\n",
              "  <thead>\n",
              "    <tr style=\"text-align: right;\">\n",
              "      <th></th>\n",
              "      <th>label</th>\n",
              "      <th>wted_f1score</th>\n",
              "    </tr>\n",
              "  </thead>\n",
              "  <tbody>\n",
              "    <tr>\n",
              "      <th>0</th>\n",
              "      <td>Drama</td>\n",
              "      <td>0.389391</td>\n",
              "    </tr>\n",
              "    <tr>\n",
              "      <th>1</th>\n",
              "      <td>Comedy</td>\n",
              "      <td>0.162499</td>\n",
              "    </tr>\n",
              "    <tr>\n",
              "      <th>2</th>\n",
              "      <td>Romance</td>\n",
              "      <td>0.081328</td>\n",
              "    </tr>\n",
              "    <tr>\n",
              "      <th>4</th>\n",
              "      <td>Thriller</td>\n",
              "      <td>0.065912</td>\n",
              "    </tr>\n",
              "    <tr>\n",
              "      <th>6</th>\n",
              "      <td>Action</td>\n",
              "      <td>0.044921</td>\n",
              "    </tr>\n",
              "    <tr>\n",
              "      <th>5</th>\n",
              "      <td>Horror</td>\n",
              "      <td>0.040278</td>\n",
              "    </tr>\n",
              "    <tr>\n",
              "      <th>7</th>\n",
              "      <td>Crime</td>\n",
              "      <td>0.032258</td>\n",
              "    </tr>\n",
              "    <tr>\n",
              "      <th>3</th>\n",
              "      <td>Sci-Fi</td>\n",
              "      <td>0.022312</td>\n",
              "    </tr>\n",
              "    <tr>\n",
              "      <th>8</th>\n",
              "      <td>Adventure</td>\n",
              "      <td>0.017034</td>\n",
              "    </tr>\n",
              "    <tr>\n",
              "      <th>9</th>\n",
              "      <td>Mystery</td>\n",
              "      <td>0.013817</td>\n",
              "    </tr>\n",
              "  </tbody>\n",
              "</table>\n",
              "</div>"
            ],
            "text/plain": [
              "       label  wted_f1score\n",
              "0      Drama      0.389391\n",
              "1     Comedy      0.162499\n",
              "2    Romance      0.081328\n",
              "4   Thriller      0.065912\n",
              "6     Action      0.044921\n",
              "5     Horror      0.040278\n",
              "7      Crime      0.032258\n",
              "3     Sci-Fi      0.022312\n",
              "8  Adventure      0.017034\n",
              "9    Mystery      0.013817"
            ]
          },
          "metadata": {
            "tags": []
          },
          "execution_count": 33
        }
      ]
    },
    {
      "cell_type": "code",
      "metadata": {
        "id": "v0Uq7q2IueW2",
        "colab_type": "code",
        "outputId": "1837f1ad-f2fe-4751-ae90-f8b8e2306f04",
        "colab": {
          "base_uri": "https://localhost:8080/",
          "height": 34
        }
      },
      "source": [
        "train_f1score_2.freq.values"
      ],
      "execution_count": 0,
      "outputs": [
        {
          "output_type": "execute_result",
          "data": {
            "text/plain": [
              "array([0.49, 0.14, 0.27, 0.2 , 0.19, 0.3 , 0.16, 0.15, 0.24, 0.16])"
            ]
          },
          "metadata": {
            "tags": []
          },
          "execution_count": 15
        }
      ]
    },
    {
      "cell_type": "code",
      "metadata": {
        "id": "tlamvoSRwzTt",
        "colab_type": "code",
        "outputId": "a16a71e6-2b72-4582-c01a-025d8b7fbba5",
        "colab": {
          "base_uri": "https://localhost:8080/",
          "height": 34
        }
      },
      "source": [
        "train_f1score_1.freq.values"
      ],
      "execution_count": 0,
      "outputs": [
        {
          "output_type": "execute_result",
          "data": {
            "text/plain": [
              "array([0.49, 0.14, 0.27, 0.2 , 0.19, 0.3 , 0.16, 0.15, 0.24, 0.16])"
            ]
          },
          "metadata": {
            "tags": []
          },
          "execution_count": 17
        }
      ]
    },
    {
      "cell_type": "code",
      "metadata": {
        "id": "apRxkgqDu3yi",
        "colab_type": "code",
        "outputId": "bd5ce750-8f10-4af9-daa3-cd856cbf68f7",
        "colab": {
          "base_uri": "https://localhost:8080/",
          "height": 51
        }
      },
      "source": [
        "val_f1score_2.label.values"
      ],
      "execution_count": 0,
      "outputs": [
        {
          "output_type": "execute_result",
          "data": {
            "text/plain": [
              "array(['Drama', 'Comedy', 'Romance', 'Sci-Fi', 'Thriller', 'Horror',\n",
              "       'Action', 'Crime', 'Adventure', 'Mystery'], dtype=object)"
            ]
          },
          "metadata": {
            "tags": []
          },
          "execution_count": 16
        }
      ]
    },
    {
      "cell_type": "code",
      "metadata": {
        "colab_type": "code",
        "id": "NFuhVTN62AwJ",
        "outputId": "762ba8fb-7de2-4f25-e872-4038f75a0464",
        "colab": {
          "base_uri": "https://localhost:8080/",
          "height": 376
        }
      },
      "source": [
        "# Run 3\n",
        "# BERT+ Oversampled + Finetuning\n",
        "prefix = '/content/drive/My Drive/w266-FinalProject/MoviePlots/plots/baseline/baseline_seqlen_128_ADAM_EPOCHS_30_LR_0.0001_LOSS_macro_double_soft_f1'\n",
        "train_f1score_3 = pd.read_csv(prefix + '_train.f1score')\n",
        "dev_f1score_3 = pd.read_csv(prefix + '_dev.f1score')\n",
        "val_f1score_3 = pd.read_csv(prefix + '_val.f1score')\n",
        "train_wted_f1, train_f1score_3 = calculate_weighted_f1(train_f1score_3)\n",
        "dev_wted_f1, dev_f1score_3 = calculate_weighted_f1(dev_f1score_3)\n",
        "val_wted_f1, val_f1score_3 = calculate_weighted_f1(val_f1score_3)\n",
        "print(train_wted_f1, dev_wted_f1, val_wted_f1)\n",
        "val_f1score_3[['label','wted_f1score']].sort_values(by='wted_f1score',ascending=False).head(10)"
      ],
      "execution_count": 0,
      "outputs": [
        {
          "output_type": "stream",
          "text": [
            "0.46784244430132155 0.4259260054421544 0.4307227110822284\n"
          ],
          "name": "stdout"
        },
        {
          "output_type": "execute_result",
          "data": {
            "text/html": [
              "<div>\n",
              "<style scoped>\n",
              "    .dataframe tbody tr th:only-of-type {\n",
              "        vertical-align: middle;\n",
              "    }\n",
              "\n",
              "    .dataframe tbody tr th {\n",
              "        vertical-align: top;\n",
              "    }\n",
              "\n",
              "    .dataframe thead th {\n",
              "        text-align: right;\n",
              "    }\n",
              "</style>\n",
              "<table border=\"1\" class=\"dataframe\">\n",
              "  <thead>\n",
              "    <tr style=\"text-align: right;\">\n",
              "      <th></th>\n",
              "      <th>label</th>\n",
              "      <th>wted_f1score</th>\n",
              "    </tr>\n",
              "  </thead>\n",
              "  <tbody>\n",
              "    <tr>\n",
              "      <th>0</th>\n",
              "      <td>Drama</td>\n",
              "      <td>0.368838</td>\n",
              "    </tr>\n",
              "    <tr>\n",
              "      <th>1</th>\n",
              "      <td>Comedy</td>\n",
              "      <td>0.165856</td>\n",
              "    </tr>\n",
              "    <tr>\n",
              "      <th>2</th>\n",
              "      <td>Romance</td>\n",
              "      <td>0.078302</td>\n",
              "    </tr>\n",
              "    <tr>\n",
              "      <th>4</th>\n",
              "      <td>Thriller</td>\n",
              "      <td>0.058729</td>\n",
              "    </tr>\n",
              "    <tr>\n",
              "      <th>3</th>\n",
              "      <td>Horror</td>\n",
              "      <td>0.041568</td>\n",
              "    </tr>\n",
              "    <tr>\n",
              "      <th>6</th>\n",
              "      <td>Action</td>\n",
              "      <td>0.039479</td>\n",
              "    </tr>\n",
              "    <tr>\n",
              "      <th>9</th>\n",
              "      <td>Crime</td>\n",
              "      <td>0.022567</td>\n",
              "    </tr>\n",
              "    <tr>\n",
              "      <th>5</th>\n",
              "      <td>Sci-Fi</td>\n",
              "      <td>0.018035</td>\n",
              "    </tr>\n",
              "    <tr>\n",
              "      <th>8</th>\n",
              "      <td>Adventure</td>\n",
              "      <td>0.017400</td>\n",
              "    </tr>\n",
              "    <tr>\n",
              "      <th>7</th>\n",
              "      <td>Mystery</td>\n",
              "      <td>0.016214</td>\n",
              "    </tr>\n",
              "  </tbody>\n",
              "</table>\n",
              "</div>"
            ],
            "text/plain": [
              "       label  wted_f1score\n",
              "0      Drama      0.368838\n",
              "1     Comedy      0.165856\n",
              "2    Romance      0.078302\n",
              "4   Thriller      0.058729\n",
              "3     Horror      0.041568\n",
              "6     Action      0.039479\n",
              "9      Crime      0.022567\n",
              "5     Sci-Fi      0.018035\n",
              "8  Adventure      0.017400\n",
              "7    Mystery      0.016214"
            ]
          },
          "metadata": {
            "tags": []
          },
          "execution_count": 34
        }
      ]
    },
    {
      "cell_type": "code",
      "metadata": {
        "id": "4TzzUdD11QA5",
        "colab_type": "code",
        "outputId": "255a0578-0610-4975-ecc6-2c94cab3caf9",
        "colab": {
          "base_uri": "https://localhost:8080/",
          "height": 34
        }
      },
      "source": [
        "# Run 4\n",
        "# Poster ANN no oversampling\n",
        "prefix = '/content/drive/My Drive/w266-FinalProject/Posters/plots/baseline/baseline_ADAM_EPOCHS_100_LR_0.0001_LOSS_bce_NoOS'\n",
        "train_f1score_4 = pd.read_csv(prefix + '_train.f1score')\n",
        "dev_f1score_4 = pd.read_csv(prefix + '_dev.f1score')\n",
        "val_f1score_4 = pd.read_csv(prefix + '_val.f1score')\n",
        "\n",
        "train_wted_f1 = calculate_weighted_f1(train_f1score_4)\n",
        "dev_wted_f1 = calculate_weighted_f1(dev_f1score_4)\n",
        "val_wted_f1 = calculate_weighted_f1(val_f1score_4)\n",
        "print(train_wted_f1, dev_wted_f1, val_wted_f1)"
      ],
      "execution_count": 0,
      "outputs": [
        {
          "output_type": "stream",
          "text": [
            "0.23060256074159516 0.2313951532225459 0.2316597314058842\n"
          ],
          "name": "stdout"
        }
      ]
    },
    {
      "cell_type": "code",
      "metadata": {
        "id": "8UXSK-J1w4Gh",
        "colab_type": "code",
        "outputId": "26e08e84-200d-40e6-d916-425c11fe69f6",
        "colab": {
          "base_uri": "https://localhost:8080/",
          "height": 51
        }
      },
      "source": [
        "train_f1score_4.label.values"
      ],
      "execution_count": 0,
      "outputs": [
        {
          "output_type": "execute_result",
          "data": {
            "text/plain": [
              "array(['Drama', 'Comedy', 'Thriller', 'Romance', 'Horror', 'Crime',\n",
              "       'Adventure', 'Action', 'Mystery', 'Sci-Fi'], dtype=object)"
            ]
          },
          "metadata": {
            "tags": []
          },
          "execution_count": 19
        }
      ]
    },
    {
      "cell_type": "code",
      "metadata": {
        "id": "0NcqpmY0w_5B",
        "colab_type": "code",
        "outputId": "be7936e3-91eb-4d6a-ddb0-a25c151262f4",
        "colab": {
          "base_uri": "https://localhost:8080/",
          "height": 34
        }
      },
      "source": [
        "train_f1score_4.freq.values"
      ],
      "execution_count": 0,
      "outputs": [
        {
          "output_type": "execute_result",
          "data": {
            "text/plain": [
              "array([0.55, 0.34, 0.2 , 0.2 , 0.12, 0.13, 0.09, 0.15, 0.07, 0.06])"
            ]
          },
          "metadata": {
            "tags": []
          },
          "execution_count": 20
        }
      ]
    },
    {
      "cell_type": "code",
      "metadata": {
        "id": "kuU7xUeflSjH",
        "colab_type": "code",
        "outputId": "ea3c43bc-423d-481d-9ba0-2874b71377f0",
        "colab": {
          "base_uri": "https://localhost:8080/",
          "height": 376
        }
      },
      "source": [
        "# Run 5\n",
        "# Poster ANN with oversampling\n",
        "prefix = '/content/drive/My Drive/w266-FinalProject/Posters/plots/baseline/baseline_ADAM_EPOCHS_100_LR_0.0001_LOSS_bce'\n",
        "train_f1score_5 = pd.read_csv(prefix + '_train.f1score')\n",
        "dev_f1score_5 = pd.read_csv(prefix + '_dev.f1score')\n",
        "val_f1score_5 = pd.read_csv(prefix + '_val.f1score')\n",
        "\n",
        "train_wted_f1,train_f1score_5 = calculate_weighted_f1(train_f1score_5)\n",
        "dev_wted_f1,dev_f1score_5 = calculate_weighted_f1(dev_f1score_5)\n",
        "val_wted_f1,val_f1score_5 = calculate_weighted_f1(val_f1score_5)\n",
        "print(train_wted_f1, dev_wted_f1, val_wted_f1)\n",
        "val_f1score_5[['label','f1score','wted_f1score']].sort_values(by='wted_f1score',ascending=False).head(10)"
      ],
      "execution_count": 0,
      "outputs": [
        {
          "output_type": "stream",
          "text": [
            "0.2085472074233628 0.20799571403353825 0.21035966121561117\n"
          ],
          "name": "stdout"
        },
        {
          "output_type": "execute_result",
          "data": {
            "text/html": [
              "<div>\n",
              "<style scoped>\n",
              "    .dataframe tbody tr th:only-of-type {\n",
              "        vertical-align: middle;\n",
              "    }\n",
              "\n",
              "    .dataframe tbody tr th {\n",
              "        vertical-align: top;\n",
              "    }\n",
              "\n",
              "    .dataframe thead th {\n",
              "        text-align: right;\n",
              "    }\n",
              "</style>\n",
              "<table border=\"1\" class=\"dataframe\">\n",
              "  <thead>\n",
              "    <tr style=\"text-align: right;\">\n",
              "      <th></th>\n",
              "      <th>label</th>\n",
              "      <th>f1score</th>\n",
              "      <th>wted_f1score</th>\n",
              "    </tr>\n",
              "  </thead>\n",
              "  <tbody>\n",
              "    <tr>\n",
              "      <th>0</th>\n",
              "      <td>Drama</td>\n",
              "      <td>0.507269</td>\n",
              "      <td>0.284071</td>\n",
              "    </tr>\n",
              "    <tr>\n",
              "      <th>2</th>\n",
              "      <td>Comedy</td>\n",
              "      <td>0.145086</td>\n",
              "      <td>0.049329</td>\n",
              "    </tr>\n",
              "    <tr>\n",
              "      <th>1</th>\n",
              "      <td>Thriller</td>\n",
              "      <td>0.145852</td>\n",
              "      <td>0.027712</td>\n",
              "    </tr>\n",
              "    <tr>\n",
              "      <th>3</th>\n",
              "      <td>Action</td>\n",
              "      <td>0.080914</td>\n",
              "      <td>0.012137</td>\n",
              "    </tr>\n",
              "    <tr>\n",
              "      <th>4</th>\n",
              "      <td>Romance</td>\n",
              "      <td>0.055814</td>\n",
              "      <td>0.011163</td>\n",
              "    </tr>\n",
              "    <tr>\n",
              "      <th>5</th>\n",
              "      <td>Horror</td>\n",
              "      <td>0.054916</td>\n",
              "      <td>0.006590</td>\n",
              "    </tr>\n",
              "    <tr>\n",
              "      <th>6</th>\n",
              "      <td>Crime</td>\n",
              "      <td>0.039844</td>\n",
              "      <td>0.005180</td>\n",
              "    </tr>\n",
              "    <tr>\n",
              "      <th>7</th>\n",
              "      <td>Adventure</td>\n",
              "      <td>0.033987</td>\n",
              "      <td>0.003059</td>\n",
              "    </tr>\n",
              "    <tr>\n",
              "      <th>8</th>\n",
              "      <td>Mystery</td>\n",
              "      <td>0.025373</td>\n",
              "      <td>0.001776</td>\n",
              "    </tr>\n",
              "    <tr>\n",
              "      <th>9</th>\n",
              "      <td>Sci-Fi</td>\n",
              "      <td>0.012844</td>\n",
              "      <td>0.000771</td>\n",
              "    </tr>\n",
              "  </tbody>\n",
              "</table>\n",
              "</div>"
            ],
            "text/plain": [
              "       label   f1score  wted_f1score\n",
              "0      Drama  0.507269      0.284071\n",
              "2     Comedy  0.145086      0.049329\n",
              "1   Thriller  0.145852      0.027712\n",
              "3     Action  0.080914      0.012137\n",
              "4    Romance  0.055814      0.011163\n",
              "5     Horror  0.054916      0.006590\n",
              "6      Crime  0.039844      0.005180\n",
              "7  Adventure  0.033987      0.003059\n",
              "8    Mystery  0.025373      0.001776\n",
              "9     Sci-Fi  0.012844      0.000771"
            ]
          },
          "metadata": {
            "tags": []
          },
          "execution_count": 36
        }
      ]
    },
    {
      "cell_type": "code",
      "metadata": {
        "id": "KFrVIRgvx1fb",
        "colab_type": "code",
        "outputId": "4c61eaf6-60e4-4180-9fd7-cb14de017224",
        "colab": {
          "base_uri": "https://localhost:8080/",
          "height": 204
        }
      },
      "source": [
        "val_f1score_5.head()"
      ],
      "execution_count": 0,
      "outputs": [
        {
          "output_type": "execute_result",
          "data": {
            "text/html": [
              "<div>\n",
              "<style scoped>\n",
              "    .dataframe tbody tr th:only-of-type {\n",
              "        vertical-align: middle;\n",
              "    }\n",
              "\n",
              "    .dataframe tbody tr th {\n",
              "        vertical-align: top;\n",
              "    }\n",
              "\n",
              "    .dataframe thead th {\n",
              "        text-align: right;\n",
              "    }\n",
              "</style>\n",
              "<table border=\"1\" class=\"dataframe\">\n",
              "  <thead>\n",
              "    <tr style=\"text-align: right;\">\n",
              "      <th></th>\n",
              "      <th>Unnamed: 0</th>\n",
              "      <th>id</th>\n",
              "      <th>label</th>\n",
              "      <th>threshold</th>\n",
              "      <th>freq</th>\n",
              "      <th>precision</th>\n",
              "      <th>recall</th>\n",
              "      <th>f1score</th>\n",
              "      <th>wted_f1score</th>\n",
              "    </tr>\n",
              "  </thead>\n",
              "  <tbody>\n",
              "    <tr>\n",
              "      <th>0</th>\n",
              "      <td>0</td>\n",
              "      <td>0</td>\n",
              "      <td>Drama</td>\n",
              "      <td>0.5</td>\n",
              "      <td>0.56</td>\n",
              "      <td>0.563799</td>\n",
              "      <td>0.461042</td>\n",
              "      <td>0.507269</td>\n",
              "      <td>0.284071</td>\n",
              "    </tr>\n",
              "    <tr>\n",
              "      <th>1</th>\n",
              "      <td>1</td>\n",
              "      <td>1</td>\n",
              "      <td>Thriller</td>\n",
              "      <td>0.5</td>\n",
              "      <td>0.19</td>\n",
              "      <td>0.196319</td>\n",
              "      <td>0.116026</td>\n",
              "      <td>0.145852</td>\n",
              "      <td>0.027712</td>\n",
              "    </tr>\n",
              "    <tr>\n",
              "      <th>2</th>\n",
              "      <td>2</td>\n",
              "      <td>2</td>\n",
              "      <td>Comedy</td>\n",
              "      <td>0.5</td>\n",
              "      <td>0.34</td>\n",
              "      <td>0.340377</td>\n",
              "      <td>0.092191</td>\n",
              "      <td>0.145086</td>\n",
              "      <td>0.049329</td>\n",
              "    </tr>\n",
              "    <tr>\n",
              "      <th>3</th>\n",
              "      <td>3</td>\n",
              "      <td>3</td>\n",
              "      <td>Action</td>\n",
              "      <td>0.5</td>\n",
              "      <td>0.15</td>\n",
              "      <td>0.141069</td>\n",
              "      <td>0.056725</td>\n",
              "      <td>0.080914</td>\n",
              "      <td>0.012137</td>\n",
              "    </tr>\n",
              "    <tr>\n",
              "      <th>4</th>\n",
              "      <td>4</td>\n",
              "      <td>6</td>\n",
              "      <td>Romance</td>\n",
              "      <td>0.5</td>\n",
              "      <td>0.20</td>\n",
              "      <td>0.217918</td>\n",
              "      <td>0.032006</td>\n",
              "      <td>0.055814</td>\n",
              "      <td>0.011163</td>\n",
              "    </tr>\n",
              "  </tbody>\n",
              "</table>\n",
              "</div>"
            ],
            "text/plain": [
              "   Unnamed: 0  id     label  ...    recall   f1score  wted_f1score\n",
              "0           0   0     Drama  ...  0.461042  0.507269      0.284071\n",
              "1           1   1  Thriller  ...  0.116026  0.145852      0.027712\n",
              "2           2   2    Comedy  ...  0.092191  0.145086      0.049329\n",
              "3           3   3    Action  ...  0.056725  0.080914      0.012137\n",
              "4           4   6   Romance  ...  0.032006  0.055814      0.011163\n",
              "\n",
              "[5 rows x 9 columns]"
            ]
          },
          "metadata": {
            "tags": []
          },
          "execution_count": 37
        }
      ]
    },
    {
      "cell_type": "code",
      "metadata": {
        "id": "zANdaaPVrARn",
        "colab_type": "code",
        "outputId": "413f74ac-9ea2-413b-cf61-fe79a7add4b8",
        "colab": {
          "base_uri": "https://localhost:8080/",
          "height": 34
        }
      },
      "source": [
        "# Run 6\n",
        "# BERT with oversampling and no finetuning\n",
        "prefix = '/content/drive/My Drive/w266-FinalProject/MoviePlots/plots/baseline/baseline_seqlen_128_ADAM_EPOCHS_100_LR_0.0001_LOSS_macro_double_soft_f1_NoFT'\n",
        "train_f1score_6 = pd.read_csv(prefix + '_train.f1score')\n",
        "dev_f1score_6 = pd.read_csv(prefix + '_dev.f1score')\n",
        "val_f1score_6 = pd.read_csv(prefix + '_val.f1score')\n",
        "\n",
        "train_wted_f1 = calculate_weighted_f1(train_f1score_6)\n",
        "dev_wted_f1 = calculate_weighted_f1(dev_f1score_6)\n",
        "val_wted_f1 = calculate_weighted_f1(val_f1score_6)\n",
        "print(train_wted_f1, dev_wted_f1, val_wted_f1)"
      ],
      "execution_count": 0,
      "outputs": [
        {
          "output_type": "stream",
          "text": [
            "0.18409197887872247 0.2098706154739147 0.21355614998991074\n"
          ],
          "name": "stdout"
        }
      ]
    },
    {
      "cell_type": "code",
      "metadata": {
        "id": "4-g8WN1ouVVF",
        "colab_type": "code",
        "outputId": "e55948d5-41d4-45a2-d6db-816b620774bc",
        "colab": {
          "base_uri": "https://localhost:8080/",
          "height": 34
        }
      },
      "source": [
        "\n",
        "# Run 7\n",
        "# Combined with no oversampling and BERT finetuning\n",
        "prefix = '/content/drive/My Drive/w266-FinalProject/MoviePlotsAndPosters/plots/baseline/baseline_seqlen_128_ADAM_EPOCHS_30_LR_0.0001_LOSS_macro_double_soft_f1_NoOS'\n",
        "train_f1score_7 = pd.read_csv(prefix + '_train.f1score')\n",
        "dev_f1score_7 = pd.read_csv(prefix + '_dev.f1score')\n",
        "val_f1score_7 = pd.read_csv(prefix + '_val.f1score')\n",
        "\n",
        "train_wted_f1 = calculate_weighted_f1(train_f1score_7)\n",
        "dev_wted_f1 = calculate_weighted_f1(dev_f1score_7)\n",
        "val_wted_f1 = calculate_weighted_f1(val_f1score_7)\n",
        "print(train_wted_f1, dev_wted_f1, val_wted_f1)"
      ],
      "execution_count": 0,
      "outputs": [
        {
          "output_type": "stream",
          "text": [
            "0.5300468833499054 0.4296415716992816 0.42926926992652464\n"
          ],
          "name": "stdout"
        }
      ]
    },
    {
      "cell_type": "code",
      "metadata": {
        "id": "WJthAEABwFHn",
        "colab_type": "code",
        "outputId": "b76a9588-e761-4d9d-98b9-1a83209ca2f4",
        "colab": {
          "base_uri": "https://localhost:8080/",
          "height": 34
        }
      },
      "source": [
        "# Run 8\n",
        "# BERT no finetuning and no oversampling\n",
        "prefix = '/content/drive/My Drive/w266-FinalProject/MoviePlots/plots/baseline/baseline_seqlen_128_ADAM_EPOCHS_30_LR_0.0001_LOSS_macro_double_soft_f1_NoFT_NoOS'\n",
        "train_f1score_8 = pd.read_csv(prefix + '_train.f1score')\n",
        "dev_f1score_8 = pd.read_csv(prefix + '_dev.f1score')\n",
        "val_f1score_8 = pd.read_csv(prefix + '_val.f1score')\n",
        "\n",
        "train_wted_f1 = calculate_weighted_f1(train_f1score_8)\n",
        "dev_wted_f1 = calculate_weighted_f1(dev_f1score_8)\n",
        "val_wted_f1 = calculate_weighted_f1(val_f1score_8)\n",
        "print(train_wted_f1, dev_wted_f1, val_wted_f1)"
      ],
      "execution_count": 0,
      "outputs": [
        {
          "output_type": "stream",
          "text": [
            "0.19098719348068774 0.1895220709899126 0.19213854562570126\n"
          ],
          "name": "stdout"
        }
      ]
    },
    {
      "cell_type": "code",
      "metadata": {
        "id": "Z7S1ob4fwyg9",
        "colab_type": "code",
        "outputId": "e4bca839-c875-4a45-e8bf-b70a181bcf1c",
        "colab": {
          "base_uri": "https://localhost:8080/",
          "height": 34
        }
      },
      "source": [
        "# Run 9\n",
        "# BERT with finetuning and no oversampling\n",
        "prefix = '/content/drive/My Drive/w266-FinalProject/MoviePlots/plots/baseline/baseline_seqlen_128_ADAM_EPOCHS_30_LR_0.0001_LOSS_macro_double_soft_f1_NoOS'\n",
        "train_f1score_9 = pd.read_csv(prefix + '_train.f1score')\n",
        "dev_f1score_9 = pd.read_csv(prefix + '_dev.f1score')\n",
        "val_f1score_9 = pd.read_csv(prefix + '_val.f1score')\n",
        "\n",
        "train_wted_f1 = calculate_weighted_f1(train_f1score_9)\n",
        "dev_wted_f1 = calculate_weighted_f1(dev_f1score_9)\n",
        "val_wted_f1 = calculate_weighted_f1(val_f1score_9)\n",
        "print(train_wted_f1, dev_wted_f1, val_wted_f1)"
      ],
      "execution_count": 0,
      "outputs": [
        {
          "output_type": "stream",
          "text": [
            "0.48973970860607624 0.4296917325651946 0.43337373536383805\n"
          ],
          "name": "stdout"
        }
      ]
    }
  ]
}