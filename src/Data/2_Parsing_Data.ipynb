{
  "nbformat": 4,
  "nbformat_minor": 0,
  "metadata": {
    "kernelspec": {
      "name": "python3",
      "display_name": "Python 3"
    },
    "language_info": {
      "codemirror_mode": {
        "name": "ipython",
        "version": 3
      },
      "file_extension": ".py",
      "mimetype": "text/x-python",
      "name": "python",
      "nbconvert_exporter": "python",
      "pygments_lexer": "ipython3",
      "version": "3.7.5"
    },
    "colab": {
      "name": "2. Parsing Data",
      "provenance": [],
      "collapsed_sections": [],
      "machine_shape": "hm"
    },
    "accelerator": "TPU"
  },
  "cells": [
    {
      "cell_type": "markdown",
      "metadata": {
        "id": "TLOGlU5WG8hE",
        "colab_type": "text"
      },
      "source": [
        "# Parsing Data\n",
        "\n",
        "In this notebook, we take our dataset that we sourced by extracting the movie ID’s from the IMDB dataset. We then used that to parse information related to a movie including it’s title, year, language, genres and the associated poster. From that data, we clean the dataset in this notebook and save it in relevant files in order to access them later."
      ]
    },
    {
      "cell_type": "code",
      "metadata": {
        "id": "7fj6qsyA4LcT",
        "colab_type": "code",
        "colab": {}
      },
      "source": [
        "# Imports\n",
        "\n",
        "import json\n",
        "import pandas as pd\n",
        "import numpy as np\n",
        "import os\n",
        "import sys\n",
        "import tensorflow as tf\n",
        "import tensorflow_hub as hub\n",
        "from time import time\n",
        "import io\n",
        "import re\n",
        "from csv import reader\n",
        "from datetime import datetime\n",
        "import matplotlib.pyplot as plt\n",
        "\n",
        "import matplotlib.pyplot as plt\n",
        "from matplotlib import colors\n",
        "from matplotlib.ticker import PercentFormatter\n",
        "\n",
        "from tensorflow.keras import backend as K\n",
        "from tensorflow.keras import layers\n",
        "from tensorflow.python.keras.layers import Lambda\n",
        "from tensorflow.keras.callbacks import TensorBoard\n",
        "from tensorflow.keras.backend import sparse_categorical_crossentropy\n",
        "from tensorflow.keras.layers import Dense, TimeDistributed\n",
        "\n",
        "from sklearn.model_selection import train_test_split\n",
        "from sklearn.preprocessing import MultiLabelBinarizer\n",
        "from sklearn.model_selection import train_test_split"
      ],
      "execution_count": 0,
      "outputs": []
    },
    {
      "cell_type": "code",
      "metadata": {
        "id": "7IXX1AjPakpU",
        "colab_type": "code",
        "outputId": "06e28cc3-977f-4b40-cdf2-979801476c7a",
        "colab": {
          "base_uri": "https://localhost:8080/",
          "height": 122
        }
      },
      "source": [
        "from google.colab import drive\n",
        "drive.mount('/content/drive', force_remount=True)"
      ],
      "execution_count": 0,
      "outputs": [
        {
          "output_type": "stream",
          "text": [
            "Go to this URL in a browser: https://accounts.google.com/o/oauth2/auth?client_id=947318989803-6bn6qk8qdgf4n4g3pfee6491hc0brc4i.apps.googleusercontent.com&redirect_uri=urn%3aietf%3awg%3aoauth%3a2.0%3aoob&response_type=code&scope=email%20https%3a%2f%2fwww.googleapis.com%2fauth%2fdocs.test%20https%3a%2f%2fwww.googleapis.com%2fauth%2fdrive%20https%3a%2f%2fwww.googleapis.com%2fauth%2fdrive.photos.readonly%20https%3a%2f%2fwww.googleapis.com%2fauth%2fpeopleapi.readonly\n",
            "\n",
            "Enter your authorization code:\n",
            "··········\n",
            "Mounted at /content/drive\n"
          ],
          "name": "stdout"
        }
      ]
    },
    {
      "cell_type": "code",
      "metadata": {
        "id": "5JaQ_4H64LY3",
        "colab_type": "code",
        "outputId": "040e1164-f31e-443c-f279-4a3ac2d9b46f",
        "colab": {
          "base_uri": "https://localhost:8080/",
          "height": 122
        }
      },
      "source": [
        "# Check if the data loaded properly\n",
        "!tail -5 '/content/drive/My Drive/w266-FinalProject/data/imdb_dataset.csv'"
      ],
      "execution_count": 0,
      "outputs": [
        {
          "output_type": "stream",
          "text": [
            "\"tt8404272\",\"How Long Will I Love U\",\"2018\",\"[Comedy, Fantasy, Romance]\",\"Mandarin\",\"https://w266-final-project.s3.amazonaws.com/thumbnails/tt8404272.jpg\",\"A woman from 2018 and a man from 1999 wake up in the same bed. They discover they can time travel using the bedroom door, and make changes to their eras, but that their destinies may not be in their own hands.\"\n",
            "\"tt9253188\",\"Kavacham\",\"2018\",\"[Action, Thriller]\",\"Telugu\",\"https://w266-final-project.s3.amazonaws.com/thumbnails/tt9253188.jpg\",\"A police officer from Vizag finds himself in a rut when false allegations are levied against him. He has 24 hours now to prove his innocence.\"\n",
            "\"tt8590896\",\"Geetha Govindam\",\"2018\",\"[Drama, Romance]\",\"Telugu\",\"https://w266-final-project.s3.amazonaws.com/thumbnails/tt8590896.jpg\",\"A charming young professor, Vijay Govind, has a dream of marrying a traditional woman. He sees Geetha in a temple and falls in love with her. He meets her again when he travels to his hometown in a bus. He impresses her at first with his nature but things go south when he accidentally kisses her while trying to take a selfie with her. She complains to her brother, Phaneendra, on phone and Govind runs out of bus. They meet again when his sister gets engaged to Phaneendra. Govind requests Geetha not to reveal about him while Phaneendra keeps searching for the guy who kissed her on the bus. The misunderstanding between the couple grows as they travel together for marriage shopping and invitations. As Geetha learns his true nature and falls for him, he starts to avoid her as she doesn't treat him well. Before Govind realizes his mistake, Geetha's marriage is fixed with someone else and he has to win her back before they get separated forever.\"\n",
            "\"tt8602654\",\"Sarkari. Hi. Pra. Shale Kasaragodu, Koduge: Ramanna Rai\",\"2018\",\"[Drama]\",\"Kannada\",\"https://w266-final-project.s3.amazonaws.com/thumbnails/tt8602654.jpg\",\"In Kasargodu, Kerala is a normal school until a big problem comes in its way.\"\n",
            "\"tt8202612\",\"Satyameva Jayate\",\"2018\",\"[Action, Thriller]\",\"Hindi\",\"https://w266-final-project.s3.amazonaws.com/thumbnails/tt8202612.jpg\",\"There are about 2 Lakh policemen in Mumbai. Tasked with the safety of this enormous city, a majority of them don't necessarily have the \"\"cleanest\"\" of vardis. When four such police inspectors are burnt alive in a series of merciless killings, the entire police force is rocked with terror. The media is looking for answers. The public is on the fence over these killings. These crimes reflect Vir as a person. Bold, Calculating, and Unapologetic. He's not scared of killing, or dying. It was clear that he had an agenda. A reason. A drive; behind these deaths and he was far from done. Fearing the next attack, the Commissioner calls upon their best bet to catch Vir. DCP Shivansh is what a proper policeman looks like. Strong, Courageous, Patriotic and most importantly, \"\"Clean.\"\" And of course, he's the best at what he does. What follows is a succession of events that will test his Probity to the fullest. He is up against Vir, who is a vigilante and will stop at nothing to complete his mission. This confrontation of epic proportions will take us through the corrupt underbelly of the Financial Capital. Vir and Shivansh are against the same enemy, but they are divided by a fine line. The Law. Shivansh is the \"\"good-guy\"\" protector of the law, whereas Vir wants to take matters into his own hands, disregarding the law. Were these meticulously planned murders just vengeance killings? Or was there order in this chaos? There's a lot at stake. Along with the lives of numerous policemen, the public's faith in the police's capability to keep them safe is also at stake. Will Vir be successful in concluding his twisted message? Or will Shivansh's Integrity and Ethicality become his biggest strength and Vir's biggest weakness?\"\n"
          ],
          "name": "stdout"
        }
      ]
    },
    {
      "cell_type": "code",
      "metadata": {
        "id": "-ZCRUmoAczIE",
        "colab_type": "code",
        "outputId": "aa8fd263-3102-46d2-edf8-d8995a0df4b2",
        "colab": {
          "base_uri": "https://localhost:8080/",
          "height": 204
        }
      },
      "source": [
        "# Convert csv file to pandas dataframe\n",
        "df = pd.read_csv('/content/drive/My Drive/w266-FinalProject/data/imdb_dataset.csv')\n",
        "df.head()"
      ],
      "execution_count": 0,
      "outputs": [
        {
          "output_type": "execute_result",
          "data": {
            "text/html": [
              "<div>\n",
              "<style scoped>\n",
              "    .dataframe tbody tr th:only-of-type {\n",
              "        vertical-align: middle;\n",
              "    }\n",
              "\n",
              "    .dataframe tbody tr th {\n",
              "        vertical-align: top;\n",
              "    }\n",
              "\n",
              "    .dataframe thead th {\n",
              "        text-align: right;\n",
              "    }\n",
              "</style>\n",
              "<table border=\"1\" class=\"dataframe\">\n",
              "  <thead>\n",
              "    <tr style=\"text-align: right;\">\n",
              "      <th></th>\n",
              "      <th>movieid</th>\n",
              "      <th>moviename</th>\n",
              "      <th>year</th>\n",
              "      <th>genre</th>\n",
              "      <th>language</th>\n",
              "      <th>thumbnail</th>\n",
              "      <th>movieplot</th>\n",
              "    </tr>\n",
              "  </thead>\n",
              "  <tbody>\n",
              "    <tr>\n",
              "      <th>0</th>\n",
              "      <td>tt0007610</td>\n",
              "      <td>'49-'17</td>\n",
              "      <td>1917</td>\n",
              "      <td>[Drama, Western]</td>\n",
              "      <td>English</td>\n",
              "      <td>https://w266-final-project.s3.amazonaws.com/th...</td>\n",
              "      <td>A judge who had taken part in the gold rush of...</td>\n",
              "    </tr>\n",
              "    <tr>\n",
              "      <th>1</th>\n",
              "      <td>tt0005078</td>\n",
              "      <td>The Cheat</td>\n",
              "      <td>1915</td>\n",
              "      <td>[Drama, Romance]</td>\n",
              "      <td>English</td>\n",
              "      <td>https://w266-final-project.s3.amazonaws.com/th...</td>\n",
              "      <td>Richard Hardy, a hardworking stockbroker, labo...</td>\n",
              "    </tr>\n",
              "    <tr>\n",
              "      <th>2</th>\n",
              "      <td>tt0007257</td>\n",
              "      <td>Reggie Mixes In</td>\n",
              "      <td>1916</td>\n",
              "      <td>[Action, Comedy, Drama]</td>\n",
              "      <td>English</td>\n",
              "      <td>https://w266-final-project.s3.amazonaws.com/th...</td>\n",
              "      <td>Reggie, a wealthy young man about town, is eag...</td>\n",
              "    </tr>\n",
              "    <tr>\n",
              "      <th>3</th>\n",
              "      <td>tt0008011</td>\n",
              "      <td>A Girl's Folly</td>\n",
              "      <td>1917</td>\n",
              "      <td>[Comedy]</td>\n",
              "      <td>NaN</td>\n",
              "      <td>https://w266-final-project.s3.amazonaws.com/th...</td>\n",
              "      <td>Living in the country with her widowed mother,...</td>\n",
              "    </tr>\n",
              "    <tr>\n",
              "      <th>4</th>\n",
              "      <td>tt0003772</td>\n",
              "      <td>Cinderella</td>\n",
              "      <td>1914</td>\n",
              "      <td>[Fantasy, Drama]</td>\n",
              "      <td>English</td>\n",
              "      <td>https://w266-final-project.s3.amazonaws.com/th...</td>\n",
              "      <td>Based on the fairy tale: Cinderella is mistrea...</td>\n",
              "    </tr>\n",
              "  </tbody>\n",
              "</table>\n",
              "</div>"
            ],
            "text/plain": [
              "     movieid  ...                                          movieplot\n",
              "0  tt0007610  ...  A judge who had taken part in the gold rush of...\n",
              "1  tt0005078  ...  Richard Hardy, a hardworking stockbroker, labo...\n",
              "2  tt0007257  ...  Reggie, a wealthy young man about town, is eag...\n",
              "3  tt0008011  ...  Living in the country with her widowed mother,...\n",
              "4  tt0003772  ...  Based on the fairy tale: Cinderella is mistrea...\n",
              "\n",
              "[5 rows x 7 columns]"
            ]
          },
          "metadata": {
            "tags": []
          },
          "execution_count": 4
        }
      ]
    },
    {
      "cell_type": "code",
      "metadata": {
        "id": "bwkeJvomf_qW",
        "colab_type": "code",
        "outputId": "c88bb0c9-dc1b-4cb2-86bc-4e3477eb1f0c",
        "colab": {
          "base_uri": "https://localhost:8080/",
          "height": 204
        }
      },
      "source": [
        "# Create a new column genre_list that is a list of strings for each movie\n",
        "def create_genre_list():\n",
        "  new_list = []\n",
        "  for res in df.genre:\n",
        "    result = [x.strip() for x in res.strip('][').split(', ')]\n",
        "    new_list.append(result)\n",
        "  return new_list\n",
        "\n",
        "new_list = create_genre_list()\n",
        "df.loc[:,'genre_list'] = new_list\n",
        "df.head()"
      ],
      "execution_count": 0,
      "outputs": [
        {
          "output_type": "execute_result",
          "data": {
            "text/html": [
              "<div>\n",
              "<style scoped>\n",
              "    .dataframe tbody tr th:only-of-type {\n",
              "        vertical-align: middle;\n",
              "    }\n",
              "\n",
              "    .dataframe tbody tr th {\n",
              "        vertical-align: top;\n",
              "    }\n",
              "\n",
              "    .dataframe thead th {\n",
              "        text-align: right;\n",
              "    }\n",
              "</style>\n",
              "<table border=\"1\" class=\"dataframe\">\n",
              "  <thead>\n",
              "    <tr style=\"text-align: right;\">\n",
              "      <th></th>\n",
              "      <th>movieid</th>\n",
              "      <th>moviename</th>\n",
              "      <th>year</th>\n",
              "      <th>genre</th>\n",
              "      <th>language</th>\n",
              "      <th>thumbnail</th>\n",
              "      <th>movieplot</th>\n",
              "      <th>genre_list</th>\n",
              "    </tr>\n",
              "  </thead>\n",
              "  <tbody>\n",
              "    <tr>\n",
              "      <th>0</th>\n",
              "      <td>tt0007610</td>\n",
              "      <td>'49-'17</td>\n",
              "      <td>1917</td>\n",
              "      <td>[Drama, Western]</td>\n",
              "      <td>English</td>\n",
              "      <td>https://w266-final-project.s3.amazonaws.com/th...</td>\n",
              "      <td>A judge who had taken part in the gold rush of...</td>\n",
              "      <td>[Drama, Western]</td>\n",
              "    </tr>\n",
              "    <tr>\n",
              "      <th>1</th>\n",
              "      <td>tt0005078</td>\n",
              "      <td>The Cheat</td>\n",
              "      <td>1915</td>\n",
              "      <td>[Drama, Romance]</td>\n",
              "      <td>English</td>\n",
              "      <td>https://w266-final-project.s3.amazonaws.com/th...</td>\n",
              "      <td>Richard Hardy, a hardworking stockbroker, labo...</td>\n",
              "      <td>[Drama, Romance]</td>\n",
              "    </tr>\n",
              "    <tr>\n",
              "      <th>2</th>\n",
              "      <td>tt0007257</td>\n",
              "      <td>Reggie Mixes In</td>\n",
              "      <td>1916</td>\n",
              "      <td>[Action, Comedy, Drama]</td>\n",
              "      <td>English</td>\n",
              "      <td>https://w266-final-project.s3.amazonaws.com/th...</td>\n",
              "      <td>Reggie, a wealthy young man about town, is eag...</td>\n",
              "      <td>[Action, Comedy, Drama]</td>\n",
              "    </tr>\n",
              "    <tr>\n",
              "      <th>3</th>\n",
              "      <td>tt0008011</td>\n",
              "      <td>A Girl's Folly</td>\n",
              "      <td>1917</td>\n",
              "      <td>[Comedy]</td>\n",
              "      <td>NaN</td>\n",
              "      <td>https://w266-final-project.s3.amazonaws.com/th...</td>\n",
              "      <td>Living in the country with her widowed mother,...</td>\n",
              "      <td>[Comedy]</td>\n",
              "    </tr>\n",
              "    <tr>\n",
              "      <th>4</th>\n",
              "      <td>tt0003772</td>\n",
              "      <td>Cinderella</td>\n",
              "      <td>1914</td>\n",
              "      <td>[Fantasy, Drama]</td>\n",
              "      <td>English</td>\n",
              "      <td>https://w266-final-project.s3.amazonaws.com/th...</td>\n",
              "      <td>Based on the fairy tale: Cinderella is mistrea...</td>\n",
              "      <td>[Fantasy, Drama]</td>\n",
              "    </tr>\n",
              "  </tbody>\n",
              "</table>\n",
              "</div>"
            ],
            "text/plain": [
              "     movieid  ...               genre_list\n",
              "0  tt0007610  ...         [Drama, Western]\n",
              "1  tt0005078  ...         [Drama, Romance]\n",
              "2  tt0007257  ...  [Action, Comedy, Drama]\n",
              "3  tt0008011  ...                 [Comedy]\n",
              "4  tt0003772  ...         [Fantasy, Drama]\n",
              "\n",
              "[5 rows x 8 columns]"
            ]
          },
          "metadata": {
            "tags": []
          },
          "execution_count": 5
        }
      ]
    },
    {
      "cell_type": "code",
      "metadata": {
        "id": "5fRjYPTFhX-g",
        "colab_type": "code",
        "outputId": "8e7dd2fb-8dde-4013-9247-e6e3eb53b0d6",
        "colab": {
          "base_uri": "https://localhost:8080/",
          "height": 204
        }
      },
      "source": [
        "# Remove rows that don't have any genre's associated\n",
        "df = df[~(df['genre_list'].str.len() == 0)]\n",
        "df = df.loc[~(df.genre == '[]'),:]\n",
        "\n",
        "df.head()"
      ],
      "execution_count": 0,
      "outputs": [
        {
          "output_type": "execute_result",
          "data": {
            "text/html": [
              "<div>\n",
              "<style scoped>\n",
              "    .dataframe tbody tr th:only-of-type {\n",
              "        vertical-align: middle;\n",
              "    }\n",
              "\n",
              "    .dataframe tbody tr th {\n",
              "        vertical-align: top;\n",
              "    }\n",
              "\n",
              "    .dataframe thead th {\n",
              "        text-align: right;\n",
              "    }\n",
              "</style>\n",
              "<table border=\"1\" class=\"dataframe\">\n",
              "  <thead>\n",
              "    <tr style=\"text-align: right;\">\n",
              "      <th></th>\n",
              "      <th>movieid</th>\n",
              "      <th>moviename</th>\n",
              "      <th>year</th>\n",
              "      <th>genre</th>\n",
              "      <th>language</th>\n",
              "      <th>thumbnail</th>\n",
              "      <th>movieplot</th>\n",
              "      <th>genre_list</th>\n",
              "    </tr>\n",
              "  </thead>\n",
              "  <tbody>\n",
              "    <tr>\n",
              "      <th>0</th>\n",
              "      <td>tt0007610</td>\n",
              "      <td>'49-'17</td>\n",
              "      <td>1917</td>\n",
              "      <td>[Drama, Western]</td>\n",
              "      <td>English</td>\n",
              "      <td>https://w266-final-project.s3.amazonaws.com/th...</td>\n",
              "      <td>A judge who had taken part in the gold rush of...</td>\n",
              "      <td>[Drama, Western]</td>\n",
              "    </tr>\n",
              "    <tr>\n",
              "      <th>1</th>\n",
              "      <td>tt0005078</td>\n",
              "      <td>The Cheat</td>\n",
              "      <td>1915</td>\n",
              "      <td>[Drama, Romance]</td>\n",
              "      <td>English</td>\n",
              "      <td>https://w266-final-project.s3.amazonaws.com/th...</td>\n",
              "      <td>Richard Hardy, a hardworking stockbroker, labo...</td>\n",
              "      <td>[Drama, Romance]</td>\n",
              "    </tr>\n",
              "    <tr>\n",
              "      <th>2</th>\n",
              "      <td>tt0007257</td>\n",
              "      <td>Reggie Mixes In</td>\n",
              "      <td>1916</td>\n",
              "      <td>[Action, Comedy, Drama]</td>\n",
              "      <td>English</td>\n",
              "      <td>https://w266-final-project.s3.amazonaws.com/th...</td>\n",
              "      <td>Reggie, a wealthy young man about town, is eag...</td>\n",
              "      <td>[Action, Comedy, Drama]</td>\n",
              "    </tr>\n",
              "    <tr>\n",
              "      <th>3</th>\n",
              "      <td>tt0008011</td>\n",
              "      <td>A Girl's Folly</td>\n",
              "      <td>1917</td>\n",
              "      <td>[Comedy]</td>\n",
              "      <td>NaN</td>\n",
              "      <td>https://w266-final-project.s3.amazonaws.com/th...</td>\n",
              "      <td>Living in the country with her widowed mother,...</td>\n",
              "      <td>[Comedy]</td>\n",
              "    </tr>\n",
              "    <tr>\n",
              "      <th>4</th>\n",
              "      <td>tt0003772</td>\n",
              "      <td>Cinderella</td>\n",
              "      <td>1914</td>\n",
              "      <td>[Fantasy, Drama]</td>\n",
              "      <td>English</td>\n",
              "      <td>https://w266-final-project.s3.amazonaws.com/th...</td>\n",
              "      <td>Based on the fairy tale: Cinderella is mistrea...</td>\n",
              "      <td>[Fantasy, Drama]</td>\n",
              "    </tr>\n",
              "  </tbody>\n",
              "</table>\n",
              "</div>"
            ],
            "text/plain": [
              "     movieid  ...               genre_list\n",
              "0  tt0007610  ...         [Drama, Western]\n",
              "1  tt0005078  ...         [Drama, Romance]\n",
              "2  tt0007257  ...  [Action, Comedy, Drama]\n",
              "3  tt0008011  ...                 [Comedy]\n",
              "4  tt0003772  ...         [Fantasy, Drama]\n",
              "\n",
              "[5 rows x 8 columns]"
            ]
          },
          "metadata": {
            "tags": []
          },
          "execution_count": 6
        }
      ]
    },
    {
      "cell_type": "code",
      "metadata": {
        "id": "EXpGPJi4Ldry",
        "colab_type": "code",
        "outputId": "ee7a68f8-db58-4b1b-8761-1f8b5e4fdc39",
        "colab": {
          "base_uri": "https://localhost:8080/",
          "height": 204
        }
      },
      "source": [
        "# Create a new column genre_list that is a list of strings for each movie\n",
        "def plot_length():\n",
        "  new_list = []\n",
        "  for res in df.movieplot:\n",
        "    new_list.append(len(res.split(\" \")))\n",
        "  return new_list\n",
        "\n",
        "plot_len_list = plot_length()\n",
        "df.loc[:,'plot_len'] = plot_len_list\n",
        "df.head()"
      ],
      "execution_count": 0,
      "outputs": [
        {
          "output_type": "execute_result",
          "data": {
            "text/html": [
              "<div>\n",
              "<style scoped>\n",
              "    .dataframe tbody tr th:only-of-type {\n",
              "        vertical-align: middle;\n",
              "    }\n",
              "\n",
              "    .dataframe tbody tr th {\n",
              "        vertical-align: top;\n",
              "    }\n",
              "\n",
              "    .dataframe thead th {\n",
              "        text-align: right;\n",
              "    }\n",
              "</style>\n",
              "<table border=\"1\" class=\"dataframe\">\n",
              "  <thead>\n",
              "    <tr style=\"text-align: right;\">\n",
              "      <th></th>\n",
              "      <th>movieid</th>\n",
              "      <th>moviename</th>\n",
              "      <th>year</th>\n",
              "      <th>genre</th>\n",
              "      <th>language</th>\n",
              "      <th>thumbnail</th>\n",
              "      <th>movieplot</th>\n",
              "      <th>genre_list</th>\n",
              "      <th>plot_len</th>\n",
              "    </tr>\n",
              "  </thead>\n",
              "  <tbody>\n",
              "    <tr>\n",
              "      <th>0</th>\n",
              "      <td>tt0007610</td>\n",
              "      <td>'49-'17</td>\n",
              "      <td>1917</td>\n",
              "      <td>[Drama, Western]</td>\n",
              "      <td>English</td>\n",
              "      <td>https://w266-final-project.s3.amazonaws.com/th...</td>\n",
              "      <td>A judge who had taken part in the gold rush of...</td>\n",
              "      <td>[Drama, Western]</td>\n",
              "      <td>47</td>\n",
              "    </tr>\n",
              "    <tr>\n",
              "      <th>1</th>\n",
              "      <td>tt0005078</td>\n",
              "      <td>The Cheat</td>\n",
              "      <td>1915</td>\n",
              "      <td>[Drama, Romance]</td>\n",
              "      <td>English</td>\n",
              "      <td>https://w266-final-project.s3.amazonaws.com/th...</td>\n",
              "      <td>Richard Hardy, a hardworking stockbroker, labo...</td>\n",
              "      <td>[Drama, Romance]</td>\n",
              "      <td>164</td>\n",
              "    </tr>\n",
              "    <tr>\n",
              "      <th>2</th>\n",
              "      <td>tt0007257</td>\n",
              "      <td>Reggie Mixes In</td>\n",
              "      <td>1916</td>\n",
              "      <td>[Action, Comedy, Drama]</td>\n",
              "      <td>English</td>\n",
              "      <td>https://w266-final-project.s3.amazonaws.com/th...</td>\n",
              "      <td>Reggie, a wealthy young man about town, is eag...</td>\n",
              "      <td>[Action, Comedy, Drama]</td>\n",
              "      <td>67</td>\n",
              "    </tr>\n",
              "    <tr>\n",
              "      <th>3</th>\n",
              "      <td>tt0008011</td>\n",
              "      <td>A Girl's Folly</td>\n",
              "      <td>1917</td>\n",
              "      <td>[Comedy]</td>\n",
              "      <td>NaN</td>\n",
              "      <td>https://w266-final-project.s3.amazonaws.com/th...</td>\n",
              "      <td>Living in the country with her widowed mother,...</td>\n",
              "      <td>[Comedy]</td>\n",
              "      <td>169</td>\n",
              "    </tr>\n",
              "    <tr>\n",
              "      <th>4</th>\n",
              "      <td>tt0003772</td>\n",
              "      <td>Cinderella</td>\n",
              "      <td>1914</td>\n",
              "      <td>[Fantasy, Drama]</td>\n",
              "      <td>English</td>\n",
              "      <td>https://w266-final-project.s3.amazonaws.com/th...</td>\n",
              "      <td>Based on the fairy tale: Cinderella is mistrea...</td>\n",
              "      <td>[Fantasy, Drama]</td>\n",
              "      <td>131</td>\n",
              "    </tr>\n",
              "  </tbody>\n",
              "</table>\n",
              "</div>"
            ],
            "text/plain": [
              "     movieid        moviename  ...               genre_list plot_len\n",
              "0  tt0007610          '49-'17  ...         [Drama, Western]       47\n",
              "1  tt0005078        The Cheat  ...         [Drama, Romance]      164\n",
              "2  tt0007257  Reggie Mixes In  ...  [Action, Comedy, Drama]       67\n",
              "3  tt0008011   A Girl's Folly  ...                 [Comedy]      169\n",
              "4  tt0003772       Cinderella  ...         [Fantasy, Drama]      131\n",
              "\n",
              "[5 rows x 9 columns]"
            ]
          },
          "metadata": {
            "tags": []
          },
          "execution_count": 7
        }
      ]
    },
    {
      "cell_type": "code",
      "metadata": {
        "id": "pX8ecE83Vnn6",
        "colab_type": "code",
        "colab": {}
      },
      "source": [
        "# Remove rows where the year column is missing\n",
        "df = df[~(df['year'] == '|')]\n",
        "df = df[~(df['year'] == 'original title')]\n",
        "df.year = df.year.astype(int)"
      ],
      "execution_count": 0,
      "outputs": []
    },
    {
      "cell_type": "code",
      "metadata": {
        "id": "oKX8aUz3UY2B",
        "colab_type": "code",
        "outputId": "044e408d-79f6-43ac-dd3f-f490f85c6c6d",
        "colab": {
          "base_uri": "https://localhost:8080/",
          "height": 34
        }
      },
      "source": [
        "plot_len_list.sort(reverse=True)\n",
        "np.quantile(plot_len_list, [0.01,0.25,0.5,0.75,0.999])"
      ],
      "execution_count": 0,
      "outputs": [
        {
          "output_type": "execute_result",
          "data": {
            "text/plain": [
              "array([ 11.   ,  39.   ,  70.   , 117.   , 545.731])"
            ]
          },
          "metadata": {
            "tags": []
          },
          "execution_count": 14
        }
      ]
    },
    {
      "cell_type": "code",
      "metadata": {
        "id": "CaqCLU0WL-5j",
        "colab_type": "code",
        "outputId": "18dbca3f-39f8-4c79-aa5c-f94d72f209aa",
        "colab": {
          "base_uri": "https://localhost:8080/",
          "height": 1000
        }
      },
      "source": [
        "import numpy as np\n",
        "import random\n",
        "from matplotlib import pyplot as plt\n",
        "\n",
        "plt.hist(plot_len_list, bins = 150)"
      ],
      "execution_count": 0,
      "outputs": [
        {
          "output_type": "execute_result",
          "data": {
            "text/plain": [
              "(array([1.1225e+04, 1.9470e+04, 1.3701e+04, 1.0976e+04, 9.3230e+03,\n",
              "        4.9600e+03, 3.1700e+03, 2.3100e+03, 1.5260e+03, 1.2530e+03,\n",
              "        9.5600e+02, 6.7000e+02, 5.5700e+02, 3.6700e+02, 2.9100e+02,\n",
              "        1.4500e+02, 9.8000e+01, 7.6000e+01, 5.3000e+01, 3.5000e+01,\n",
              "        1.7000e+01, 1.8000e+01, 1.6000e+01, 9.0000e+00, 7.0000e+00,\n",
              "        8.0000e+00, 5.0000e+00, 3.0000e+00, 4.0000e+00, 3.0000e+00,\n",
              "        2.0000e+00, 1.0000e+00, 0.0000e+00, 0.0000e+00, 2.0000e+00,\n",
              "        0.0000e+00, 2.0000e+00, 1.0000e+00, 2.0000e+00, 0.0000e+00,\n",
              "        2.0000e+00, 1.0000e+00, 0.0000e+00, 0.0000e+00, 0.0000e+00,\n",
              "        0.0000e+00, 0.0000e+00, 1.0000e+00, 0.0000e+00, 0.0000e+00,\n",
              "        1.0000e+00, 0.0000e+00, 0.0000e+00, 0.0000e+00, 0.0000e+00,\n",
              "        0.0000e+00, 0.0000e+00, 0.0000e+00, 0.0000e+00, 0.0000e+00,\n",
              "        0.0000e+00, 0.0000e+00, 0.0000e+00, 0.0000e+00, 0.0000e+00,\n",
              "        1.0000e+00, 1.0000e+00, 0.0000e+00, 0.0000e+00, 0.0000e+00,\n",
              "        0.0000e+00, 0.0000e+00, 0.0000e+00, 0.0000e+00, 0.0000e+00,\n",
              "        0.0000e+00, 0.0000e+00, 0.0000e+00, 0.0000e+00, 0.0000e+00,\n",
              "        0.0000e+00, 0.0000e+00, 0.0000e+00, 0.0000e+00, 0.0000e+00,\n",
              "        0.0000e+00, 0.0000e+00, 0.0000e+00, 0.0000e+00, 0.0000e+00,\n",
              "        0.0000e+00, 0.0000e+00, 0.0000e+00, 0.0000e+00, 0.0000e+00,\n",
              "        0.0000e+00, 0.0000e+00, 0.0000e+00, 0.0000e+00, 0.0000e+00,\n",
              "        0.0000e+00, 0.0000e+00, 0.0000e+00, 0.0000e+00, 0.0000e+00,\n",
              "        0.0000e+00, 0.0000e+00, 0.0000e+00, 0.0000e+00, 0.0000e+00,\n",
              "        0.0000e+00, 0.0000e+00, 0.0000e+00, 0.0000e+00, 0.0000e+00,\n",
              "        0.0000e+00, 0.0000e+00, 0.0000e+00, 0.0000e+00, 0.0000e+00,\n",
              "        0.0000e+00, 0.0000e+00, 0.0000e+00, 0.0000e+00, 0.0000e+00,\n",
              "        0.0000e+00, 0.0000e+00, 0.0000e+00, 0.0000e+00, 0.0000e+00,\n",
              "        0.0000e+00, 0.0000e+00, 0.0000e+00, 0.0000e+00, 0.0000e+00,\n",
              "        0.0000e+00, 0.0000e+00, 0.0000e+00, 0.0000e+00, 0.0000e+00,\n",
              "        0.0000e+00, 0.0000e+00, 0.0000e+00, 0.0000e+00, 0.0000e+00,\n",
              "        0.0000e+00, 0.0000e+00, 0.0000e+00, 0.0000e+00, 1.0000e+00]),\n",
              " array([1.00000000e+00, 2.64066667e+01, 5.18133333e+01, 7.72200000e+01,\n",
              "        1.02626667e+02, 1.28033333e+02, 1.53440000e+02, 1.78846667e+02,\n",
              "        2.04253333e+02, 2.29660000e+02, 2.55066667e+02, 2.80473333e+02,\n",
              "        3.05880000e+02, 3.31286667e+02, 3.56693333e+02, 3.82100000e+02,\n",
              "        4.07506667e+02, 4.32913333e+02, 4.58320000e+02, 4.83726667e+02,\n",
              "        5.09133333e+02, 5.34540000e+02, 5.59946667e+02, 5.85353333e+02,\n",
              "        6.10760000e+02, 6.36166667e+02, 6.61573333e+02, 6.86980000e+02,\n",
              "        7.12386667e+02, 7.37793333e+02, 7.63200000e+02, 7.88606667e+02,\n",
              "        8.14013333e+02, 8.39420000e+02, 8.64826667e+02, 8.90233333e+02,\n",
              "        9.15640000e+02, 9.41046667e+02, 9.66453333e+02, 9.91860000e+02,\n",
              "        1.01726667e+03, 1.04267333e+03, 1.06808000e+03, 1.09348667e+03,\n",
              "        1.11889333e+03, 1.14430000e+03, 1.16970667e+03, 1.19511333e+03,\n",
              "        1.22052000e+03, 1.24592667e+03, 1.27133333e+03, 1.29674000e+03,\n",
              "        1.32214667e+03, 1.34755333e+03, 1.37296000e+03, 1.39836667e+03,\n",
              "        1.42377333e+03, 1.44918000e+03, 1.47458667e+03, 1.49999333e+03,\n",
              "        1.52540000e+03, 1.55080667e+03, 1.57621333e+03, 1.60162000e+03,\n",
              "        1.62702667e+03, 1.65243333e+03, 1.67784000e+03, 1.70324667e+03,\n",
              "        1.72865333e+03, 1.75406000e+03, 1.77946667e+03, 1.80487333e+03,\n",
              "        1.83028000e+03, 1.85568667e+03, 1.88109333e+03, 1.90650000e+03,\n",
              "        1.93190667e+03, 1.95731333e+03, 1.98272000e+03, 2.00812667e+03,\n",
              "        2.03353333e+03, 2.05894000e+03, 2.08434667e+03, 2.10975333e+03,\n",
              "        2.13516000e+03, 2.16056667e+03, 2.18597333e+03, 2.21138000e+03,\n",
              "        2.23678667e+03, 2.26219333e+03, 2.28760000e+03, 2.31300667e+03,\n",
              "        2.33841333e+03, 2.36382000e+03, 2.38922667e+03, 2.41463333e+03,\n",
              "        2.44004000e+03, 2.46544667e+03, 2.49085333e+03, 2.51626000e+03,\n",
              "        2.54166667e+03, 2.56707333e+03, 2.59248000e+03, 2.61788667e+03,\n",
              "        2.64329333e+03, 2.66870000e+03, 2.69410667e+03, 2.71951333e+03,\n",
              "        2.74492000e+03, 2.77032667e+03, 2.79573333e+03, 2.82114000e+03,\n",
              "        2.84654667e+03, 2.87195333e+03, 2.89736000e+03, 2.92276667e+03,\n",
              "        2.94817333e+03, 2.97358000e+03, 2.99898667e+03, 3.02439333e+03,\n",
              "        3.04980000e+03, 3.07520667e+03, 3.10061333e+03, 3.12602000e+03,\n",
              "        3.15142667e+03, 3.17683333e+03, 3.20224000e+03, 3.22764667e+03,\n",
              "        3.25305333e+03, 3.27846000e+03, 3.30386667e+03, 3.32927333e+03,\n",
              "        3.35468000e+03, 3.38008667e+03, 3.40549333e+03, 3.43090000e+03,\n",
              "        3.45630667e+03, 3.48171333e+03, 3.50712000e+03, 3.53252667e+03,\n",
              "        3.55793333e+03, 3.58334000e+03, 3.60874667e+03, 3.63415333e+03,\n",
              "        3.65956000e+03, 3.68496667e+03, 3.71037333e+03, 3.73578000e+03,\n",
              "        3.76118667e+03, 3.78659333e+03, 3.81200000e+03]),\n",
              " <a list of 150 Patch objects>)"
            ]
          },
          "metadata": {
            "tags": []
          },
          "execution_count": 16
        },
        {
          "output_type": "display_data",
          "data": {
            "image/png": "[encoded data removed]",
            "text/plain": [
              "<Figure size 432x288 with 1 Axes>"
            ]
          },
          "metadata": {
            "tags": []
          }
        }
      ]
    },
    {
      "cell_type": "code",
      "metadata": {
        "id": "HzOMbI4GnvuZ",
        "colab_type": "code",
        "outputId": "0a66097b-cb72-43f3-be2a-3d1c213bf499",
        "colab": {
          "base_uri": "https://localhost:8080/",
          "height": 51
        }
      },
      "source": [
        "# Keep records with plot lengths between 15 and 545 which correspond to 1% - 99.9% of the dataset\n",
        "# This reduces our dataframe to 78142 rows instead of 81265\n",
        "\n",
        "print(df.shape)\n",
        "df = df.query('plot_len > 15 and plot_len < 545')\n",
        "print(df.shape)"
      ],
      "execution_count": 0,
      "outputs": [
        {
          "output_type": "stream",
          "text": [
            "(81265, 9)\n",
            "(78142, 9)\n"
          ],
          "name": "stdout"
        }
      ]
    },
    {
      "cell_type": "code",
      "metadata": {
        "id": "QirGsuWGe2Ue",
        "colab_type": "code",
        "outputId": "eb10cd2e-aa60-40c5-f957-3090f8a37c36",
        "colab": {
          "base_uri": "https://localhost:8080/",
          "height": 85
        }
      },
      "source": [
        "# One Hot Encoding the variables\n",
        "\n",
        "multilabel_binarizer = MultiLabelBinarizer()\n",
        "multilabel_binarizer.fit(df['genre_list'])\n",
        "y = multilabel_binarizer.transform(df['genre_list'])\n",
        "\n",
        "# Print Classes\n",
        "print(multilabel_binarizer.classes_)"
      ],
      "execution_count": 0,
      "outputs": [
        {
          "output_type": "stream",
          "text": [
            "['Action' 'Adult' 'Adventure' 'Animation' 'Biography' 'Comedy' 'Crime'\n",
            " 'Documentary' 'Drama' 'Family' 'Fantasy' 'Film-Noir' 'Game-Show'\n",
            " 'History' 'Horror' 'Music' 'Musical' 'Mystery' 'News' 'Reality-TV'\n",
            " 'Romance' 'Sci-Fi' 'Short' 'Sport' 'Thriller' 'War' 'Western']\n"
          ],
          "name": "stdout"
        }
      ]
    },
    {
      "cell_type": "code",
      "metadata": {
        "id": "aywaVZnxorWZ",
        "colab_type": "code",
        "outputId": "54aff513-1fdc-425e-91c3-db402951404e",
        "colab": {
          "base_uri": "https://localhost:8080/",
          "height": 581
        }
      },
      "source": [
        "# Concatenate One Hot Encoded Columns to our dataset\n",
        "\n",
        "old_columns = list(df.columns)\n",
        "new_columns = old_columns + list(multilabel_binarizer.classes_)\n",
        "df_new = pd.DataFrame(pd.np.column_stack([df, y]))\n",
        "df_new.columns = new_columns\n",
        "df_new.head()"
      ],
      "execution_count": 0,
      "outputs": [
        {
          "output_type": "execute_result",
          "data": {
            "text/html": [
              "<div>\n",
              "<style scoped>\n",
              "    .dataframe tbody tr th:only-of-type {\n",
              "        vertical-align: middle;\n",
              "    }\n",
              "\n",
              "    .dataframe tbody tr th {\n",
              "        vertical-align: top;\n",
              "    }\n",
              "\n",
              "    .dataframe thead th {\n",
              "        text-align: right;\n",
              "    }\n",
              "</style>\n",
              "<table border=\"1\" class=\"dataframe\">\n",
              "  <thead>\n",
              "    <tr style=\"text-align: right;\">\n",
              "      <th></th>\n",
              "      <th>movieid</th>\n",
              "      <th>moviename</th>\n",
              "      <th>year</th>\n",
              "      <th>genre</th>\n",
              "      <th>language</th>\n",
              "      <th>thumbnail</th>\n",
              "      <th>movieplot</th>\n",
              "      <th>genre_list</th>\n",
              "      <th>plot_len</th>\n",
              "      <th>Action</th>\n",
              "      <th>Adult</th>\n",
              "      <th>Adventure</th>\n",
              "      <th>Animation</th>\n",
              "      <th>Biography</th>\n",
              "      <th>Comedy</th>\n",
              "      <th>Crime</th>\n",
              "      <th>Documentary</th>\n",
              "      <th>Drama</th>\n",
              "      <th>Family</th>\n",
              "      <th>Fantasy</th>\n",
              "      <th>Film-Noir</th>\n",
              "      <th>Game-Show</th>\n",
              "      <th>History</th>\n",
              "      <th>Horror</th>\n",
              "      <th>Music</th>\n",
              "      <th>Musical</th>\n",
              "      <th>Mystery</th>\n",
              "      <th>News</th>\n",
              "      <th>Reality-TV</th>\n",
              "      <th>Romance</th>\n",
              "      <th>Sci-Fi</th>\n",
              "      <th>Short</th>\n",
              "      <th>Sport</th>\n",
              "      <th>Thriller</th>\n",
              "      <th>War</th>\n",
              "      <th>Western</th>\n",
              "    </tr>\n",
              "  </thead>\n",
              "  <tbody>\n",
              "    <tr>\n",
              "      <th>0</th>\n",
              "      <td>tt0007610</td>\n",
              "      <td>'49-'17</td>\n",
              "      <td>1917</td>\n",
              "      <td>[Drama, Western]</td>\n",
              "      <td>English</td>\n",
              "      <td>https://w266-final-project.s3.amazonaws.com/th...</td>\n",
              "      <td>A judge who had taken part in the gold rush of...</td>\n",
              "      <td>[Drama, Western]</td>\n",
              "      <td>47</td>\n",
              "      <td>0</td>\n",
              "      <td>0</td>\n",
              "      <td>0</td>\n",
              "      <td>0</td>\n",
              "      <td>0</td>\n",
              "      <td>0</td>\n",
              "      <td>0</td>\n",
              "      <td>0</td>\n",
              "      <td>1</td>\n",
              "      <td>0</td>\n",
              "      <td>0</td>\n",
              "      <td>0</td>\n",
              "      <td>0</td>\n",
              "      <td>0</td>\n",
              "      <td>0</td>\n",
              "      <td>0</td>\n",
              "      <td>0</td>\n",
              "      <td>0</td>\n",
              "      <td>0</td>\n",
              "      <td>0</td>\n",
              "      <td>0</td>\n",
              "      <td>0</td>\n",
              "      <td>0</td>\n",
              "      <td>0</td>\n",
              "      <td>0</td>\n",
              "      <td>0</td>\n",
              "      <td>1</td>\n",
              "    </tr>\n",
              "    <tr>\n",
              "      <th>1</th>\n",
              "      <td>tt0005078</td>\n",
              "      <td>The Cheat</td>\n",
              "      <td>1915</td>\n",
              "      <td>[Drama, Romance]</td>\n",
              "      <td>English</td>\n",
              "      <td>https://w266-final-project.s3.amazonaws.com/th...</td>\n",
              "      <td>Richard Hardy, a hardworking stockbroker, labo...</td>\n",
              "      <td>[Drama, Romance]</td>\n",
              "      <td>164</td>\n",
              "      <td>0</td>\n",
              "      <td>0</td>\n",
              "      <td>0</td>\n",
              "      <td>0</td>\n",
              "      <td>0</td>\n",
              "      <td>0</td>\n",
              "      <td>0</td>\n",
              "      <td>0</td>\n",
              "      <td>1</td>\n",
              "      <td>0</td>\n",
              "      <td>0</td>\n",
              "      <td>0</td>\n",
              "      <td>0</td>\n",
              "      <td>0</td>\n",
              "      <td>0</td>\n",
              "      <td>0</td>\n",
              "      <td>0</td>\n",
              "      <td>0</td>\n",
              "      <td>0</td>\n",
              "      <td>0</td>\n",
              "      <td>1</td>\n",
              "      <td>0</td>\n",
              "      <td>0</td>\n",
              "      <td>0</td>\n",
              "      <td>0</td>\n",
              "      <td>0</td>\n",
              "      <td>0</td>\n",
              "    </tr>\n",
              "    <tr>\n",
              "      <th>2</th>\n",
              "      <td>tt0007257</td>\n",
              "      <td>Reggie Mixes In</td>\n",
              "      <td>1916</td>\n",
              "      <td>[Action, Comedy, Drama]</td>\n",
              "      <td>English</td>\n",
              "      <td>https://w266-final-project.s3.amazonaws.com/th...</td>\n",
              "      <td>Reggie, a wealthy young man about town, is eag...</td>\n",
              "      <td>[Action, Comedy, Drama]</td>\n",
              "      <td>67</td>\n",
              "      <td>1</td>\n",
              "      <td>0</td>\n",
              "      <td>0</td>\n",
              "      <td>0</td>\n",
              "      <td>0</td>\n",
              "      <td>1</td>\n",
              "      <td>0</td>\n",
              "      <td>0</td>\n",
              "      <td>1</td>\n",
              "      <td>0</td>\n",
              "      <td>0</td>\n",
              "      <td>0</td>\n",
              "      <td>0</td>\n",
              "      <td>0</td>\n",
              "      <td>0</td>\n",
              "      <td>0</td>\n",
              "      <td>0</td>\n",
              "      <td>0</td>\n",
              "      <td>0</td>\n",
              "      <td>0</td>\n",
              "      <td>0</td>\n",
              "      <td>0</td>\n",
              "      <td>0</td>\n",
              "      <td>0</td>\n",
              "      <td>0</td>\n",
              "      <td>0</td>\n",
              "      <td>0</td>\n",
              "    </tr>\n",
              "    <tr>\n",
              "      <th>3</th>\n",
              "      <td>tt0008011</td>\n",
              "      <td>A Girl's Folly</td>\n",
              "      <td>1917</td>\n",
              "      <td>[Comedy]</td>\n",
              "      <td>NaN</td>\n",
              "      <td>https://w266-final-project.s3.amazonaws.com/th...</td>\n",
              "      <td>Living in the country with her widowed mother,...</td>\n",
              "      <td>[Comedy]</td>\n",
              "      <td>169</td>\n",
              "      <td>0</td>\n",
              "      <td>0</td>\n",
              "      <td>0</td>\n",
              "      <td>0</td>\n",
              "      <td>0</td>\n",
              "      <td>1</td>\n",
              "      <td>0</td>\n",
              "      <td>0</td>\n",
              "      <td>0</td>\n",
              "      <td>0</td>\n",
              "      <td>0</td>\n",
              "      <td>0</td>\n",
              "      <td>0</td>\n",
              "      <td>0</td>\n",
              "      <td>0</td>\n",
              "      <td>0</td>\n",
              "      <td>0</td>\n",
              "      <td>0</td>\n",
              "      <td>0</td>\n",
              "      <td>0</td>\n",
              "      <td>0</td>\n",
              "      <td>0</td>\n",
              "      <td>0</td>\n",
              "      <td>0</td>\n",
              "      <td>0</td>\n",
              "      <td>0</td>\n",
              "      <td>0</td>\n",
              "    </tr>\n",
              "    <tr>\n",
              "      <th>4</th>\n",
              "      <td>tt0003772</td>\n",
              "      <td>Cinderella</td>\n",
              "      <td>1914</td>\n",
              "      <td>[Fantasy, Drama]</td>\n",
              "      <td>English</td>\n",
              "      <td>https://w266-final-project.s3.amazonaws.com/th...</td>\n",
              "      <td>Based on the fairy tale: Cinderella is mistrea...</td>\n",
              "      <td>[Fantasy, Drama]</td>\n",
              "      <td>131</td>\n",
              "      <td>0</td>\n",
              "      <td>0</td>\n",
              "      <td>0</td>\n",
              "      <td>0</td>\n",
              "      <td>0</td>\n",
              "      <td>0</td>\n",
              "      <td>0</td>\n",
              "      <td>0</td>\n",
              "      <td>1</td>\n",
              "      <td>0</td>\n",
              "      <td>1</td>\n",
              "      <td>0</td>\n",
              "      <td>0</td>\n",
              "      <td>0</td>\n",
              "      <td>0</td>\n",
              "      <td>0</td>\n",
              "      <td>0</td>\n",
              "      <td>0</td>\n",
              "      <td>0</td>\n",
              "      <td>0</td>\n",
              "      <td>0</td>\n",
              "      <td>0</td>\n",
              "      <td>0</td>\n",
              "      <td>0</td>\n",
              "      <td>0</td>\n",
              "      <td>0</td>\n",
              "      <td>0</td>\n",
              "    </tr>\n",
              "  </tbody>\n",
              "</table>\n",
              "</div>"
            ],
            "text/plain": [
              "     movieid        moviename  year  ... Thriller War Western\n",
              "0  tt0007610          '49-'17  1917  ...        0   0       1\n",
              "1  tt0005078        The Cheat  1915  ...        0   0       0\n",
              "2  tt0007257  Reggie Mixes In  1916  ...        0   0       0\n",
              "3  tt0008011   A Girl's Folly  1917  ...        0   0       0\n",
              "4  tt0003772       Cinderella  1914  ...        0   0       0\n",
              "\n",
              "[5 rows x 36 columns]"
            ]
          },
          "metadata": {
            "tags": []
          },
          "execution_count": 19
        }
      ]
    },
    {
      "cell_type": "code",
      "metadata": {
        "id": "AwmaP0c6p_xR",
        "colab_type": "code",
        "outputId": "41291ff7-2572-483c-b028-ba436b591b62",
        "colab": {
          "base_uri": "https://localhost:8080/",
          "height": 493
        }
      },
      "source": [
        "# Count the times each genre is present in the dataset\n",
        "count_genres = df_new.iloc[:,9:].sum().sort_values(ascending=False)\n",
        "print(count_genres)"
      ],
      "execution_count": 0,
      "outputs": [
        {
          "output_type": "stream",
          "text": [
            "Drama          43442.0\n",
            "Comedy         26912.0\n",
            "Romance        15486.0\n",
            "Thriller       15257.0\n",
            "Action         11848.0\n",
            "Crime          10336.0\n",
            "Horror          9224.0\n",
            "Adventure       6927.0\n",
            "Mystery         5739.0\n",
            "Sci-Fi          4705.0\n",
            "Fantasy         4560.0\n",
            "Family          4395.0\n",
            "War             3144.0\n",
            "History         2437.0\n",
            "Musical         2330.0\n",
            "Biography       2138.0\n",
            "Western         2086.0\n",
            "Animation       1939.0\n",
            "Music           1714.0\n",
            "Sport           1299.0\n",
            "Film-Noir        696.0\n",
            "Documentary        6.0\n",
            "Adult              5.0\n",
            "Reality-TV         4.0\n",
            "News               2.0\n",
            "Short              2.0\n",
            "Game-Show          1.0\n",
            "dtype: float64\n"
          ],
          "name": "stdout"
        }
      ]
    },
    {
      "cell_type": "code",
      "metadata": {
        "id": "VnOHxs5NfPDF",
        "colab_type": "code",
        "outputId": "9811250d-a587-42d8-949a-f9b1f753412f",
        "colab": {
          "base_uri": "https://localhost:8080/",
          "height": 187
        }
      },
      "source": [
        "# Get the top 10 genres\n",
        "top_genres = df_new.iloc[:,9:].sum().sort_values(ascending=False).iloc[:10]\n",
        "genre_counts = top_genres.to_dict()\n",
        "\n",
        "genre_counts"
      ],
      "execution_count": 0,
      "outputs": [
        {
          "output_type": "execute_result",
          "data": {
            "text/plain": [
              "{'Action': 11848.0,\n",
              " 'Adventure': 6927.0,\n",
              " 'Comedy': 26912.0,\n",
              " 'Crime': 10336.0,\n",
              " 'Drama': 43442.0,\n",
              " 'Horror': 9224.0,\n",
              " 'Mystery': 5739.0,\n",
              " 'Romance': 15486.0,\n",
              " 'Sci-Fi': 4705.0,\n",
              " 'Thriller': 15257.0}"
            ]
          },
          "metadata": {
            "tags": []
          },
          "execution_count": 21
        }
      ]
    },
    {
      "cell_type": "code",
      "metadata": {
        "id": "QJ-6-fcnHc_i",
        "colab_type": "code",
        "colab": {}
      },
      "source": [
        "# Save this to a csv file\n",
        "label_names = ['movieid','movieplot','Drama','Thriller','Comedy','Action','Crime',\n",
        "                'Horror','Romance','Adventure','Mystery','Sci-Fi']\n",
        "df_new[label_names].Drama.describe()\n",
        "df_new[label_names].to_csv('/content/drive/My Drive/w266-FinalProject/MoviePlotsAndPosters/data/original_movie_dataset.csv', index=False)"
      ],
      "execution_count": 0,
      "outputs": []
    },
    {
      "cell_type": "code",
      "metadata": {
        "id": "d0XPjw9cIhyJ",
        "colab_type": "code",
        "outputId": "f866ee8a-3e73-4f89-e372-974c026c7b0a",
        "colab": {
          "base_uri": "https://localhost:8080/",
          "height": 34
        }
      },
      "source": [
        "# Load the poster feature vectors\n",
        "df_poster = pd.read_csv('/content/drive/My Drive/w266-FinalProject/data/posters/poster_features.csv.zip')\n",
        "df_poster.shape"
      ],
      "execution_count": 0,
      "outputs": [
        {
          "output_type": "execute_result",
          "data": {
            "text/plain": [
              "(81124, 2)"
            ]
          },
          "metadata": {
            "tags": []
          },
          "execution_count": 26
        }
      ]
    },
    {
      "cell_type": "code",
      "metadata": {
        "id": "IwJRCDruI9Zo",
        "colab_type": "code",
        "outputId": "99970d5c-a7b5-4b5c-82e1-adf5ad85ede5",
        "colab": {
          "base_uri": "https://localhost:8080/",
          "height": 34
        }
      },
      "source": [
        "# Merge the poster dataframe with the cleaned movie dataset\n",
        "df_clean = df_new[label_names].merge(df_poster, how='left', right_on='movieid',left_on='movieid')\n",
        "df_clean.shape"
      ],
      "execution_count": 0,
      "outputs": [
        {
          "output_type": "execute_result",
          "data": {
            "text/plain": [
              "(78142, 13)"
            ]
          },
          "metadata": {
            "tags": []
          },
          "execution_count": 27
        }
      ]
    },
    {
      "cell_type": "code",
      "metadata": {
        "id": "61U4bmOfJ7T-",
        "colab_type": "code",
        "outputId": "cc43a970-5b0c-4a9b-a9bc-abfe5d6eb7fc",
        "colab": {
          "base_uri": "https://localhost:8080/",
          "height": 204
        }
      },
      "source": [
        "df_clean.head()"
      ],
      "execution_count": 0,
      "outputs": [
        {
          "output_type": "execute_result",
          "data": {
            "text/html": [
              "<div>\n",
              "<style scoped>\n",
              "    .dataframe tbody tr th:only-of-type {\n",
              "        vertical-align: middle;\n",
              "    }\n",
              "\n",
              "    .dataframe tbody tr th {\n",
              "        vertical-align: top;\n",
              "    }\n",
              "\n",
              "    .dataframe thead th {\n",
              "        text-align: right;\n",
              "    }\n",
              "</style>\n",
              "<table border=\"1\" class=\"dataframe\">\n",
              "  <thead>\n",
              "    <tr style=\"text-align: right;\">\n",
              "      <th></th>\n",
              "      <th>movieid</th>\n",
              "      <th>movieplot</th>\n",
              "      <th>Drama</th>\n",
              "      <th>Thriller</th>\n",
              "      <th>Comedy</th>\n",
              "      <th>Action</th>\n",
              "      <th>Crime</th>\n",
              "      <th>Horror</th>\n",
              "      <th>Romance</th>\n",
              "      <th>Adventure</th>\n",
              "      <th>Mystery</th>\n",
              "      <th>Sci-Fi</th>\n",
              "      <th>feature_vector</th>\n",
              "    </tr>\n",
              "  </thead>\n",
              "  <tbody>\n",
              "    <tr>\n",
              "      <th>0</th>\n",
              "      <td>tt0007610</td>\n",
              "      <td>A judge who had taken part in the gold rush of...</td>\n",
              "      <td>1</td>\n",
              "      <td>0</td>\n",
              "      <td>0</td>\n",
              "      <td>0</td>\n",
              "      <td>0</td>\n",
              "      <td>0</td>\n",
              "      <td>0</td>\n",
              "      <td>0</td>\n",
              "      <td>0</td>\n",
              "      <td>0</td>\n",
              "      <td>[0.7366994023323059, 0.9941093921661377, 1.076...</td>\n",
              "    </tr>\n",
              "    <tr>\n",
              "      <th>1</th>\n",
              "      <td>tt0005078</td>\n",
              "      <td>Richard Hardy, a hardworking stockbroker, labo...</td>\n",
              "      <td>1</td>\n",
              "      <td>0</td>\n",
              "      <td>0</td>\n",
              "      <td>0</td>\n",
              "      <td>0</td>\n",
              "      <td>0</td>\n",
              "      <td>1</td>\n",
              "      <td>0</td>\n",
              "      <td>0</td>\n",
              "      <td>0</td>\n",
              "      <td>[0.002950882539153099, 0.10090522468090057, 1....</td>\n",
              "    </tr>\n",
              "    <tr>\n",
              "      <th>2</th>\n",
              "      <td>tt0007257</td>\n",
              "      <td>Reggie, a wealthy young man about town, is eag...</td>\n",
              "      <td>1</td>\n",
              "      <td>0</td>\n",
              "      <td>1</td>\n",
              "      <td>1</td>\n",
              "      <td>0</td>\n",
              "      <td>0</td>\n",
              "      <td>0</td>\n",
              "      <td>0</td>\n",
              "      <td>0</td>\n",
              "      <td>0</td>\n",
              "      <td>[0.03462240472435951, 0.500708818435669, 1.862...</td>\n",
              "    </tr>\n",
              "    <tr>\n",
              "      <th>3</th>\n",
              "      <td>tt0008011</td>\n",
              "      <td>Living in the country with her widowed mother,...</td>\n",
              "      <td>0</td>\n",
              "      <td>0</td>\n",
              "      <td>1</td>\n",
              "      <td>0</td>\n",
              "      <td>0</td>\n",
              "      <td>0</td>\n",
              "      <td>0</td>\n",
              "      <td>0</td>\n",
              "      <td>0</td>\n",
              "      <td>0</td>\n",
              "      <td>[0.0, 0.06257307529449463, 0.8574206233024597,...</td>\n",
              "    </tr>\n",
              "    <tr>\n",
              "      <th>4</th>\n",
              "      <td>tt0003772</td>\n",
              "      <td>Based on the fairy tale: Cinderella is mistrea...</td>\n",
              "      <td>1</td>\n",
              "      <td>0</td>\n",
              "      <td>0</td>\n",
              "      <td>0</td>\n",
              "      <td>0</td>\n",
              "      <td>0</td>\n",
              "      <td>0</td>\n",
              "      <td>0</td>\n",
              "      <td>0</td>\n",
              "      <td>0</td>\n",
              "      <td>[0.2867472171783447, 0.0, 0.9653348922729492, ...</td>\n",
              "    </tr>\n",
              "  </tbody>\n",
              "</table>\n",
              "</div>"
            ],
            "text/plain": [
              "     movieid  ...                                     feature_vector\n",
              "0  tt0007610  ...  [0.7366994023323059, 0.9941093921661377, 1.076...\n",
              "1  tt0005078  ...  [0.002950882539153099, 0.10090522468090057, 1....\n",
              "2  tt0007257  ...  [0.03462240472435951, 0.500708818435669, 1.862...\n",
              "3  tt0008011  ...  [0.0, 0.06257307529449463, 0.8574206233024597,...\n",
              "4  tt0003772  ...  [0.2867472171783447, 0.0, 0.9653348922729492, ...\n",
              "\n",
              "[5 rows x 13 columns]"
            ]
          },
          "metadata": {
            "tags": []
          },
          "execution_count": 28
        }
      ]
    },
    {
      "cell_type": "code",
      "metadata": {
        "id": "ZQV6gTB6KUEN",
        "colab_type": "code",
        "outputId": "02f4db95-b21e-4586-bbee-5050ae03036f",
        "colab": {
          "base_uri": "https://localhost:8080/",
          "height": 51
        }
      },
      "source": [
        "# Concatenate the labels into a list\n",
        "NUM_LABELS = 10\n",
        "start_index = 2\n",
        "labels = [rows[start_index:NUM_LABELS+start_index].values.tolist() for index,rows in df_clean.iterrows()]"
      ],
      "execution_count": 0,
      "outputs": [
        {
          "output_type": "stream",
          "text": [
            "10\n"
          ],
          "name": "stdout"
        },
        {
          "output_type": "execute_result",
          "data": {
            "text/plain": [
              "78142"
            ]
          },
          "metadata": {
            "tags": []
          },
          "execution_count": 34
        }
      ]
    },
    {
      "cell_type": "code",
      "metadata": {
        "id": "DebWM_yQKom3",
        "colab_type": "code",
        "outputId": "76e5d2d1-6616-4e1d-c610-8301885c147c",
        "colab": {
          "base_uri": "https://localhost:8080/",
          "height": 306
        }
      },
      "source": [
        "df_clean['labels'] = labels\n",
        "df_clean.head()"
      ],
      "execution_count": 0,
      "outputs": [
        {
          "output_type": "execute_result",
          "data": {
            "text/html": [
              "<div>\n",
              "<style scoped>\n",
              "    .dataframe tbody tr th:only-of-type {\n",
              "        vertical-align: middle;\n",
              "    }\n",
              "\n",
              "    .dataframe tbody tr th {\n",
              "        vertical-align: top;\n",
              "    }\n",
              "\n",
              "    .dataframe thead th {\n",
              "        text-align: right;\n",
              "    }\n",
              "</style>\n",
              "<table border=\"1\" class=\"dataframe\">\n",
              "  <thead>\n",
              "    <tr style=\"text-align: right;\">\n",
              "      <th></th>\n",
              "      <th>movieid</th>\n",
              "      <th>movieplot</th>\n",
              "      <th>Drama</th>\n",
              "      <th>Thriller</th>\n",
              "      <th>Comedy</th>\n",
              "      <th>Action</th>\n",
              "      <th>Crime</th>\n",
              "      <th>Horror</th>\n",
              "      <th>Romance</th>\n",
              "      <th>Adventure</th>\n",
              "      <th>Mystery</th>\n",
              "      <th>Sci-Fi</th>\n",
              "      <th>feature_vector</th>\n",
              "      <th>labels</th>\n",
              "    </tr>\n",
              "  </thead>\n",
              "  <tbody>\n",
              "    <tr>\n",
              "      <th>0</th>\n",
              "      <td>tt0007610</td>\n",
              "      <td>A judge who had taken part in the gold rush of...</td>\n",
              "      <td>1</td>\n",
              "      <td>0</td>\n",
              "      <td>0</td>\n",
              "      <td>0</td>\n",
              "      <td>0</td>\n",
              "      <td>0</td>\n",
              "      <td>0</td>\n",
              "      <td>0</td>\n",
              "      <td>0</td>\n",
              "      <td>0</td>\n",
              "      <td>[0.7366994023323059, 0.9941093921661377, 1.076...</td>\n",
              "      <td>[1, 0, 0, 0, 0, 0, 0, 0, 0, 0]</td>\n",
              "    </tr>\n",
              "    <tr>\n",
              "      <th>1</th>\n",
              "      <td>tt0005078</td>\n",
              "      <td>Richard Hardy, a hardworking stockbroker, labo...</td>\n",
              "      <td>1</td>\n",
              "      <td>0</td>\n",
              "      <td>0</td>\n",
              "      <td>0</td>\n",
              "      <td>0</td>\n",
              "      <td>0</td>\n",
              "      <td>1</td>\n",
              "      <td>0</td>\n",
              "      <td>0</td>\n",
              "      <td>0</td>\n",
              "      <td>[0.002950882539153099, 0.10090522468090057, 1....</td>\n",
              "      <td>[1, 0, 0, 0, 0, 0, 1, 0, 0, 0]</td>\n",
              "    </tr>\n",
              "    <tr>\n",
              "      <th>2</th>\n",
              "      <td>tt0007257</td>\n",
              "      <td>Reggie, a wealthy young man about town, is eag...</td>\n",
              "      <td>1</td>\n",
              "      <td>0</td>\n",
              "      <td>1</td>\n",
              "      <td>1</td>\n",
              "      <td>0</td>\n",
              "      <td>0</td>\n",
              "      <td>0</td>\n",
              "      <td>0</td>\n",
              "      <td>0</td>\n",
              "      <td>0</td>\n",
              "      <td>[0.03462240472435951, 0.500708818435669, 1.862...</td>\n",
              "      <td>[1, 0, 1, 1, 0, 0, 0, 0, 0, 0]</td>\n",
              "    </tr>\n",
              "    <tr>\n",
              "      <th>3</th>\n",
              "      <td>tt0008011</td>\n",
              "      <td>Living in the country with her widowed mother,...</td>\n",
              "      <td>0</td>\n",
              "      <td>0</td>\n",
              "      <td>1</td>\n",
              "      <td>0</td>\n",
              "      <td>0</td>\n",
              "      <td>0</td>\n",
              "      <td>0</td>\n",
              "      <td>0</td>\n",
              "      <td>0</td>\n",
              "      <td>0</td>\n",
              "      <td>[0.0, 0.06257307529449463, 0.8574206233024597,...</td>\n",
              "      <td>[0, 0, 1, 0, 0, 0, 0, 0, 0, 0]</td>\n",
              "    </tr>\n",
              "    <tr>\n",
              "      <th>4</th>\n",
              "      <td>tt0003772</td>\n",
              "      <td>Based on the fairy tale: Cinderella is mistrea...</td>\n",
              "      <td>1</td>\n",
              "      <td>0</td>\n",
              "      <td>0</td>\n",
              "      <td>0</td>\n",
              "      <td>0</td>\n",
              "      <td>0</td>\n",
              "      <td>0</td>\n",
              "      <td>0</td>\n",
              "      <td>0</td>\n",
              "      <td>0</td>\n",
              "      <td>[0.2867472171783447, 0.0, 0.9653348922729492, ...</td>\n",
              "      <td>[1, 0, 0, 0, 0, 0, 0, 0, 0, 0]</td>\n",
              "    </tr>\n",
              "  </tbody>\n",
              "</table>\n",
              "</div>"
            ],
            "text/plain": [
              "     movieid  ...                          labels\n",
              "0  tt0007610  ...  [1, 0, 0, 0, 0, 0, 0, 0, 0, 0]\n",
              "1  tt0005078  ...  [1, 0, 0, 0, 0, 0, 1, 0, 0, 0]\n",
              "2  tt0007257  ...  [1, 0, 1, 1, 0, 0, 0, 0, 0, 0]\n",
              "3  tt0008011  ...  [0, 0, 1, 0, 0, 0, 0, 0, 0, 0]\n",
              "4  tt0003772  ...  [1, 0, 0, 0, 0, 0, 0, 0, 0, 0]\n",
              "\n",
              "[5 rows x 14 columns]"
            ]
          },
          "metadata": {
            "tags": []
          },
          "execution_count": 35
        }
      ]
    },
    {
      "cell_type": "code",
      "metadata": {
        "id": "oPfLJcvfLGWp",
        "colab_type": "code",
        "outputId": "d50bcd93-3263-4b69-816f-934e4f5b2e05",
        "colab": {
          "base_uri": "https://localhost:8080/",
          "height": 34
        }
      },
      "source": [
        "# Remove rows where the feature vector is NA\n",
        "df_merge_clean = df_clean.loc[~df_clean.feature_vector.isna(),:]\n",
        "df_merge_clean.shape"
      ],
      "execution_count": 0,
      "outputs": [
        {
          "output_type": "execute_result",
          "data": {
            "text/plain": [
              "(78008, 14)"
            ]
          },
          "metadata": {
            "tags": []
          },
          "execution_count": 36
        }
      ]
    },
    {
      "cell_type": "markdown",
      "metadata": {
        "id": "p7qexbJFIwp4",
        "colab_type": "text"
      },
      "source": [
        "### Save Cleaned Datasets"
      ]
    },
    {
      "cell_type": "code",
      "metadata": {
        "id": "mPqSfsUNLi0N",
        "colab_type": "code",
        "colab": {}
      },
      "source": [
        "df_merge_clean[['movieid','movieplot','feature_vector','labels']].to_csv('/content/drive/My Drive/w266-FinalProject/MoviePlotsAndPosters/data/clean_poster_data_'+str(NUM_LABELS) + '.csv', index=False)"
      ],
      "execution_count": 0,
      "outputs": []
    },
    {
      "cell_type": "code",
      "metadata": {
        "id": "iIVCcDTjMa2D",
        "colab_type": "code",
        "colab": {}
      },
      "source": [
        "np_feature_vector = np.array([np.array(xi) for xi in df_merge_clean.feature_vector.values])\n",
        "np.save('/content/drive/My Drive/w266-FinalProject/MoviePlotsAndPosters/data/poster_feature_vector.data', np_feature_vector)"
      ],
      "execution_count": 0,
      "outputs": []
    },
    {
      "cell_type": "code",
      "metadata": {
        "id": "VOFr-HMdPHhQ",
        "colab_type": "code",
        "colab": {}
      },
      "source": [
        "np_label_vector = np.array([np.array(xi) for xi in df_merge_clean.labels.values])\n",
        "np.save('/content/drive/My Drive/w266-FinalProject/MoviePlotsAndPosters/data/poster_labels_'+str(NUM_LABELS) + '.data', np_label_vector)"
      ],
      "execution_count": 0,
      "outputs": []
    }
  ]
}