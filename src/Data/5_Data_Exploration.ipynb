{
  "nbformat": 4,
  "nbformat_minor": 0,
  "metadata": {
    "colab": {
      "name": "5. Data Exploration",
      "provenance": [],
      "authorship_tag": "ABX9TyOsKcZQ/huUg71T7MHMWHQg",
      "include_colab_link": true
    },
    "kernelspec": {
      "name": "python3",
      "display_name": "Python 3"
    }
  },
  "cells": [
    {
      "cell_type": "markdown",
      "metadata": {
        "id": "view-in-github",
        "colab_type": "text"
      },
      "source": [
        "<a href=\"https://colab.research.google.com/github/kasri-mids/MovieGenreClassification/blob/master/src/Data/5_Data_Exploration.ipynb\" target=\"_parent\"><img src=\"https://colab.research.google.com/assets/colab-badge.svg\" alt=\"Open In Colab\"/></a>"
      ]
    },
    {
      "cell_type": "markdown",
      "metadata": {
        "id": "FbAa2X41Kfct",
        "colab_type": "text"
      },
      "source": [
        "In order to generate our dataset, we took the list of IMDB movie ID's and wrote scripts to extract the movie name, year, genres, language, movie plot and the thumbnail. This is then saved in an `imdb_dataset.csv` file. All this work is done in the `Dataset.ipynb` notebook in Google Colab along with AWS.\n",
        "\n",
        "Then, within our `Parsing Data` notebook, we load this dataset and do the following\n",
        "\n",
        "1. Convert csv file to pandas dataframe\n",
        "2. Create a new column genre_list that is a list of strings for each movie\n",
        "3. Remove rows that don't have any genre's associated\n",
        "4. Create a new column plot_len that is the length of the plot summary for each movie\n",
        "5. Based on the quantiles from our plot lengths, we remove plot lengths of less than 15 and greater than 545\n",
        "6. One Hot Encoded the variables\n",
        "7. Did a genre count for the entire dataset and took the top 10 genres\n",
        "8. Merged this dataset with the poster feature vectors saved in `data/posters/poster_features.csv.zip`\n",
        "9. Removed the feature vectors that were NA's\n",
        "10. Created a labels list which takes the one-hot encoded values of the ten genres and creates a comma separated list out of that\n",
        "10. Ended up with a dataset of 78008 rows and the columns 'movieid', 'movieplot', 'feature_vector' and 'label'\n",
        "\n",
        " "
      ]
    },
    {
      "cell_type": "code",
      "metadata": {
        "id": "bfmnCo8jJaxw",
        "colab_type": "code",
        "colab": {}
      },
      "source": [
        "# Imports\n",
        "\n",
        "import json\n",
        "import pandas as pd\n",
        "import numpy as np\n",
        "import os\n",
        "import sys\n",
        "import io\n",
        "import re\n",
        "import matplotlib.pyplot as plt\n",
        "\n",
        "from time import time\n",
        "from csv import reader\n",
        "from matplotlib import colors\n",
        "from datetime import datetime\n",
        "from matplotlib.ticker import PercentFormatter\n",
        "from google.colab import drive"
      ],
      "execution_count": 0,
      "outputs": []
    },
    {
      "cell_type": "code",
      "metadata": {
        "id": "mHA6ld5PJqcP",
        "colab_type": "code",
        "outputId": "64ae7275-6a36-4484-9f00-c44a17023e99",
        "colab": {
          "base_uri": "https://localhost:8080/",
          "height": 122
        }
      },
      "source": [
        "drive.mount('/content/drive', force_remount=True)"
      ],
      "execution_count": 0,
      "outputs": [
        {
          "output_type": "stream",
          "text": [
            "Go to this URL in a browser: https://accounts.google.com/o/oauth2/auth?client_id=947318989803-6bn6qk8qdgf4n4g3pfee6491hc0brc4i.apps.googleusercontent.com&redirect_uri=urn%3aietf%3awg%3aoauth%3a2.0%3aoob&response_type=code&scope=email%20https%3a%2f%2fwww.googleapis.com%2fauth%2fdocs.test%20https%3a%2f%2fwww.googleapis.com%2fauth%2fdrive%20https%3a%2f%2fwww.googleapis.com%2fauth%2fdrive.photos.readonly%20https%3a%2f%2fwww.googleapis.com%2fauth%2fpeopleapi.readonly\n",
            "\n",
            "Enter your authorization code:\n",
            "··········\n",
            "Mounted at /content/drive\n"
          ],
          "name": "stdout"
        }
      ]
    },
    {
      "cell_type": "code",
      "metadata": {
        "id": "cwv8xsa8Jt9a",
        "colab_type": "code",
        "colab": {}
      },
      "source": [
        "df = pd.read_csv('/content/drive/My Drive/w266-FinalProject/MoviePlotsAndPosters/data/clean_poster_data_10.csv')\n",
        "original_df = pd.read_csv('/content/drive/My Drive/w266-FinalProject/data/imdb_dataset.csv')"
      ],
      "execution_count": 0,
      "outputs": []
    },
    {
      "cell_type": "code",
      "metadata": {
        "id": "qXImH2CKa91M",
        "colab_type": "code",
        "outputId": "c6e511e4-1bd4-4c19-c332-544f6da8a21c",
        "colab": {
          "base_uri": "https://localhost:8080/",
          "height": 34
        }
      },
      "source": [
        "df.head()\n",
        "df.shape"
      ],
      "execution_count": 0,
      "outputs": [
        {
          "output_type": "execute_result",
          "data": {
            "text/plain": [
              "(78008, 4)"
            ]
          },
          "metadata": {
            "tags": []
          },
          "execution_count": 6
        }
      ]
    },
    {
      "cell_type": "code",
      "metadata": {
        "id": "nVf8GC_oZKs-",
        "colab_type": "code",
        "outputId": "86a02645-6a79-4b0a-ef30-b34030fcfde2",
        "colab": {
          "base_uri": "https://localhost:8080/",
          "height": 34
        }
      },
      "source": [
        "original_df.head()\n",
        "original_df.shape"
      ],
      "execution_count": 0,
      "outputs": [
        {
          "output_type": "execute_result",
          "data": {
            "text/plain": [
              "(81271, 7)"
            ]
          },
          "metadata": {
            "tags": []
          },
          "execution_count": 7
        }
      ]
    },
    {
      "cell_type": "markdown",
      "metadata": {
        "id": "UxotthgxWhSm",
        "colab_type": "text"
      },
      "source": [
        "## Data Exploration"
      ]
    },
    {
      "cell_type": "markdown",
      "metadata": {
        "id": "oj9HFeWfWqJU",
        "colab_type": "text"
      },
      "source": [
        "### 1. Describing Dataset"
      ]
    },
    {
      "cell_type": "markdown",
      "metadata": {
        "id": "l7GmiynOXafl",
        "colab_type": "text"
      },
      "source": [
        "We have 78,008 unique movie id's in our dataset and for each movie id, we have a corresponding movie plot summary, the feature vector for the poster of that movie and the genre labels"
      ]
    },
    {
      "cell_type": "code",
      "metadata": {
        "id": "MDKWiA1BXk19",
        "colab_type": "code",
        "outputId": "1ac9e7be-e6a1-40fc-838e-ac069d08e721",
        "colab": {
          "base_uri": "https://localhost:8080/",
          "height": 204
        }
      },
      "source": [
        "df.head()"
      ],
      "execution_count": 0,
      "outputs": [
        {
          "output_type": "execute_result",
          "data": {
            "text/html": [
              "<div>\n",
              "<style scoped>\n",
              "    .dataframe tbody tr th:only-of-type {\n",
              "        vertical-align: middle;\n",
              "    }\n",
              "\n",
              "    .dataframe tbody tr th {\n",
              "        vertical-align: top;\n",
              "    }\n",
              "\n",
              "    .dataframe thead th {\n",
              "        text-align: right;\n",
              "    }\n",
              "</style>\n",
              "<table border=\"1\" class=\"dataframe\">\n",
              "  <thead>\n",
              "    <tr style=\"text-align: right;\">\n",
              "      <th></th>\n",
              "      <th>movieid</th>\n",
              "      <th>movieplot</th>\n",
              "      <th>feature_vector</th>\n",
              "      <th>labels</th>\n",
              "    </tr>\n",
              "  </thead>\n",
              "  <tbody>\n",
              "    <tr>\n",
              "      <th>0</th>\n",
              "      <td>tt0007610</td>\n",
              "      <td>A judge who had taken part in the gold rush of...</td>\n",
              "      <td>[0.7366994023323059, 0.9941093921661377, 1.076...</td>\n",
              "      <td>[1, 0, 0, 0, 0, 0, 0, 0, 0, 0]</td>\n",
              "    </tr>\n",
              "    <tr>\n",
              "      <th>1</th>\n",
              "      <td>tt0005078</td>\n",
              "      <td>Richard Hardy, a hardworking stockbroker, labo...</td>\n",
              "      <td>[0.002950882539153099, 0.10090522468090057, 1....</td>\n",
              "      <td>[1, 0, 0, 0, 0, 0, 1, 0, 0, 0]</td>\n",
              "    </tr>\n",
              "    <tr>\n",
              "      <th>2</th>\n",
              "      <td>tt0007257</td>\n",
              "      <td>Reggie, a wealthy young man about town, is eag...</td>\n",
              "      <td>[0.03462240472435951, 0.500708818435669, 1.862...</td>\n",
              "      <td>[1, 0, 1, 1, 0, 0, 0, 0, 0, 0]</td>\n",
              "    </tr>\n",
              "    <tr>\n",
              "      <th>3</th>\n",
              "      <td>tt0008011</td>\n",
              "      <td>Living in the country with her widowed mother,...</td>\n",
              "      <td>[0.0, 0.06257307529449463, 0.8574206233024597,...</td>\n",
              "      <td>[0, 0, 1, 0, 0, 0, 0, 0, 0, 0]</td>\n",
              "    </tr>\n",
              "    <tr>\n",
              "      <th>4</th>\n",
              "      <td>tt0003772</td>\n",
              "      <td>Based on the fairy tale: Cinderella is mistrea...</td>\n",
              "      <td>[0.2867472171783447, 0.0, 0.9653348922729492, ...</td>\n",
              "      <td>[1, 0, 0, 0, 0, 0, 0, 0, 0, 0]</td>\n",
              "    </tr>\n",
              "  </tbody>\n",
              "</table>\n",
              "</div>"
            ],
            "text/plain": [
              "     movieid  ...                          labels\n",
              "0  tt0007610  ...  [1, 0, 0, 0, 0, 0, 0, 0, 0, 0]\n",
              "1  tt0005078  ...  [1, 0, 0, 0, 0, 0, 1, 0, 0, 0]\n",
              "2  tt0007257  ...  [1, 0, 1, 1, 0, 0, 0, 0, 0, 0]\n",
              "3  tt0008011  ...  [0, 0, 1, 0, 0, 0, 0, 0, 0, 0]\n",
              "4  tt0003772  ...  [1, 0, 0, 0, 0, 0, 0, 0, 0, 0]\n",
              "\n",
              "[5 rows x 4 columns]"
            ]
          },
          "metadata": {
            "tags": []
          },
          "execution_count": 7
        }
      ]
    },
    {
      "cell_type": "code",
      "metadata": {
        "id": "OLyqqOBjWs6o",
        "colab_type": "code",
        "outputId": "345715f4-7c99-49df-f24b-d4236c0de79a",
        "colab": {
          "base_uri": "https://localhost:8080/",
          "height": 102
        }
      },
      "source": [
        "df['movieid'].describe()"
      ],
      "execution_count": 0,
      "outputs": [
        {
          "output_type": "execute_result",
          "data": {
            "text/plain": [
              "count         78008\n",
              "unique        78008\n",
              "top       tt0037175\n",
              "freq              1\n",
              "Name: movieid, dtype: object"
            ]
          },
          "metadata": {
            "tags": []
          },
          "execution_count": 8
        }
      ]
    },
    {
      "cell_type": "markdown",
      "metadata": {
        "id": "wsi59rkDWjS8",
        "colab_type": "text"
      },
      "source": [
        "### 2. Genre Counts"
      ]
    },
    {
      "cell_type": "code",
      "metadata": {
        "id": "RKcFuaZwSrZy",
        "colab_type": "code",
        "colab": {}
      },
      "source": [
        "# Question : Where are we preserving this order for the labels when we validate?"
      ],
      "execution_count": 0,
      "outputs": []
    },
    {
      "cell_type": "code",
      "metadata": {
        "id": "REzzpTc4QsOo",
        "colab_type": "code",
        "colab": {}
      },
      "source": [
        "count_dict = {\n",
        "    'Drama': 0, \n",
        "    'Thriller': 0, \n",
        "    'Comedy': 0, \n",
        "    'Action':0 , \n",
        "    'Crime': 0, \n",
        "    'Horror': 0, \n",
        "    'Romance': 0, \n",
        "    'Adventure':0, \n",
        "    'Mystery': 0, \n",
        "    'Sci-Fi':0 \n",
        "}\n",
        "\n",
        "lookup = {\n",
        "    0 : 'Drama',\n",
        "    1 : 'Thriller',\n",
        "    2 : 'Comedy',\n",
        "    3 : 'Action',\n",
        "    4 : 'Crime',\n",
        "    5 : 'Horror',\n",
        "    6 : 'Romance',\n",
        "    7 : 'Adventure',\n",
        "    8 : 'Mystery',\n",
        "    9 : 'Sci-Fi'\n",
        "}\n",
        "\n",
        "for index, labels in enumerate(df.labels):\n",
        "    labels = labels.strip('][').split(', ') \n",
        "    for i in range(10):\n",
        "        count_dict[lookup[i]] += int(labels[i])"
      ],
      "execution_count": 0,
      "outputs": []
    },
    {
      "cell_type": "code",
      "metadata": {
        "id": "JINdHsx3S7XL",
        "colab_type": "code",
        "outputId": "e79fb98c-0481-4d32-8a22-57db9a98bc5e",
        "colab": {
          "base_uri": "https://localhost:8080/",
          "height": 297
        }
      },
      "source": [
        "import matplotlib.pyplot as plt\n",
        "\n",
        "plt.bar(count_dict.keys(), count_dict.values(), color='g')\n",
        "plt.xticks(rotation='vertical')\n",
        "plt.xlabel('Genres')\n",
        "plt.ylabel('Count')\n",
        "plt.tight_layout()\n",
        "plt.savefig(\"genreCount.png\",dpi=300)"
      ],
      "execution_count": 0,
      "outputs": [
        {
          "output_type": "display_data",
          "data": {
            "image/png": "[encoded data removed]",
            "text/plain": [
              "<Figure size 432x288 with 1 Axes>"
            ]
          },
          "metadata": {
            "tags": [],
            "needs_background": "light"
          }
        }
      ]
    },
    {
      "cell_type": "code",
      "metadata": {
        "id": "vshzH9Q12p14",
        "colab_type": "code",
        "outputId": "678efcae-b48a-4d0d-b2a5-e5972fc11299",
        "colab": {
          "base_uri": "https://localhost:8080/",
          "height": 187
        }
      },
      "source": [
        "count_dict"
      ],
      "execution_count": 0,
      "outputs": [
        {
          "output_type": "execute_result",
          "data": {
            "text/plain": [
              "{'Action': 11831,\n",
              " 'Adventure': 6922,\n",
              " 'Comedy': 26861,\n",
              " 'Crime': 10328,\n",
              " 'Drama': 43367,\n",
              " 'Horror': 9222,\n",
              " 'Mystery': 5736,\n",
              " 'Romance': 15472,\n",
              " 'Sci-Fi': 4703,\n",
              " 'Thriller': 15247}"
            ]
          },
          "metadata": {
            "tags": []
          },
          "execution_count": 11
        }
      ]
    },
    {
      "cell_type": "markdown",
      "metadata": {
        "id": "9eBSMK4jWmaO",
        "colab_type": "text"
      },
      "source": [
        "### 3. Plot Lengths"
      ]
    },
    {
      "cell_type": "code",
      "metadata": {
        "id": "Bf87yRmuO1Jk",
        "colab_type": "code",
        "outputId": "4f8378c7-dfa5-4f5f-85aa-99b81e8f5057",
        "colab": {
          "base_uri": "https://localhost:8080/",
          "height": 34
        }
      },
      "source": [
        "# Generate plot_len and then take a look at quantiles\n",
        "def plot_length():\n",
        "  new_list = []\n",
        "  for res in df.movieplot:\n",
        "    new_list.append(len(res.split(\" \")))\n",
        "  return new_list\n",
        "\n",
        "plot_len_list = plot_length()\n",
        "np.quantile(plot_len_list, [0.01,0.25,0.5,0.75,0.999])"
      ],
      "execution_count": 0,
      "outputs": [
        {
          "output_type": "execute_result",
          "data": {
            "text/plain": [
              "array([ 17.,  39.,  73., 119., 477.])"
            ]
          },
          "metadata": {
            "tags": []
          },
          "execution_count": 37
        }
      ]
    },
    {
      "cell_type": "code",
      "metadata": {
        "id": "h2pI3jmBWAwh",
        "colab_type": "code",
        "outputId": "87eb164c-55fe-4919-df64-80c07356a128",
        "colab": {
          "base_uri": "https://localhost:8080/",
          "height": 279
        }
      },
      "source": [
        "plt.hist(plot_len_list, bins = 15, rwidth = 0.75)\n",
        "plt.xlabel(\"Plot Summary length\")\n",
        "plt.ylabel(\"Count\")\n",
        "plt.show()"
      ],
      "execution_count": 0,
      "outputs": [
        {
          "output_type": "display_data",
          "data": {
            "image/png": "[encoded data removed]",
            "text/plain": [
              "<Figure size 432x288 with 1 Axes>"
            ]
          },
          "metadata": {
            "tags": []
          }
        }
      ]
    },
    {
      "cell_type": "markdown",
      "metadata": {
        "id": "QIYlRGO3YK4f",
        "colab_type": "text"
      },
      "source": [
        "### 4. Movie Languages"
      ]
    },
    {
      "cell_type": "code",
      "metadata": {
        "id": "I0P7jnFXZ9_G",
        "colab_type": "code",
        "outputId": "7cd6dae2-a64a-42b2-b2e0-8924030fd38d",
        "colab": {
          "base_uri": "https://localhost:8080/",
          "height": 34
        }
      },
      "source": [
        "# 154 different languages\n",
        "original_df.language.nunique()"
      ],
      "execution_count": 0,
      "outputs": [
        {
          "output_type": "execute_result",
          "data": {
            "text/plain": [
              "154"
            ]
          },
          "metadata": {
            "tags": []
          },
          "execution_count": 61
        }
      ]
    },
    {
      "cell_type": "code",
      "metadata": {
        "id": "czcEC1Fqc35g",
        "colab_type": "code",
        "outputId": "cb791875-2f33-44bb-8593-6b096fafe80a",
        "colab": {
          "base_uri": "https://localhost:8080/",
          "height": 221
        }
      },
      "source": [
        "original_df.language.value_counts(dropna=True)"
      ],
      "execution_count": 0,
      "outputs": [
        {
          "output_type": "execute_result",
          "data": {
            "text/plain": [
              "English       39612\n",
              "French         4530\n",
              "Spanish        2531\n",
              "Japanese       2523\n",
              "Italian        2395\n",
              "              ...  \n",
              "Belarusian        1\n",
              "Sanskrit          1\n",
              "Chechen           1\n",
              "Purepecha         1\n",
              "Tzotzil           1\n",
              "Name: language, Length: 154, dtype: int64"
            ]
          },
          "metadata": {
            "tags": []
          },
          "execution_count": 94
        }
      ]
    },
    {
      "cell_type": "code",
      "metadata": {
        "id": "u2yHB-p2buzU",
        "colab_type": "code",
        "outputId": "8b569cad-1a3e-4f0a-a8c1-0d7cce83f4fd",
        "colab": {
          "base_uri": "https://localhost:8080/",
          "height": 315
        }
      },
      "source": [
        "prob = original_df.language.value_counts(normalize=True, dropna=True)\n",
        "threshold = 0.02\n",
        "mask = prob > threshold\n",
        "tail_prob = prob.loc[~mask].sum()\n",
        "prob = prob.loc[mask]\n",
        "prob['other'] = tail_prob\n",
        "prob.plot(kind='bar')\n",
        "plt.xticks(rotation=90)\n",
        "plt.xlabel(\"Languages\")\n",
        "plt.ylabel(\"Count\")\n",
        "plt.show()"
      ],
      "execution_count": 0,
      "outputs": [
        {
          "output_type": "display_data",
          "data": {
            "image/png": "[encoded data removed]",
            "text/plain": [
              "<Figure size 432x288 with 1 Axes>"
            ]
          },
          "metadata": {
            "tags": []
          }
        }
      ]
    },
    {
      "cell_type": "markdown",
      "metadata": {
        "id": "aM2kXb9bYP3w",
        "colab_type": "text"
      },
      "source": [
        "### 5. Movie Years"
      ]
    },
    {
      "cell_type": "markdown",
      "metadata": {
        "id": "bnFAzgjxcwNy",
        "colab_type": "text"
      },
      "source": [
        "Our dataset contains movies from 111 different years, ranging from 1906 to 2020, with the most movies in 2017. We also generate a plot that bins the movies into years such as 1980 - 1990, 2010 - 2020 etc  "
      ]
    },
    {
      "cell_type": "code",
      "metadata": {
        "id": "PbG4Hr9yYTj0",
        "colab_type": "code",
        "colab": {}
      },
      "source": [
        "# Remove empty rows\n",
        "original_df = original_df[~(original_df['year'] == '|')]\n",
        "original_df = original_df[~(original_df['year'] == 'original title')]\n",
        "original_df.year = original_df.year.astype(int)"
      ],
      "execution_count": 0,
      "outputs": []
    },
    {
      "cell_type": "code",
      "metadata": {
        "id": "zgZDlw5Scrz_",
        "colab_type": "code",
        "outputId": "3b808b7b-a8af-4517-8201-6257256c6184",
        "colab": {
          "base_uri": "https://localhost:8080/",
          "height": 34
        }
      },
      "source": [
        "original_df.year.min()"
      ],
      "execution_count": 0,
      "outputs": [
        {
          "output_type": "execute_result",
          "data": {
            "text/plain": [
              "1906"
            ]
          },
          "metadata": {
            "tags": []
          },
          "execution_count": 92
        }
      ]
    },
    {
      "cell_type": "code",
      "metadata": {
        "id": "iNDJf4M9cKU2",
        "colab_type": "code",
        "outputId": "5005942a-8f56-4547-d4ad-03e87d5df944",
        "colab": {
          "base_uri": "https://localhost:8080/",
          "height": 34
        }
      },
      "source": [
        "original_df.year.max()"
      ],
      "execution_count": 0,
      "outputs": [
        {
          "output_type": "execute_result",
          "data": {
            "text/plain": [
              "2020"
            ]
          },
          "metadata": {
            "tags": []
          },
          "execution_count": 91
        }
      ]
    },
    {
      "cell_type": "code",
      "metadata": {
        "id": "wa2l_jgYc-S5",
        "colab_type": "code",
        "outputId": "9a56e7cc-3f10-469c-d50a-a399bbf17e74",
        "colab": {
          "base_uri": "https://localhost:8080/",
          "height": 34
        }
      },
      "source": [
        "original_df.year.nunique()"
      ],
      "execution_count": 0,
      "outputs": [
        {
          "output_type": "execute_result",
          "data": {
            "text/plain": [
              "111"
            ]
          },
          "metadata": {
            "tags": []
          },
          "execution_count": 96
        }
      ]
    },
    {
      "cell_type": "code",
      "metadata": {
        "id": "L9ndXTVBcuCy",
        "colab_type": "code",
        "outputId": "faf91b16-913f-499c-d442-f69a3830681a",
        "colab": {
          "base_uri": "https://localhost:8080/",
          "height": 221
        }
      },
      "source": [
        "original_df.year.value_counts()"
      ],
      "execution_count": 0,
      "outputs": [
        {
          "output_type": "execute_result",
          "data": {
            "text/plain": [
              "2017    3110\n",
              "2016    3028\n",
              "2015    2897\n",
              "2018    2875\n",
              "2014    2857\n",
              "        ... \n",
              "1913      13\n",
              "1912       5\n",
              "1911       4\n",
              "2020       3\n",
              "1906       1\n",
              "Name: year, Length: 111, dtype: int64"
            ]
          },
          "metadata": {
            "tags": []
          },
          "execution_count": 95
        }
      ]
    },
    {
      "cell_type": "code",
      "metadata": {
        "id": "rPInSZRIdQkp",
        "colab_type": "code",
        "outputId": "0cb48c1a-592c-40ef-ee6d-6d33420f5a33",
        "colab": {
          "base_uri": "https://localhost:8080/",
          "height": 297
        }
      },
      "source": [
        "bins = [1900, 1910, 1920, 1930, 1940, 1950, 1960, 1970, 1980, 1990, 2000, 2010, 2020]\n",
        "# original_df['binned'] = pd.cut(original_df['year'], bins)\n",
        "s = pd.cut(original_df['year'], bins=bins).value_counts()\n",
        "s.plot(kind='barh')\n",
        "plt.tight_layout()\n",
        "plt.savefig(\"yearlyPrediction.png\",dpi=300)"
      ],
      "execution_count": 0,
      "outputs": [
        {
          "output_type": "display_data",
          "data": {
            "image/png": "[encoded data removed]",
            "text/plain": [
              "<Figure size 432x288 with 1 Axes>"
            ]
          },
          "metadata": {
            "tags": [],
            "needs_background": "light"
          }
        }
      ]
    },
    {
      "cell_type": "markdown",
      "metadata": {
        "id": "pQLClTHt0FO1",
        "colab_type": "text"
      },
      "source": [
        "## Co-Occurrence Matrix"
      ]
    },
    {
      "cell_type": "code",
      "metadata": {
        "id": "IFtvooz155Xm",
        "colab_type": "code",
        "outputId": "9cfc3e10-998c-4509-b4e3-ce2867ce9cb4",
        "colab": {
          "base_uri": "https://localhost:8080/",
          "height": 204
        }
      },
      "source": [
        "df.head()"
      ],
      "execution_count": 0,
      "outputs": [
        {
          "output_type": "execute_result",
          "data": {
            "text/html": [
              "<div>\n",
              "<style scoped>\n",
              "    .dataframe tbody tr th:only-of-type {\n",
              "        vertical-align: middle;\n",
              "    }\n",
              "\n",
              "    .dataframe tbody tr th {\n",
              "        vertical-align: top;\n",
              "    }\n",
              "\n",
              "    .dataframe thead th {\n",
              "        text-align: right;\n",
              "    }\n",
              "</style>\n",
              "<table border=\"1\" class=\"dataframe\">\n",
              "  <thead>\n",
              "    <tr style=\"text-align: right;\">\n",
              "      <th></th>\n",
              "      <th>movieid</th>\n",
              "      <th>movieplot</th>\n",
              "      <th>feature_vector</th>\n",
              "      <th>labels</th>\n",
              "    </tr>\n",
              "  </thead>\n",
              "  <tbody>\n",
              "    <tr>\n",
              "      <th>0</th>\n",
              "      <td>tt0007610</td>\n",
              "      <td>A judge who had taken part in the gold rush of...</td>\n",
              "      <td>[0.7366994023323059, 0.9941093921661377, 1.076...</td>\n",
              "      <td>[1, 0, 0, 0, 0, 0, 0, 0, 0, 0]</td>\n",
              "    </tr>\n",
              "    <tr>\n",
              "      <th>1</th>\n",
              "      <td>tt0005078</td>\n",
              "      <td>Richard Hardy, a hardworking stockbroker, labo...</td>\n",
              "      <td>[0.002950882539153099, 0.10090522468090057, 1....</td>\n",
              "      <td>[1, 0, 0, 0, 0, 0, 1, 0, 0, 0]</td>\n",
              "    </tr>\n",
              "    <tr>\n",
              "      <th>2</th>\n",
              "      <td>tt0007257</td>\n",
              "      <td>Reggie, a wealthy young man about town, is eag...</td>\n",
              "      <td>[0.03462240472435951, 0.500708818435669, 1.862...</td>\n",
              "      <td>[1, 0, 1, 1, 0, 0, 0, 0, 0, 0]</td>\n",
              "    </tr>\n",
              "    <tr>\n",
              "      <th>3</th>\n",
              "      <td>tt0008011</td>\n",
              "      <td>Living in the country with her widowed mother,...</td>\n",
              "      <td>[0.0, 0.06257307529449463, 0.8574206233024597,...</td>\n",
              "      <td>[0, 0, 1, 0, 0, 0, 0, 0, 0, 0]</td>\n",
              "    </tr>\n",
              "    <tr>\n",
              "      <th>4</th>\n",
              "      <td>tt0003772</td>\n",
              "      <td>Based on the fairy tale: Cinderella is mistrea...</td>\n",
              "      <td>[0.2867472171783447, 0.0, 0.9653348922729492, ...</td>\n",
              "      <td>[1, 0, 0, 0, 0, 0, 0, 0, 0, 0]</td>\n",
              "    </tr>\n",
              "  </tbody>\n",
              "</table>\n",
              "</div>"
            ],
            "text/plain": [
              "     movieid  ...                          labels\n",
              "0  tt0007610  ...  [1, 0, 0, 0, 0, 0, 0, 0, 0, 0]\n",
              "1  tt0005078  ...  [1, 0, 0, 0, 0, 0, 1, 0, 0, 0]\n",
              "2  tt0007257  ...  [1, 0, 1, 1, 0, 0, 0, 0, 0, 0]\n",
              "3  tt0008011  ...  [0, 0, 1, 0, 0, 0, 0, 0, 0, 0]\n",
              "4  tt0003772  ...  [1, 0, 0, 0, 0, 0, 0, 0, 0, 0]\n",
              "\n",
              "[5 rows x 4 columns]"
            ]
          },
          "metadata": {
            "tags": []
          },
          "execution_count": 9
        }
      ]
    },
    {
      "cell_type": "code",
      "metadata": {
        "id": "7_nVzwue0IAJ",
        "colab_type": "code",
        "colab": {}
      },
      "source": [
        "headers = ['Drama','Thriller','Comedy','Action','Crime','Horror','Romance','Adventure','Mystery','Sci-Fi']"
      ],
      "execution_count": 0,
      "outputs": []
    },
    {
      "cell_type": "code",
      "metadata": {
        "id": "7cFKOKqt6Lg2",
        "colab_type": "code",
        "colab": {}
      },
      "source": [
        "import ast\n",
        "final_l = []\n",
        "for label in df.labels:\n",
        "    l = ast.literal_eval(label)\n",
        "    final_l.append(l)"
      ],
      "execution_count": 0,
      "outputs": []
    },
    {
      "cell_type": "code",
      "metadata": {
        "id": "sDkKkMCR67gE",
        "colab_type": "code",
        "colab": {}
      },
      "source": [
        "cooccur_df = pd.DataFrame.from_records(final_l, columns=headers)"
      ],
      "execution_count": 0,
      "outputs": []
    },
    {
      "cell_type": "code",
      "metadata": {
        "id": "1K0F4FiO7fRU",
        "colab_type": "code",
        "colab": {}
      },
      "source": [
        "output = cooccur_df.T.dot(cooccur_df)"
      ],
      "execution_count": 0,
      "outputs": []
    },
    {
      "cell_type": "code",
      "metadata": {
        "id": "kFotgqfg8RW0",
        "colab_type": "code",
        "outputId": "e0ab9f51-29ba-4f45-e30b-1545dcba732a",
        "colab": {
          "base_uri": "https://localhost:8080/",
          "height": 359
        }
      },
      "source": [
        "output.head(10)"
      ],
      "execution_count": 0,
      "outputs": [
        {
          "output_type": "execute_result",
          "data": {
            "text/html": [
              "<div>\n",
              "<style scoped>\n",
              "    .dataframe tbody tr th:only-of-type {\n",
              "        vertical-align: middle;\n",
              "    }\n",
              "\n",
              "    .dataframe tbody tr th {\n",
              "        vertical-align: top;\n",
              "    }\n",
              "\n",
              "    .dataframe thead th {\n",
              "        text-align: right;\n",
              "    }\n",
              "</style>\n",
              "<table border=\"1\" class=\"dataframe\">\n",
              "  <thead>\n",
              "    <tr style=\"text-align: right;\">\n",
              "      <th></th>\n",
              "      <th>Drama</th>\n",
              "      <th>Thriller</th>\n",
              "      <th>Comedy</th>\n",
              "      <th>Action</th>\n",
              "      <th>Crime</th>\n",
              "      <th>Horror</th>\n",
              "      <th>Romance</th>\n",
              "      <th>Adventure</th>\n",
              "      <th>Mystery</th>\n",
              "      <th>Sci-Fi</th>\n",
              "    </tr>\n",
              "  </thead>\n",
              "  <tbody>\n",
              "    <tr>\n",
              "      <th>Drama</th>\n",
              "      <td>43367</td>\n",
              "      <td>7426</td>\n",
              "      <td>9248</td>\n",
              "      <td>4987</td>\n",
              "      <td>6446</td>\n",
              "      <td>1792</td>\n",
              "      <td>9941</td>\n",
              "      <td>2318</td>\n",
              "      <td>2849</td>\n",
              "      <td>1111</td>\n",
              "    </tr>\n",
              "    <tr>\n",
              "      <th>Thriller</th>\n",
              "      <td>7426</td>\n",
              "      <td>15247</td>\n",
              "      <td>1419</td>\n",
              "      <td>4176</td>\n",
              "      <td>4920</td>\n",
              "      <td>4051</td>\n",
              "      <td>1283</td>\n",
              "      <td>1134</td>\n",
              "      <td>3453</td>\n",
              "      <td>1533</td>\n",
              "    </tr>\n",
              "    <tr>\n",
              "      <th>Comedy</th>\n",
              "      <td>9248</td>\n",
              "      <td>1419</td>\n",
              "      <td>26861</td>\n",
              "      <td>2500</td>\n",
              "      <td>2423</td>\n",
              "      <td>1515</td>\n",
              "      <td>6974</td>\n",
              "      <td>2092</td>\n",
              "      <td>825</td>\n",
              "      <td>1094</td>\n",
              "    </tr>\n",
              "    <tr>\n",
              "      <th>Action</th>\n",
              "      <td>4987</td>\n",
              "      <td>4176</td>\n",
              "      <td>2500</td>\n",
              "      <td>11831</td>\n",
              "      <td>3047</td>\n",
              "      <td>1039</td>\n",
              "      <td>1417</td>\n",
              "      <td>2879</td>\n",
              "      <td>640</td>\n",
              "      <td>1757</td>\n",
              "    </tr>\n",
              "    <tr>\n",
              "      <th>Crime</th>\n",
              "      <td>6446</td>\n",
              "      <td>4920</td>\n",
              "      <td>2423</td>\n",
              "      <td>3047</td>\n",
              "      <td>10328</td>\n",
              "      <td>621</td>\n",
              "      <td>1218</td>\n",
              "      <td>622</td>\n",
              "      <td>1861</td>\n",
              "      <td>228</td>\n",
              "    </tr>\n",
              "    <tr>\n",
              "      <th>Horror</th>\n",
              "      <td>1792</td>\n",
              "      <td>4051</td>\n",
              "      <td>1515</td>\n",
              "      <td>1039</td>\n",
              "      <td>621</td>\n",
              "      <td>9222</td>\n",
              "      <td>377</td>\n",
              "      <td>498</td>\n",
              "      <td>1734</td>\n",
              "      <td>1514</td>\n",
              "    </tr>\n",
              "    <tr>\n",
              "      <th>Romance</th>\n",
              "      <td>9941</td>\n",
              "      <td>1283</td>\n",
              "      <td>6974</td>\n",
              "      <td>1417</td>\n",
              "      <td>1218</td>\n",
              "      <td>377</td>\n",
              "      <td>15472</td>\n",
              "      <td>1151</td>\n",
              "      <td>734</td>\n",
              "      <td>336</td>\n",
              "    </tr>\n",
              "    <tr>\n",
              "      <th>Adventure</th>\n",
              "      <td>2318</td>\n",
              "      <td>1134</td>\n",
              "      <td>2092</td>\n",
              "      <td>2879</td>\n",
              "      <td>622</td>\n",
              "      <td>498</td>\n",
              "      <td>1151</td>\n",
              "      <td>6922</td>\n",
              "      <td>440</td>\n",
              "      <td>1205</td>\n",
              "    </tr>\n",
              "    <tr>\n",
              "      <th>Mystery</th>\n",
              "      <td>2849</td>\n",
              "      <td>3453</td>\n",
              "      <td>825</td>\n",
              "      <td>640</td>\n",
              "      <td>1861</td>\n",
              "      <td>1734</td>\n",
              "      <td>734</td>\n",
              "      <td>440</td>\n",
              "      <td>5736</td>\n",
              "      <td>511</td>\n",
              "    </tr>\n",
              "    <tr>\n",
              "      <th>Sci-Fi</th>\n",
              "      <td>1111</td>\n",
              "      <td>1533</td>\n",
              "      <td>1094</td>\n",
              "      <td>1757</td>\n",
              "      <td>228</td>\n",
              "      <td>1514</td>\n",
              "      <td>336</td>\n",
              "      <td>1205</td>\n",
              "      <td>511</td>\n",
              "      <td>4703</td>\n",
              "    </tr>\n",
              "  </tbody>\n",
              "</table>\n",
              "</div>"
            ],
            "text/plain": [
              "           Drama  Thriller  Comedy  Action  ...  Romance  Adventure  Mystery  Sci-Fi\n",
              "Drama      43367      7426    9248    4987  ...     9941       2318     2849    1111\n",
              "Thriller    7426     15247    1419    4176  ...     1283       1134     3453    1533\n",
              "Comedy      9248      1419   26861    2500  ...     6974       2092      825    1094\n",
              "Action      4987      4176    2500   11831  ...     1417       2879      640    1757\n",
              "Crime       6446      4920    2423    3047  ...     1218        622     1861     228\n",
              "Horror      1792      4051    1515    1039  ...      377        498     1734    1514\n",
              "Romance     9941      1283    6974    1417  ...    15472       1151      734     336\n",
              "Adventure   2318      1134    2092    2879  ...     1151       6922      440    1205\n",
              "Mystery     2849      3453     825     640  ...      734        440     5736     511\n",
              "Sci-Fi      1111      1533    1094    1757  ...      336       1205      511    4703\n",
              "\n",
              "[10 rows x 10 columns]"
            ]
          },
          "metadata": {
            "tags": []
          },
          "execution_count": 14
        }
      ]
    },
    {
      "cell_type": "code",
      "metadata": {
        "id": "nfCnK-NV7s_w",
        "colab_type": "code",
        "outputId": "7e8c6cc0-a657-4f9b-a419-b5f691f9cfd6",
        "colab": {
          "base_uri": "https://localhost:8080/",
          "height": 378
        }
      },
      "source": [
        "import seaborn as sns\n",
        "sns.heatmap(output, cmap='Blues')"
      ],
      "execution_count": 0,
      "outputs": [
        {
          "output_type": "stream",
          "text": [
            "/usr/local/lib/python3.6/dist-packages/statsmodels/tools/_testing.py:19: FutureWarning: pandas.util.testing is deprecated. Use the functions in the public API at pandas.testing instead.\n",
            "  import pandas.util.testing as tm\n"
          ],
          "name": "stderr"
        },
        {
          "output_type": "execute_result",
          "data": {
            "text/plain": [
              "<matplotlib.axes._subplots.AxesSubplot at 0x7fc26e03f518>"
            ]
          },
          "metadata": {
            "tags": []
          },
          "execution_count": 15
        },
        {
          "output_type": "display_data",
          "data": {
            "image/png": "[encoded data removed]",
            "text/plain": [
              "<Figure size 432x288 with 2 Axes>"
            ]
          },
          "metadata": {
            "tags": [],
            "needs_background": "light"
          }
        }
      ]
    },
    {
      "cell_type": "code",
      "metadata": {
        "id": "xxaj1nuO9-T9",
        "colab_type": "code",
        "outputId": "cf80f0a5-2804-4679-f3e9-197ac17a2797",
        "colab": {
          "base_uri": "https://localhost:8080/",
          "height": 297
        }
      },
      "source": [
        "sns.heatmap(output)\n",
        "plt.tight_layout()\n",
        "plt.savefig(\"originalCoOccurrence.png\",dpi=300)"
      ],
      "execution_count": 0,
      "outputs": [
        {
          "output_type": "display_data",
          "data": {
            "image/png": "[encoded data removed]",
            "text/plain": [
              "<Figure size 432x288 with 2 Axes>"
            ]
          },
          "metadata": {
            "tags": [],
            "needs_background": "light"
          }
        }
      ]
    },
    {
      "cell_type": "code",
      "metadata": {
        "id": "2-NeQ8f48Pa_",
        "colab_type": "code",
        "colab": {}
      },
      "source": [
        "# Options for cmap\n",
        "# 'Accent', 'Accent_r', 'Blues', 'Blues_r', 'BrBG', 'BrBG_r', 'BuGn', 'BuGn_r', 'BuPu', 'BuPu_r', 'CMRmap', 'CMRmap_r', \n",
        "# 'Dark2', 'Dark2_r', 'GnBu', 'GnBu_r', 'Greens', 'Greens_r', 'Greys', 'Greys_r', 'OrRd', 'OrRd_r', 'Oranges', 'Oranges_r', \n",
        "# 'PRGn', 'PRGn_r', 'Paired', 'Paired_r', 'Pastel1', 'Pastel1_r', 'Pastel2', 'Pastel2_r', 'PiYG', 'PiYG_r', 'PuBu', 'PuBuGn', \n",
        "# 'PuBuGn_r', 'PuBu_r', 'PuOr', 'PuOr_r', 'PuRd', 'PuRd_r', 'Purples', 'Purples_r', 'RdBu', 'RdBu_r', 'RdGy', 'RdGy_r', 'RdPu', \n",
        "# 'RdPu_r', 'RdYlBu', 'RdYlBu_r', 'RdYlGn', 'RdYlGn_r', 'Reds', 'Reds_r', 'Set1', 'Set1_r', 'Set2', 'Set2_r', 'Set3', 'Set3_r', \n",
        "# 'Spectral', 'Spectral_r', 'Wistia', 'Wistia_r', 'YlGn', 'YlGnBu', 'YlGnBu_r', 'YlGn_r', 'YlOrBr', 'YlOrBr_r', 'YlOrRd', 'YlOrRd_r', \n",
        "# 'afmhot', 'afmhot_r', 'autumn', 'autumn_r', 'binary', 'binary_r', 'bone', 'bone_r', 'brg', 'brg_r', 'bwr', 'bwr_r', 'cividis', 'cividis_r', \n",
        "# 'cool', 'cool_r', 'coolwarm', 'coolwarm_r', 'copper', 'copper_r', 'cubehelix', 'cubehelix_r', 'flag', 'flag_r', 'gist_earth', 'gist_earth_r', \n",
        "# 'gist_gray', 'gist_gray_r', 'gist_heat', 'gist_heat_r', 'gist_ncar', 'gist_ncar_r', 'gist_rainbow', 'gist_rainbow_r', 'gist_stern', 'gist_stern_r', \n",
        "# 'gist_yarg', 'gist_yarg_r', 'gnuplot', 'gnuplot2', 'gnuplot2_r', 'gnuplot_r', 'gray', 'gray_r', 'hot', 'hot_r', 'hsv', 'hsv_r', 'icefire', 'icefire_r', \n",
        "# 'inferno', 'inferno_r', 'jet', 'jet_r', 'magma', 'magma_r', 'mako', 'mako_r', 'nipy..."
      ],
      "execution_count": 0,
      "outputs": []
    }
  ]
}