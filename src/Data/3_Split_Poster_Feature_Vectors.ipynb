{
  "nbformat": 4,
  "nbformat_minor": 0,
  "metadata": {
    "colab": {
      "name": "3. Split Poster Feature Vectors.ipynb",
      "provenance": [],
      "machine_shape": "hm",
      "include_colab_link": true
    },
    "kernelspec": {
      "name": "python3",
      "display_name": "Python 3"
    },
    "accelerator": "TPU"
  },
  "cells": [
    {
      "cell_type": "markdown",
      "metadata": {
        "id": "view-in-github",
        "colab_type": "text"
      },
      "source": [
        "<a href=\"https://colab.research.google.com/github/kasri-mids/MovieGenreClassification/blob/master/src/Data/3_Split_Poster_Feature_Vectors.ipynb\" target=\"_parent\"><img src=\"https://colab.research.google.com/assets/colab-badge.svg\" alt=\"Open In Colab\"/></a>"
      ]
    },
    {
      "cell_type": "markdown",
      "metadata": {
        "id": "zBxLoEdjKJ7P",
        "colab_type": "text"
      },
      "source": [
        "# Splitting Poster Feature Vectors for train, dev and val\n",
        "\n",
        "In this notebook, we take our cleaned dataset and split the feature vectors for the movie posters into a train, dev and validation set and we save those files for later use.\n",
        "\n",
        "We do this for both, 1 label to perform baseline error analysis as well as 10 labels for the entire model."
      ]
    },
    {
      "cell_type": "code",
      "metadata": {
        "id": "Uwjzt3D_C-Mj",
        "colab_type": "code",
        "colab": {}
      },
      "source": [
        "# Imports\n",
        "\n",
        "import json\n",
        "import pandas as pd\n",
        "import numpy as np\n",
        "import os\n",
        "import sys\n",
        "import tensorflow as tf\n",
        "import tensorflow_hub as hub\n",
        "from time import time\n",
        "import io\n",
        "import re\n",
        "from csv import reader\n",
        "from datetime import datetime\n",
        "import matplotlib.pyplot as plt\n",
        "\n",
        "import matplotlib.pyplot as plt\n",
        "from matplotlib import colors\n",
        "from matplotlib.ticker import PercentFormatter\n",
        "\n",
        "from tensorflow.keras import backend as K\n",
        "from tensorflow.keras import layers\n",
        "from tensorflow.python.keras.layers import Lambda\n",
        "from tensorflow.keras.callbacks import TensorBoard\n",
        "from tensorflow.keras.backend import sparse_categorical_crossentropy\n",
        "from tensorflow.keras.layers import Dense, TimeDistributed\n",
        "\n",
        "from sklearn.model_selection import train_test_split\n",
        "from sklearn.preprocessing import MultiLabelBinarizer\n",
        "from sklearn.model_selection import train_test_split"
      ],
      "execution_count": 0,
      "outputs": []
    },
    {
      "cell_type": "code",
      "metadata": {
        "id": "E0jSjoI6B9Ac",
        "colab_type": "code",
        "outputId": "420448de-3848-45c2-c982-bf1fc0a65b4b",
        "colab": {
          "base_uri": "https://localhost:8080/",
          "height": 122
        }
      },
      "source": [
        "from google.colab import drive\n",
        "drive.mount('/content/drive', force_remount=True)"
      ],
      "execution_count": 0,
      "outputs": [
        {
          "output_type": "stream",
          "text": [
            "Go to this URL in a browser: https://accounts.google.com/o/oauth2/auth?client_id=947318989803-6bn6qk8qdgf4n4g3pfee6491hc0brc4i.apps.googleusercontent.com&redirect_uri=urn%3aietf%3awg%3aoauth%3a2.0%3aoob&response_type=code&scope=email%20https%3a%2f%2fwww.googleapis.com%2fauth%2fdocs.test%20https%3a%2f%2fwww.googleapis.com%2fauth%2fdrive%20https%3a%2f%2fwww.googleapis.com%2fauth%2fdrive.photos.readonly%20https%3a%2f%2fwww.googleapis.com%2fauth%2fpeopleapi.readonly\n",
            "\n",
            "Enter your authorization code:\n",
            "··········\n",
            "Mounted at /content/drive\n"
          ],
          "name": "stdout"
        }
      ]
    },
    {
      "cell_type": "code",
      "metadata": {
        "id": "eWqg74AICJ_3",
        "colab_type": "code",
        "colab": {}
      },
      "source": [
        "# ERROR_TEST = 1\n",
        "ERROR_TEST = 0"
      ],
      "execution_count": 0,
      "outputs": []
    },
    {
      "cell_type": "code",
      "metadata": {
        "id": "yNp5NcfEC4pR",
        "colab_type": "code",
        "colab": {}
      },
      "source": [
        "if (ERROR_TEST):\n",
        "    use_cols = ['movieid', 'movieplot', 'labels']\n",
        "    df = pd.read_csv('/content/drive/My Drive/w266-FinalProject/MoviePlotsAndPosters/data/clean_poster_data_1.csv',\n",
        "                     usecols=use_cols)    \n",
        "    NUM_LABELS = 1\n",
        "    data_save_prefix = '/content/drive/My Drive/w266-FinalProject/MoviePlotsAndPosters/data/baseline_test/'\n",
        "    model_save_prefix = '/content/drive/My Drive/w266-FinalProject/MoviePlotsAndPosters/model/baseline_test/'\n",
        "    plot_save_prefix = '/content/drive/My Drive/w266-FinalProject/MoviePlotsAndPosters/plots/baseline_test/'\n",
        "else:\n",
        "    use_cols = ['movieid', 'movieplot', 'labels']\n",
        "    df = pd.read_csv('/content/drive/My Drive/w266-FinalProject/MoviePlotsAndPosters/data/clean_poster_data_10.csv',\n",
        "                     usecols=use_cols)\n",
        "    NUM_LABELS = 10\n",
        "    data_save_prefix = '/content/drive/My Drive/w266-FinalProject/MoviePlotsAndPosters/data/baseline/'\n",
        "    model_save_prefix = '/content/drive/My Drive/w266-FinalProject/MoviePlotsAndPosters/model/baseline/'\n",
        "    plot_save_prefix = '/content/drive/My Drive/w266-FinalProject/MoviePlotsAndPosters/plots/baseline/'"
      ],
      "execution_count": 0,
      "outputs": []
    },
    {
      "cell_type": "code",
      "metadata": {
        "id": "FqpiPWoaC7v6",
        "colab_type": "code",
        "outputId": "3f5367a4-350b-4338-8f82-bd42bfe42cf2",
        "colab": {
          "base_uri": "https://localhost:8080/",
          "height": 564
        }
      },
      "source": [
        "df.movieid = df.movieid + '.jpg'\n",
        "df.head()"
      ],
      "execution_count": 0,
      "outputs": [
        {
          "output_type": "execute_result",
          "data": {
            "text/html": [
              "<div>\n",
              "<style scoped>\n",
              "    .dataframe tbody tr th:only-of-type {\n",
              "        vertical-align: middle;\n",
              "    }\n",
              "\n",
              "    .dataframe tbody tr th {\n",
              "        vertical-align: top;\n",
              "    }\n",
              "\n",
              "    .dataframe thead th {\n",
              "        text-align: right;\n",
              "    }\n",
              "</style>\n",
              "<table border=\"1\" class=\"dataframe\">\n",
              "  <thead>\n",
              "    <tr style=\"text-align: right;\">\n",
              "      <th></th>\n",
              "      <th>movieid</th>\n",
              "      <th>movieplot</th>\n",
              "      <th>labels</th>\n",
              "    </tr>\n",
              "  </thead>\n",
              "  <tbody>\n",
              "    <tr>\n",
              "      <th>0</th>\n",
              "      <td>tt0007610.jpg</td>\n",
              "      <td>A judge who had taken part in the gold rush of...</td>\n",
              "      <td>[1, 0, 0, 0, 0, 0, 0, 0, 0, 0]</td>\n",
              "    </tr>\n",
              "    <tr>\n",
              "      <th>1</th>\n",
              "      <td>tt0005078.jpg</td>\n",
              "      <td>Richard Hardy, a hardworking stockbroker, labo...</td>\n",
              "      <td>[1, 0, 0, 0, 0, 0, 1, 0, 0, 0]</td>\n",
              "    </tr>\n",
              "    <tr>\n",
              "      <th>2</th>\n",
              "      <td>tt0007257.jpg</td>\n",
              "      <td>Reggie, a wealthy young man about town, is eag...</td>\n",
              "      <td>[1, 0, 1, 1, 0, 0, 0, 0, 0, 0]</td>\n",
              "    </tr>\n",
              "    <tr>\n",
              "      <th>3</th>\n",
              "      <td>tt0008011.jpg</td>\n",
              "      <td>Living in the country with her widowed mother,...</td>\n",
              "      <td>[0, 0, 1, 0, 0, 0, 0, 0, 0, 0]</td>\n",
              "    </tr>\n",
              "    <tr>\n",
              "      <th>4</th>\n",
              "      <td>tt0003772.jpg</td>\n",
              "      <td>Based on the fairy tale: Cinderella is mistrea...</td>\n",
              "      <td>[1, 0, 0, 0, 0, 0, 0, 0, 0, 0]</td>\n",
              "    </tr>\n",
              "  </tbody>\n",
              "</table>\n",
              "</div>"
            ],
            "text/plain": [
              "         movieid  ...                          labels\n",
              "0  tt0007610.jpg  ...  [1, 0, 0, 0, 0, 0, 0, 0, 0, 0]\n",
              "1  tt0005078.jpg  ...  [1, 0, 0, 0, 0, 0, 1, 0, 0, 0]\n",
              "2  tt0007257.jpg  ...  [1, 0, 1, 1, 0, 0, 0, 0, 0, 0]\n",
              "3  tt0008011.jpg  ...  [0, 0, 1, 0, 0, 0, 0, 0, 0, 0]\n",
              "4  tt0003772.jpg  ...  [1, 0, 0, 0, 0, 0, 0, 0, 0, 0]\n",
              "\n",
              "[5 rows x 3 columns]"
            ]
          },
          "metadata": {
            "tags": []
          },
          "execution_count": 7
        }
      ]
    },
    {
      "cell_type": "code",
      "metadata": {
        "id": "fyfMonH-DC1v",
        "colab_type": "code",
        "outputId": "8c0794f1-2195-4782-d80f-60136ff8551e",
        "colab": {
          "base_uri": "https://localhost:8080/",
          "height": 34
        }
      },
      "source": [
        "df.shape"
      ],
      "execution_count": 0,
      "outputs": [
        {
          "output_type": "execute_result",
          "data": {
            "text/plain": [
              "(78008, 3)"
            ]
          },
          "metadata": {
            "tags": []
          },
          "execution_count": 8
        }
      ]
    },
    {
      "cell_type": "code",
      "metadata": {
        "id": "V3mv2KPoDD_v",
        "colab_type": "code",
        "outputId": "0ad2370d-5fd4-4cd7-a0d9-c644a68a906b",
        "colab": {
          "base_uri": "https://localhost:8080/",
          "height": 34
        }
      },
      "source": [
        "poster_feature_vector = np.load('/content/drive/My Drive/w266-FinalProject/data/posters/image_feature_vectors.data.npy',allow_pickle=True)\n",
        "poster_feature_vector.shape"
      ],
      "execution_count": 0,
      "outputs": [
        {
          "output_type": "execute_result",
          "data": {
            "text/plain": [
              "(81124, 2048)"
            ]
          },
          "metadata": {
            "tags": []
          },
          "execution_count": 9
        }
      ]
    },
    {
      "cell_type": "code",
      "metadata": {
        "id": "1zTpk_VtDQeg",
        "colab_type": "code",
        "outputId": "35c772d1-d057-4858-e10c-b644d0a58287",
        "colab": {
          "base_uri": "https://localhost:8080/",
          "height": 34
        }
      },
      "source": [
        "poster_tracking_id = pd.read_csv('/content/drive/My Drive/w266-FinalProject/data/posters/image_tracking_id.data', header=None)\n",
        "poster_tracking_id.shape"
      ],
      "execution_count": 0,
      "outputs": [
        {
          "output_type": "execute_result",
          "data": {
            "text/plain": [
              "(81124, 1)"
            ]
          },
          "metadata": {
            "tags": []
          },
          "execution_count": 10
        }
      ]
    },
    {
      "cell_type": "code",
      "metadata": {
        "id": "2KBV_1fpDost",
        "colab_type": "code",
        "colab": {}
      },
      "source": [
        "poster_tracking_id.loc[:,'indexes'] = poster_tracking_id.index"
      ],
      "execution_count": 0,
      "outputs": []
    },
    {
      "cell_type": "code",
      "metadata": {
        "id": "F_wuXOLaEY7W",
        "colab_type": "code",
        "colab": {}
      },
      "source": [
        "poster_tracking_id.columns = ['movieid_poster', 'indexes']"
      ],
      "execution_count": 0,
      "outputs": []
    },
    {
      "cell_type": "code",
      "metadata": {
        "id": "evMFNOeFEgNQ",
        "colab_type": "code",
        "outputId": "513607c9-85b6-440a-b989-e38076b788de",
        "colab": {
          "base_uri": "https://localhost:8080/"
        }
      },
      "source": [
        "poster_tracking_id.head()"
      ],
      "execution_count": 0,
      "outputs": [
        {
          "output_type": "execute_result",
          "data": {
            "text/html": [
              "<div>\n",
              "<style scoped>\n",
              "    .dataframe tbody tr th:only-of-type {\n",
              "        vertical-align: middle;\n",
              "    }\n",
              "\n",
              "    .dataframe tbody tr th {\n",
              "        vertical-align: top;\n",
              "    }\n",
              "\n",
              "    .dataframe thead th {\n",
              "        text-align: right;\n",
              "    }\n",
              "</style>\n",
              "<table border=\"1\" class=\"dataframe\">\n",
              "  <thead>\n",
              "    <tr style=\"text-align: right;\">\n",
              "      <th></th>\n",
              "      <th>movieid_poster</th>\n",
              "      <th>indexes</th>\n",
              "    </tr>\n",
              "  </thead>\n",
              "  <tbody>\n",
              "    <tr>\n",
              "      <th>0</th>\n",
              "      <td>tt1062961.jpg</td>\n",
              "      <td>0</td>\n",
              "    </tr>\n",
              "    <tr>\n",
              "      <th>1</th>\n",
              "      <td>tt3885736.jpg</td>\n",
              "      <td>1</td>\n",
              "    </tr>\n",
              "    <tr>\n",
              "      <th>2</th>\n",
              "      <td>tt0027902.jpg</td>\n",
              "      <td>2</td>\n",
              "    </tr>\n",
              "    <tr>\n",
              "      <th>3</th>\n",
              "      <td>tt5066056.jpg</td>\n",
              "      <td>3</td>\n",
              "    </tr>\n",
              "    <tr>\n",
              "      <th>4</th>\n",
              "      <td>tt0052306.jpg</td>\n",
              "      <td>4</td>\n",
              "    </tr>\n",
              "  </tbody>\n",
              "</table>\n",
              "</div>"
            ],
            "text/plain": [
              "  movieid_poster  indexes\n",
              "0  tt1062961.jpg        0\n",
              "1  tt3885736.jpg        1\n",
              "2  tt0027902.jpg        2\n",
              "3  tt5066056.jpg        3\n",
              "4  tt0052306.jpg        4"
            ]
          },
          "metadata": {
            "tags": []
          },
          "execution_count": 13
        }
      ]
    },
    {
      "cell_type": "code",
      "metadata": {
        "id": "kforyj1TD9AG",
        "colab_type": "code",
        "colab": {}
      },
      "source": [
        "# Merge df with posters to get 78008 rows\n",
        "df_merge = poster_tracking_id.merge(df, how='inner', left_on='movieid_poster', right_on='movieid')"
      ],
      "execution_count": 0,
      "outputs": []
    },
    {
      "cell_type": "code",
      "metadata": {
        "id": "TicJqKmmFzBX",
        "colab_type": "code",
        "outputId": "4a74ada5-96f6-4038-b37e-0965334677bd",
        "colab": {
          "base_uri": "https://localhost:8080/"
        }
      },
      "source": [
        "df_merge.shape"
      ],
      "execution_count": 0,
      "outputs": [
        {
          "output_type": "execute_result",
          "data": {
            "text/plain": [
              "(78008, 5)"
            ]
          },
          "metadata": {
            "tags": []
          },
          "execution_count": 15
        }
      ]
    },
    {
      "cell_type": "code",
      "metadata": {
        "id": "UhEDxpymEuUr",
        "colab_type": "code",
        "outputId": "ccbd007d-d510-44ac-cbc7-c7f9a1f091ae",
        "colab": {
          "base_uri": "https://localhost:8080/"
        }
      },
      "source": [
        "df_merge.head()"
      ],
      "execution_count": 0,
      "outputs": [
        {
          "output_type": "execute_result",
          "data": {
            "text/html": [
              "<div>\n",
              "<style scoped>\n",
              "    .dataframe tbody tr th:only-of-type {\n",
              "        vertical-align: middle;\n",
              "    }\n",
              "\n",
              "    .dataframe tbody tr th {\n",
              "        vertical-align: top;\n",
              "    }\n",
              "\n",
              "    .dataframe thead th {\n",
              "        text-align: right;\n",
              "    }\n",
              "</style>\n",
              "<table border=\"1\" class=\"dataframe\">\n",
              "  <thead>\n",
              "    <tr style=\"text-align: right;\">\n",
              "      <th></th>\n",
              "      <th>movieid_poster</th>\n",
              "      <th>indexes</th>\n",
              "      <th>movieid</th>\n",
              "      <th>movieplot</th>\n",
              "      <th>labels</th>\n",
              "    </tr>\n",
              "  </thead>\n",
              "  <tbody>\n",
              "    <tr>\n",
              "      <th>0</th>\n",
              "      <td>tt1062961.jpg</td>\n",
              "      <td>0</td>\n",
              "      <td>tt1062961.jpg</td>\n",
              "      <td>A young photographer moves to Praga, the most ...</td>\n",
              "      <td>[0, 0, 1, 0, 0, 0, 0, 0, 0, 0]</td>\n",
              "    </tr>\n",
              "    <tr>\n",
              "      <th>1</th>\n",
              "      <td>tt0027902.jpg</td>\n",
              "      <td>2</td>\n",
              "      <td>tt0027902.jpg</td>\n",
              "      <td>As a young lad, Jonathan Blake and his friend ...</td>\n",
              "      <td>[1, 0, 0, 0, 0, 0, 1, 0, 0, 0]</td>\n",
              "    </tr>\n",
              "    <tr>\n",
              "      <th>2</th>\n",
              "      <td>tt5066056.jpg</td>\n",
              "      <td>3</td>\n",
              "      <td>tt5066056.jpg</td>\n",
              "      <td>A retired film star's wedding to her fourth hu...</td>\n",
              "      <td>[0, 0, 1, 0, 0, 0, 1, 0, 0, 0]</td>\n",
              "    </tr>\n",
              "    <tr>\n",
              "      <th>3</th>\n",
              "      <td>tt0052306.jpg</td>\n",
              "      <td>4</td>\n",
              "      <td>tt0052306.jpg</td>\n",
              "      <td>Duclos's son, a worldly gangster, is compromis...</td>\n",
              "      <td>[0, 0, 1, 0, 0, 0, 0, 0, 0, 0]</td>\n",
              "    </tr>\n",
              "    <tr>\n",
              "      <th>4</th>\n",
              "      <td>tt0064390.jpg</td>\n",
              "      <td>5</td>\n",
              "      <td>tt0064390.jpg</td>\n",
              "      <td>Twenty-five year old Pierre is a man who likes...</td>\n",
              "      <td>[0, 0, 1, 0, 0, 0, 1, 0, 0, 0]</td>\n",
              "    </tr>\n",
              "  </tbody>\n",
              "</table>\n",
              "</div>"
            ],
            "text/plain": [
              "  movieid_poster  ...                          labels\n",
              "0  tt1062961.jpg  ...  [0, 0, 1, 0, 0, 0, 0, 0, 0, 0]\n",
              "1  tt0027902.jpg  ...  [1, 0, 0, 0, 0, 0, 1, 0, 0, 0]\n",
              "2  tt5066056.jpg  ...  [0, 0, 1, 0, 0, 0, 1, 0, 0, 0]\n",
              "3  tt0052306.jpg  ...  [0, 0, 1, 0, 0, 0, 0, 0, 0, 0]\n",
              "4  tt0064390.jpg  ...  [0, 0, 1, 0, 0, 0, 1, 0, 0, 0]\n",
              "\n",
              "[5 rows x 5 columns]"
            ]
          },
          "metadata": {
            "tags": []
          },
          "execution_count": 16
        }
      ]
    },
    {
      "cell_type": "code",
      "metadata": {
        "id": "xqoTVabTFxaj",
        "colab_type": "code",
        "colab": {}
      },
      "source": [
        "# We need to take out poster feature vectors only for the indexes in the above df_merge\n",
        "merged_poster_feature_vector = poster_feature_vector[df_merge.indexes.values]"
      ],
      "execution_count": 0,
      "outputs": []
    },
    {
      "cell_type": "code",
      "metadata": {
        "id": "Q-pqLsex2Ilu",
        "colab_type": "code",
        "outputId": "0ba77261-8e91-41b3-e677-769f5ac08f85",
        "colab": {
          "base_uri": "https://localhost:8080/"
        }
      },
      "source": [
        "len(merged_poster_feature_vector)"
      ],
      "execution_count": 0,
      "outputs": [
        {
          "output_type": "execute_result",
          "data": {
            "text/plain": [
              "78008"
            ]
          },
          "metadata": {
            "tags": []
          },
          "execution_count": 18
        }
      ]
    },
    {
      "cell_type": "code",
      "metadata": {
        "id": "kbCDF86bGJj5",
        "colab_type": "code",
        "colab": {}
      },
      "source": [
        "# Saves poster feature vectors\n",
        "np.save('/content/drive/My Drive/w266-FinalProject/MoviePlotsAndPosters/data/clean_poster_feature_vector', merged_poster_feature_vector)\n",
        "\n",
        "# Save relevant 78k movieids\n",
        "df_merge[['movieid']].to_csv('/content/drive/My Drive/w266-FinalProject/MoviePlotsAndPosters/data/clean_poster_movieid_data.csv', index=False)"
      ],
      "execution_count": 0,
      "outputs": []
    },
    {
      "cell_type": "code",
      "metadata": {
        "id": "EOA4szs7HpoA",
        "colab_type": "code",
        "outputId": "f0d2c0bd-c0c1-4c16-c236-e5ce57853dbc",
        "colab": {
          "base_uri": "https://localhost:8080/",
          "height": 34
        }
      },
      "source": [
        "import ast\n",
        "labels = [ast.literal_eval(x) for x in df_merge.labels]\n",
        "len(labels)"
      ],
      "execution_count": 0,
      "outputs": [
        {
          "output_type": "execute_result",
          "data": {
            "text/plain": [
              "78008"
            ]
          },
          "metadata": {
            "tags": []
          },
          "execution_count": 19
        }
      ]
    },
    {
      "cell_type": "code",
      "metadata": {
        "id": "4r5E4qHq5sNY",
        "colab_type": "code",
        "outputId": "9c597166-c738-4fe4-89f9-815893a98b8a",
        "colab": {
          "base_uri": "https://localhost:8080/"
        }
      },
      "source": [
        "labels[:5]"
      ],
      "execution_count": 0,
      "outputs": [
        {
          "output_type": "execute_result",
          "data": {
            "text/plain": [
              "[[0, 0, 1, 0, 0, 0, 0, 0, 0, 0],\n",
              " [1, 0, 0, 0, 0, 0, 1, 0, 0, 0],\n",
              " [0, 0, 1, 0, 0, 0, 1, 0, 0, 0],\n",
              " [0, 0, 1, 0, 0, 0, 0, 0, 0, 0],\n",
              " [0, 0, 1, 0, 0, 0, 1, 0, 0, 0]]"
            ]
          },
          "metadata": {
            "tags": []
          },
          "execution_count": 20
        }
      ]
    },
    {
      "cell_type": "code",
      "metadata": {
        "id": "s1ML0gycH936",
        "colab_type": "code",
        "colab": {}
      },
      "source": [
        "# Save relevant labels\n",
        "np.save('/content/drive/My Drive/w266-FinalProject/MoviePlotsAndPosters/data/clean_poster_labels_' + str(NUM_LABELS), labels)"
      ],
      "execution_count": 0,
      "outputs": []
    },
    {
      "cell_type": "code",
      "metadata": {
        "id": "rmbb9vfvKI8I",
        "colab_type": "code",
        "colab": {}
      },
      "source": [
        "# Next, split poster vectors and labels into train, test and val"
      ],
      "execution_count": 0,
      "outputs": []
    },
    {
      "cell_type": "code",
      "metadata": {
        "id": "Oj_aNwF3KMYs",
        "colab_type": "code",
        "colab": {}
      },
      "source": [
        "def split_data(numExamples, listInputs, fraction):\n",
        "    np.random.seed(0)\n",
        "    training_examples = np.random.binomial(1, fraction, numExamples)\n",
        "    # print(\"Inside Training Examples \", training_examples[:20])\n",
        "\n",
        "    indexArray = np.arange(0,numExamples,1,dtype=np.int32)\n",
        "\n",
        "    np.random.seed(0)\n",
        "    np.random.shuffle(indexArray)\n",
        "    # print(\"Inside Index Array \", indexArray[:20])\n",
        "\n",
        "    list_1 = []\n",
        "    list_2 = []\n",
        "\n",
        "    for example in indexArray:\n",
        "        if training_examples[example] == 1:\n",
        "            list_1.append((listInputs[example]))\n",
        "        else:\n",
        "            list_2.append((listInputs[example]))\n",
        "    \n",
        "    list_1 = np.array(list_1)\n",
        "    list_2 = np.array(list_2)\n",
        "\n",
        "    return (list_1, list_2, indexArray, training_examples)"
      ],
      "execution_count": 0,
      "outputs": []
    },
    {
      "cell_type": "code",
      "metadata": {
        "id": "HDI51LFtLBuj",
        "colab_type": "code",
        "colab": {}
      },
      "source": [
        "numExamples = df_merge.shape[0]\n",
        "posterVectors_train, posterVectors_test, indexArray, training_examples = split_data(numExamples, merged_poster_feature_vector, 0.6)\n",
        "genreLabels_train, genreLabels_test, indexArray, training_examples = split_data(numExamples, labels, 0.6)"
      ],
      "execution_count": 0,
      "outputs": []
    },
    {
      "cell_type": "code",
      "metadata": {
        "id": "1qTaEtQYBY9Z",
        "colab_type": "code",
        "colab": {}
      },
      "source": [
        "train_indexes = []\n",
        "test_indexes = []\n",
        "for index in indexArray:\n",
        "    if training_examples[index] == 1:\n",
        "        train_indexes.append(index)\n",
        "    else:\n",
        "        test_indexes.append(index)"
      ],
      "execution_count": 0,
      "outputs": []
    },
    {
      "cell_type": "code",
      "metadata": {
        "id": "AS4R95zZCeXh",
        "colab_type": "code",
        "colab": {}
      },
      "source": [
        "df_train = df_merge.iloc[train_indexes]\n",
        "df_temp = df_merge.iloc[test_indexes]"
      ],
      "execution_count": 0,
      "outputs": []
    },
    {
      "cell_type": "code",
      "metadata": {
        "id": "h23k9m-RMCDS",
        "colab_type": "code",
        "colab": {}
      },
      "source": [
        "numExamples = posterVectors_test.shape[0]\n",
        "posterVectors_dev, posterVectors_val, indexArray, training_examples = split_data(numExamples, posterVectors_test, 0.5)\n",
        "genreLabels_dev, genreLabels_val, indexArray, training_examples = split_data(numExamples, genreLabels_test, 0.5)"
      ],
      "execution_count": 0,
      "outputs": []
    },
    {
      "cell_type": "code",
      "metadata": {
        "id": "9L9ktbeHDHrp",
        "colab_type": "code",
        "colab": {}
      },
      "source": [
        "dev_indexes = []\n",
        "val_indexes = []\n",
        "for index in indexArray:\n",
        "    if training_examples[index] == 1:\n",
        "        dev_indexes.append(index)\n",
        "    else:\n",
        "        val_indexes.append(index)"
      ],
      "execution_count": 0,
      "outputs": []
    },
    {
      "cell_type": "code",
      "metadata": {
        "id": "WEGj6vgmDRG2",
        "colab_type": "code",
        "colab": {}
      },
      "source": [
        "df_dev = df_temp.iloc[dev_indexes]\n",
        "df_val = df_temp.iloc[val_indexes]"
      ],
      "execution_count": 0,
      "outputs": []
    },
    {
      "cell_type": "code",
      "metadata": {
        "id": "DUTNYjmOMVSW",
        "colab_type": "code",
        "outputId": "101661ba-882d-49cf-c840-f77e78c3283d",
        "colab": {
          "base_uri": "https://localhost:8080/"
        }
      },
      "source": [
        "print(posterVectors_train.shape)\n",
        "print(posterVectors_dev.shape)\n",
        "print(posterVectors_val.shape)"
      ],
      "execution_count": 0,
      "outputs": [
        {
          "output_type": "stream",
          "text": [
            "(46970, 2048)\n",
            "(15438, 2048)\n",
            "(15600, 2048)\n"
          ],
          "name": "stdout"
        }
      ]
    },
    {
      "cell_type": "code",
      "metadata": {
        "id": "jo2EJcNKNz7a",
        "colab_type": "code",
        "outputId": "baca5284-c5dc-4a85-b1e0-d02fdf08757b",
        "colab": {
          "base_uri": "https://localhost:8080/"
        }
      },
      "source": [
        "print(genreLabels_train.shape)\n",
        "print(genreLabels_dev.shape)\n",
        "print(genreLabels_val.shape)"
      ],
      "execution_count": 0,
      "outputs": [
        {
          "output_type": "stream",
          "text": [
            "(46970, 10)\n",
            "(15438, 10)\n",
            "(15600, 10)\n"
          ],
          "name": "stdout"
        }
      ]
    },
    {
      "cell_type": "code",
      "metadata": {
        "id": "0VD4sRTVuZws",
        "colab_type": "code",
        "outputId": "dc1f9527-00b6-4ac9-9d99-820629277e7f",
        "colab": {
          "base_uri": "https://localhost:8080/"
        }
      },
      "source": [
        "print(df_train.shape)\n",
        "print(df_dev.shape)\n",
        "print(df_val.shape)"
      ],
      "execution_count": 0,
      "outputs": [
        {
          "output_type": "stream",
          "text": [
            "(46970, 5)\n",
            "(15438, 5)\n",
            "(15600, 5)\n"
          ],
          "name": "stdout"
        }
      ]
    },
    {
      "cell_type": "code",
      "metadata": {
        "id": "Juk6sP89MaGf",
        "colab_type": "code",
        "colab": {}
      },
      "source": [
        "np.save('/content/drive/My Drive/w266-FinalProject/MoviePlotsAndPosters/data/clean_train_poster_vectors.data', posterVectors_train)\n",
        "np.save('/content/drive/My Drive/w266-FinalProject/MoviePlotsAndPosters/data/clean_dev_poster_vectors.data', posterVectors_dev)\n",
        "np.save('/content/drive/My Drive/w266-FinalProject/MoviePlotsAndPosters/data/clean_val_poster_vectors.data', posterVectors_val)"
      ],
      "execution_count": 0,
      "outputs": []
    },
    {
      "cell_type": "code",
      "metadata": {
        "id": "az71JygHN5Un",
        "colab_type": "code",
        "colab": {}
      },
      "source": [
        "np.save('/content/drive/My Drive/w266-FinalProject/MoviePlotsAndPosters/data/clean_train_poster_labels_' + str(NUM_LABELS) + '.data', genreLabels_train)\n",
        "np.save('/content/drive/My Drive/w266-FinalProject/MoviePlotsAndPosters/data/clean_dev_poster_labels_' + str(NUM_LABELS) + '.data', genreLabels_dev)\n",
        "np.save('/content/drive/My Drive/w266-FinalProject/MoviePlotsAndPosters/data/clean_val_poster_labels_' + str(NUM_LABELS) + '.data', genreLabels_val)"
      ],
      "execution_count": 0,
      "outputs": []
    },
    {
      "cell_type": "code",
      "metadata": {
        "id": "DgE7qV0Wt8gp",
        "colab_type": "code",
        "colab": {}
      },
      "source": [
        "# Save this, same regardless of labels\n",
        "df_train.to_csv('/content/drive/My Drive/w266-FinalProject/MoviePlotsAndPosters/data/clean_df_train_labels_' + str(NUM_LABELS) + '.csv', index=False)\n",
        "df_dev.to_csv('/content/drive/My Drive/w266-FinalProject/MoviePlotsAndPosters/data/clean_df_dev_labels_' + str(NUM_LABELS) + '.csv', index=False)\n",
        "df_val.to_csv('/content/drive/My Drive/w266-FinalProject/MoviePlotsAndPosters/data/clean_df_val_labels_' + str(NUM_LABELS) + '.csv', index=False)"
      ],
      "execution_count": 0,
      "outputs": []
    }
  ]
}